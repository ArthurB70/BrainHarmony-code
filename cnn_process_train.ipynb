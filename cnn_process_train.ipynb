{
  "nbformat": 4,
  "nbformat_minor": 0,
  "metadata": {
    "colab": {
      "provenance": [],
      "machine_shape": "hm",
      "gpuType": "V100"
    },
    "kernelspec": {
      "name": "python3",
      "display_name": "Python 3"
    },
    "language_info": {
      "name": "python"
    },
    "accelerator": "GPU"
  },
  "cells": [
    {
      "cell_type": "code",
      "source": [
        "!pip install mne\n",
        "!pip install tensorflow==2.9.1"
      ],
      "metadata": {
        "id": "kOWcgKDKbIe-",
        "colab": {
          "base_uri": "https://localhost:8080/",
          "height": 220
        },
        "outputId": "26f51f16-ce25-4797-b739-133bc0e7b110"
      },
      "execution_count": 2,
      "outputs": [
        {
          "output_type": "stream",
          "name": "stdout",
          "text": [
            "      Successfully uninstalled tensorflow-2.14.0\n",
            "\u001b[31mERROR: pip's dependency resolver does not currently take into account all the packages that are installed. This behaviour is the source of the following dependency conflicts.\n",
            "tensorflow-datasets 4.9.3 requires protobuf>=3.20, but you have protobuf 3.19.6 which is incompatible.\n",
            "tensorflow-metadata 1.14.0 requires protobuf<4.21,>=3.20.3, but you have protobuf 3.19.6 which is incompatible.\u001b[0m\u001b[31m\n",
            "\u001b[0mSuccessfully installed flatbuffers-1.12 gast-0.4.0 google-auth-oauthlib-0.4.6 keras-2.9.0 keras-preprocessing-1.1.2 protobuf-3.19.6 tensorboard-2.9.1 tensorboard-data-server-0.6.1 tensorboard-plugin-wit-1.8.1 tensorflow-2.9.1 tensorflow-estimator-2.9.0\n"
          ]
        },
        {
          "output_type": "display_data",
          "data": {
            "application/vnd.colab-display-data+json": {
              "pip_warning": {
                "packages": [
                  "flatbuffers",
                  "gast",
                  "google",
                  "keras",
                  "tensorboard",
                  "tensorflow"
                ]
              }
            }
          },
          "metadata": {}
        }
      ]
    },
    {
      "cell_type": "code",
      "source": [
        "import tensorflow as tf\n",
        "import pywt\n",
        "print(tf.__version__)\n",
        "from mne.decoding import CSP"
      ],
      "metadata": {
        "id": "Nzt6RPKOAIyo",
        "colab": {
          "base_uri": "https://localhost:8080/"
        },
        "outputId": "004875e5-7291-442d-88cc-fed7616422c6"
      },
      "execution_count": 1,
      "outputs": [
        {
          "output_type": "stream",
          "name": "stdout",
          "text": [
            "2.9.1\n"
          ]
        }
      ]
    },
    {
      "cell_type": "code",
      "execution_count": 2,
      "metadata": {
        "colab": {
          "base_uri": "https://localhost:8080/"
        },
        "id": "Wlar8yXLjXDc",
        "outputId": "7f9d26fd-9e23-4920-a507-ba826f63b129"
      },
      "outputs": [
        {
          "output_type": "stream",
          "name": "stdout",
          "text": [
            "Mounted at /content/drive\n"
          ]
        }
      ],
      "source": [
        "import pandas as pd\n",
        "import matplotlib.pyplot as plt\n",
        "from scipy import signal\n",
        "from IPython.display import clear_output\n",
        "import numpy as np\n",
        "import tensorflow as tf\n",
        "from tensorflow.keras import datasets, layers, models\n",
        "import matplotlib.pyplot as plt\n",
        "from tensorflow.keras.metrics import Precision, Recall, BinaryAccuracy\n",
        "from tensorflow.keras.models import Model, load_model\n",
        "from sklearn.metrics import classification_report\n",
        "from sklearn.preprocessing import StandardScaler,Normalizer,MinMaxScaler\n",
        "import os\n",
        "from google.colab import drive\n",
        "drive.mount('/content/drive')"
      ]
    },
    {
      "cell_type": "code",
      "source": [
        "gpus = tf.config.experimental.list_physical_devices('GPU')\n",
        "\n",
        "for gpu in gpus:\n",
        "    tf.config.experimental.set_memory_growth(gpu,True)"
      ],
      "metadata": {
        "id": "LKLK84voWYhb"
      },
      "execution_count": 4,
      "outputs": []
    },
    {
      "cell_type": "code",
      "source": [
        "'''train_data = pd.read_csv('/content/drive/MyDrive/TCC-Physionet/PhysionetTrainSub1_30.csv', delimiter=\";\")\n",
        "test_data = pd.read_csv('/content/drive/MyDrive/TCC-Physionet/PhysionetTestSub1_30.csv', delimiter=\";\")\n",
        "val_data = pd.read_csv('/content/drive/MyDrive/TCC-Physionet/PhysionetValSub1_30.csv', delimiter=\";\")\n",
        "'''\n",
        "train_data = pd.read_csv('/content/drive/MyDrive/TCC-Physionet/PhysionetTrain.csv', delimiter=\";\")\n",
        "test_data = pd.read_csv('/content/drive/MyDrive/TCC-Physionet/PhysionetTest.csv', delimiter=\";\")\n",
        "val_data = pd.read_csv('/content/drive/MyDrive/TCC-Physionet/PhysionetVal.csv', delimiter=\";\")\n",
        "\n"
      ],
      "metadata": {
        "id": "vs3-ssJtjix8"
      },
      "execution_count": 3,
      "outputs": []
    },
    {
      "cell_type": "code",
      "source": [
        "labels = {'0': 'rest', '1': 'left', '2': 'right'}\n",
        "selected_eletrodes = ['CZ', 'FZ', 'T7', 'P7', 'C3', 'P3', 'FC3', 'CP3', 'T8','P8','C4','P4','FC4','CP4']\n",
        " # list(train_data['eletrodo'].unique())\n",
        " #['C3', 'CZ', 'C4']\n",
        " #\n",
        " #['F3', 'F4', 'F5', 'F6', 'FC5', 'FC3','FC4', 'FC6', 'C5', 'C3', 'C4', 'C6']"
      ],
      "metadata": {
        "id": "4fxXUF0Vms75"
      },
      "execution_count": 4,
      "outputs": []
    },
    {
      "cell_type": "code",
      "source": [
        "teste_futuro =  ['FT7', 'FC5', 'FC3', 'FC1', 'FCZ', 'FC2', 'FC4', 'FC6', 'FT8',\n",
        " 'T7', 'C5', 'C3', 'C1', 'CZ', 'C2', 'C4', 'C6', 'T8',\n",
        " 'TP7', 'CP5', 'CP3', 'CP1', 'CPZ', 'CP2', 'CP4', 'CP6', 'TP8',\n",
        " 'P7', 'P5', 'P3', 'P1', 'PZ', 'P2', 'P4', 'P6', 'P8']"
      ],
      "metadata": {
        "id": "rVGp-dLQG0aM"
      },
      "execution_count": 5,
      "outputs": []
    },
    {
      "cell_type": "code",
      "source": [
        "# y_delta = butter_bandpass_filter(signal, 0.1, 4, 160, order=5)\n",
        "def butter_bandpass(lowcut, highcut, fs, order=5):\n",
        "    nyq = 0.5 * fs\n",
        "    low = lowcut / nyq\n",
        "    high = highcut / nyq\n",
        "    b, a = signal.butter(order, [low, high], btype='band')\n",
        "    return b, a\n",
        "\n",
        "\n",
        "def butter_bandpass_filter(data, lowcut, highcut, fs=160, order=5):\n",
        "    b, a = butter_bandpass(lowcut, highcut, fs, order=order)\n",
        "    y = signal.lfilter(b, a, data)\n",
        "    return y\n",
        "\n",
        "def wavelet_denoising(x, wavelet='db2', level=3):\n",
        "    coeff = pywt.wavedec(x, wavelet, mode=\"per\")\n",
        "    sigma = (1/0.6745) * madev(coeff[-level])\n",
        "    uthresh = sigma * np.sqrt(2 * np.log(len(x)))\n",
        "    coeff[1:] = (pywt.threshold(i, value=uthresh, mode='hard') for i in coeff[1:])\n",
        "    return pywt.waverec(coeff, wavelet, mode='per')"
      ],
      "metadata": {
        "id": "5ZW-U7eygZvS"
      },
      "execution_count": 6,
      "outputs": []
    },
    {
      "cell_type": "code",
      "source": [
        "def metrics_zscore(data, selected_eletrodes):\n",
        "  std = []\n",
        "  mean = []\n",
        "  for eletrode in selected_eletrodes:\n",
        "    eletrodoStd = pd.Series(data.loc[data[\"eletrodo\"] == eletrode, \"leitura0\":\"leitura639\"].values.ravel('F')).std()\n",
        "    eletrodoMean = pd.Series(data.loc[data[\"eletrodo\"] == eletrode, \"leitura0\":\"leitura639\"].values.ravel('F')).mean()\n",
        "    std.append(eletrodoStd)\n",
        "    mean.append(eletrodoMean)\n",
        "\n",
        "  return std, mean\n",
        "\n",
        "def madev(d, axis=None):\n",
        "    return np.mean(np.absolute(d - np.mean(d, axis)), axis)\n",
        "\n",
        "def wavelet_denoising(x, wavelet='db2', level=3):\n",
        "  coeff = pywt.wavedec(x, wavelet, mode=\"per\")\n",
        "  sigma = (1/0.6745) * madev(coeff[-level])\n",
        "  uthresh = sigma * np.sqrt(2 * np.log(len(x)))\n",
        "  coeff[1:] = (pywt.threshold(i, value=uthresh, mode='hard') for i in coeff[1:])\n",
        "  return pywt.waverec(coeff, wavelet, mode='per')\n",
        "\n",
        "def normalize_fit(data, norm):\n",
        "  for i in range(len(data)):\n",
        "    norm = norm.fit(data[i])\n",
        "  return norm\n",
        "\n",
        "def normalize_transform(data, norm):\n",
        "  transformed_data = np.zeros([len(data),640,14])\n",
        "  for i in range(len(data)):\n",
        "      transformed_data[i] = norm.transform(data[i]).T.astype(np.float32)\n",
        "  return transformed_data\n",
        "\n",
        "def high_pass_filter(data, cutoff_frequency=0.1):\n",
        "  b, a = signal.butter(1, cutoff_frequency, btype='highpass')\n",
        "  filtered_data = signal.lfilter(b, a, data)\n",
        "  return filtered_data\n"
      ],
      "metadata": {
        "id": "OlUV-TLVsyyS"
      },
      "execution_count": 45,
      "outputs": []
    },
    {
      "cell_type": "code",
      "source": [
        "def assemble_data(data, selected_eletrodes):\n",
        "  labels = []\n",
        "  signals = []\n",
        "  pacients = data[\"paciente\"].unique()\n",
        "  len_selected_eletrodes = len(selected_eletrodes)\n",
        "\n",
        "  for pacient in pacients:\n",
        "      measures = data.loc[data['paciente'] == pacient]['medicao'].unique()\n",
        "      for measure in measures:\n",
        "          label = data.loc[(data['paciente'] == pacient) & (data['medicao'] == measure)]['label'].unique()[0]\n",
        "          if label != 1:\n",
        "            img = np.zeros([len_selected_eletrodes, 640])\n",
        "            print(pacient,measure)\n",
        "            for idx, eletrode in enumerate(selected_eletrodes):\n",
        "              img[idx] = data.loc[(data['paciente'] == pacient) & (data['medicao'] == measure) & (data['eletrodo'] == eletrode)].iloc[:,4:644].to_numpy()\n",
        "            signals.append(img)\n",
        "            labels.append(label-2)\n",
        "            clear_output(wait=True)\n",
        "  return labels, signals\n"
      ],
      "metadata": {
        "id": "7z_NC9cImEMO"
      },
      "execution_count": 46,
      "outputs": []
    },
    {
      "cell_type": "code",
      "source": [
        "class PhysionetDataset:\n",
        "  def __init__(self, trainData, valData, testData, selected_eletrodes, batch_size):\n",
        "\n",
        "    self.trainLabel, self.trainSignal = assemble_data(trainData, selected_eletrodes)\n",
        "    self.valLabel, self.valSignal = assemble_data(valData, selected_eletrodes)\n",
        "    self.testLabel, self.testSignal = assemble_data(testData, selected_eletrodes)\n",
        "\n",
        "    #self.trainSignal = butter_bandpass_filter(self.trainSignal, 0.1, 30, 160, order=5)\n",
        "    #self.valSignal = butter_bandpass_filter(self.valSignal, 0.1, 30, 160, order=5)\n",
        "    #self.testSignal = butter_bandpass_filter(self.testSignal, 0.1, 30, 160, order=5)\n",
        "\n",
        "    #self.trainSignal = wavelet_denoising(self.trainSignal)\n",
        "    #self.valSignal = wavelet_denoising(self.valSignal)\n",
        "    #self.testSignal = wavelet_denoising(self.testSignal)\n",
        "\n",
        "    normMinMax = MinMaxScaler()\n",
        "    normMinMax = normalize_fit(self.trainSignal, normMinMax)\n",
        "    normMinMax = normalize_fit(self.valSignal, normMinMax)\n",
        "    normMinMax = normalize_fit(self.testSignal, normMinMax)\n",
        "\n",
        "    self.trainSignal = normalize_transform(self.trainSignal, normMinMax)\n",
        "    self.valSignal = normalize_transform(self.valSignal, normMinMax)\n",
        "    self.testSignal = normalize_transform(self.testSignal, normMinMax)\n",
        "\n",
        "    img_generator = tf.keras.preprocessing.image.ImageDataGenerator()\n",
        "\n",
        "    self.TrainDataset = img_generator.flow(\n",
        "        x=np.array(self.trainSignal).reshape(len(self.trainSignal), 640, 14, 1),\n",
        "        y=np.array(self.trainLabel).reshape(len(self.trainLabel),1),\n",
        "        batch_size=batch_size)\n",
        "\n",
        "    self.ValDataset = img_generator.flow(\n",
        "        x=np.array(self.valSignal).reshape(len(self.valSignal), 640, 14, 1),\n",
        "        y=np.array(self.valLabel).reshape(len(self.valLabel),1),\n",
        "        batch_size=batch_size)\n",
        "\n",
        "    self.TestDataset = img_generator.flow(\n",
        "        x=np.array(self.testSignal).reshape(len(self.testSignal), 640, 14, 1),\n",
        "        y=np.array(self.testLabel).reshape(len(self.testLabel),1),\n",
        "        batch_size=batch_size)\n"
      ],
      "metadata": {
        "id": "gmanROLbkXgg"
      },
      "execution_count": 47,
      "outputs": []
    },
    {
      "cell_type": "code",
      "source": [
        "batch = 32\n",
        "\n",
        "physionetDataset = PhysionetDataset(train_data, val_data, test_data, selected_eletrodes, batch)"
      ],
      "metadata": {
        "id": "dGZAACBhnXFd",
        "colab": {
          "base_uri": "https://localhost:8080/"
        },
        "outputId": "d96676f1-a30f-4366-d317-e4c10f2a3705"
      },
      "execution_count": 48,
      "outputs": [
        {
          "output_type": "stream",
          "name": "stdout",
          "text": [
            "108 87\n"
          ]
        }
      ]
    },
    {
      "cell_type": "code",
      "source": [
        "print(physionetDataset.TrainDataset.x.shape)\n",
        "print(physionetDataset.ValDataset.x.shape)\n",
        "print(physionetDataset.TestDataset.x.shape)"
      ],
      "metadata": {
        "colab": {
          "base_uri": "https://localhost:8080/"
        },
        "id": "7zoGjIoIN7xp",
        "outputId": "faab9959-2fe9-4eba-9e9d-2e6e72aba735"
      },
      "execution_count": 27,
      "outputs": [
        {
          "output_type": "stream",
          "name": "stdout",
          "text": [
            "(2836, 14, 640, 1)\n",
            "(623, 14, 640, 1)\n",
            "(591, 14, 640, 1)\n"
          ]
        }
      ]
    },
    {
      "cell_type": "code",
      "source": [
        "'''inp = layers.Input(shape=(14, 640, 1))\n",
        "x = layers.Conv2D(8, (2,2), padding= 'same')(inp)\n",
        "x = layers.Conv2D(16, (2,2), activation=layers.LeakyReLU(0.1), strides=(1,2))(x)\n",
        "x = layers.Conv2D(32, (2,2), padding= 'same')(x)\n",
        "\n",
        "x = layers.MaxPool2D((2,2))(x)\n",
        "x = layers.Dropout(0.1)(x)\n",
        "x = layers.Conv2D(64, (1,2), activation=layers.LeakyReLU(0.1), padding= 'same')(x)\n",
        "x = layers.Conv2D(128, (1,2), activation=layers.LeakyReLU(0.1), padding= 'same')(x)\n",
        "\n",
        "\n",
        "x = layers.MaxPool2D((2,2))(x)\n",
        "x = layers.Dropout(0.1)(x)\n",
        "x = layers.Conv2D(512, (1,2), activation=layers.LeakyReLU(0.1), padding= 'same')(x)\n",
        "x = layers.Conv2D(1024, (1,2), activation=layers.LeakyReLU(0.1), padding= 'same')(x)\n",
        "\n",
        "\n",
        "#x = layers.Dropout(0.5)(x)\n",
        "x = layers.Flatten()(x)\n",
        "x = layers.Dense(1, activation='sigmoid')(x)\n",
        "\n",
        "model = Model(inp, x)\n",
        "model.compile(optimizer=tf.keras.optimizers.Adam(learning_rate=0.001,),loss=tf.keras.losses.BinaryCrossentropy(), metrics = ['accuracy'])#,'mse', 'AUC'])\n",
        "'''\n",
        "model = tf.keras.Sequential()\n",
        "model.add(layers.Conv2D(128, (3, 3), padding=\"same\", input_shape=(640, 14, 1), activation=layers.LeakyReLU(0.1)))\n",
        "model.add(layers.BatchNormalization())\n",
        "model.add(layers.MaxPooling2D(pool_size=(2, 2)))\n",
        "model.add(layers.Dropout(0.1))\n",
        "\n",
        "model.add(layers.Conv2D(256, (3, 3), padding=\"same\", activation=layers.LeakyReLU(0.1)))\n",
        "model.add(layers.BatchNormalization())\n",
        "model.add(layers.MaxPooling2D(pool_size=(2, 2)))\n",
        "model.add(layers.Dropout(0.1))\n",
        "\n",
        "model.add(layers.Conv2D(256, (3, 3), padding=\"same\", activation=layers.LeakyReLU(0.1)))\n",
        "model.add(layers.BatchNormalization())\n",
        "model.add(layers.MaxPooling2D(pool_size=(2, 2)))\n",
        "model.add(layers.Dropout(0.1))\n",
        "\n",
        "model.add(layers.Conv2D(128, (3, 3), padding=\"same\", activation=layers.LeakyReLU(0.1)))\n",
        "model.add(layers.BatchNormalization())\n",
        "model.add(layers.Flatten())\n",
        "\n",
        "model.add(layers.Dense(64, activation=layers.LeakyReLU(0.1)))\n",
        "model.add(layers.BatchNormalization())\n",
        "model.add(layers.Dropout(0.5))\n",
        "\n",
        "model.add(layers.Dense(1, activation=\"sigmoid\"))\n",
        "\n",
        "learning_rate = 0.0005\n",
        "decay_rate = learning_rate / 50\n",
        "momentum = 0.8\n",
        "\n",
        "sgd = tf.keras.optimizers.SGD(learning_rate=learning_rate, momentum=momentum, nesterov=True)\n",
        "#rms = layers.RMSprop(lr=learning_rate, rho=0.9)\n",
        "adam = tf.keras.optimizers.Adam(learning_rate = learning_rate)\n",
        "\n",
        "model.compile(optimizer = sgd, loss = tf.keras.losses.BinaryCrossentropy(), metrics = ['accuracy'])#,'mse', 'AUC'])\n",
        "\n",
        "model.summary()"
      ],
      "metadata": {
        "id": "j1sUaKwGH5yQ",
        "colab": {
          "base_uri": "https://localhost:8080/"
        },
        "outputId": "6d23dcba-e66c-440e-f26c-78d03b99e067"
      },
      "execution_count": 49,
      "outputs": [
        {
          "output_type": "stream",
          "name": "stdout",
          "text": [
            "Model: \"sequential_6\"\n",
            "_________________________________________________________________\n",
            " Layer (type)                Output Shape              Param #   \n",
            "=================================================================\n",
            " conv2d_24 (Conv2D)          (None, 640, 14, 128)      1280      \n",
            "                                                                 \n",
            " batch_normalization_30 (Bat  (None, 640, 14, 128)     512       \n",
            " chNormalization)                                                \n",
            "                                                                 \n",
            " max_pooling2d_18 (MaxPoolin  (None, 320, 7, 128)      0         \n",
            " g2D)                                                            \n",
            "                                                                 \n",
            " dropout_24 (Dropout)        (None, 320, 7, 128)       0         \n",
            "                                                                 \n",
            " conv2d_25 (Conv2D)          (None, 320, 7, 256)       295168    \n",
            "                                                                 \n",
            " batch_normalization_31 (Bat  (None, 320, 7, 256)      1024      \n",
            " chNormalization)                                                \n",
            "                                                                 \n",
            " max_pooling2d_19 (MaxPoolin  (None, 160, 3, 256)      0         \n",
            " g2D)                                                            \n",
            "                                                                 \n",
            " dropout_25 (Dropout)        (None, 160, 3, 256)       0         \n",
            "                                                                 \n",
            " conv2d_26 (Conv2D)          (None, 160, 3, 268)       617740    \n",
            "                                                                 \n",
            " batch_normalization_32 (Bat  (None, 160, 3, 268)      1072      \n",
            " chNormalization)                                                \n",
            "                                                                 \n",
            " max_pooling2d_20 (MaxPoolin  (None, 80, 1, 268)       0         \n",
            " g2D)                                                            \n",
            "                                                                 \n",
            " dropout_26 (Dropout)        (None, 80, 1, 268)        0         \n",
            "                                                                 \n",
            " conv2d_27 (Conv2D)          (None, 80, 1, 128)        308864    \n",
            "                                                                 \n",
            " batch_normalization_33 (Bat  (None, 80, 1, 128)       512       \n",
            " chNormalization)                                                \n",
            "                                                                 \n",
            " flatten_6 (Flatten)         (None, 10240)             0         \n",
            "                                                                 \n",
            " dense_12 (Dense)            (None, 64)                655424    \n",
            "                                                                 \n",
            " batch_normalization_34 (Bat  (None, 64)               256       \n",
            " chNormalization)                                                \n",
            "                                                                 \n",
            " dropout_27 (Dropout)        (None, 64)                0         \n",
            "                                                                 \n",
            " dense_13 (Dense)            (None, 1)                 65        \n",
            "                                                                 \n",
            "=================================================================\n",
            "Total params: 1,881,917\n",
            "Trainable params: 1,880,229\n",
            "Non-trainable params: 1,688\n",
            "_________________________________________________________________\n"
          ]
        }
      ]
    },
    {
      "cell_type": "code",
      "source": [
        "#model = load_model('/content/drive/MyDrive/TCC-Physionet/model_CNNEEG.h5')\n",
        "\n",
        "history = model.fit(physionetDataset.TrainDataset.x, physionetDataset.TrainDataset.y, epochs=50, validation_data=(physionetDataset.ValDataset.x, physionetDataset.ValDataset.y))#, callbacks=callbacks)\n",
        "\n",
        "model.save('/content/drive/MyDrive/TCC-Physionet/model_CNNEEG.h5')"
      ],
      "metadata": {
        "id": "-WNTWEnr_eJo",
        "colab": {
          "base_uri": "https://localhost:8080/"
        },
        "outputId": "f7ff93b4-6954-416a-b56b-dce1e12db965"
      },
      "execution_count": 50,
      "outputs": [
        {
          "output_type": "stream",
          "name": "stdout",
          "text": [
            "Epoch 1/50\n",
            "89/89 [==============================] - 4s 26ms/step - loss: 0.9397 - accuracy: 0.5448 - val_loss: 0.6939 - val_accuracy: 0.4944\n",
            "Epoch 2/50\n",
            "89/89 [==============================] - 2s 21ms/step - loss: 0.7847 - accuracy: 0.6033 - val_loss: 0.6948 - val_accuracy: 0.5136\n",
            "Epoch 3/50\n",
            "89/89 [==============================] - 2s 21ms/step - loss: 0.7075 - accuracy: 0.6664 - val_loss: 0.6492 - val_accuracy: 0.6421\n",
            "Epoch 4/50\n",
            "89/89 [==============================] - 2s 21ms/step - loss: 0.6171 - accuracy: 0.7049 - val_loss: 0.6110 - val_accuracy: 0.6693\n",
            "Epoch 5/50\n",
            "89/89 [==============================] - 2s 21ms/step - loss: 0.5546 - accuracy: 0.7292 - val_loss: 0.5628 - val_accuracy: 0.7095\n",
            "Epoch 6/50\n",
            "89/89 [==============================] - 2s 21ms/step - loss: 0.5559 - accuracy: 0.7451 - val_loss: 0.5462 - val_accuracy: 0.7191\n",
            "Epoch 7/50\n",
            "89/89 [==============================] - 2s 21ms/step - loss: 0.5320 - accuracy: 0.7447 - val_loss: 0.5675 - val_accuracy: 0.7255\n",
            "Epoch 8/50\n",
            "89/89 [==============================] - 2s 21ms/step - loss: 0.4926 - accuracy: 0.7775 - val_loss: 0.5419 - val_accuracy: 0.7400\n",
            "Epoch 9/50\n",
            "89/89 [==============================] - 2s 21ms/step - loss: 0.4776 - accuracy: 0.7715 - val_loss: 0.5428 - val_accuracy: 0.7560\n",
            "Epoch 10/50\n",
            "89/89 [==============================] - 2s 21ms/step - loss: 0.4476 - accuracy: 0.7923 - val_loss: 0.5514 - val_accuracy: 0.7400\n",
            "Epoch 11/50\n",
            "89/89 [==============================] - 2s 21ms/step - loss: 0.4582 - accuracy: 0.7884 - val_loss: 0.5526 - val_accuracy: 0.7335\n",
            "Epoch 12/50\n",
            "89/89 [==============================] - 2s 21ms/step - loss: 0.4249 - accuracy: 0.8018 - val_loss: 0.5124 - val_accuracy: 0.7705\n",
            "Epoch 13/50\n",
            "89/89 [==============================] - 2s 21ms/step - loss: 0.4114 - accuracy: 0.8114 - val_loss: 0.5290 - val_accuracy: 0.7416\n",
            "Epoch 14/50\n",
            "89/89 [==============================] - 2s 21ms/step - loss: 0.4094 - accuracy: 0.8156 - val_loss: 0.5310 - val_accuracy: 0.7368\n",
            "Epoch 15/50\n",
            "89/89 [==============================] - 2s 21ms/step - loss: 0.4004 - accuracy: 0.8085 - val_loss: 0.5216 - val_accuracy: 0.7592\n",
            "Epoch 16/50\n",
            "89/89 [==============================] - 2s 21ms/step - loss: 0.3902 - accuracy: 0.8272 - val_loss: 0.5070 - val_accuracy: 0.7673\n",
            "Epoch 17/50\n",
            "89/89 [==============================] - 2s 21ms/step - loss: 0.3735 - accuracy: 0.8346 - val_loss: 0.5300 - val_accuracy: 0.7560\n",
            "Epoch 18/50\n",
            "89/89 [==============================] - 2s 21ms/step - loss: 0.3611 - accuracy: 0.8403 - val_loss: 0.5102 - val_accuracy: 0.7624\n",
            "Epoch 19/50\n",
            "89/89 [==============================] - 2s 21ms/step - loss: 0.3603 - accuracy: 0.8413 - val_loss: 0.5320 - val_accuracy: 0.7528\n",
            "Epoch 20/50\n",
            "89/89 [==============================] - 2s 21ms/step - loss: 0.3263 - accuracy: 0.8575 - val_loss: 0.5153 - val_accuracy: 0.7657\n",
            "Epoch 21/50\n",
            "89/89 [==============================] - 2s 21ms/step - loss: 0.3375 - accuracy: 0.8427 - val_loss: 0.5232 - val_accuracy: 0.7608\n",
            "Epoch 22/50\n",
            "89/89 [==============================] - 2s 21ms/step - loss: 0.3267 - accuracy: 0.8526 - val_loss: 0.5111 - val_accuracy: 0.7769\n",
            "Epoch 23/50\n",
            "89/89 [==============================] - 2s 21ms/step - loss: 0.3186 - accuracy: 0.8639 - val_loss: 0.5065 - val_accuracy: 0.7753\n",
            "Epoch 24/50\n",
            "89/89 [==============================] - 2s 21ms/step - loss: 0.2915 - accuracy: 0.8752 - val_loss: 0.5051 - val_accuracy: 0.7592\n",
            "Epoch 25/50\n",
            "89/89 [==============================] - 2s 21ms/step - loss: 0.3046 - accuracy: 0.8678 - val_loss: 0.5131 - val_accuracy: 0.7721\n",
            "Epoch 26/50\n",
            "89/89 [==============================] - 2s 21ms/step - loss: 0.2812 - accuracy: 0.8865 - val_loss: 0.5180 - val_accuracy: 0.7673\n",
            "Epoch 27/50\n",
            "89/89 [==============================] - 2s 21ms/step - loss: 0.2724 - accuracy: 0.8840 - val_loss: 0.5434 - val_accuracy: 0.7432\n",
            "Epoch 28/50\n",
            "89/89 [==============================] - 2s 21ms/step - loss: 0.2647 - accuracy: 0.8858 - val_loss: 0.5296 - val_accuracy: 0.7721\n",
            "Epoch 29/50\n",
            "89/89 [==============================] - 2s 21ms/step - loss: 0.2597 - accuracy: 0.8879 - val_loss: 0.5191 - val_accuracy: 0.7785\n",
            "Epoch 30/50\n",
            "89/89 [==============================] - 2s 21ms/step - loss: 0.2378 - accuracy: 0.9034 - val_loss: 0.5705 - val_accuracy: 0.7769\n",
            "Epoch 31/50\n",
            "89/89 [==============================] - 2s 21ms/step - loss: 0.2438 - accuracy: 0.8956 - val_loss: 0.5475 - val_accuracy: 0.7640\n",
            "Epoch 32/50\n",
            "89/89 [==============================] - 2s 21ms/step - loss: 0.2437 - accuracy: 0.9006 - val_loss: 0.5381 - val_accuracy: 0.7640\n",
            "Epoch 33/50\n",
            "89/89 [==============================] - 2s 21ms/step - loss: 0.2308 - accuracy: 0.9118 - val_loss: 0.5294 - val_accuracy: 0.7817\n",
            "Epoch 34/50\n",
            "89/89 [==============================] - 2s 21ms/step - loss: 0.2161 - accuracy: 0.9122 - val_loss: 0.5733 - val_accuracy: 0.7673\n",
            "Epoch 35/50\n",
            "89/89 [==============================] - 2s 21ms/step - loss: 0.2046 - accuracy: 0.9203 - val_loss: 0.5550 - val_accuracy: 0.7592\n",
            "Epoch 36/50\n",
            "89/89 [==============================] - 2s 21ms/step - loss: 0.2005 - accuracy: 0.9217 - val_loss: 0.5437 - val_accuracy: 0.7753\n",
            "Epoch 37/50\n",
            "89/89 [==============================] - 2s 21ms/step - loss: 0.2076 - accuracy: 0.9150 - val_loss: 0.5619 - val_accuracy: 0.7576\n",
            "Epoch 38/50\n",
            "89/89 [==============================] - 2s 21ms/step - loss: 0.1865 - accuracy: 0.9260 - val_loss: 0.5674 - val_accuracy: 0.7801\n",
            "Epoch 39/50\n",
            "89/89 [==============================] - 2s 21ms/step - loss: 0.1929 - accuracy: 0.9231 - val_loss: 0.5845 - val_accuracy: 0.7576\n",
            "Epoch 40/50\n",
            "89/89 [==============================] - 2s 21ms/step - loss: 0.1810 - accuracy: 0.9256 - val_loss: 0.5810 - val_accuracy: 0.7544\n",
            "Epoch 41/50\n",
            "89/89 [==============================] - 2s 21ms/step - loss: 0.1928 - accuracy: 0.9288 - val_loss: 0.5565 - val_accuracy: 0.7624\n",
            "Epoch 42/50\n",
            "89/89 [==============================] - 2s 21ms/step - loss: 0.1797 - accuracy: 0.9267 - val_loss: 0.6134 - val_accuracy: 0.7544\n",
            "Epoch 43/50\n",
            "89/89 [==============================] - 2s 21ms/step - loss: 0.1866 - accuracy: 0.9228 - val_loss: 0.6055 - val_accuracy: 0.7592\n",
            "Epoch 44/50\n",
            "89/89 [==============================] - 2s 21ms/step - loss: 0.1766 - accuracy: 0.9274 - val_loss: 0.5934 - val_accuracy: 0.7705\n",
            "Epoch 45/50\n",
            "89/89 [==============================] - 2s 21ms/step - loss: 0.1528 - accuracy: 0.9453 - val_loss: 0.6151 - val_accuracy: 0.7592\n",
            "Epoch 46/50\n",
            "89/89 [==============================] - 2s 21ms/step - loss: 0.1643 - accuracy: 0.9351 - val_loss: 0.6009 - val_accuracy: 0.7657\n",
            "Epoch 47/50\n",
            "89/89 [==============================] - 2s 21ms/step - loss: 0.1427 - accuracy: 0.9471 - val_loss: 0.6098 - val_accuracy: 0.7689\n",
            "Epoch 48/50\n",
            "89/89 [==============================] - 2s 21ms/step - loss: 0.1551 - accuracy: 0.9355 - val_loss: 0.6313 - val_accuracy: 0.7624\n",
            "Epoch 49/50\n",
            "89/89 [==============================] - 2s 21ms/step - loss: 0.1465 - accuracy: 0.9450 - val_loss: 0.6477 - val_accuracy: 0.7769\n",
            "Epoch 50/50\n",
            "89/89 [==============================] - 2s 21ms/step - loss: 0.1385 - accuracy: 0.9468 - val_loss: 0.6276 - val_accuracy: 0.7785\n"
          ]
        }
      ]
    },
    {
      "cell_type": "code",
      "source": [
        "def transform_data(data):\n",
        "  return_data = []\n",
        "  for d in data:\n",
        "    if d[0] == 0:\n",
        "      return_data.append([1,0])\n",
        "    else:\n",
        "      return_data.append([0,1])\n",
        "  return np.array(return_data)"
      ],
      "metadata": {
        "id": "RmKTT-ZnHFCj"
      },
      "execution_count": 51,
      "outputs": []
    },
    {
      "cell_type": "code",
      "source": [
        "model = load_model('/content/drive/MyDrive/TCC-Physionet/model_CNNEEG.h5')"
      ],
      "metadata": {
        "id": "3iv1EEF2Hf-L"
      },
      "execution_count": 52,
      "outputs": []
    },
    {
      "cell_type": "code",
      "source": [
        "from sklearn import metrics\n",
        "from sklearn.metrics import precision_score, recall_score,f1_score\n",
        "\n",
        "score = model.evaluate(physionetDataset.TestDataset.x, physionetDataset.TestDataset.y, verbose=0)\n",
        "\n",
        "predicted = model.predict(physionetDataset.TestDataset.x)\n",
        "predicted = (predicted > 0.5)\n",
        "labels_data = transform_data(physionetDataset.TestDataset.y)\n",
        "predicted_data = transform_data(predicted)\n",
        "\n",
        "\n",
        "confusion_matrix = metrics.confusion_matrix(physionetDataset.TestDataset.y, predicted)\n",
        "precision = precision_score(physionetDataset.TestDataset.y, predicted)\n",
        "recall = recall_score(physionetDataset.TestDataset.y, predicted)\n",
        "f1 = f1_score(physionetDataset.TestDataset.y, predicted)\n",
        "print('Loss: ', score[0])\n",
        "print('Accuracy: ', score[1])\n",
        "print('Matriz de confusão: ', confusion_matrix)\n",
        "print('Precision: ', precision)\n",
        "print('Recall: ', recall)\n",
        "print('F1Score: ', f1)"
      ],
      "metadata": {
        "colab": {
          "base_uri": "https://localhost:8080/"
        },
        "id": "YLwaxBhBKBzN",
        "outputId": "b08111b8-0cd6-4898-acdc-759352eb9255"
      },
      "execution_count": 53,
      "outputs": [
        {
          "output_type": "stream",
          "name": "stdout",
          "text": [
            "19/19 [==============================] - 0s 6ms/step\n",
            "Loss:  0.5425155162811279\n",
            "Accuracy:  0.807106614112854\n",
            "Matriz de confusão:  [[238  64]\n",
            " [ 50 239]]\n",
            "Precision:  0.7887788778877888\n",
            "Recall:  0.8269896193771626\n",
            "F1Score:  0.8074324324324323\n"
          ]
        }
      ]
    },
    {
      "cell_type": "code",
      "source": [
        "import matplotlib.pyplot as plt\n",
        "from sklearn.preprocessing import LabelBinarizer\n",
        "from sklearn.metrics import roc_curve, auc, roc_auc_score\n",
        "from sklearn.metrics import precision_score\n",
        "\n",
        "target= ['Esquerdo','Direito']\n",
        "\n",
        "# set plot figure size\n",
        "fig, c_ax = plt.subplots(1,1, figsize = (12, 8))\n",
        "\n",
        "# function for scoring roc auc score for multi-class\n",
        "def multiclass_roc_auc_score(y_test, y_pred, average=\"macro\"):\n",
        "    lb = LabelBinarizer()\n",
        "    lb.fit(y_test)\n",
        "    y_test = lb.transform(y_test)\n",
        "    y_pred = lb.transform(y_pred)\n",
        "\n",
        "    for (idx, c_label) in enumerate(target):\n",
        "        fpr, tpr, thresholds = roc_curve(y_test[:,idx].astype(int), y_pred[:,idx])\n",
        "        print(fpr, tpr, thresholds, auc(fpr, tpr))\n",
        "        c_ax.plot(fpr, tpr, label = '%s (AUC:%0.2f)'  % (c_label, auc(fpr, tpr)))\n",
        "    c_ax.plot(fpr, fpr, 'b-', label = 'Random Guessing')\n",
        "    return roc_auc_score(y_test, y_pred, average=average)\n",
        "\n",
        "print('ROC AUC score:', multiclass_roc_auc_score(labels_data, predicted_data))\n",
        "c_ax.legend()\n",
        "c_ax.set_xlabel('False Positive Rate')\n",
        "c_ax.set_ylabel('True Positive Rate')\n",
        "plt.show()"
      ],
      "metadata": {
        "id": "7oXo1J_Z34ZC",
        "colab": {
          "base_uri": "https://localhost:8080/",
          "height": 748
        },
        "outputId": "3d529080-c248-4618-b529-5e9a45b8c3b6"
      },
      "execution_count": 54,
      "outputs": [
        {
          "output_type": "stream",
          "name": "stdout",
          "text": [
            "[0.         0.17301038 1.        ] [0.         0.78807947 1.        ] [2 1 0] 0.8075345447879191\n",
            "[0.         0.21192053 1.        ] [0.         0.82698962 1.        ] [2 1 0] 0.8075345447879192\n",
            "ROC AUC score: 0.8075345447879192\n"
          ]
        },
        {
          "output_type": "display_data",
          "data": {
            "text/plain": [
              "<Figure size 1200x800 with 1 Axes>"
            ],
            "image/png": "[encoded data removed]"
          },
          "metadata": {}
        }
      ]
    },
    {
      "cell_type": "code",
      "source": [
        "from sklearn import metrics\n",
        "from sklearn.metrics import precision_score, recall_score,f1_score\n",
        "\n",
        "score = model.evaluate(physionetDataset.TrainDataset.x, physionetDataset.TrainDataset.y, verbose=0)\n",
        "\n",
        "predicted = model.predict(physionetDataset.TrainDataset.x)\n",
        "predicted = (predicted > 0.5)\n",
        "labels_data = transform_data(physionetDataset.TrainDataset.y)\n",
        "predicted_data = transform_data(predicted)\n",
        "\n",
        "\n",
        "confusion_matrix = metrics.confusion_matrix(physionetDataset.TrainDataset.y, predicted)\n",
        "precision = precision_score(physionetDataset.TrainDataset.y, predicted)\n",
        "recall = recall_score(physionetDataset.TrainDataset.y, predicted)\n",
        "f1 = f1_score(physionetDataset.TrainDataset.y, predicted)\n",
        "print('Loss: ', score[0])\n",
        "print('Accuracy: ', score[1])\n",
        "print('Matriz de confusão: ', confusion_matrix)\n",
        "print('Precision: ', precision)\n",
        "print('Recall: ', recall)\n",
        "print('F1Score: ', f1)"
      ],
      "metadata": {
        "colab": {
          "base_uri": "https://localhost:8080/"
        },
        "id": "as6fzOv6ZLbo",
        "outputId": "46f9dd9a-6cec-4bd5-9ef2-4c4f38e36cbb"
      },
      "execution_count": 55,
      "outputs": [
        {
          "output_type": "stream",
          "name": "stdout",
          "text": [
            "89/89 [==============================] - 1s 6ms/step\n",
            "Loss:  0.036960579454898834\n",
            "Accuracy:  0.994358241558075\n",
            "Matriz de confusão:  [[1416   11]\n",
            " [   5 1404]]\n",
            "Precision:  0.992226148409894\n",
            "Recall:  0.9964513839602555\n",
            "F1Score:  0.9943342776203966\n"
          ]
        }
      ]
    },
    {
      "cell_type": "code",
      "source": [
        "from sklearn import metrics\n",
        "from sklearn.metrics import precision_score, recall_score,f1_score\n",
        "\n",
        "score = model.evaluate(physionetDataset.ValDataset.x, physionetDataset.ValDataset.y, verbose=0)\n",
        "\n",
        "predicted = model.predict(physionetDataset.ValDataset.x)\n",
        "predicted = (predicted > 0.5)\n",
        "labels_data = transform_data(physionetDataset.ValDataset.y)\n",
        "predicted_data = transform_data(predicted)\n",
        "\n",
        "\n",
        "confusion_matrix = metrics.confusion_matrix(physionetDataset.ValDataset.y, predicted)\n",
        "precision = precision_score(physionetDataset.ValDataset.y, predicted)\n",
        "recall = recall_score(physionetDataset.ValDataset.y, predicted)\n",
        "f1 = f1_score(physionetDataset.ValDataset.y, predicted)\n",
        "print('Loss: ', score[0])\n",
        "print('Accuracy: ', score[1])\n",
        "print('Matriz de confusão: ', confusion_matrix)\n",
        "print('Precision: ', precision)\n",
        "print('Recall: ', recall)\n",
        "print('F1Score: ', f1)"
      ],
      "metadata": {
        "colab": {
          "base_uri": "https://localhost:8080/"
        },
        "id": "3Lrmgt5HZMEI",
        "outputId": "4f777002-e178-4a9b-d165-47eda99657d4"
      },
      "execution_count": 56,
      "outputs": [
        {
          "output_type": "stream",
          "name": "stdout",
          "text": [
            "20/20 [==============================] - 0s 6ms/step\n",
            "Loss:  0.6276196837425232\n",
            "Accuracy:  0.778491199016571\n",
            "Matriz de confusão:  [[225  74]\n",
            " [ 64 260]]\n",
            "Precision:  0.7784431137724551\n",
            "Recall:  0.8024691358024691\n",
            "F1Score:  0.790273556231003\n"
          ]
        }
      ]
    },
    {
      "cell_type": "code",
      "source": [
        "c_ax.legend()\n",
        "c_ax.set_xlabel('False Positive Rate')\n",
        "c_ax.set_ylabel('True Positive Rate')\n",
        "plt.show()"
      ],
      "metadata": {
        "id": "2_UOqwErG-lA"
      },
      "execution_count": 230,
      "outputs": []
    },
    {
      "cell_type": "code",
      "source": [
        "import seaborn as sn\n",
        "import pandas as pd\n",
        "import matplotlib.pyplot as plt\n",
        "array = [[233,  69],\n",
        "       [ 46, 243]]\n",
        "\n",
        "df_cm = pd.DataFrame(array, index = ['True Left', 'True Right'],\n",
        "                  columns = ['Pred. Left', 'Pred. Right'])\n",
        "\n",
        "sn.heatmap(df_cm, annot=True, fmt='g')\n"
      ],
      "metadata": {
        "colab": {
          "base_uri": "https://localhost:8080/",
          "height": 447
        },
        "id": "NoXJ1fBsJWeW",
        "outputId": "6e6c76c3-366b-48ba-a3ec-e5c23a636e41"
      },
      "execution_count": 204,
      "outputs": [
        {
          "output_type": "execute_result",
          "data": {
            "text/plain": [
              "<Axes: >"
            ]
          },
          "metadata": {},
          "execution_count": 204
        },
        {
          "output_type": "display_data",
          "data": {
            "text/plain": [
              "<Figure size 640x480 with 2 Axes>"
            ],
            "image/png": "[encoded data removed]"
          },
          "metadata": {}
        }
      ]
    },
    {
      "cell_type": "code",
      "source": [
        "test_data\n",
        "acc_by_subject = []\n",
        "pacients = test_data[\"paciente\"].unique()\n",
        "\n",
        "for pacient in pacients:\n",
        "  data_set = test_data[test_data[\"paciente\"] == pacient]\n",
        "  data_set = PhysionetDataset(data_set, selected_eletrodes, batch, train=False, std=train_dataset.std, mean=train_dataset.mean, normMinMax=train_dataset.norm)\n",
        "  score = model.evaluate(data_set.features.x, data_set.features.y, verbose=0)\n",
        "  acc_by_subject.append([pacient, score[1], len(data_set.features.x)])"
      ],
      "metadata": {
        "id": "RlqRtMXtGgLZ",
        "colab": {
          "base_uri": "https://localhost:8080/"
        },
        "outputId": "05188c6b-1d66-4798-b2b4-602e1b5e9a87"
      },
      "execution_count": null,
      "outputs": [
        {
          "output_type": "stream",
          "name": "stdout",
          "text": [
            "(6, 640, 14)\n",
            "(6,)\n"
          ]
        }
      ]
    },
    {
      "cell_type": "code",
      "source": [
        "acc_by_subject\n",
        "\n",
        "\n",
        "# [93,83,27,45,55]"
      ],
      "metadata": {
        "id": "9GsBeYxdfhkn"
      },
      "execution_count": null,
      "outputs": []
    },
    {
      "cell_type": "code",
      "source": [
        "train_data93 = train_data[(train_data[\"paciente\"] == 93) | (train_data[\"paciente\"] == 83)| (train_data[\"paciente\"] == 27)| (train_data[\"paciente\"] == 45)| (train_data[\"paciente\"] == 55)]\n",
        "val_data93 = val_data[(val_data[\"paciente\"] == 93) | (val_data[\"paciente\"] == 83)| (val_data[\"paciente\"] == 27)| (val_data[\"paciente\"] == 45)| (val_data[\"paciente\"] == 55)]\n",
        "test_data93 = test_data[(test_data[\"paciente\"] == 93) | (test_data[\"paciente\"] == 83)| (test_data[\"paciente\"] == 27)| (test_data[\"paciente\"] == 45)| (test_data[\"paciente\"] == 55)]"
      ],
      "metadata": {
        "id": "QkZUJzgLrqlR"
      },
      "execution_count": null,
      "outputs": []
    },
    {
      "cell_type": "code",
      "source": [
        "#[93, 0.25, 4],\n",
        "train_data93 = PhysionetDataset(train_data93, selected_eletrodes, batch, train=False, std=train_dataset.std, mean=train_dataset.mean, normMinMax=train_dataset.norm)\n",
        "val_data93 = PhysionetDataset(val_data93, selected_eletrodes, batch, train=False, std=train_dataset.std, mean=train_dataset.mean, normMinMax=train_dataset.norm)\n",
        "test_data93 = PhysionetDataset(test_data93, selected_eletrodes, batch, train=False, std=train_dataset.std, mean=train_dataset.mean, normMinMax=train_dataset.norm)"
      ],
      "metadata": {
        "colab": {
          "base_uri": "https://localhost:8080/"
        },
        "id": "9c9NbmkWgchM",
        "outputId": "ae4d37de-9ce4-4bd2-f751-b82ed4c52ba8"
      },
      "execution_count": null,
      "outputs": [
        {
          "output_type": "stream",
          "name": "stdout",
          "text": [
            "(26, 640, 14)\n",
            "(26,)\n"
          ]
        }
      ]
    },
    {
      "cell_type": "code",
      "source": [
        "print(train_data93.features.x.shape)\n",
        "print(val_data93.features.x.shape)\n",
        "print(test_data93.features.x.shape)"
      ],
      "metadata": {
        "colab": {
          "base_uri": "https://localhost:8080/"
        },
        "id": "BbV-ztPViN-9",
        "outputId": "58015486-94cc-403b-f60d-54aa36e06f3f"
      },
      "execution_count": null,
      "outputs": [
        {
          "output_type": "stream",
          "name": "stdout",
          "text": [
            "(164, 640, 14, 1)\n",
            "(35, 640, 14, 1)\n",
            "(26, 640, 14, 1)\n"
          ]
        }
      ]
    },
    {
      "cell_type": "code",
      "source": [
        "history = model.fit(train_data93.features.x, train_data93.features.y, epochs=10,\n",
        "                    validation_data=(val_data93.features.x, val_data93.features.y))"
      ],
      "metadata": {
        "colab": {
          "base_uri": "https://localhost:8080/"
        },
        "id": "_bx0f_tsmsSs",
        "outputId": "41f030fd-f837-45a3-fadd-1f9f239da7a8"
      },
      "execution_count": null,
      "outputs": [
        {
          "output_type": "stream",
          "name": "stdout",
          "text": [
            "Epoch 1/10\n",
            "6/6 [==============================] - 2s 282ms/step - loss: 0.1727 - accuracy: 0.9146 - mse: 0.0565 - auc: 0.9925 - val_loss: 1.2235 - val_accuracy: 0.7143 - val_mse: 0.2465 - val_auc: 0.7067\n",
            "Epoch 2/10\n",
            "6/6 [==============================] - 2s 273ms/step - loss: 0.0769 - accuracy: 0.9756 - mse: 0.0189 - auc: 0.9993 - val_loss: 1.5370 - val_accuracy: 0.6571 - val_mse: 0.2756 - val_auc: 0.7150\n",
            "Epoch 3/10\n",
            "6/6 [==============================] - 2s 267ms/step - loss: 0.0336 - accuracy: 0.9939 - mse: 0.0081 - auc: 0.9994 - val_loss: 1.8388 - val_accuracy: 0.6857 - val_mse: 0.2810 - val_auc: 0.6917\n",
            "Epoch 4/10\n",
            "6/6 [==============================] - 2s 271ms/step - loss: 0.0159 - accuracy: 1.0000 - mse: 0.0028 - auc: 1.0000 - val_loss: 2.1608 - val_accuracy: 0.6857 - val_mse: 0.2887 - val_auc: 0.7183\n",
            "Epoch 5/10\n",
            "6/6 [==============================] - 2s 270ms/step - loss: 0.0222 - accuracy: 0.9878 - mse: 0.0065 - auc: 0.9999 - val_loss: 2.2789 - val_accuracy: 0.7429 - val_mse: 0.2646 - val_auc: 0.7550\n",
            "Epoch 6/10\n",
            "6/6 [==============================] - 2s 304ms/step - loss: 0.0173 - accuracy: 1.0000 - mse: 0.0029 - auc: 1.0000 - val_loss: 2.4394 - val_accuracy: 0.7429 - val_mse: 0.2543 - val_auc: 0.7250\n",
            "Epoch 7/10\n",
            "6/6 [==============================] - 2s 306ms/step - loss: 0.0082 - accuracy: 1.0000 - mse: 0.0014 - auc: 1.0000 - val_loss: 2.6616 - val_accuracy: 0.7429 - val_mse: 0.2540 - val_auc: 0.7400\n",
            "Epoch 8/10\n",
            "6/6 [==============================] - 2s 312ms/step - loss: 0.0056 - accuracy: 1.0000 - mse: 6.5616e-04 - auc: 1.0000 - val_loss: 2.7185 - val_accuracy: 0.7143 - val_mse: 0.2602 - val_auc: 0.7467\n",
            "Epoch 9/10\n",
            "6/6 [==============================] - 2s 323ms/step - loss: 0.0018 - accuracy: 1.0000 - mse: 7.7257e-05 - auc: 1.0000 - val_loss: 2.6700 - val_accuracy: 0.7143 - val_mse: 0.2486 - val_auc: 0.7617\n",
            "Epoch 10/10\n",
            "6/6 [==============================] - 2s 321ms/step - loss: 0.0044 - accuracy: 1.0000 - mse: 5.5897e-04 - auc: 1.0000 - val_loss: 2.7681 - val_accuracy: 0.7429 - val_mse: 0.2470 - val_auc: 0.7733\n"
          ]
        }
      ]
    },
    {
      "cell_type": "code",
      "source": [
        "score = model.evaluate(test_data93.features.x, test_data93.features.y, verbose=0)\n",
        "print('Loss: ', score[0])\n",
        "print('Accuracy: ', score[1])"
      ],
      "metadata": {
        "colab": {
          "base_uri": "https://localhost:8080/"
        },
        "id": "0IAGecU_pVVF",
        "outputId": "6ba2f646-c15d-44a7-9fc9-47c2a3263b26"
      },
      "execution_count": null,
      "outputs": [
        {
          "output_type": "stream",
          "name": "stdout",
          "text": [
            "Loss:  5.156682014465332\n",
            "Accuracy:  0.5384615659713745\n"
          ]
        }
      ]
    },
    {
      "cell_type": "code",
      "source": [
        "acc_by_subject_test = []\n",
        "pacients = test_data93[\"paciente\"].unique()\n",
        "\n",
        "for pacient in pacients:\n",
        "  data_set = test_data93[test_data93[\"paciente\"] == pacient]\n",
        "  data_set = PhysionetDataset(data_set, selected_eletrodes, batch, train=False, std=train_dataset.std, mean=train_dataset.mean, normMinMax=train_dataset.norm)\n",
        "  score = model.evaluate(data_set.features.x, data_set.features.y, verbose=0)\n",
        "  acc_by_subject_test.append([pacient, score[1], len(data_set.features.x)])"
      ],
      "metadata": {
        "colab": {
          "base_uri": "https://localhost:8080/"
        },
        "id": "-4gr6o6kpvKI",
        "outputId": "2c2c5a23-1659-4f14-dea5-a6453d62efc9"
      },
      "execution_count": null,
      "outputs": [
        {
          "output_type": "stream",
          "name": "stdout",
          "text": [
            "(4, 640, 14)\n",
            "(4,)\n"
          ]
        }
      ]
    },
    {
      "cell_type": "code",
      "source": [
        "acc_by_subject_test"
      ],
      "metadata": {
        "colab": {
          "base_uri": "https://localhost:8080/"
        },
        "id": "Rl3xd7gWtuY8",
        "outputId": "7d63962b-8015-42d0-925c-7d51bddafde8"
      },
      "execution_count": null,
      "outputs": [
        {
          "output_type": "execute_result",
          "data": {
            "text/plain": [
              "[[27, 0.6666666865348816, 6],\n",
              " [45, 0.3333333432674408, 6],\n",
              " [55, 1.0, 4],\n",
              " [83, 0.5, 6],\n",
              " [93, 0.25, 4]]"
            ]
          },
          "metadata": {},
          "execution_count": 246
        }
      ]
    },
    {
      "cell_type": "code",
      "source": [],
      "metadata": {
        "id": "xmAa6oT9uBIx"
      },
      "execution_count": null,
      "outputs": []
    }
  ]
}
