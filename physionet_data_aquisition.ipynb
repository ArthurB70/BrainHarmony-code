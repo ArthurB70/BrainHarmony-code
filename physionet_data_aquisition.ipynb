{
 "cells": [
  {
   "cell_type": "code",
   "execution_count": 8,
   "metadata": {},
   "outputs": [],
   "source": [
    "import numpy as np\n",
    "import matplotlib.pyplot as plt\n",
    "import pandas as pd\n",
    "from mne import Epochs, pick_types, events_from_annotations\n",
    "from mne.channels import make_standard_montage\n",
    "from mne.io import concatenate_raws, read_raw_edf\n",
    "from mne.datasets import eegbci\n",
    "from mne.decoding import CSP\n",
    "import random"
   ]
  },
  {
   "cell_type": "code",
   "execution_count": null,
   "metadata": {},
   "outputs": [],
   "source": [
    "tmin, tmax = -1.0, 4.0\n",
    "event_id = dict(rest=1,left=2, right=3)\n",
    "runs = [3]\n",
    "\n",
    "train_data = open(\"PhysionetTrain.csv\", \"a\")\n",
    "test_data = open(\"PhysionetTest.csv\", \"a\")\n",
    "val_data = open(\"PhysionetVal.csv\", \"a\")\n",
    "\n",
    "train_data.write('paciente;'+'medicao;'+'eletrodo;'+'label')\n",
    "val_data.write('paciente;'+'medicao;'+'eletrodo;'+'label')\n",
    "test_data.write('paciente;'+'medicao;'+'eletrodo;'+'label')\n",
    "\n",
    "\n",
    "for idx in range(640):\n",
    "    train_data.write(';leitura'+str(idx))\n",
    "    val_data.write(';leitura'+str(idx))\n",
    "    test_data.write(';leitura'+str(idx))\n",
    "\n",
    "train_data.write('\\n')\n",
    "val_data.write('\\n')\n",
    "test_data.write('\\n')\n",
    "\n",
    "teste = open(\"teste2.csv\", \"a\")\n",
    "for subject in range(1,110):\n",
    "    raw_fnames = eegbci.load_data(subject, runs)\n",
    "    raw = concatenate_raws([read_raw_edf(f, preload=True) for f in raw_fnames])\n",
    "    eegbci.standardize(raw)  # set channel names\n",
    "    montage = make_standard_montage(\"standard_1005\")\n",
    "    raw.set_montage(montage)\n",
    "    raw.filter(7.0, 30.0, fir_design=\"firwin\", skip_by_annotation=\"edge\")\n",
    "    events, _ = events_from_annotations(raw, event_id='auto')\n",
    "    picks = pick_types(raw.info, meg=False, eeg=True, stim=False, eog=False, exclude=\"bads\")\n",
    "    channels = raw.ch_names\n",
    "    channels = [x.replace('.','').upper() for x in channels]\n",
    "    epochs = Epochs(\n",
    "        raw,\n",
    "        events,\n",
    "        event_id,\n",
    "        tmin,\n",
    "        tmax,\n",
    "        proj=True,\n",
    "        picks=picks,\n",
    "        baseline=None,\n",
    "        preload=True,\n",
    "    )\n",
    "    epochs_data = epochs.get_data()\n",
    "    labels = epochs.events[:, -1]\n",
    "    flag = True\n",
    "    random_epochs = random.sample(range(0, 29), 29)\n",
    "    epochs_val = random_epochs[0:4]\n",
    "    epochs_test = random_epochs[4:8]\n",
    "    for epoch in range(len(epochs_data)):\n",
    "        label = labels[epoch]\n",
    "        if(label == 1):\n",
    "            if(flag == True):\n",
    "                flag = False\n",
    "            else:\n",
    "                flag = True\n",
    "        \n",
    "        if(label != 1 or (label == 1 and flag)):\n",
    "            if(epoch in epochs_val):\n",
    "                for eletrode in range(len(epochs_data[epoch])):\n",
    "                    val_data.write(str(subject)+';'+str(epoch+1)+';'+channels[eletrode]+';'+str(label))\n",
    "                    sign = epochs_data[epoch][eletrode][:640]\n",
    "                    \n",
    "                    for leitura in range(len(sign)):\n",
    "                        val_data.write(';'+str(sign[leitura]))\n",
    "                    val_data.write('\\n')\n",
    "            elif(epoch in epochs_test):\n",
    "                for eletrode in range(len(epochs_data[epoch])):\n",
    "                    test_data.write(str(subject)+';'+str(epoch+1)+';'+channels[eletrode]+';'+str(label))\n",
    "                    sign = epochs_data[epoch][eletrode][:640]\n",
    "                    \n",
    "                    for leitura in range(len(sign)):\n",
    "                        test_data.write(';'+str(sign[leitura]))\n",
    "                    test_data.write('\\n')\n",
    "            else:\n",
    "                for eletrode in range(len(epochs_data[epoch])):\n",
    "                    train_data.write(str(subject)+';'+str(epoch+1)+';'+channels[eletrode]+';'+str(label))\n",
    "                    sign = epochs_data[epoch][eletrode][:640]\n",
    "                    \n",
    "                    for leitura in range(len(sign)):\n",
    "                        train_data.write(';'+str(sign[leitura]))\n",
    "                    train_data.write('\\n')\n",
    "train_data.close()\n",
    "val_data.close()\n",
    "test_data.close()\n",
    "        \n"
   ]
  },
  {
   "cell_type": "code",
   "execution_count": 91,
   "metadata": {},
   "outputs": [],
   "source": [
    "train_dataset = pd.read_csv('PhysionetTrain.csv', delimiter=';')\n",
    "test_dataset = pd.read_csv('PhysionetTest.csv', delimiter=';')\n",
    "val_dataset = pd.read_csv('PhysionetVal.csv', delimiter=';')"
   ]
  },
  {
   "cell_type": "code",
   "execution_count": 92,
   "metadata": {},
   "outputs": [
    {
     "name": "stdout",
     "output_type": "stream",
     "text": [
      "36736 38720 38144\n",
      "6080 6528 7872\n",
      "6336 7040 6464\n"
     ]
    }
   ],
   "source": [
    "print(train_dataset['label'].value_counts()[1],train_dataset['label'].value_counts()[2],train_dataset['label'].value_counts()[3])\n",
    "print(val_dataset['label'].value_counts()[1],val_dataset['label'].value_counts()[2],val_dataset['label'].value_counts()[3])\n",
    "print(test_dataset['label'].value_counts()[1],test_dataset['label'].value_counts()[2],test_dataset['label'].value_counts()[3])"
   ]
  }
 ],
 "metadata": {
  "kernelspec": {
   "display_name": "Python 3",
   "language": "python",
   "name": "python3"
  },
  "language_info": {
   "codemirror_mode": {
    "name": "ipython",
    "version": 3
   },
   "file_extension": ".py",
   "mimetype": "text/x-python",
   "name": "python",
   "nbconvert_exporter": "python",
   "pygments_lexer": "ipython3",
   "version": "3.8.0"
  },
  "orig_nbformat": 4
 },
 "nbformat": 4,
 "nbformat_minor": 2
}
