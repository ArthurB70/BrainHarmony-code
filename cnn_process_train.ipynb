{
  "nbformat": 4,
  "nbformat_minor": 0,
  "metadata": {
    "colab": {
      "provenance": []
    },
    "kernelspec": {
      "name": "python3",
      "display_name": "Python 3"
    },
    "language_info": {
      "name": "python"
    }
  },
  "cells": [
    {
      "cell_type": "code",
      "source": [
        "#import tensorflow as tf\n",
        "#!pip install tensorflow==2.9.1\n",
        "import tensorflow as tf\n",
        "print(tf.__version__)"
      ],
      "metadata": {
        "colab": {
          "base_uri": "https://localhost:8080/"
        },
        "id": "Nzt6RPKOAIyo",
        "outputId": "a9fa2777-ca18-4d33-e898-1983ca19dc5e"
      },
      "execution_count": 1,
      "outputs": [
        {
          "output_type": "stream",
          "name": "stdout",
          "text": [
            "2.9.1\n"
          ]
        }
      ]
    },
    {
      "cell_type": "code",
      "execution_count": 2,
      "metadata": {
        "colab": {
          "base_uri": "https://localhost:8080/"
        },
        "id": "Wlar8yXLjXDc",
        "outputId": "eaefba71-60da-4d5e-c22e-8fb961981db2"
      },
      "outputs": [
        {
          "output_type": "stream",
          "name": "stdout",
          "text": [
            "2.9.1\n",
            "2.9.1\n",
            "Mounted at /content/drive\n"
          ]
        }
      ],
      "source": [
        "print(tf.__version__)\n",
        "import pandas as pd\n",
        "import matplotlib.pyplot as plt\n",
        "from scipy import signal\n",
        "#import pywt\n",
        "import numpy as np\n",
        "#import imageio\n",
        "import tensorflow as tf\n",
        "#import cv2\n",
        "#import time\n",
        "from tensorflow.keras import datasets, layers, models\n",
        "import matplotlib.pyplot as plt\n",
        "from tensorflow.keras.metrics import Precision, Recall, BinaryAccuracy\n",
        "from tensorflow.keras.models import Model, load_model\n",
        "from sklearn.metrics import classification_report\n",
        "import os\n",
        "#from scipy import signal\n",
        "#from sklearn import preprocessing\n",
        "print(tf.__version__)\n",
        "from google.colab import drive\n",
        "drive.mount('/content/drive')"
      ]
    },
    {
      "cell_type": "code",
      "source": [
        "train_data = pd.read_csv('/content/drive/MyDrive/TCC-Physionet/dadosPhysionetTrainBalanceado.csv', delimiter=\";\")\n",
        "test_data = pd.read_csv('/content/drive/MyDrive/TCC-Physionet/dadosPhysionetTestBalanceado.csv', delimiter=\";\")\n",
        "val_data = pd.read_csv('/content/drive/MyDrive/TCC-Physionet/dadosPhysionetValBalanceado.csv', delimiter=\";\")\n"
      ],
      "metadata": {
        "id": "vs3-ssJtjix8"
      },
      "execution_count": 3,
      "outputs": []
    },
    {
      "cell_type": "code",
      "source": [
        "labels = {'0': 'rest', '1': 'left', '2': 'right'}\n",
        "selected_eletrodes = ['F3', 'F4', 'F5', 'F6', 'FC5', 'FC3',\n",
        "             'FC4', 'FC6', 'C5', 'C3', 'C4', 'C6'\n",
        "             ]"
      ],
      "metadata": {
        "id": "4fxXUF0Vms75"
      },
      "execution_count": 4,
      "outputs": []
    },
    {
      "cell_type": "code",
      "source": [
        "def assemble_data(data, selected_eletrodes, std_el, mean_el):\n",
        "\n",
        "  labels = []\n",
        "  signals = []\n",
        "  pacients = data[\"paciente\"].unique()\n",
        "  len_selected_eletrodes = len(selected_eletrodes)\n",
        "\n",
        "  for pacient in pacients:\n",
        "      measures = data.loc[data['paciente'] == pacient]['medicao'].unique()\n",
        "      for measure in measures:\n",
        "          label = data.loc[(data['paciente'] == pacient) & (data['medicao'] == measure)]['label'].unique()[0]\n",
        "          signal_list = []\n",
        "          img = np.zeros([len_selected_eletrodes,640])\n",
        "          for idx, eletrode in enumerate(selected_eletrodes):\n",
        "              sign = data.loc[(data['paciente'] == pacient) & (data['medicao'] == measure) & (data['eletrodo'] == eletrode)].iloc[:,4:].to_numpy().reshape(640)\n",
        "              sign -= mean_el[idx]\n",
        "              sign /= std_el[idx] + 1e-7\n",
        "              img[idx] = sign\n",
        "          signals.append(img)\n",
        "          labels.append(label-1)\n",
        "          '''if label == 1 :\n",
        "            labels.append([1,0,0])\n",
        "          elif label == 2:\n",
        "            labels.append([0,1,0])\n",
        "          else:\n",
        "            labels.append([0,0,1])'''\n",
        "\n",
        "  return labels, signals\n"
      ],
      "metadata": {
        "id": "7z_NC9cImEMO"
      },
      "execution_count": 5,
      "outputs": []
    },
    {
      "cell_type": "code",
      "source": [
        "def metrics(data, selected_eletrodes):\n",
        "  std = []\n",
        "  mean = []\n",
        "  for eletrode in selected_eletrodes:\n",
        "    eletrodoStd = pd.Series(data.loc[data[\"eletrodo\"] == eletrode, \"leitura0\":\"leitura639\"].values.ravel('F')).std()\n",
        "    eletrodoMean = pd.Series(data.loc[data[\"eletrodo\"] == eletrode, \"leitura0\":\"leitura639\"].values.ravel('F')).mean()\n",
        "    std.append(eletrodoStd)\n",
        "    mean.append(eletrodoMean)\n",
        "\n",
        "  return std, mean"
      ],
      "metadata": {
        "id": "5ZW-U7eygZvS"
      },
      "execution_count": 6,
      "outputs": []
    },
    {
      "cell_type": "code",
      "source": [
        "class PhysionetDataset:\n",
        "  def __init__(self, data, selected_eletrodes, batch_size):\n",
        "    self.std, self.mean = metrics(data, selected_eletrodes)\n",
        "    label, signal = assemble_data(data, selected_eletrodes, self.std, self.mean)\n",
        "    img_generator = tf.keras.preprocessing.image.ImageDataGenerator()\n",
        "\n",
        "    self.features = img_generator.flow(\n",
        "        x=np.array(signal).reshape(len(signal), len(selected_eletrodes), 640, 1),\n",
        "        y=np.array(label).reshape(len(label),1),\n",
        "        batch_size=batch_size)\n",
        "\n"
      ],
      "metadata": {
        "id": "gmanROLbkXgg"
      },
      "execution_count": 7,
      "outputs": []
    },
    {
      "cell_type": "code",
      "source": [
        "batch = 8\n",
        "cwt_limit = 30\n",
        "\n",
        "train_dataset = PhysionetDataset(train_data, selected_eletrodes, batch)\n",
        "val_dataset = PhysionetDataset(val_data, selected_eletrodes, batch)\n",
        "#test_dataset = PhysionetDataset(test_data, selected_eletrodes, batch)"
      ],
      "metadata": {
        "id": "dGZAACBhnXFd"
      },
      "execution_count": 8,
      "outputs": []
    },
    {
      "cell_type": "code",
      "source": [
        "inp = layers.Input(shape=(12, 640, 1))\n",
        "x = layers.TimeDistributed(layers.LSTM(256, return_sequences=True))(inp)\n",
        "x = layers.TimeDistributed(layers.LSTM(128, return_sequences=True))(x)\n",
        "x = layers.TimeDistributed(layers.LSTM(64, return_sequences=True))(x)\n",
        "x = layers.Flatten()(x)\n",
        "x = layers.Dense(3, activation='softmax')(x)\n",
        "\n",
        "model = Model(inp, x)"
      ],
      "metadata": {
        "id": "j1sUaKwGH5yQ"
      },
      "execution_count": 10,
      "outputs": []
    },
    {
      "cell_type": "code",
      "source": [
        "model.summary()"
      ],
      "metadata": {
        "id": "R8w2hSLulS5B",
        "colab": {
          "base_uri": "https://localhost:8080/"
        },
        "outputId": "d8f9f8d3-ad9e-4ea0-8513-09303bf1fd60"
      },
      "execution_count": 11,
      "outputs": [
        {
          "output_type": "stream",
          "name": "stdout",
          "text": [
            "Model: \"model\"\n",
            "_________________________________________________________________\n",
            " Layer (type)                Output Shape              Param #   \n",
            "=================================================================\n",
            " input_1 (InputLayer)        [(None, 12, 640, 1)]      0         \n",
            "                                                                 \n",
            " time_distributed (TimeDistr  (None, 12, 640, 256)     264192    \n",
            " ibuted)                                                         \n",
            "                                                                 \n",
            " time_distributed_1 (TimeDis  (None, 12, 640, 128)     197120    \n",
            " tributed)                                                       \n",
            "                                                                 \n",
            " time_distributed_2 (TimeDis  (None, 12, 640, 64)      49408     \n",
            " tributed)                                                       \n",
            "                                                                 \n",
            " flatten (Flatten)           (None, 491520)            0         \n",
            "                                                                 \n",
            " dense (Dense)               (None, 3)                 1474563   \n",
            "                                                                 \n",
            "=================================================================\n",
            "Total params: 1,985,283\n",
            "Trainable params: 1,985,283\n",
            "Non-trainable params: 0\n",
            "_________________________________________________________________\n"
          ]
        }
      ]
    },
    {
      "cell_type": "code",
      "source": [
        "\n",
        "model.compile(optimizer='adam',loss=tf.keras.losses.SparseCategoricalCrossentropy(),metrics=['accuracy'])"
      ],
      "metadata": {
        "id": "Z--N1ITBYRHM"
      },
      "execution_count": 12,
      "outputs": []
    },
    {
      "cell_type": "code",
      "source": [
        "#model = load_model('/content/drive/MyDrive/TCC-Physionet/model_EffB309_07_2023_2.h5')\n",
        "\n",
        "history = model.fit(train_dataset.features.x, train_dataset.features.y, epochs=10,\n",
        "                    validation_data=(val_dataset.features.x, val_dataset.features.y))#, callbacks=callbacks)\n",
        "\n",
        "#model_EffB3.save('/content/drive/MyDrive/TCC-Physionet/model_EffB309_07_2023_2.h5')"
      ],
      "metadata": {
        "id": "-WNTWEnr_eJo",
        "colab": {
          "base_uri": "https://localhost:8080/"
        },
        "outputId": "912aeba1-fc4c-430c-839d-3f4b52e6bea5"
      },
      "execution_count": 13,
      "outputs": [
        {
          "output_type": "stream",
          "name": "stdout",
          "text": [
            "Epoch 1/10\n",
            "50/50 [==============================] - 1298s 26s/step - loss: 1.3131 - accuracy: 0.3936 - val_loss: 1.0536 - val_accuracy: 0.4581\n",
            "Epoch 2/10\n",
            "50/50 [==============================] - 1277s 26s/step - loss: 1.0113 - accuracy: 0.5275 - val_loss: 1.1454 - val_accuracy: 0.4721\n",
            "Epoch 3/10\n",
            "50/50 [==============================] - 1278s 26s/step - loss: 0.9461 - accuracy: 0.5742 - val_loss: 1.0944 - val_accuracy: 0.4972\n",
            "Epoch 4/10\n",
            "50/50 [==============================] - 1273s 25s/step - loss: 0.9029 - accuracy: 0.5875 - val_loss: 1.0312 - val_accuracy: 0.5307\n",
            "Epoch 5/10\n",
            "50/50 [==============================] - 1285s 26s/step - loss: 0.8211 - accuracy: 0.6399 - val_loss: 1.1316 - val_accuracy: 0.5028\n",
            "Epoch 6/10\n",
            "50/50 [==============================] - 1306s 26s/step - loss: 0.8322 - accuracy: 0.6191 - val_loss: 1.2197 - val_accuracy: 0.5251\n",
            "Epoch 7/10\n",
            "50/50 [==============================] - 1314s 26s/step - loss: 0.7996 - accuracy: 0.6570 - val_loss: 1.0829 - val_accuracy: 0.5307\n",
            "Epoch 8/10\n",
            "50/50 [==============================] - 1307s 26s/step - loss: 0.7227 - accuracy: 0.6911 - val_loss: 1.2750 - val_accuracy: 0.5307\n",
            "Epoch 9/10\n",
            "50/50 [==============================] - 1311s 26s/step - loss: 0.6329 - accuracy: 0.7145 - val_loss: 1.3334 - val_accuracy: 0.5140\n",
            "Epoch 10/10\n",
            "50/50 [==============================] - 1309s 26s/step - loss: 0.5862 - accuracy: 0.7555 - val_loss: 1.3971 - val_accuracy: 0.4916\n"
          ]
        }
      ]
    },
    {
      "cell_type": "code",
      "source": [
        "model.save('/content/drive/MyDrive/TCC-Physionet/model_LSTM.h5')"
      ],
      "metadata": {
        "id": "w1a0scyDMm2o"
      },
      "execution_count": 14,
      "outputs": []
    },
    {
      "cell_type": "code",
      "source": [
        "score = model.evaluate(test_dataset.features.x, test_dataset.features.y, verbose=0)\n",
        "print('Loss: ', score[0])\n",
        "print('Accuracy: ', score[1])"
      ],
      "metadata": {
        "colab": {
          "base_uri": "https://localhost:8080/"
        },
        "id": "YLwaxBhBKBzN",
        "outputId": "f5673de3-2b6e-4515-aa63-858e6329c4c5"
      },
      "execution_count": 17,
      "outputs": [
        {
          "output_type": "stream",
          "name": "stdout",
          "text": [
            "Loss:  1.4860644340515137\n",
            "Accuracy:  0.4898989796638489\n"
          ]
        }
      ]
    },
    {
      "cell_type": "code",
      "source": [
        "test_dataset = PhysionetDataset(test_data, selected_eletrodes, batch)"
      ],
      "metadata": {
        "id": "Rwx5bXyK0hAM"
      },
      "execution_count": 16,
      "outputs": []
    },
    {
      "cell_type": "code",
      "source": [],
      "metadata": {
        "id": "ZbwY5oIz0o2A"
      },
      "execution_count": null,
      "outputs": []
    }
  ]
}