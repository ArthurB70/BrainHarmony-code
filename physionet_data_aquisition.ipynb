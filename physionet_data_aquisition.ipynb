{
 "cells": [
  {
   "cell_type": "code",
   "execution_count": 8,
   "metadata": {},
   "outputs": [],
   "source": [
    "import numpy as np\n",
    "import matplotlib.pyplot as plt\n",
    "import pandas as pd\n",
    "from mne import Epochs, pick_types, events_from_annotations\n",
    "from mne.channels import make_standard_montage\n",
    "from mne.io import concatenate_raws, read_raw_edf\n",
    "from mne.datasets import eegbci\n",
    "from mne.decoding import CSP\n",
    "import random"
   ]
  },
  {
   "cell_type": "code",
   "execution_count": 17,
   "metadata": {},
   "outputs": [],
   "source": [
    "subject = 1\n",
    "runs = [3]\n",
    "tmin, tmax = -1.0, 4.0\n",
    "event_id = dict(rest=1,left=2, right=3)\n"
   ]
  },
  {
   "cell_type": "code",
   "execution_count": 89,
   "metadata": {},
   "outputs": [
    {
     "name": "stdout",
     "output_type": "stream",
     "text": [
      "Extracting EDF parameters from d:\\Dev\\GitHub\\tcc-brain\\tcc-brain\\dataset\\eeg-motor-movementimagery-dataset\\files\\MNE-eegbci-data\\files\\eegmmidb\\1.0.0\\S001\\S001R03.edf...\n",
      "EDF file detected\n",
      "Setting channel info structure...\n",
      "Creating raw.info structure...\n",
      "Reading 0 ... 19999  =      0.000 ...   124.994 secs...\n",
      "Filtering raw data in 1 contiguous segment\n",
      "Setting up band-pass filter from 2 - 8 Hz\n",
      "\n",
      "FIR filter parameters\n",
      "---------------------\n",
      "Designing a one-pass, zero-phase, non-causal bandpass filter:\n",
      "- Windowed time-domain design (firwin) method\n",
      "- Hamming window with 0.0194 passband ripple and 53 dB stopband attenuation\n",
      "- Lower passband edge: 2.00\n",
      "- Lower transition bandwidth: 2.00 Hz (-6 dB cutoff frequency: 1.00 Hz)\n",
      "- Upper passband edge: 8.00 Hz\n",
      "- Upper transition bandwidth: 2.00 Hz (-6 dB cutoff frequency: 9.00 Hz)\n",
      "- Filter length: 265 samples (1.656 s)\n",
      "\n"
     ]
    },
    {
     "name": "stderr",
     "output_type": "stream",
     "text": [
      "[Parallel(n_jobs=1)]: Using backend SequentialBackend with 1 concurrent workers.\n",
      "[Parallel(n_jobs=1)]: Done   1 out of   1 | elapsed:    0.0s remaining:    0.0s\n",
      "[Parallel(n_jobs=1)]: Done   2 out of   2 | elapsed:    0.0s remaining:    0.0s\n",
      "[Parallel(n_jobs=1)]: Done   3 out of   3 | elapsed:    0.0s remaining:    0.0s\n",
      "[Parallel(n_jobs=1)]: Done   4 out of   4 | elapsed:    0.0s remaining:    0.0s\n",
      "[Parallel(n_jobs=1)]: Done  64 out of  64 | elapsed:    0.1s finished\n"
     ]
    },
    {
     "name": "stdout",
     "output_type": "stream",
     "text": [
      "Used Annotations descriptions: ['T0', 'T1', 'T2']\n",
      "Not setting metadata\n",
      "30 matching events found\n",
      "No baseline correction applied\n",
      "0 projection items activated\n",
      "Using data from preloaded Raw for 30 events and 801 original time points ...\n",
      "1 bad epochs dropped\n"
     ]
    }
   ],
   "source": [
    "tmin, tmax = -1.0, 4.0\n",
    "event_id = dict(rest=1,left=2, right=3)\n",
    "runs = [3]\n",
    "\n",
    "train_data = open(\"PhysionetTrain.csv\", \"a\")\n",
    "test_data = open(\"PhysionetTest.csv\", \"a\")\n",
    "val_data = open(\"PhysionetVal.csv\", \"a\")\n",
    "\n",
    "train_data.write('paciente;'+'medicao;'+'eletrodo;'+'label')\n",
    "val_data.write('paciente;'+'medicao;'+'eletrodo;'+'label')\n",
    "test_data.write('paciente;'+'medicao;'+'eletrodo;'+'label')\n",
    "\n",
    "\n",
    "for idx in range(800):\n",
    "    train_data.write(';leitura'+str(idx))\n",
    "    val_data.write(';leitura'+str(idx))\n",
    "    test_data.write(';leitura'+str(idx))\n",
    "\n",
    "train_data.write('\\n')\n",
    "val_data.write('\\n')\n",
    "test_data.write('\\n')\n",
    "\n",
    "teste = open(\"teste2.csv\", \"a\")\n",
    "for subject in range(1,2):\n",
    "    raw_fnames = eegbci.load_data(subject, runs)\n",
    "    raw = concatenate_raws([read_raw_edf(f, preload=True) for f in raw_fnames])\n",
    "    eegbci.standardize(raw)  # set channel names\n",
    "    montage = make_standard_montage(\"standard_1005\")\n",
    "    raw.set_montage(montage)\n",
    "    raw.filter(2.0, 8.0, fir_design=\"firwin\", skip_by_annotation=\"edge\")\n",
    "    events, _ = events_from_annotations(raw, event_id='auto')\n",
    "    picks = pick_types(raw.info, meg=False, eeg=True, stim=False, eog=False, exclude=\"bads\")\n",
    "    channels = raw.ch_names\n",
    "    channels = [x.replace('.','').upper() for x in channels]\n",
    "    epochs = Epochs(\n",
    "        raw,\n",
    "        events,\n",
    "        event_id,\n",
    "        tmin,\n",
    "        tmax,\n",
    "        proj=True,\n",
    "        picks=picks,\n",
    "        baseline=None,\n",
    "        preload=True,\n",
    "    )\n",
    "    epochs_data = epochs.get_data()\n",
    "    labels = epochs.events[:, -1]\n",
    "    flag = True\n",
    "    random_epochs = random.sample(range(0, 29), 29)\n",
    "    epochs_val = random_epochs[0:4]\n",
    "    epochs_test = random_epochs[4:8]\n",
    "    for epoch in range(len(epochs_data)):\n",
    "        label = labels[epoch]\n",
    "        if(label == 1):\n",
    "            if(flag == True):\n",
    "                flag = False\n",
    "            else:\n",
    "                flag = True\n",
    "        \n",
    "        if(label != 1 or (label == 1 and flag)):\n",
    "            if(epoch in epochs_val):\n",
    "                for eletrode in range(len(epochs_data[epoch])):\n",
    "                    val_data.write(str(subject)+';'+str(epoch+1)+';'+channels[eletrode]+';'+str(label))\n",
    "                    sign = epochs_data[epoch][eletrode][:800]\n",
    "                    \n",
    "                    for leitura in range(len(sign)):\n",
    "                        val_data.write(';'+str(sign[leitura]))\n",
    "                    val_data.write('\\n')\n",
    "            elif(epoch in epochs_test):\n",
    "                for eletrode in range(len(epochs_data[epoch])):\n",
    "                    test_data.write(str(subject)+';'+str(epoch+1)+';'+channels[eletrode]+';'+str(label))\n",
    "                    sign = epochs_data[epoch][eletrode][:800]\n",
    "                    \n",
    "                    for leitura in range(len(sign)):\n",
    "                        test_data.write(';'+str(sign[leitura]))\n",
    "                    test_data.write('\\n')\n",
    "            else:\n",
    "                for eletrode in range(len(epochs_data[epoch])):\n",
    "                    train_data.write(str(subject)+';'+str(epoch+1)+';'+channels[eletrode]+';'+str(label))\n",
    "                    sign = epochs_data[epoch][eletrode][:800]\n",
    "                    \n",
    "                    for leitura in range(len(sign)):\n",
    "                        train_data.write(';'+str(sign[leitura]))\n",
    "                    train_data.write('\\n')\n",
    "train_data.close()\n",
    "val_data.close()\n",
    "test_data.close()\n",
    "        \n"
   ]
  },
  {
   "cell_type": "code",
   "execution_count": 40,
   "metadata": {},
   "outputs": [
    {
     "data": {
      "text/plain": [
       "29"
      ]
     },
     "execution_count": 40,
     "metadata": {},
     "output_type": "execute_result"
    }
   ],
   "source": [
    "len(epochs_data)"
   ]
  },
  {
   "cell_type": "code",
   "execution_count": null,
   "metadata": {},
   "outputs": [],
   "source": [
    "raw.ch_names"
   ]
  },
  {
   "cell_type": "code",
   "execution_count": 58,
   "metadata": {},
   "outputs": [
    {
     "name": "stdout",
     "output_type": "stream",
     "text": [
      "[1, 2, 3]\n"
     ]
    }
   ],
   "source": [
    "vetor = [1,2,3,4,5,6,7,8]\n",
    "\n",
    "print(vetor[:3])"
   ]
  },
  {
   "cell_type": "code",
   "execution_count": 68,
   "metadata": {},
   "outputs": [],
   "source": [
    "\n",
    "\n",
    "epochs_train = random_epochs[8:]\n"
   ]
  },
  {
   "cell_type": "code",
   "execution_count": 69,
   "metadata": {},
   "outputs": [
    {
     "data": {
      "text/plain": [
       "[12, 0, 24, 22]"
      ]
     },
     "execution_count": 69,
     "metadata": {},
     "output_type": "execute_result"
    }
   ],
   "source": [
    "epochs_val"
   ]
  },
  {
   "cell_type": "code",
   "execution_count": 70,
   "metadata": {},
   "outputs": [
    {
     "data": {
      "text/plain": [
       "[28, 21, 4, 2]"
      ]
     },
     "execution_count": 70,
     "metadata": {},
     "output_type": "execute_result"
    }
   ],
   "source": [
    "epochs_test"
   ]
  },
  {
   "cell_type": "code",
   "execution_count": 71,
   "metadata": {},
   "outputs": [
    {
     "data": {
      "text/plain": [
       "[14, 9, 7, 15, 16, 20, 1, 26, 19, 18, 23, 8, 13, 5, 6, 17, 10, 3, 11, 27, 25]"
      ]
     },
     "execution_count": 71,
     "metadata": {},
     "output_type": "execute_result"
    }
   ],
   "source": [
    "epochs_train"
   ]
  },
  {
   "cell_type": "code",
   "execution_count": 79,
   "metadata": {},
   "outputs": [],
   "source": [
    "train_dataset = pd.read_csv('PhysionetTrain.csv', delimiter=';')\n",
    "test_dataset = pd.read_csv('PhysionetTest.csv', delimiter=';')\n",
    "val_dataset = pd.read_csv('PhysionetVal.csv', delimiter=';')"
   ]
  },
  {
   "cell_type": "code",
   "execution_count": 85,
   "metadata": {},
   "outputs": [
    {
     "name": "stdout",
     "output_type": "stream",
     "text": [
      "39808\n"
     ]
    }
   ],
   "source": [
    "print(train_dataset['label'].value_counts()[3])"
   ]
  },
  {
   "cell_type": "code",
   "execution_count": 86,
   "metadata": {},
   "outputs": [
    {
     "name": "stdout",
     "output_type": "stream",
     "text": [
      "7488 5696\n"
     ]
    }
   ],
   "source": [
    "print(test_dataset['label'].value_counts()[2],test_dataset['label'].value_counts()[3])"
   ]
  },
  {
   "cell_type": "code",
   "execution_count": null,
   "metadata": {},
   "outputs": [],
   "source": [
    "print(val_dataset['label'].value_counts()[1],val_dataset['label'].value_counts()[2],val_dataset['label'].value_counts()[3])"
   ]
  },
  {
   "cell_type": "code",
   "execution_count": null,
   "metadata": {},
   "outputs": [],
   "source": []
  }
 ],
 "metadata": {
  "kernelspec": {
   "display_name": "Python 3",
   "language": "python",
   "name": "python3"
  },
  "language_info": {
   "codemirror_mode": {
    "name": "ipython",
    "version": 3
   },
   "file_extension": ".py",
   "mimetype": "text/x-python",
   "name": "python",
   "nbconvert_exporter": "python",
   "pygments_lexer": "ipython3",
   "version": "3.8.0"
  },
  "orig_nbformat": 4
 },
 "nbformat": 4,
 "nbformat_minor": 2
}
