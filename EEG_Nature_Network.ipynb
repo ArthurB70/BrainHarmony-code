{
  "cells": [
    {
      "cell_type": "markdown",
      "metadata": {
        "id": "view-in-github",
        "colab_type": "text"
      },
      "source": [
        "<a href=\"https://colab.research.google.com/github/ArthurB70/BrainHarmony-code/blob/caio%2FEEG-Nature/EEG_Nature_Network.ipynb\" target=\"_parent\"><img src=\"https://colab.research.google.com/assets/colab-badge.svg\" alt=\"Open In Colab\"/></a>"
      ]
    },
    {
      "cell_type": "code",
      "execution_count": null,
      "metadata": {
        "id": "4e3LeozjXwp5"
      },
      "outputs": [],
      "source": [
        "import numpy as np\n",
        "from zipfile import ZipFile\n",
        "import matplotlib.pyplot as plt\n",
        "import os\n",
        "import pandas as pd\n",
        "import torch\n",
        "from torch.utils.data import DataLoader, Dataset\n",
        "import torch.nn as nn\n",
        "import torch.optim as optim\n",
        "import random\n",
        "import torch.nn.functional as F\n",
        "import argparse\n",
        "from sklearn import metrics\n",
        "from tqdm.notebook import tqdm\n",
        "import gc\n",
        "import shutil"
      ]
    },
    {
      "cell_type": "markdown",
      "metadata": {
        "id": "P4DiBGPAeiy-"
      },
      "source": [
        "## Extração do dataset de teste e treino"
      ]
    },
    {
      "cell_type": "code",
      "execution_count": null,
      "metadata": {
        "id": "c3_va-opY35E"
      },
      "outputs": [],
      "source": [
        "import zipfile\n",
        "\n",
        "with zipfile.ZipFile('/content/drive/MyDrive/TCC/Nature/train.zip', 'r') as zip_ref:\n",
        "    zip_ref.extractall('/content')"
      ]
    },
    {
      "cell_type": "code",
      "execution_count": null,
      "metadata": {
        "id": "WU3y6ByHd9vr"
      },
      "outputs": [],
      "source": [
        "import zipfile\n",
        "\n",
        "with zipfile.ZipFile('/content/drive/MyDrive/TCC/Nature/test.zip', 'r') as zip_ref:\n",
        "    zip_ref.extractall('/content')"
      ]
    },
    {
      "cell_type": "markdown",
      "metadata": {
        "id": "cj4AQ4XNe4st"
      },
      "source": [
        "## Definição das labels"
      ]
    },
    {
      "cell_type": "code",
      "execution_count": null,
      "metadata": {
        "id": "l6vTjZ4FeZZv"
      },
      "outputs": [],
      "source": [
        "labels = ['HandStart', 'FirstDigitTouch', 'BothStartLoadPhase', 'LiftOff',\n",
        "       'Replace', 'BothReleased']"
      ]
    },
    {
      "cell_type": "markdown",
      "metadata": {
        "id": "xZeLl59efAfl"
      },
      "source": [
        "## Adicionando parametros da treino"
      ]
    },
    {
      "cell_type": "code",
      "execution_count": null,
      "metadata": {
        "colab": {
          "base_uri": "https://localhost:8080/"
        },
        "id": "1_Jz932fedaG",
        "outputId": "2b3e0f95-2f66-4fe3-fc69-4b943428d90d"
      },
      "outputs": [
        {
          "name": "stdout",
          "output_type": "stream",
          "text": [
            "cuda:0\n"
          ]
        }
      ],
      "source": [
        "torch.manual_seed(2021)\n",
        "np.random.seed(2021)\n",
        "device = 'cuda:0' if torch.cuda.is_available() else 'cpu'\n",
        "\n",
        "parser = argparse.ArgumentParser()\n",
        "parser.add_argument(\"--n_epochs\", type=int, default=1, help=\"number of epochs of training\")\n",
        "parser.add_argument(\"--batch_size\", type=int, default=1024, help=\"size of the batches\")\n",
        "parser.add_argument(\"--lr\", type=float, default=0.002, help=\"adam's learning rate\")\n",
        "parser.add_argument(\"--b1\", type=float, default=0.5, help=\"adam: decay of first order momentum of gradient\")\n",
        "parser.add_argument(\"--b2\", type=float, default=0.99, help=\"adam: decay of first order momentum of gradient\")\n",
        "parser.add_argument(\"--n_cpu\", type=int, default=1, help=\"number of cpu threads to use during batch generation\")\n",
        "parser.add_argument(\"--in_len\", type=int, default=2**10, help=\"length of the input fed to neural net\")\n",
        "parser.add_argument(\"--in_channels\", type=int, default=32, help=\"number of signal channels\")\n",
        "parser.add_argument(\"--out_channels\", type=int, default=6, help=\"number of classes\")\n",
        "parser.add_argument(\"--chunk\", type=int, default=1000, help=\"length of splited chunks\")\n",
        "opt, unknown = parser.parse_known_args()\n",
        "print(device)"
      ]
    },
    {
      "cell_type": "markdown",
      "metadata": {
        "id": "gPiz0d5Xf4a4"
      },
      "source": [
        "## Criando dataset de treino\n",
        "\n",
        "Leitura de todos os csv's de treino"
      ]
    },
    {
      "cell_type": "code",
      "execution_count": null,
      "metadata": {
        "colab": {
          "background_save": true,
          "base_uri": "https://localhost:8080/",
          "height": 49,
          "referenced_widgets": [
            "47445d72a61b4b3485b089babb8d5e10",
            "850d5ac0f48244889710fa9edee7f8da",
            "091fc33c5cfd440193ed1c861bb0783b",
            "c98de37ecf9747cca715c7ed6ddfc27d",
            "18419d8c961b40ca9435f5fd4aa1e5c5",
            "e4815842dc8e43e6b2b6b9c02de463e9",
            "f6d29dd99a3d471790b8ca0c22d51cc9",
            "c27febaceb8c4bce966c5f5fe7b31dfd",
            "60a2a05c86ba46ca951aa5e8f4fba2cb",
            "57b81ef2c448406894bcd8ec0c69d78a",
            "56deb616b8054a38b45bc5701cb8e020"
          ]
        },
        "id": "Ede_pYVIfupS",
        "outputId": "19f65adc-21bc-47e3-bc86-d14fdd7a0834"
      },
      "outputs": [
        {
          "data": {
            "application/vnd.jupyter.widget-view+json": {
              "model_id": "47445d72a61b4b3485b089babb8d5e10",
              "version_major": 2,
              "version_minor": 0
            },
            "text/plain": [
              "  0%|          | 0/192 [00:00<?, ?it/s]"
            ]
          },
          "metadata": {},
          "output_type": "display_data"
        },
        {
          "name": "stdout",
          "output_type": "stream",
          "text": [
            "CPU times: user 1min 1s, sys: 5.14 s, total: 1min 6s\n",
            "Wall time: 1min 10s\n"
          ]
        }
      ],
      "source": [
        "%%time\n",
        "def read_csv(data, events):\n",
        "    x = pd.read_csv(data)\n",
        "    y = pd.read_csv(events)\n",
        "    id = '_'.join(x.iloc[0, 0].split('_')[:-1])\n",
        "    x = x.iloc[:,1:].values\n",
        "    y = y.iloc[:,1:].values\n",
        "    return x, y\n",
        "\n",
        "\n",
        "trainset = []\n",
        "gt = []\n",
        "for filename in tqdm(os.listdir('./train')):\n",
        "    if 'data' in filename:\n",
        "        data_file_name = os.path.join('./train', filename)\n",
        "        id = filename.split('.')[0]\n",
        "        events_file_name = os.path.join('./train', '_'.join(id.split('_')[:-1]) + '_events.csv')\n",
        "        x, y = read_csv(data_file_name, events_file_name)\n",
        "        trainset.append(x.T.astype(np.float32))\n",
        "        gt.append(y.T.astype(np.float32))"
      ]
    },
    {
      "cell_type": "code",
      "execution_count": 11,
      "metadata": {
        "id": "3E8HF1XhgN43"
      },
      "outputs": [],
      "source": [
        "valid_dataset = trainset[-2:]\n",
        "valid_gt = gt[-2:]\n",
        "trainset = trainset[:-2]\n",
        "gt = gt[:-2]"
      ]
    },
    {
      "cell_type": "markdown",
      "metadata": {
        "id": "C0vTP_V9gtOc"
      },
      "source": [
        "## Checar pra que serve os loads abaixo"
      ]
    },
    {
      "cell_type": "code",
      "execution_count": 12,
      "metadata": {
        "id": "3C2Dfaw7r11B",
        "colab": {
          "base_uri": "https://localhost:8080/"
        },
        "outputId": "67e167be-c353-46bc-9a33-fc85a144f8ad"
      },
      "outputs": [
        {
          "output_type": "stream",
          "name": "stdout",
          "text": [
            "Média Geral das Médias das Colunas:\n",
            "Fp1                   141.436174\n",
            "Fp2                   181.450107\n",
            "F7                    318.705390\n",
            "F3                     -3.592243\n",
            "Fz                     -6.192955\n",
            "F4                    293.638697\n",
            "F8                      5.686913\n",
            "FC5                   296.159811\n",
            "FC1                    74.503146\n",
            "FC2                    -0.987177\n",
            "FC6                   136.283538\n",
            "T7                     66.464876\n",
            "C3                    287.724126\n",
            "Cz                     -4.704870\n",
            "C4                     91.931601\n",
            "T8                     69.524847\n",
            "TP9                    56.688574\n",
            "CP5                    18.805123\n",
            "CP1                    40.454588\n",
            "CP2                    36.563156\n",
            "CP6                   -56.961592\n",
            "TP10                  147.960604\n",
            "P7                    211.674659\n",
            "P3                     90.464181\n",
            "Pz                    123.174023\n",
            "P4                    153.110280\n",
            "P8                    235.123387\n",
            "PO9                   -37.774787\n",
            "O1                    157.268427\n",
            "Oz                     -5.877855\n",
            "O2                    -49.024269\n",
            "PO10                   -2.423578\n",
            "HandStart               0.028820\n",
            "FirstDigitTouch         0.028820\n",
            "BothStartLoadPhase      0.028770\n",
            "LiftOff                 0.028820\n",
            "Replace                 0.028820\n",
            "BothReleased            0.028820\n",
            "dtype: float64\n",
            "Desvio Padrão Geral dos Desvios Padrão das Colunas:\n",
            "Fp1                   420.173418\n",
            "Fp2                   362.026204\n",
            "F7                    298.455582\n",
            "F3                    182.748557\n",
            "Fz                    125.519546\n",
            "F4                    182.566229\n",
            "F8                    328.573198\n",
            "FC5                   204.086994\n",
            "FC1                    97.594189\n",
            "FC2                   112.753759\n",
            "FC6                   192.703410\n",
            "T7                    270.879379\n",
            "C3                    157.989420\n",
            "Cz                    109.596322\n",
            "C4                    168.101788\n",
            "T8                    237.065795\n",
            "TP9                   285.453979\n",
            "CP5                   193.685326\n",
            "CP1                   153.165872\n",
            "CP2                   144.976131\n",
            "CP6                   195.940532\n",
            "TP10                  271.877432\n",
            "P7                    222.500444\n",
            "P3                    184.987478\n",
            "Pz                    159.967057\n",
            "P4                    186.449845\n",
            "P8                    231.523573\n",
            "PO9                   251.308694\n",
            "O1                    207.358489\n",
            "Oz                    209.965466\n",
            "O2                    219.875034\n",
            "PO10                  255.831695\n",
            "HandStart               0.164736\n",
            "FirstDigitTouch         0.164736\n",
            "BothStartLoadPhase      0.164609\n",
            "LiftOff                 0.164736\n",
            "Replace                 0.164736\n",
            "BothReleased            0.164736\n",
            "dtype: float64\n"
          ]
        }
      ],
      "source": [
        "import os\n",
        "import pandas as pd\n",
        "\n",
        "# Diretório onde estão os arquivos CSV\n",
        "pasta = '/content/train'\n",
        "\n",
        "# Lista para armazenar as médias\n",
        "medias_por_coluna = []\n",
        "desvios_por_coluna = []\n",
        "\n",
        "# Percorre todos os arquivos na pasta\n",
        "for arquivo in os.listdir(pasta):\n",
        "    if arquivo.endswith('.csv'):\n",
        "        # Lê o arquivo CSV\n",
        "        path_arquivo = os.path.join(pasta, arquivo)\n",
        "        df = pd.read_csv(path_arquivo)\n",
        "\n",
        "        # Calcula a média das colunas (exceto a primeira) e a adiciona à lista\n",
        "        medias = df.iloc[:, 1:].mean()\n",
        "        medias_por_coluna.append(medias)\n",
        "\n",
        "        # Calcula o desvio padrão das colunas (exceto a primeira) e o adiciona à lista\n",
        "        desvios = df.iloc[:, 1:].std()\n",
        "        desvios_por_coluna.append(desvios)\n",
        "\n",
        "# Calcula a média geral das médias de todas as colunas\n",
        "media_geral = pd.concat(medias_por_coluna, axis=1).mean(axis=1)\n",
        "\n",
        "# Calcula o desvio padrão geral dos desvios padrão de todas as colunas\n",
        "desvio_padrao_geral = pd.concat(desvios_por_coluna, axis=1).mean(axis=1)\n",
        "\n",
        "# Imprime a média geral\n",
        "print(\"Média Geral das Médias das Colunas:\")\n",
        "print(media_geral)\n",
        "\n",
        "# Imprime o desvio padrão geral\n",
        "print(\"Desvio Padrão Geral dos Desvios Padrão das Colunas:\")\n",
        "print(desvio_padrao_geral)"
      ]
    },
    {
      "cell_type": "code",
      "execution_count": 13,
      "metadata": {
        "id": "YLbSki_Pu1SV",
        "colab": {
          "base_uri": "https://localhost:8080/"
        },
        "outputId": "421d4a35-d9ef-4fed-8c2d-a45dd00d98d1"
      },
      "outputs": [
        {
          "output_type": "stream",
          "name": "stdout",
          "text": [
            "Média Geral Total: 80.72183606134142\n",
            "Desvio Geral Total: 179.64971377523224\n"
          ]
        }
      ],
      "source": [
        "media_geral_total = sum(media_geral) / len(media_geral)\n",
        "desvio_geral_total = sum(desvio_padrao_geral) / len(desvio_padrao_geral)\n",
        "\n",
        "# Imprime a média geral total\n",
        "print(\"Média Geral Total:\", media_geral_total)\n",
        "\n",
        "print(\"Desvio Geral Total:\", desvio_geral_total)"
      ]
    },
    {
      "cell_type": "code",
      "execution_count": 14,
      "metadata": {
        "id": "4tGyZpCMggll"
      },
      "outputs": [],
      "source": [
        "# m = np.load('../input/cnn-eeg/mean.npy')\n",
        "# s = np.load('../input/cnn-eeg/std.npy')\n",
        "\n",
        "m = media_geral_total\n",
        "s = desvio_geral_total"
      ]
    },
    {
      "cell_type": "markdown",
      "metadata": {
        "id": "L21nJqb0h7KA"
      },
      "source": [
        "## Função para descartar dados irrelevantes e splitar sinais de longa duração em partes"
      ]
    },
    {
      "cell_type": "code",
      "execution_count": 15,
      "metadata": {
        "id": "0N3ZHdWAgyQE"
      },
      "outputs": [],
      "source": [
        "def resample_data(gt, chunk_size=opt.chunk):\n",
        "    \"\"\"\n",
        "    split long signals to smaller chunks, discard no-events chunks\n",
        "    \"\"\"\n",
        "    total_discard_chunks = 0\n",
        "    mean_val = []\n",
        "    threshold = 0.01\n",
        "    index = []\n",
        "\n",
        "    for i in range(len(gt)):\n",
        "        for j in range(0, gt[i].shape[1], chunk_size):\n",
        "            mean_val.append(np.mean(gt[i][:, j:min(gt[i].shape[1],j+chunk_size)]))\n",
        "            if mean_val[-1] < threshold:  # discard chunks with low events time\n",
        "                total_discard_chunks += 1\n",
        "            else:\n",
        "                index.extend([(i, k) for k in range(j, min(gt[i].shape[1],j+chunk_size))])\n",
        "\n",
        "    plt.plot([0, len(mean_val)], [threshold, threshold], color='r')\n",
        "    plt.scatter(range(len(mean_val)), mean_val, s=1)\n",
        "    plt.show()\n",
        "    print('Total number of chunks discarded: {} chunks'.format(total_discard_chunks))\n",
        "    print('{}% data'.format(total_discard_chunks/len(mean_val)))\n",
        "    del mean_val\n",
        "    gc.collect()\n",
        "    return index"
      ]
    },
    {
      "cell_type": "markdown",
      "metadata": {
        "id": "LEGrnKxDsgs4"
      },
      "source": [
        "# Classe para montar o dataset"
      ]
    },
    {
      "cell_type": "code",
      "execution_count": 16,
      "metadata": {
        "colab": {
          "base_uri": "https://localhost:8080/",
          "height": 517
        },
        "id": "aDbtmC69iY2N",
        "outputId": "8d768021-f167-4ad0-afd3-2ba6514492a0"
      },
      "outputs": [
        {
          "output_type": "display_data",
          "data": {
            "text/plain": [
              "<Figure size 640x480 with 1 Axes>"
            ],
            "image/png": "[encoded data removed]"
          },
          "metadata": {}
        },
        {
          "output_type": "stream",
          "name": "stdout",
          "text": [
            "Total number of chunks discarded: 8645 chunks\n",
            "0.4983283375605257% data\n",
            "8703000\n",
            "CPU times: user 2.95 s, sys: 424 ms, total: 3.38 s\n",
            "Wall time: 3.58 s\n"
          ]
        }
      ],
      "source": [
        "%%time\n",
        "class EEGSignalDataset(Dataset):\n",
        "    def __init__(self, data, gt, m=m, s=s, soft_label=True, train=True):\n",
        "        self.data = data\n",
        "        self.gt = gt\n",
        "        self.train = train\n",
        "        self.soft_label = soft_label\n",
        "        self.eps = 1e-7\n",
        "        if train:\n",
        "            self.index = resample_data(gt)\n",
        "        else:\n",
        "            self.index = [(i, j) for i in range(len(data)) for j in range(data[i].shape[1])]\n",
        "        for dt in self.data:\n",
        "            dt -= m\n",
        "            dt /= s+self.eps\n",
        "\n",
        "    def __getitem__(self, i):\n",
        "        i, j = self.index[i]\n",
        "        raw_data, label = self.data[i][:,max(0, j-opt.in_len+1):j+1], \\\n",
        "                self.gt[i][:,j]\n",
        "\n",
        "        pad = opt.in_len - raw_data.shape[1]\n",
        "        if pad:\n",
        "            raw_data = np.pad(raw_data, ((0,0),(pad,0)), 'constant',constant_values=0)\n",
        "\n",
        "        raw_data, label = torch.from_numpy(raw_data.astype(np.float32)),\\\n",
        "                            torch.from_numpy(label.astype(np.float32))\n",
        "        if self.soft_label:\n",
        "            label[label < .02] = .02\n",
        "        return raw_data, label\n",
        "\n",
        "\n",
        "    def __len__(self):\n",
        "        return len(self.index)\n",
        "\n",
        "dataset = EEGSignalDataset(trainset, gt)\n",
        "dataloader = DataLoader(dataset, batch_size = opt.batch_size,\\\n",
        "                                       num_workers = opt.n_cpu, shuffle=True)\n",
        "print(len(dataset))"
      ]
    },
    {
      "cell_type": "markdown",
      "metadata": {
        "id": "ki6uAHD2spaE"
      },
      "source": [
        "# Criação da arquitetura da rede"
      ]
    },
    {
      "cell_type": "code",
      "execution_count": 17,
      "metadata": {
        "id": "XEZdT9WlsyRk"
      },
      "outputs": [],
      "source": [
        "class NNet(nn.Module):\n",
        "    def __init__(self, in_channels=opt.in_channels, out_channels=opt.out_channels):\n",
        "        super(NNet, self).__init__()\n",
        "        self.hidden = 32\n",
        "        self.net = nn.Sequential(\n",
        "            nn.Conv1d(opt.in_channels, opt.in_channels, 5, padding=2),\n",
        "            nn.Conv1d(self.hidden, self.hidden, 16, stride=16),\n",
        "            nn.LeakyReLU(0.1),\n",
        "            nn.Conv1d(self.hidden, self.hidden, 7, padding=3),\n",
        "        )\n",
        "        for i in range(6):\n",
        "            self.net.add_module('conv{}'.format(i), \\\n",
        "                                self.__block(self.hidden, self.hidden))\n",
        "        self.net.add_module('final', nn.Sequential(\n",
        "            nn.Conv1d(self.hidden, out_channels, 1),\n",
        "            nn.Sigmoid()\n",
        "        ))\n",
        "\n",
        "    def __block(self, inchannels, outchannels):\n",
        "        return nn.Sequential(\n",
        "            nn.MaxPool1d(2, 2),\n",
        "            nn.Dropout(p=0.1, inplace=True),\n",
        "            nn.Conv1d(inchannels, outchannels, 5, padding=2),\n",
        "            nn.LeakyReLU(0.1),\n",
        "            nn.Conv1d(outchannels, outchannels, 5, padding=2),\n",
        "            nn.LeakyReLU(0.1),\n",
        "        )\n",
        "\n",
        "    def forward(self, x):\n",
        "        return self.net(x)"
      ]
    },
    {
      "cell_type": "markdown",
      "metadata": {
        "id": "3jFKmJ6GtAm0"
      },
      "source": [
        "# Treino"
      ]
    },
    {
      "cell_type": "code",
      "execution_count": 18,
      "metadata": {
        "colab": {
          "base_uri": "https://localhost:8080/",
          "height": 66,
          "referenced_widgets": [
            "0dd0e1f7b8c04a0aadc814fb35b569b8",
            "8b4c73fd08434f0997a139baba5c4561",
            "2460923f4a5d4a438815d1973ba3bf10",
            "daa1acfe989e4201b1456e0756f1bb89",
            "ff4569cee5c24796bb024509e46a6957",
            "791bc764b3444caab560e46868fd4313",
            "e2abc594263e4e088e0e28299466cbb4",
            "0489500010b04c3fbcb86353fad75098",
            "f7e3bdec086d4add8ada8d59b9590608",
            "ccaddbac559646e586f536d16c674959",
            "f66faa98f3704eefae2d15ad49c4f659"
          ]
        },
        "id": "-SDy0ZNgs9n0",
        "outputId": "766c0894-666b-42f3-bb56-2bacca235e44"
      },
      "outputs": [
        {
          "output_type": "display_data",
          "data": {
            "text/plain": [
              "  0%|          | 0/8500 [00:00<?, ?it/s]"
            ],
            "application/vnd.jupyter.widget-view+json": {
              "version_major": 2,
              "version_minor": 0,
              "model_id": "0dd0e1f7b8c04a0aadc814fb35b569b8"
            }
          },
          "metadata": {}
        },
        {
          "output_type": "stream",
          "name": "stdout",
          "text": [
            "[Epoch 1/1] [Loss: 0.1750419878959656]\n"
          ]
        }
      ],
      "source": [
        "nnet = NNet()\n",
        "nnet.to(device)\n",
        "loss_fnc = nn.BCELoss()\n",
        "adam = optim.Adam(nnet.parameters(), lr=opt.lr, betas=(opt.b1, opt.b2))\n",
        "loss_his, train_loss = [], []\n",
        "nnet.train()\n",
        "for epoch in range(opt.n_epochs):\n",
        "    p_bar = tqdm(dataloader)\n",
        "    for i, (x, y) in enumerate(p_bar):\n",
        "        x, y = x.to(device), y.to(device)\n",
        "        pred = nnet(x)\n",
        "        loss = loss_fnc(pred.squeeze(dim=-1), y)\n",
        "        adam.zero_grad()\n",
        "        loss.backward()\n",
        "        adam.step()\n",
        "        train_loss.append(loss.item())\n",
        "        p_bar.set_description('[Loss: {}]'.format(train_loss[-1]))\n",
        "        if i % 50 == 0:\n",
        "            loss_his.append(np.mean(train_loss))\n",
        "            train_loss.clear()\n",
        "    print('[Epoch {}/{}] [Loss: {}]'.format(epoch+1, opt.n_epochs, loss_his[-1]))\n",
        "\n",
        "torch.save(nnet.state_dict(), 'model.pt')"
      ]
    },
    {
      "cell_type": "code",
      "execution_count": 19,
      "metadata": {
        "colab": {
          "base_uri": "https://localhost:8080/",
          "height": 49,
          "referenced_widgets": [
            "ee97244af2994b0eb73a76ad220205e5",
            "009aae4d5d494d34b1d1f2914d418ce3",
            "615545fe21e843d6837e0d8483d87149",
            "d2bf63ae16bf44359f925ed77e1247b0",
            "dc0819edf3504122a47489dd2526e4aa",
            "b77fe7972a3343d18e46832923efdc4a",
            "9909871f421e47e195e66f0508eb3ded",
            "1af4de8d6c1b4cdfbaddebecb4bdb9e7",
            "5d68d748e3b04a15a184b215e3b5b78b",
            "46fe89bf561f497bb511d21c173503ad",
            "55562f81caca43c18f044adbcbbde160"
          ]
        },
        "id": "4TIOJHU62SCk",
        "outputId": "5d222371-0f86-4674-c8a0-7e257374b0fe"
      },
      "outputs": [
        {
          "output_type": "display_data",
          "data": {
            "text/plain": [
              "  0%|          | 0/400 [00:00<?, ?it/s]"
            ],
            "application/vnd.jupyter.widget-view+json": {
              "version_major": 2,
              "version_minor": 0,
              "model_id": "ee97244af2994b0eb73a76ad220205e5"
            }
          },
          "metadata": {}
        }
      ],
      "source": [
        "testset = EEGSignalDataset(valid_dataset, valid_gt, train=False, soft_label=False)\n",
        "testloader = DataLoader(testset, batch_size = opt.batch_size,\\\n",
        "                                       num_workers = opt.n_cpu, shuffle=False)\n",
        "nnet.eval()\n",
        "y_pred = []\n",
        "with torch.no_grad():\n",
        "    for x, _ in tqdm(testloader):\n",
        "        x = x.to(device)\n",
        "        pred = nnet(x).detach().cpu().numpy()\n",
        "        y_pred.append(pred)"
      ]
    },
    {
      "cell_type": "code",
      "source": [
        "plt.plot(range(len(loss_his)), loss_his, label='loss')\n",
        "plt.legend()\n",
        "plt.show()"
      ],
      "metadata": {
        "colab": {
          "base_uri": "https://localhost:8080/",
          "height": 430
        },
        "id": "tNJUzpA5-3ci",
        "outputId": "ec1474e9-cd7f-4264-fa2d-22a23187bb24"
      },
      "execution_count": 21,
      "outputs": [
        {
          "output_type": "display_data",
          "data": {
            "text/plain": [
              "<Figure size 640x480 with 1 Axes>"
            ],
            "image/png": "[encoded data removed]"
          },
          "metadata": {}
        }
      ]
    },
    {
      "cell_type": "code",
      "execution_count": 20,
      "metadata": {
        "colab": {
          "base_uri": "https://localhost:8080/",
          "height": 752
        },
        "id": "iiOx5c-B2bOj",
        "outputId": "825e8c0c-2843-4567-c304-49e7f542a8ef"
      },
      "outputs": [
        {
          "output_type": "display_data",
          "data": {
            "text/plain": [
              "<Figure size 1500x1300 with 6 Axes>"
            ],
            "image/png": "[encoded data removed]"
          },
          "metadata": {}
        },
        {
          "output_type": "stream",
          "name": "stdout",
          "text": [
            "auc roc:  0.9240349384190262\n"
          ]
        }
      ],
      "source": [
        "def plot_roc(y_true, y_pred):\n",
        "    fig, axs = plt.subplots(3, 2, figsize=(15,13))\n",
        "    for i, label in enumerate(labels):\n",
        "        fpr, tpr, _ = metrics.roc_curve(y_true[i], y_pred[i])\n",
        "        ax = axs[i//2, i%2]\n",
        "        ax.plot(fpr, tpr)\n",
        "        ax.set_title(label+\" ROC\")\n",
        "        ax.plot([0, 1], [0, 1], 'k--')\n",
        "\n",
        "    plt.show()\n",
        "\n",
        "y_pred = np.concatenate(y_pred, axis=0).squeeze(axis=-1)\n",
        "valid_gt = np.concatenate(valid_gt, axis=1)\n",
        "plot_roc(valid_gt, y_pred.T)\n",
        "print('auc roc: ', metrics.roc_auc_score(valid_gt.T, y_pred))"
      ]
    },
    {
      "cell_type": "markdown",
      "metadata": {
        "id": "rlzjwVuVtHDc"
      },
      "source": [
        "plt.plot(range(len(loss_his)), loss_his, label='loss')\n",
        "plt.legend()\n",
        "plt.show()"
      ]
    },
    {
      "cell_type": "code",
      "source": [
        "del y_pred\n",
        "del testset\n",
        "del testloader\n",
        "del valid_dataset\n",
        "del valid_gt\n",
        "gc.collect()"
      ],
      "metadata": {
        "colab": {
          "base_uri": "https://localhost:8080/"
        },
        "id": "gWQcSexw_wqf",
        "outputId": "523000ff-4cfd-4d7e-a1c6-921dbe45abdb"
      },
      "execution_count": 23,
      "outputs": [
        {
          "output_type": "execute_result",
          "data": {
            "text/plain": [
              "0"
            ]
          },
          "metadata": {},
          "execution_count": 23
        }
      ]
    },
    {
      "cell_type": "markdown",
      "source": [
        "# Base de Teste"
      ],
      "metadata": {
        "id": "BbX_0rY-FA-O"
      }
    },
    {
      "cell_type": "code",
      "source": [
        "y_pred = []\n",
        "y_true = []\n",
        "with torch.no_grad():\n",
        "    for x, y in tqdm(dataloader):\n",
        "        x = x.to(device)\n",
        "        pred = nnet(x).squeeze(dim=-1).detach().cpu().numpy()\n",
        "        y_pred.append(pred)\n",
        "        y_true.append(y)"
      ],
      "metadata": {
        "colab": {
          "base_uri": "https://localhost:8080/",
          "height": 49,
          "referenced_widgets": [
            "c2f90600743a40b7909fc0ae9d925652",
            "8cabccd46e1743fcbdea010b69b520a2",
            "111abb9ac4824752a3defed64709dc60",
            "add6840589f641dc90d074d8e68d54b2",
            "ecd94a9c0d4a4a0eb290f6092bbb783e",
            "62041ce2f3584a73af253db854c70c7c",
            "d347653a41464f8585dde455820aeba3",
            "0a1635528c904c52880297eeb9952fab",
            "2cd905096e6444f9b3f806b748a64013",
            "18ef14e1535c47b28a9ef43a70a076f0",
            "cff3a770da02452cb90d0496201e60ba"
          ]
        },
        "id": "f9j30jFC_3rf",
        "outputId": "62b02b01-8160-4b22-8267-925d930150f0"
      },
      "execution_count": 24,
      "outputs": [
        {
          "output_type": "display_data",
          "data": {
            "text/plain": [
              "  0%|          | 0/8500 [00:00<?, ?it/s]"
            ],
            "application/vnd.jupyter.widget-view+json": {
              "version_major": 2,
              "version_minor": 0,
              "model_id": "c2f90600743a40b7909fc0ae9d925652"
            }
          },
          "metadata": {}
        }
      ]
    },
    {
      "cell_type": "code",
      "source": [
        "y_pred = np.concatenate(y_pred, axis=0)\n",
        "y_true = np.concatenate(y_true, axis=0)\n",
        "y_true[y_true<.1]=0\n",
        "plot_roc(y_true.T, y_pred.T)\n",
        "print('auc roc: ', metrics.roc_auc_score(y_true, y_pred))"
      ],
      "metadata": {
        "colab": {
          "base_uri": "https://localhost:8080/",
          "height": 752
        },
        "id": "4FQlZdfWE7Ad",
        "outputId": "146016f3-86f5-491e-baa5-cd35d2c21270"
      },
      "execution_count": 25,
      "outputs": [
        {
          "output_type": "display_data",
          "data": {
            "text/plain": [
              "<Figure size 1500x1300 with 6 Axes>"
            ],
            "image/png": "[encoded data removed]"
          },
          "metadata": {}
        },
        {
          "output_type": "stream",
          "name": "stdout",
          "text": [
            "auc roc:  0.9602634791075683\n"
          ]
        }
      ]
    },
    {
      "cell_type": "code",
      "source": [
        "i = 1231\n",
        "with torch.no_grad():\n",
        "    input = dataset[i][0].unsqueeze(dim=0)\n",
        "    print(nnet(input.to(device)))\n",
        "    print(dataset[i][1])"
      ],
      "metadata": {
        "colab": {
          "base_uri": "https://localhost:8080/"
        },
        "id": "7CTxtHezFNZS",
        "outputId": "2168d4b4-213f-45c4-c83e-a547fc1880c0"
      },
      "execution_count": 26,
      "outputs": [
        {
          "output_type": "stream",
          "name": "stdout",
          "text": [
            "tensor([[[0.0319],\n",
            "         [0.1449],\n",
            "         [0.1205],\n",
            "         [0.0744],\n",
            "         [0.0183],\n",
            "         [0.0195]]], device='cuda:0')\n",
            "tensor([0.0200, 0.0200, 0.0200, 0.0200, 0.0200, 0.0200])\n"
          ]
        }
      ]
    },
    {
      "cell_type": "code",
      "source": [
        "del y_pred\n",
        "del y_true\n",
        "del dataset\n",
        "del dataloader\n",
        "del trainset\n",
        "del gt\n",
        "gc.collect()"
      ],
      "metadata": {
        "colab": {
          "base_uri": "https://localhost:8080/"
        },
        "id": "j_pbw7ZAFQ0J",
        "outputId": "a69afbb9-62c1-4e80-ef5b-0602361157a6"
      },
      "execution_count": 27,
      "outputs": [
        {
          "output_type": "execute_result",
          "data": {
            "text/plain": [
              "19624"
            ]
          },
          "metadata": {},
          "execution_count": 27
        }
      ]
    }
  ],
  "metadata": {
    "accelerator": "GPU",
    "colab": {
      "provenance": [],
      "gpuType": "T4",
      "mount_file_id": "15r5CK_CrMds718iJWFirFAOH8hRZJfWU",
      "authorship_tag": "ABX9TyOmOSp4DvvzOHDFot3hUNlJ",
      "include_colab_link": true
    },
    "kernelspec": {
      "display_name": "Python 3",
      "name": "python3"
    },
    "language_info": {
      "name": "python"
    },
    "widgets": {
      "application/vnd.jupyter.widget-state+json": {
        "091fc33c5cfd440193ed1c861bb0783b": {
          "model_module": "@jupyter-widgets/controls",
          "model_module_version": "1.5.0",
          "model_name": "FloatProgressModel",
          "state": {
            "_dom_classes": [],
            "_model_module": "@jupyter-widgets/controls",
            "_model_module_version": "1.5.0",
            "_model_name": "FloatProgressModel",
            "_view_count": null,
            "_view_module": "@jupyter-widgets/controls",
            "_view_module_version": "1.5.0",
            "_view_name": "ProgressView",
            "bar_style": "",
            "description": "",
            "description_tooltip": null,
            "layout": "IPY_MODEL_c27febaceb8c4bce966c5f5fe7b31dfd",
            "max": 192,
            "min": 0,
            "orientation": "horizontal",
            "style": "IPY_MODEL_60a2a05c86ba46ca951aa5e8f4fba2cb",
            "value": 0
          }
        },
        "18419d8c961b40ca9435f5fd4aa1e5c5": {
          "model_module": "@jupyter-widgets/base",
          "model_module_version": "1.2.0",
          "model_name": "LayoutModel",
          "state": {
            "_model_module": "@jupyter-widgets/base",
            "_model_module_version": "1.2.0",
            "_model_name": "LayoutModel",
            "_view_count": null,
            "_view_module": "@jupyter-widgets/base",
            "_view_module_version": "1.2.0",
            "_view_name": "LayoutView",
            "align_content": null,
            "align_items": null,
            "align_self": null,
            "border": null,
            "bottom": null,
            "display": null,
            "flex": null,
            "flex_flow": null,
            "grid_area": null,
            "grid_auto_columns": null,
            "grid_auto_flow": null,
            "grid_auto_rows": null,
            "grid_column": null,
            "grid_gap": null,
            "grid_row": null,
            "grid_template_areas": null,
            "grid_template_columns": null,
            "grid_template_rows": null,
            "height": null,
            "justify_content": null,
            "justify_items": null,
            "left": null,
            "margin": null,
            "max_height": null,
            "max_width": null,
            "min_height": null,
            "min_width": null,
            "object_fit": null,
            "object_position": null,
            "order": null,
            "overflow": null,
            "overflow_x": null,
            "overflow_y": null,
            "padding": null,
            "right": null,
            "top": null,
            "visibility": null,
            "width": null
          }
        },
        "47445d72a61b4b3485b089babb8d5e10": {
          "model_module": "@jupyter-widgets/controls",
          "model_module_version": "1.5.0",
          "model_name": "HBoxModel",
          "state": {
            "_dom_classes": [],
            "_model_module": "@jupyter-widgets/controls",
            "_model_module_version": "1.5.0",
            "_model_name": "HBoxModel",
            "_view_count": null,
            "_view_module": "@jupyter-widgets/controls",
            "_view_module_version": "1.5.0",
            "_view_name": "HBoxView",
            "box_style": "",
            "children": [
              "IPY_MODEL_850d5ac0f48244889710fa9edee7f8da",
              "IPY_MODEL_091fc33c5cfd440193ed1c861bb0783b",
              "IPY_MODEL_c98de37ecf9747cca715c7ed6ddfc27d"
            ],
            "layout": "IPY_MODEL_18419d8c961b40ca9435f5fd4aa1e5c5"
          }
        },
        "56deb616b8054a38b45bc5701cb8e020": {
          "model_module": "@jupyter-widgets/controls",
          "model_module_version": "1.5.0",
          "model_name": "DescriptionStyleModel",
          "state": {
            "_model_module": "@jupyter-widgets/controls",
            "_model_module_version": "1.5.0",
            "_model_name": "DescriptionStyleModel",
            "_view_count": null,
            "_view_module": "@jupyter-widgets/base",
            "_view_module_version": "1.2.0",
            "_view_name": "StyleView",
            "description_width": ""
          }
        },
        "57b81ef2c448406894bcd8ec0c69d78a": {
          "model_module": "@jupyter-widgets/base",
          "model_module_version": "1.2.0",
          "model_name": "LayoutModel",
          "state": {
            "_model_module": "@jupyter-widgets/base",
            "_model_module_version": "1.2.0",
            "_model_name": "LayoutModel",
            "_view_count": null,
            "_view_module": "@jupyter-widgets/base",
            "_view_module_version": "1.2.0",
            "_view_name": "LayoutView",
            "align_content": null,
            "align_items": null,
            "align_self": null,
            "border": null,
            "bottom": null,
            "display": null,
            "flex": null,
            "flex_flow": null,
            "grid_area": null,
            "grid_auto_columns": null,
            "grid_auto_flow": null,
            "grid_auto_rows": null,
            "grid_column": null,
            "grid_gap": null,
            "grid_row": null,
            "grid_template_areas": null,
            "grid_template_columns": null,
            "grid_template_rows": null,
            "height": null,
            "justify_content": null,
            "justify_items": null,
            "left": null,
            "margin": null,
            "max_height": null,
            "max_width": null,
            "min_height": null,
            "min_width": null,
            "object_fit": null,
            "object_position": null,
            "order": null,
            "overflow": null,
            "overflow_x": null,
            "overflow_y": null,
            "padding": null,
            "right": null,
            "top": null,
            "visibility": null,
            "width": null
          }
        },
        "60a2a05c86ba46ca951aa5e8f4fba2cb": {
          "model_module": "@jupyter-widgets/controls",
          "model_module_version": "1.5.0",
          "model_name": "ProgressStyleModel",
          "state": {
            "_model_module": "@jupyter-widgets/controls",
            "_model_module_version": "1.5.0",
            "_model_name": "ProgressStyleModel",
            "_view_count": null,
            "_view_module": "@jupyter-widgets/base",
            "_view_module_version": "1.2.0",
            "_view_name": "StyleView",
            "bar_color": null,
            "description_width": ""
          }
        },
        "850d5ac0f48244889710fa9edee7f8da": {
          "model_module": "@jupyter-widgets/controls",
          "model_module_version": "1.5.0",
          "model_name": "HTMLModel",
          "state": {
            "_dom_classes": [],
            "_model_module": "@jupyter-widgets/controls",
            "_model_module_version": "1.5.0",
            "_model_name": "HTMLModel",
            "_view_count": null,
            "_view_module": "@jupyter-widgets/controls",
            "_view_module_version": "1.5.0",
            "_view_name": "HTMLView",
            "description": "",
            "description_tooltip": null,
            "layout": "IPY_MODEL_e4815842dc8e43e6b2b6b9c02de463e9",
            "placeholder": "​",
            "style": "IPY_MODEL_f6d29dd99a3d471790b8ca0c22d51cc9",
            "value": "  0%"
          }
        },
        "c27febaceb8c4bce966c5f5fe7b31dfd": {
          "model_module": "@jupyter-widgets/base",
          "model_module_version": "1.2.0",
          "model_name": "LayoutModel",
          "state": {
            "_model_module": "@jupyter-widgets/base",
            "_model_module_version": "1.2.0",
            "_model_name": "LayoutModel",
            "_view_count": null,
            "_view_module": "@jupyter-widgets/base",
            "_view_module_version": "1.2.0",
            "_view_name": "LayoutView",
            "align_content": null,
            "align_items": null,
            "align_self": null,
            "border": null,
            "bottom": null,
            "display": null,
            "flex": null,
            "flex_flow": null,
            "grid_area": null,
            "grid_auto_columns": null,
            "grid_auto_flow": null,
            "grid_auto_rows": null,
            "grid_column": null,
            "grid_gap": null,
            "grid_row": null,
            "grid_template_areas": null,
            "grid_template_columns": null,
            "grid_template_rows": null,
            "height": null,
            "justify_content": null,
            "justify_items": null,
            "left": null,
            "margin": null,
            "max_height": null,
            "max_width": null,
            "min_height": null,
            "min_width": null,
            "object_fit": null,
            "object_position": null,
            "order": null,
            "overflow": null,
            "overflow_x": null,
            "overflow_y": null,
            "padding": null,
            "right": null,
            "top": null,
            "visibility": null,
            "width": null
          }
        },
        "c98de37ecf9747cca715c7ed6ddfc27d": {
          "model_module": "@jupyter-widgets/controls",
          "model_module_version": "1.5.0",
          "model_name": "HTMLModel",
          "state": {
            "_dom_classes": [],
            "_model_module": "@jupyter-widgets/controls",
            "_model_module_version": "1.5.0",
            "_model_name": "HTMLModel",
            "_view_count": null,
            "_view_module": "@jupyter-widgets/controls",
            "_view_module_version": "1.5.0",
            "_view_name": "HTMLView",
            "description": "",
            "description_tooltip": null,
            "layout": "IPY_MODEL_57b81ef2c448406894bcd8ec0c69d78a",
            "placeholder": "​",
            "style": "IPY_MODEL_56deb616b8054a38b45bc5701cb8e020",
            "value": " 0/192 [00:00&lt;?, ?it/s]"
          }
        },
        "e4815842dc8e43e6b2b6b9c02de463e9": {
          "model_module": "@jupyter-widgets/base",
          "model_module_version": "1.2.0",
          "model_name": "LayoutModel",
          "state": {
            "_model_module": "@jupyter-widgets/base",
            "_model_module_version": "1.2.0",
            "_model_name": "LayoutModel",
            "_view_count": null,
            "_view_module": "@jupyter-widgets/base",
            "_view_module_version": "1.2.0",
            "_view_name": "LayoutView",
            "align_content": null,
            "align_items": null,
            "align_self": null,
            "border": null,
            "bottom": null,
            "display": null,
            "flex": null,
            "flex_flow": null,
            "grid_area": null,
            "grid_auto_columns": null,
            "grid_auto_flow": null,
            "grid_auto_rows": null,
            "grid_column": null,
            "grid_gap": null,
            "grid_row": null,
            "grid_template_areas": null,
            "grid_template_columns": null,
            "grid_template_rows": null,
            "height": null,
            "justify_content": null,
            "justify_items": null,
            "left": null,
            "margin": null,
            "max_height": null,
            "max_width": null,
            "min_height": null,
            "min_width": null,
            "object_fit": null,
            "object_position": null,
            "order": null,
            "overflow": null,
            "overflow_x": null,
            "overflow_y": null,
            "padding": null,
            "right": null,
            "top": null,
            "visibility": null,
            "width": null
          }
        },
        "f6d29dd99a3d471790b8ca0c22d51cc9": {
          "model_module": "@jupyter-widgets/controls",
          "model_module_version": "1.5.0",
          "model_name": "DescriptionStyleModel",
          "state": {
            "_model_module": "@jupyter-widgets/controls",
            "_model_module_version": "1.5.0",
            "_model_name": "DescriptionStyleModel",
            "_view_count": null,
            "_view_module": "@jupyter-widgets/base",
            "_view_module_version": "1.2.0",
            "_view_name": "StyleView",
            "description_width": ""
          }
        },
        "0dd0e1f7b8c04a0aadc814fb35b569b8": {
          "model_module": "@jupyter-widgets/controls",
          "model_name": "HBoxModel",
          "model_module_version": "1.5.0",
          "state": {
            "_dom_classes": [],
            "_model_module": "@jupyter-widgets/controls",
            "_model_module_version": "1.5.0",
            "_model_name": "HBoxModel",
            "_view_count": null,
            "_view_module": "@jupyter-widgets/controls",
            "_view_module_version": "1.5.0",
            "_view_name": "HBoxView",
            "box_style": "",
            "children": [
              "IPY_MODEL_8b4c73fd08434f0997a139baba5c4561",
              "IPY_MODEL_2460923f4a5d4a438815d1973ba3bf10",
              "IPY_MODEL_daa1acfe989e4201b1456e0756f1bb89"
            ],
            "layout": "IPY_MODEL_ff4569cee5c24796bb024509e46a6957"
          }
        },
        "8b4c73fd08434f0997a139baba5c4561": {
          "model_module": "@jupyter-widgets/controls",
          "model_name": "HTMLModel",
          "model_module_version": "1.5.0",
          "state": {
            "_dom_classes": [],
            "_model_module": "@jupyter-widgets/controls",
            "_model_module_version": "1.5.0",
            "_model_name": "HTMLModel",
            "_view_count": null,
            "_view_module": "@jupyter-widgets/controls",
            "_view_module_version": "1.5.0",
            "_view_name": "HTMLView",
            "description": "",
            "description_tooltip": null,
            "layout": "IPY_MODEL_791bc764b3444caab560e46868fd4313",
            "placeholder": "​",
            "style": "IPY_MODEL_e2abc594263e4e088e0e28299466cbb4",
            "value": "[Loss: 0.1350214034318924]: 100%"
          }
        },
        "2460923f4a5d4a438815d1973ba3bf10": {
          "model_module": "@jupyter-widgets/controls",
          "model_name": "FloatProgressModel",
          "model_module_version": "1.5.0",
          "state": {
            "_dom_classes": [],
            "_model_module": "@jupyter-widgets/controls",
            "_model_module_version": "1.5.0",
            "_model_name": "FloatProgressModel",
            "_view_count": null,
            "_view_module": "@jupyter-widgets/controls",
            "_view_module_version": "1.5.0",
            "_view_name": "ProgressView",
            "bar_style": "success",
            "description": "",
            "description_tooltip": null,
            "layout": "IPY_MODEL_0489500010b04c3fbcb86353fad75098",
            "max": 8500,
            "min": 0,
            "orientation": "horizontal",
            "style": "IPY_MODEL_f7e3bdec086d4add8ada8d59b9590608",
            "value": 8500
          }
        },
        "daa1acfe989e4201b1456e0756f1bb89": {
          "model_module": "@jupyter-widgets/controls",
          "model_name": "HTMLModel",
          "model_module_version": "1.5.0",
          "state": {
            "_dom_classes": [],
            "_model_module": "@jupyter-widgets/controls",
            "_model_module_version": "1.5.0",
            "_model_name": "HTMLModel",
            "_view_count": null,
            "_view_module": "@jupyter-widgets/controls",
            "_view_module_version": "1.5.0",
            "_view_name": "HTMLView",
            "description": "",
            "description_tooltip": null,
            "layout": "IPY_MODEL_ccaddbac559646e586f536d16c674959",
            "placeholder": "​",
            "style": "IPY_MODEL_f66faa98f3704eefae2d15ad49c4f659",
            "value": " 8500/8500 [30:23&lt;00:00,  2.76it/s]"
          }
        },
        "ff4569cee5c24796bb024509e46a6957": {
          "model_module": "@jupyter-widgets/base",
          "model_name": "LayoutModel",
          "model_module_version": "1.2.0",
          "state": {
            "_model_module": "@jupyter-widgets/base",
            "_model_module_version": "1.2.0",
            "_model_name": "LayoutModel",
            "_view_count": null,
            "_view_module": "@jupyter-widgets/base",
            "_view_module_version": "1.2.0",
            "_view_name": "LayoutView",
            "align_content": null,
            "align_items": null,
            "align_self": null,
            "border": null,
            "bottom": null,
            "display": null,
            "flex": null,
            "flex_flow": null,
            "grid_area": null,
            "grid_auto_columns": null,
            "grid_auto_flow": null,
            "grid_auto_rows": null,
            "grid_column": null,
            "grid_gap": null,
            "grid_row": null,
            "grid_template_areas": null,
            "grid_template_columns": null,
            "grid_template_rows": null,
            "height": null,
            "justify_content": null,
            "justify_items": null,
            "left": null,
            "margin": null,
            "max_height": null,
            "max_width": null,
            "min_height": null,
            "min_width": null,
            "object_fit": null,
            "object_position": null,
            "order": null,
            "overflow": null,
            "overflow_x": null,
            "overflow_y": null,
            "padding": null,
            "right": null,
            "top": null,
            "visibility": null,
            "width": null
          }
        },
        "791bc764b3444caab560e46868fd4313": {
          "model_module": "@jupyter-widgets/base",
          "model_name": "LayoutModel",
          "model_module_version": "1.2.0",
          "state": {
            "_model_module": "@jupyter-widgets/base",
            "_model_module_version": "1.2.0",
            "_model_name": "LayoutModel",
            "_view_count": null,
            "_view_module": "@jupyter-widgets/base",
            "_view_module_version": "1.2.0",
            "_view_name": "LayoutView",
            "align_content": null,
            "align_items": null,
            "align_self": null,
            "border": null,
            "bottom": null,
            "display": null,
            "flex": null,
            "flex_flow": null,
            "grid_area": null,
            "grid_auto_columns": null,
            "grid_auto_flow": null,
            "grid_auto_rows": null,
            "grid_column": null,
            "grid_gap": null,
            "grid_row": null,
            "grid_template_areas": null,
            "grid_template_columns": null,
            "grid_template_rows": null,
            "height": null,
            "justify_content": null,
            "justify_items": null,
            "left": null,
            "margin": null,
            "max_height": null,
            "max_width": null,
            "min_height": null,
            "min_width": null,
            "object_fit": null,
            "object_position": null,
            "order": null,
            "overflow": null,
            "overflow_x": null,
            "overflow_y": null,
            "padding": null,
            "right": null,
            "top": null,
            "visibility": null,
            "width": null
          }
        },
        "e2abc594263e4e088e0e28299466cbb4": {
          "model_module": "@jupyter-widgets/controls",
          "model_name": "DescriptionStyleModel",
          "model_module_version": "1.5.0",
          "state": {
            "_model_module": "@jupyter-widgets/controls",
            "_model_module_version": "1.5.0",
            "_model_name": "DescriptionStyleModel",
            "_view_count": null,
            "_view_module": "@jupyter-widgets/base",
            "_view_module_version": "1.2.0",
            "_view_name": "StyleView",
            "description_width": ""
          }
        },
        "0489500010b04c3fbcb86353fad75098": {
          "model_module": "@jupyter-widgets/base",
          "model_name": "LayoutModel",
          "model_module_version": "1.2.0",
          "state": {
            "_model_module": "@jupyter-widgets/base",
            "_model_module_version": "1.2.0",
            "_model_name": "LayoutModel",
            "_view_count": null,
            "_view_module": "@jupyter-widgets/base",
            "_view_module_version": "1.2.0",
            "_view_name": "LayoutView",
            "align_content": null,
            "align_items": null,
            "align_self": null,
            "border": null,
            "bottom": null,
            "display": null,
            "flex": null,
            "flex_flow": null,
            "grid_area": null,
            "grid_auto_columns": null,
            "grid_auto_flow": null,
            "grid_auto_rows": null,
            "grid_column": null,
            "grid_gap": null,
            "grid_row": null,
            "grid_template_areas": null,
            "grid_template_columns": null,
            "grid_template_rows": null,
            "height": null,
            "justify_content": null,
            "justify_items": null,
            "left": null,
            "margin": null,
            "max_height": null,
            "max_width": null,
            "min_height": null,
            "min_width": null,
            "object_fit": null,
            "object_position": null,
            "order": null,
            "overflow": null,
            "overflow_x": null,
            "overflow_y": null,
            "padding": null,
            "right": null,
            "top": null,
            "visibility": null,
            "width": null
          }
        },
        "f7e3bdec086d4add8ada8d59b9590608": {
          "model_module": "@jupyter-widgets/controls",
          "model_name": "ProgressStyleModel",
          "model_module_version": "1.5.0",
          "state": {
            "_model_module": "@jupyter-widgets/controls",
            "_model_module_version": "1.5.0",
            "_model_name": "ProgressStyleModel",
            "_view_count": null,
            "_view_module": "@jupyter-widgets/base",
            "_view_module_version": "1.2.0",
            "_view_name": "StyleView",
            "bar_color": null,
            "description_width": ""
          }
        },
        "ccaddbac559646e586f536d16c674959": {
          "model_module": "@jupyter-widgets/base",
          "model_name": "LayoutModel",
          "model_module_version": "1.2.0",
          "state": {
            "_model_module": "@jupyter-widgets/base",
            "_model_module_version": "1.2.0",
            "_model_name": "LayoutModel",
            "_view_count": null,
            "_view_module": "@jupyter-widgets/base",
            "_view_module_version": "1.2.0",
            "_view_name": "LayoutView",
            "align_content": null,
            "align_items": null,
            "align_self": null,
            "border": null,
            "bottom": null,
            "display": null,
            "flex": null,
            "flex_flow": null,
            "grid_area": null,
            "grid_auto_columns": null,
            "grid_auto_flow": null,
            "grid_auto_rows": null,
            "grid_column": null,
            "grid_gap": null,
            "grid_row": null,
            "grid_template_areas": null,
            "grid_template_columns": null,
            "grid_template_rows": null,
            "height": null,
            "justify_content": null,
            "justify_items": null,
            "left": null,
            "margin": null,
            "max_height": null,
            "max_width": null,
            "min_height": null,
            "min_width": null,
            "object_fit": null,
            "object_position": null,
            "order": null,
            "overflow": null,
            "overflow_x": null,
            "overflow_y": null,
            "padding": null,
            "right": null,
            "top": null,
            "visibility": null,
            "width": null
          }
        },
        "f66faa98f3704eefae2d15ad49c4f659": {
          "model_module": "@jupyter-widgets/controls",
          "model_name": "DescriptionStyleModel",
          "model_module_version": "1.5.0",
          "state": {
            "_model_module": "@jupyter-widgets/controls",
            "_model_module_version": "1.5.0",
            "_model_name": "DescriptionStyleModel",
            "_view_count": null,
            "_view_module": "@jupyter-widgets/base",
            "_view_module_version": "1.2.0",
            "_view_name": "StyleView",
            "description_width": ""
          }
        },
        "ee97244af2994b0eb73a76ad220205e5": {
          "model_module": "@jupyter-widgets/controls",
          "model_name": "HBoxModel",
          "model_module_version": "1.5.0",
          "state": {
            "_dom_classes": [],
            "_model_module": "@jupyter-widgets/controls",
            "_model_module_version": "1.5.0",
            "_model_name": "HBoxModel",
            "_view_count": null,
            "_view_module": "@jupyter-widgets/controls",
            "_view_module_version": "1.5.0",
            "_view_name": "HBoxView",
            "box_style": "",
            "children": [
              "IPY_MODEL_009aae4d5d494d34b1d1f2914d418ce3",
              "IPY_MODEL_615545fe21e843d6837e0d8483d87149",
              "IPY_MODEL_d2bf63ae16bf44359f925ed77e1247b0"
            ],
            "layout": "IPY_MODEL_dc0819edf3504122a47489dd2526e4aa"
          }
        },
        "009aae4d5d494d34b1d1f2914d418ce3": {
          "model_module": "@jupyter-widgets/controls",
          "model_name": "HTMLModel",
          "model_module_version": "1.5.0",
          "state": {
            "_dom_classes": [],
            "_model_module": "@jupyter-widgets/controls",
            "_model_module_version": "1.5.0",
            "_model_name": "HTMLModel",
            "_view_count": null,
            "_view_module": "@jupyter-widgets/controls",
            "_view_module_version": "1.5.0",
            "_view_name": "HTMLView",
            "description": "",
            "description_tooltip": null,
            "layout": "IPY_MODEL_b77fe7972a3343d18e46832923efdc4a",
            "placeholder": "​",
            "style": "IPY_MODEL_9909871f421e47e195e66f0508eb3ded",
            "value": "100%"
          }
        },
        "615545fe21e843d6837e0d8483d87149": {
          "model_module": "@jupyter-widgets/controls",
          "model_name": "FloatProgressModel",
          "model_module_version": "1.5.0",
          "state": {
            "_dom_classes": [],
            "_model_module": "@jupyter-widgets/controls",
            "_model_module_version": "1.5.0",
            "_model_name": "FloatProgressModel",
            "_view_count": null,
            "_view_module": "@jupyter-widgets/controls",
            "_view_module_version": "1.5.0",
            "_view_name": "ProgressView",
            "bar_style": "success",
            "description": "",
            "description_tooltip": null,
            "layout": "IPY_MODEL_1af4de8d6c1b4cdfbaddebecb4bdb9e7",
            "max": 400,
            "min": 0,
            "orientation": "horizontal",
            "style": "IPY_MODEL_5d68d748e3b04a15a184b215e3b5b78b",
            "value": 400
          }
        },
        "d2bf63ae16bf44359f925ed77e1247b0": {
          "model_module": "@jupyter-widgets/controls",
          "model_name": "HTMLModel",
          "model_module_version": "1.5.0",
          "state": {
            "_dom_classes": [],
            "_model_module": "@jupyter-widgets/controls",
            "_model_module_version": "1.5.0",
            "_model_name": "HTMLModel",
            "_view_count": null,
            "_view_module": "@jupyter-widgets/controls",
            "_view_module_version": "1.5.0",
            "_view_name": "HTMLView",
            "description": "",
            "description_tooltip": null,
            "layout": "IPY_MODEL_46fe89bf561f497bb511d21c173503ad",
            "placeholder": "​",
            "style": "IPY_MODEL_55562f81caca43c18f044adbcbbde160",
            "value": " 400/400 [01:22&lt;00:00,  3.74it/s]"
          }
        },
        "dc0819edf3504122a47489dd2526e4aa": {
          "model_module": "@jupyter-widgets/base",
          "model_name": "LayoutModel",
          "model_module_version": "1.2.0",
          "state": {
            "_model_module": "@jupyter-widgets/base",
            "_model_module_version": "1.2.0",
            "_model_name": "LayoutModel",
            "_view_count": null,
            "_view_module": "@jupyter-widgets/base",
            "_view_module_version": "1.2.0",
            "_view_name": "LayoutView",
            "align_content": null,
            "align_items": null,
            "align_self": null,
            "border": null,
            "bottom": null,
            "display": null,
            "flex": null,
            "flex_flow": null,
            "grid_area": null,
            "grid_auto_columns": null,
            "grid_auto_flow": null,
            "grid_auto_rows": null,
            "grid_column": null,
            "grid_gap": null,
            "grid_row": null,
            "grid_template_areas": null,
            "grid_template_columns": null,
            "grid_template_rows": null,
            "height": null,
            "justify_content": null,
            "justify_items": null,
            "left": null,
            "margin": null,
            "max_height": null,
            "max_width": null,
            "min_height": null,
            "min_width": null,
            "object_fit": null,
            "object_position": null,
            "order": null,
            "overflow": null,
            "overflow_x": null,
            "overflow_y": null,
            "padding": null,
            "right": null,
            "top": null,
            "visibility": null,
            "width": null
          }
        },
        "b77fe7972a3343d18e46832923efdc4a": {
          "model_module": "@jupyter-widgets/base",
          "model_name": "LayoutModel",
          "model_module_version": "1.2.0",
          "state": {
            "_model_module": "@jupyter-widgets/base",
            "_model_module_version": "1.2.0",
            "_model_name": "LayoutModel",
            "_view_count": null,
            "_view_module": "@jupyter-widgets/base",
            "_view_module_version": "1.2.0",
            "_view_name": "LayoutView",
            "align_content": null,
            "align_items": null,
            "align_self": null,
            "border": null,
            "bottom": null,
            "display": null,
            "flex": null,
            "flex_flow": null,
            "grid_area": null,
            "grid_auto_columns": null,
            "grid_auto_flow": null,
            "grid_auto_rows": null,
            "grid_column": null,
            "grid_gap": null,
            "grid_row": null,
            "grid_template_areas": null,
            "grid_template_columns": null,
            "grid_template_rows": null,
            "height": null,
            "justify_content": null,
            "justify_items": null,
            "left": null,
            "margin": null,
            "max_height": null,
            "max_width": null,
            "min_height": null,
            "min_width": null,
            "object_fit": null,
            "object_position": null,
            "order": null,
            "overflow": null,
            "overflow_x": null,
            "overflow_y": null,
            "padding": null,
            "right": null,
            "top": null,
            "visibility": null,
            "width": null
          }
        },
        "9909871f421e47e195e66f0508eb3ded": {
          "model_module": "@jupyter-widgets/controls",
          "model_name": "DescriptionStyleModel",
          "model_module_version": "1.5.0",
          "state": {
            "_model_module": "@jupyter-widgets/controls",
            "_model_module_version": "1.5.0",
            "_model_name": "DescriptionStyleModel",
            "_view_count": null,
            "_view_module": "@jupyter-widgets/base",
            "_view_module_version": "1.2.0",
            "_view_name": "StyleView",
            "description_width": ""
          }
        },
        "1af4de8d6c1b4cdfbaddebecb4bdb9e7": {
          "model_module": "@jupyter-widgets/base",
          "model_name": "LayoutModel",
          "model_module_version": "1.2.0",
          "state": {
            "_model_module": "@jupyter-widgets/base",
            "_model_module_version": "1.2.0",
            "_model_name": "LayoutModel",
            "_view_count": null,
            "_view_module": "@jupyter-widgets/base",
            "_view_module_version": "1.2.0",
            "_view_name": "LayoutView",
            "align_content": null,
            "align_items": null,
            "align_self": null,
            "border": null,
            "bottom": null,
            "display": null,
            "flex": null,
            "flex_flow": null,
            "grid_area": null,
            "grid_auto_columns": null,
            "grid_auto_flow": null,
            "grid_auto_rows": null,
            "grid_column": null,
            "grid_gap": null,
            "grid_row": null,
            "grid_template_areas": null,
            "grid_template_columns": null,
            "grid_template_rows": null,
            "height": null,
            "justify_content": null,
            "justify_items": null,
            "left": null,
            "margin": null,
            "max_height": null,
            "max_width": null,
            "min_height": null,
            "min_width": null,
            "object_fit": null,
            "object_position": null,
            "order": null,
            "overflow": null,
            "overflow_x": null,
            "overflow_y": null,
            "padding": null,
            "right": null,
            "top": null,
            "visibility": null,
            "width": null
          }
        },
        "5d68d748e3b04a15a184b215e3b5b78b": {
          "model_module": "@jupyter-widgets/controls",
          "model_name": "ProgressStyleModel",
          "model_module_version": "1.5.0",
          "state": {
            "_model_module": "@jupyter-widgets/controls",
            "_model_module_version": "1.5.0",
            "_model_name": "ProgressStyleModel",
            "_view_count": null,
            "_view_module": "@jupyter-widgets/base",
            "_view_module_version": "1.2.0",
            "_view_name": "StyleView",
            "bar_color": null,
            "description_width": ""
          }
        },
        "46fe89bf561f497bb511d21c173503ad": {
          "model_module": "@jupyter-widgets/base",
          "model_name": "LayoutModel",
          "model_module_version": "1.2.0",
          "state": {
            "_model_module": "@jupyter-widgets/base",
            "_model_module_version": "1.2.0",
            "_model_name": "LayoutModel",
            "_view_count": null,
            "_view_module": "@jupyter-widgets/base",
            "_view_module_version": "1.2.0",
            "_view_name": "LayoutView",
            "align_content": null,
            "align_items": null,
            "align_self": null,
            "border": null,
            "bottom": null,
            "display": null,
            "flex": null,
            "flex_flow": null,
            "grid_area": null,
            "grid_auto_columns": null,
            "grid_auto_flow": null,
            "grid_auto_rows": null,
            "grid_column": null,
            "grid_gap": null,
            "grid_row": null,
            "grid_template_areas": null,
            "grid_template_columns": null,
            "grid_template_rows": null,
            "height": null,
            "justify_content": null,
            "justify_items": null,
            "left": null,
            "margin": null,
            "max_height": null,
            "max_width": null,
            "min_height": null,
            "min_width": null,
            "object_fit": null,
            "object_position": null,
            "order": null,
            "overflow": null,
            "overflow_x": null,
            "overflow_y": null,
            "padding": null,
            "right": null,
            "top": null,
            "visibility": null,
            "width": null
          }
        },
        "55562f81caca43c18f044adbcbbde160": {
          "model_module": "@jupyter-widgets/controls",
          "model_name": "DescriptionStyleModel",
          "model_module_version": "1.5.0",
          "state": {
            "_model_module": "@jupyter-widgets/controls",
            "_model_module_version": "1.5.0",
            "_model_name": "DescriptionStyleModel",
            "_view_count": null,
            "_view_module": "@jupyter-widgets/base",
            "_view_module_version": "1.2.0",
            "_view_name": "StyleView",
            "description_width": ""
          }
        },
        "c2f90600743a40b7909fc0ae9d925652": {
          "model_module": "@jupyter-widgets/controls",
          "model_name": "HBoxModel",
          "model_module_version": "1.5.0",
          "state": {
            "_dom_classes": [],
            "_model_module": "@jupyter-widgets/controls",
            "_model_module_version": "1.5.0",
            "_model_name": "HBoxModel",
            "_view_count": null,
            "_view_module": "@jupyter-widgets/controls",
            "_view_module_version": "1.5.0",
            "_view_name": "HBoxView",
            "box_style": "",
            "children": [
              "IPY_MODEL_8cabccd46e1743fcbdea010b69b520a2",
              "IPY_MODEL_111abb9ac4824752a3defed64709dc60",
              "IPY_MODEL_add6840589f641dc90d074d8e68d54b2"
            ],
            "layout": "IPY_MODEL_ecd94a9c0d4a4a0eb290f6092bbb783e"
          }
        },
        "8cabccd46e1743fcbdea010b69b520a2": {
          "model_module": "@jupyter-widgets/controls",
          "model_name": "HTMLModel",
          "model_module_version": "1.5.0",
          "state": {
            "_dom_classes": [],
            "_model_module": "@jupyter-widgets/controls",
            "_model_module_version": "1.5.0",
            "_model_name": "HTMLModel",
            "_view_count": null,
            "_view_module": "@jupyter-widgets/controls",
            "_view_module_version": "1.5.0",
            "_view_name": "HTMLView",
            "description": "",
            "description_tooltip": null,
            "layout": "IPY_MODEL_62041ce2f3584a73af253db854c70c7c",
            "placeholder": "​",
            "style": "IPY_MODEL_d347653a41464f8585dde455820aeba3",
            "value": "100%"
          }
        },
        "111abb9ac4824752a3defed64709dc60": {
          "model_module": "@jupyter-widgets/controls",
          "model_name": "FloatProgressModel",
          "model_module_version": "1.5.0",
          "state": {
            "_dom_classes": [],
            "_model_module": "@jupyter-widgets/controls",
            "_model_module_version": "1.5.0",
            "_model_name": "FloatProgressModel",
            "_view_count": null,
            "_view_module": "@jupyter-widgets/controls",
            "_view_module_version": "1.5.0",
            "_view_name": "ProgressView",
            "bar_style": "success",
            "description": "",
            "description_tooltip": null,
            "layout": "IPY_MODEL_0a1635528c904c52880297eeb9952fab",
            "max": 8500,
            "min": 0,
            "orientation": "horizontal",
            "style": "IPY_MODEL_2cd905096e6444f9b3f806b748a64013",
            "value": 8500
          }
        },
        "add6840589f641dc90d074d8e68d54b2": {
          "model_module": "@jupyter-widgets/controls",
          "model_name": "HTMLModel",
          "model_module_version": "1.5.0",
          "state": {
            "_dom_classes": [],
            "_model_module": "@jupyter-widgets/controls",
            "_model_module_version": "1.5.0",
            "_model_name": "HTMLModel",
            "_view_count": null,
            "_view_module": "@jupyter-widgets/controls",
            "_view_module_version": "1.5.0",
            "_view_name": "HTMLView",
            "description": "",
            "description_tooltip": null,
            "layout": "IPY_MODEL_18ef14e1535c47b28a9ef43a70a076f0",
            "placeholder": "​",
            "style": "IPY_MODEL_cff3a770da02452cb90d0496201e60ba",
            "value": " 8500/8500 [28:38&lt;00:00,  1.43it/s]"
          }
        },
        "ecd94a9c0d4a4a0eb290f6092bbb783e": {
          "model_module": "@jupyter-widgets/base",
          "model_name": "LayoutModel",
          "model_module_version": "1.2.0",
          "state": {
            "_model_module": "@jupyter-widgets/base",
            "_model_module_version": "1.2.0",
            "_model_name": "LayoutModel",
            "_view_count": null,
            "_view_module": "@jupyter-widgets/base",
            "_view_module_version": "1.2.0",
            "_view_name": "LayoutView",
            "align_content": null,
            "align_items": null,
            "align_self": null,
            "border": null,
            "bottom": null,
            "display": null,
            "flex": null,
            "flex_flow": null,
            "grid_area": null,
            "grid_auto_columns": null,
            "grid_auto_flow": null,
            "grid_auto_rows": null,
            "grid_column": null,
            "grid_gap": null,
            "grid_row": null,
            "grid_template_areas": null,
            "grid_template_columns": null,
            "grid_template_rows": null,
            "height": null,
            "justify_content": null,
            "justify_items": null,
            "left": null,
            "margin": null,
            "max_height": null,
            "max_width": null,
            "min_height": null,
            "min_width": null,
            "object_fit": null,
            "object_position": null,
            "order": null,
            "overflow": null,
            "overflow_x": null,
            "overflow_y": null,
            "padding": null,
            "right": null,
            "top": null,
            "visibility": null,
            "width": null
          }
        },
        "62041ce2f3584a73af253db854c70c7c": {
          "model_module": "@jupyter-widgets/base",
          "model_name": "LayoutModel",
          "model_module_version": "1.2.0",
          "state": {
            "_model_module": "@jupyter-widgets/base",
            "_model_module_version": "1.2.0",
            "_model_name": "LayoutModel",
            "_view_count": null,
            "_view_module": "@jupyter-widgets/base",
            "_view_module_version": "1.2.0",
            "_view_name": "LayoutView",
            "align_content": null,
            "align_items": null,
            "align_self": null,
            "border": null,
            "bottom": null,
            "display": null,
            "flex": null,
            "flex_flow": null,
            "grid_area": null,
            "grid_auto_columns": null,
            "grid_auto_flow": null,
            "grid_auto_rows": null,
            "grid_column": null,
            "grid_gap": null,
            "grid_row": null,
            "grid_template_areas": null,
            "grid_template_columns": null,
            "grid_template_rows": null,
            "height": null,
            "justify_content": null,
            "justify_items": null,
            "left": null,
            "margin": null,
            "max_height": null,
            "max_width": null,
            "min_height": null,
            "min_width": null,
            "object_fit": null,
            "object_position": null,
            "order": null,
            "overflow": null,
            "overflow_x": null,
            "overflow_y": null,
            "padding": null,
            "right": null,
            "top": null,
            "visibility": null,
            "width": null
          }
        },
        "d347653a41464f8585dde455820aeba3": {
          "model_module": "@jupyter-widgets/controls",
          "model_name": "DescriptionStyleModel",
          "model_module_version": "1.5.0",
          "state": {
            "_model_module": "@jupyter-widgets/controls",
            "_model_module_version": "1.5.0",
            "_model_name": "DescriptionStyleModel",
            "_view_count": null,
            "_view_module": "@jupyter-widgets/base",
            "_view_module_version": "1.2.0",
            "_view_name": "StyleView",
            "description_width": ""
          }
        },
        "0a1635528c904c52880297eeb9952fab": {
          "model_module": "@jupyter-widgets/base",
          "model_name": "LayoutModel",
          "model_module_version": "1.2.0",
          "state": {
            "_model_module": "@jupyter-widgets/base",
            "_model_module_version": "1.2.0",
            "_model_name": "LayoutModel",
            "_view_count": null,
            "_view_module": "@jupyter-widgets/base",
            "_view_module_version": "1.2.0",
            "_view_name": "LayoutView",
            "align_content": null,
            "align_items": null,
            "align_self": null,
            "border": null,
            "bottom": null,
            "display": null,
            "flex": null,
            "flex_flow": null,
            "grid_area": null,
            "grid_auto_columns": null,
            "grid_auto_flow": null,
            "grid_auto_rows": null,
            "grid_column": null,
            "grid_gap": null,
            "grid_row": null,
            "grid_template_areas": null,
            "grid_template_columns": null,
            "grid_template_rows": null,
            "height": null,
            "justify_content": null,
            "justify_items": null,
            "left": null,
            "margin": null,
            "max_height": null,
            "max_width": null,
            "min_height": null,
            "min_width": null,
            "object_fit": null,
            "object_position": null,
            "order": null,
            "overflow": null,
            "overflow_x": null,
            "overflow_y": null,
            "padding": null,
            "right": null,
            "top": null,
            "visibility": null,
            "width": null
          }
        },
        "2cd905096e6444f9b3f806b748a64013": {
          "model_module": "@jupyter-widgets/controls",
          "model_name": "ProgressStyleModel",
          "model_module_version": "1.5.0",
          "state": {
            "_model_module": "@jupyter-widgets/controls",
            "_model_module_version": "1.5.0",
            "_model_name": "ProgressStyleModel",
            "_view_count": null,
            "_view_module": "@jupyter-widgets/base",
            "_view_module_version": "1.2.0",
            "_view_name": "StyleView",
            "bar_color": null,
            "description_width": ""
          }
        },
        "18ef14e1535c47b28a9ef43a70a076f0": {
          "model_module": "@jupyter-widgets/base",
          "model_name": "LayoutModel",
          "model_module_version": "1.2.0",
          "state": {
            "_model_module": "@jupyter-widgets/base",
            "_model_module_version": "1.2.0",
            "_model_name": "LayoutModel",
            "_view_count": null,
            "_view_module": "@jupyter-widgets/base",
            "_view_module_version": "1.2.0",
            "_view_name": "LayoutView",
            "align_content": null,
            "align_items": null,
            "align_self": null,
            "border": null,
            "bottom": null,
            "display": null,
            "flex": null,
            "flex_flow": null,
            "grid_area": null,
            "grid_auto_columns": null,
            "grid_auto_flow": null,
            "grid_auto_rows": null,
            "grid_column": null,
            "grid_gap": null,
            "grid_row": null,
            "grid_template_areas": null,
            "grid_template_columns": null,
            "grid_template_rows": null,
            "height": null,
            "justify_content": null,
            "justify_items": null,
            "left": null,
            "margin": null,
            "max_height": null,
            "max_width": null,
            "min_height": null,
            "min_width": null,
            "object_fit": null,
            "object_position": null,
            "order": null,
            "overflow": null,
            "overflow_x": null,
            "overflow_y": null,
            "padding": null,
            "right": null,
            "top": null,
            "visibility": null,
            "width": null
          }
        },
        "cff3a770da02452cb90d0496201e60ba": {
          "model_module": "@jupyter-widgets/controls",
          "model_name": "DescriptionStyleModel",
          "model_module_version": "1.5.0",
          "state": {
            "_model_module": "@jupyter-widgets/controls",
            "_model_module_version": "1.5.0",
            "_model_name": "DescriptionStyleModel",
            "_view_count": null,
            "_view_module": "@jupyter-widgets/base",
            "_view_module_version": "1.2.0",
            "_view_name": "StyleView",
            "description_width": ""
          }
        }
      }
    }
  },
  "nbformat": 4,
  "nbformat_minor": 0
}