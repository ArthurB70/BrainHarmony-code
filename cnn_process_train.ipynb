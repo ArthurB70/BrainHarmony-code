{
  "nbformat": 4,
  "nbformat_minor": 0,
  "metadata": {
    "colab": {
      "provenance": []
    },
    "kernelspec": {
      "name": "python3",
      "display_name": "Python 3"
    },
    "language_info": {
      "name": "python"
    }
  },
  "cells": [
    {
      "cell_type": "code",
      "source": [
        "#import tensorflow as tf\n",
        "#!pip install tensorflow==2.9.1\n",
        "import tensorflow as tf\n",
        "print(tf.__version__)"
      ],
      "metadata": {
        "colab": {
          "base_uri": "https://localhost:8080/"
        },
        "id": "Nzt6RPKOAIyo",
        "outputId": "aaf78043-72e1-49eb-883f-2e8854a500c7"
      },
      "execution_count": 1,
      "outputs": [
        {
          "output_type": "stream",
          "name": "stdout",
          "text": [
            "2.9.1\n"
          ]
        }
      ]
    },
    {
      "cell_type": "code",
      "execution_count": 2,
      "metadata": {
        "colab": {
          "base_uri": "https://localhost:8080/"
        },
        "id": "Wlar8yXLjXDc",
        "outputId": "b0895a1e-5472-449b-b4b1-c58539f3aa64"
      },
      "outputs": [
        {
          "output_type": "stream",
          "name": "stdout",
          "text": [
            "2.9.1\n",
            "2.9.1\n",
            "Mounted at /content/drive\n"
          ]
        }
      ],
      "source": [
        "print(tf.__version__)\n",
        "import pandas as pd\n",
        "import matplotlib.pyplot as plt\n",
        "from scipy import signal\n",
        "#import pywt\n",
        "import numpy as np\n",
        "#import imageio\n",
        "import tensorflow as tf\n",
        "#import cv2\n",
        "#import time\n",
        "from tensorflow.keras import datasets, layers, models\n",
        "import matplotlib.pyplot as plt\n",
        "from tensorflow.keras.metrics import Precision, Recall, BinaryAccuracy\n",
        "from tensorflow.keras.models import Model, load_model\n",
        "from sklearn.metrics import classification_report\n",
        "import os\n",
        "#from scipy import signal\n",
        "#from sklearn import preprocessing\n",
        "print(tf.__version__)\n",
        "from google.colab import drive\n",
        "drive.mount('/content/drive')"
      ]
    },
    {
      "cell_type": "code",
      "source": [
        "train_data = pd.read_csv('/content/drive/MyDrive/TCC-Physionet/dadosPhysionetTrainBalanceado.csv', delimiter=\";\")\n",
        "test_data = pd.read_csv('/content/drive/MyDrive/TCC-Physionet/dadosPhysionetTestBalanceado.csv', delimiter=\";\")\n",
        "val_data = pd.read_csv('/content/drive/MyDrive/TCC-Physionet/dadosPhysionetValBalanceado.csv', delimiter=\";\")\n"
      ],
      "metadata": {
        "id": "vs3-ssJtjix8"
      },
      "execution_count": 21,
      "outputs": []
    },
    {
      "cell_type": "code",
      "source": [
        "labels = {'0': 'rest', '1': 'left', '2': 'right'}\n",
        "selected_eletrodes = ['F3', 'F4', 'F5', 'F6', 'FC5', 'FC3',\n",
        "             'FC4', 'FC6', 'C5', 'C3', 'C4', 'C6'\n",
        "             ]"
      ],
      "metadata": {
        "id": "4fxXUF0Vms75"
      },
      "execution_count": 22,
      "outputs": []
    },
    {
      "cell_type": "code",
      "source": [
        "def assemble_data(data, selected_eletrodes, std_el, mean_el):\n",
        "\n",
        "  labels = []\n",
        "  signals = []\n",
        "  pacients = data[\"paciente\"].unique()\n",
        "  len_selected_eletrodes = len(selected_eletrodes)\n",
        "\n",
        "  for pacient in pacients:\n",
        "      measures = data.loc[data['paciente'] == pacient]['medicao'].unique()\n",
        "      for measure in measures:\n",
        "          label = data.loc[(data['paciente'] == pacient) & (data['medicao'] == measure)]['label'].unique()[0]\n",
        "          signal_list = []\n",
        "          img = np.zeros([len_selected_eletrodes,640])\n",
        "          for idx, eletrode in enumerate(selected_eletrodes):\n",
        "              sign = data.loc[(data['paciente'] == pacient) & (data['medicao'] == measure) & (data['eletrodo'] == eletrode)].iloc[:,4:].to_numpy().reshape(640)\n",
        "              sign -= mean_el[idx]\n",
        "              sign /= std_el[idx] + 1e-7\n",
        "              img[idx] = sign\n",
        "          signals.append(img)\n",
        "          labels.append(label-1)\n",
        "          '''if label == 1 :\n",
        "            labels.append([1,0,0])\n",
        "          elif label == 2:\n",
        "            labels.append([0,1,0])\n",
        "          else:\n",
        "            labels.append([0,0,1])'''\n",
        "\n",
        "  return labels, signals\n"
      ],
      "metadata": {
        "id": "7z_NC9cImEMO"
      },
      "execution_count": 23,
      "outputs": []
    },
    {
      "cell_type": "code",
      "source": [
        "def metrics(data, selected_eletrodes):\n",
        "  std = []\n",
        "  mean = []\n",
        "  for eletrode in selected_eletrodes:\n",
        "    eletrodoStd = pd.Series(data.loc[data[\"eletrodo\"] == eletrode, \"leitura0\":\"leitura639\"].values.ravel('F')).std()\n",
        "    eletrodoMean = pd.Series(data.loc[data[\"eletrodo\"] == eletrode, \"leitura0\":\"leitura639\"].values.ravel('F')).mean()\n",
        "    std.append(eletrodoStd)\n",
        "    mean.append(eletrodoMean)\n",
        "\n",
        "  return std, mean"
      ],
      "metadata": {
        "id": "5ZW-U7eygZvS"
      },
      "execution_count": 24,
      "outputs": []
    },
    {
      "cell_type": "code",
      "source": [
        "class PhysionetDataset:\n",
        "  def __init__(self, data, selected_eletrodes, batch_size):\n",
        "    self.std, self.mean = metrics(data, selected_eletrodes)\n",
        "    label, signal = assemble_data(data, selected_eletrodes, self.std, self.mean)\n",
        "    img_generator = tf.keras.preprocessing.image.ImageDataGenerator()\n",
        "\n",
        "    self.features = img_generator.flow(\n",
        "        x=np.array(signal).reshape(len(signal), len(selected_eletrodes), 640, 1),\n",
        "        y=np.array(label).reshape(len(label),1),\n",
        "        batch_size=batch_size)\n",
        "\n"
      ],
      "metadata": {
        "id": "gmanROLbkXgg"
      },
      "execution_count": 25,
      "outputs": []
    },
    {
      "cell_type": "code",
      "source": [
        "batch = 64\n",
        "\n",
        "\n",
        "train_dataset = PhysionetDataset(train_data, selected_eletrodes, batch)\n",
        "val_dataset = PhysionetDataset(val_data, selected_eletrodes, batch)\n",
        "#test_dataset = PhysionetDataset(test_data, selected_eletrodes, batch)"
      ],
      "metadata": {
        "id": "dGZAACBhnXFd"
      },
      "execution_count": 33,
      "outputs": []
    },
    {
      "cell_type": "code",
      "source": [
        "inp = layers.Input(shape=(12, 640, 1))\n",
        "x = layers.Conv2D(64, (4,4), activation='relu')(inp)\n",
        "x = layers.MaxPool2D((2,2))(x)\n",
        "x = layers.BatchNormalization()(x)\n",
        "x = layers.TimeDistributed(layers.LSTM(256, return_sequences=True))(x)\n",
        "x = layers.TimeDistributed(layers.LSTM(128, return_sequences=True))(x)\n",
        "x = layers.TimeDistributed(layers.LSTM(64, return_sequences=True))(x)\n",
        "x = layers.Flatten()(x)\n",
        "x = layers.Dense(3, activation='softmax')(x)\n",
        "\n",
        "model = Model(inp, x)"
      ],
      "metadata": {
        "id": "j1sUaKwGH5yQ"
      },
      "execution_count": 19,
      "outputs": []
    },
    {
      "cell_type": "code",
      "source": [
        "model.summary()"
      ],
      "metadata": {
        "id": "R8w2hSLulS5B",
        "colab": {
          "base_uri": "https://localhost:8080/"
        },
        "outputId": "0678d994-81c9-4e84-955e-4c4b223a69fc"
      },
      "execution_count": 20,
      "outputs": [
        {
          "output_type": "stream",
          "name": "stdout",
          "text": [
            "Model: \"model_7\"\n",
            "_________________________________________________________________\n",
            " Layer (type)                Output Shape              Param #   \n",
            "=================================================================\n",
            " input_10 (InputLayer)       [(None, 12, 640, 1)]      0         \n",
            "                                                                 \n",
            " conv2d_8 (Conv2D)           (None, 9, 637, 64)        1088      \n",
            "                                                                 \n",
            " max_pooling2d_2 (MaxPooling  (None, 4, 318, 64)       0         \n",
            " 2D)                                                             \n",
            "                                                                 \n",
            " batch_normalization_2 (Batc  (None, 4, 318, 64)       256       \n",
            " hNormalization)                                                 \n",
            "                                                                 \n",
            " time_distributed_24 (TimeDi  (None, 4, 318, 256)      328704    \n",
            " stributed)                                                      \n",
            "                                                                 \n",
            " time_distributed_25 (TimeDi  (None, 4, 318, 128)      197120    \n",
            " stributed)                                                      \n",
            "                                                                 \n",
            " time_distributed_26 (TimeDi  (None, 4, 318, 64)       49408     \n",
            " stributed)                                                      \n",
            "                                                                 \n",
            " flatten_7 (Flatten)         (None, 81408)             0         \n",
            "                                                                 \n",
            " dense_7 (Dense)             (None, 3)                 244227    \n",
            "                                                                 \n",
            "=================================================================\n",
            "Total params: 820,803\n",
            "Trainable params: 820,675\n",
            "Non-trainable params: 128\n",
            "_________________________________________________________________\n"
          ]
        }
      ]
    },
    {
      "cell_type": "code",
      "source": [
        "\n",
        "model.compile(optimizer='adam',loss=tf.keras.losses.SparseCategoricalCrossentropy(),metrics=['accuracy'])"
      ],
      "metadata": {
        "id": "Z--N1ITBYRHM"
      },
      "execution_count": 28,
      "outputs": []
    },
    {
      "cell_type": "code",
      "source": [
        "model = load_model('/content/drive/MyDrive/TCC-Physionet/model_CNNLSTM.h5')\n",
        "\n",
        "history = model.fit(train_dataset.features.x, train_dataset.features.y, epochs=2,\n",
        "                    validation_data=(val_dataset.features.x, val_dataset.features.y))#, callbacks=callbacks)\n",
        "\n",
        "model.save('/content/drive/MyDrive/TCC-Physionet/model_CNNLSTM.h5')"
      ],
      "metadata": {
        "id": "-WNTWEnr_eJo",
        "colab": {
          "base_uri": "https://localhost:8080/"
        },
        "outputId": "48a61446-86b0-4807-a252-e4f5a77cfe6d"
      },
      "execution_count": 30,
      "outputs": [
        {
          "output_type": "stream",
          "name": "stdout",
          "text": [
            "Epoch 1/2\n",
            "50/50 [==============================] - 328s 7s/step - loss: 0.7949 - accuracy: 0.6500 - val_loss: 0.9722 - val_accuracy: 0.5810\n",
            "Epoch 2/2\n",
            "50/50 [==============================] - 324s 7s/step - loss: 0.7078 - accuracy: 0.6848 - val_loss: 1.0113 - val_accuracy: 0.5363\n"
          ]
        }
      ]
    },
    {
      "cell_type": "code",
      "source": [
        "model.save('/content/drive/MyDrive/TCC-Physionet/model_LSTM.h5')"
      ],
      "metadata": {
        "id": "w1a0scyDMm2o"
      },
      "execution_count": null,
      "outputs": []
    },
    {
      "cell_type": "code",
      "source": [
        "test_dataset = PhysionetDataset(test_data, selected_eletrodes, batch)"
      ],
      "metadata": {
        "id": "Rwx5bXyK0hAM"
      },
      "execution_count": 31,
      "outputs": []
    },
    {
      "cell_type": "code",
      "source": [
        "score = model.evaluate(test_dataset.features.x, test_dataset.features.y, verbose=0)\n",
        "print('Loss: ', score[0])\n",
        "print('Accuracy: ', score[1])"
      ],
      "metadata": {
        "colab": {
          "base_uri": "https://localhost:8080/"
        },
        "id": "YLwaxBhBKBzN",
        "outputId": "8eea8f33-7248-4b88-8989-60331840d718"
      },
      "execution_count": 32,
      "outputs": [
        {
          "output_type": "stream",
          "name": "stdout",
          "text": [
            "Loss:  0.9526958465576172\n",
            "Accuracy:  0.5631313323974609\n"
          ]
        }
      ]
    },
    {
      "cell_type": "code",
      "source": [],
      "metadata": {
        "id": "ZbwY5oIz0o2A"
      },
      "execution_count": null,
      "outputs": []
    }
  ]
}