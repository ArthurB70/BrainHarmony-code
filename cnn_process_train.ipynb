{
  "nbformat": 4,
  "nbformat_minor": 0,
  "metadata": {
    "colab": {
      "provenance": [],
      "machine_shape": "hm"
    },
    "kernelspec": {
      "name": "python3",
      "display_name": "Python 3"
    },
    "language_info": {
      "name": "python"
    }
  },
  "cells": [
    {
      "cell_type": "code",
      "source": [
        "!pip install mne\n",
        "!pip install tensorflow==2.9.1"
      ],
      "metadata": {
        "id": "kOWcgKDKbIe-"
      },
      "execution_count": null,
      "outputs": []
    },
    {
      "cell_type": "code",
      "source": [
        "import tensorflow as tf\n",
        "print(tf.__version__)\n",
        "from mne.decoding import CSP"
      ],
      "metadata": {
        "colab": {
          "base_uri": "https://localhost:8080/"
        },
        "id": "Nzt6RPKOAIyo",
        "outputId": "4ddbfbcc-45b9-4fb5-8492-eca4af4772ae"
      },
      "execution_count": 1,
      "outputs": [
        {
          "output_type": "stream",
          "name": "stdout",
          "text": [
            "2.9.1\n"
          ]
        }
      ]
    },
    {
      "cell_type": "code",
      "execution_count": 2,
      "metadata": {
        "colab": {
          "base_uri": "https://localhost:8080/"
        },
        "id": "Wlar8yXLjXDc",
        "outputId": "e1040441-075e-463e-8949-2a7ac05f2f86"
      },
      "outputs": [
        {
          "output_type": "stream",
          "name": "stdout",
          "text": [
            "Mounted at /content/drive\n"
          ]
        }
      ],
      "source": [
        "import pandas as pd\n",
        "import matplotlib.pyplot as plt\n",
        "from scipy import signal\n",
        "from IPython.display import clear_output\n",
        "#import pywt\n",
        "import numpy as np\n",
        "#import imageio\n",
        "import tensorflow as tf\n",
        "#import cv2\n",
        "#import time\n",
        "from tensorflow.keras import datasets, layers, models\n",
        "import matplotlib.pyplot as plt\n",
        "from tensorflow.keras.metrics import Precision, Recall, BinaryAccuracy\n",
        "from tensorflow.keras.models import Model, load_model\n",
        "from sklearn.metrics import classification_report\n",
        "import os\n",
        "#from scipy import signal\n",
        "#from sklearn import preprocessing\n",
        "from google.colab import drive\n",
        "drive.mount('/content/drive')"
      ]
    },
    {
      "cell_type": "code",
      "source": [
        "train_data = pd.read_csv('/content/drive/MyDrive/TCC-Physionet/PhysionetTrainSub1_30.csv', delimiter=\";\")\n",
        "test_data = pd.read_csv('/content/drive/MyDrive/TCC-Physionet/PhysionetTestSub1_30.csv', delimiter=\";\")\n",
        "val_data = pd.read_csv('/content/drive/MyDrive/TCC-Physionet/PhysionetValSub1_30.csv', delimiter=\";\")\n"
      ],
      "metadata": {
        "id": "vs3-ssJtjix8"
      },
      "execution_count": 3,
      "outputs": []
    },
    {
      "cell_type": "code",
      "source": [
        "labels = {'0': 'rest', '1': 'left', '2': 'right'}\n",
        "selected_eletrodes = list(train_data['eletrodo'].unique())\n",
        " #['F3', 'F4', 'F5', 'F6', 'FC5', 'FC3','FC4', 'FC6', 'C5', 'C3', 'C4', 'C6']"
      ],
      "metadata": {
        "id": "4fxXUF0Vms75"
      },
      "execution_count": 4,
      "outputs": []
    },
    {
      "cell_type": "code",
      "source": [
        "# y_delta = butter_bandpass_filter(signal, 0.1, 4, 160, order=5)\n",
        "def butter_bandpass(lowcut, highcut, fs, order=5):\n",
        "    nyq = 0.5 * fs\n",
        "    low = lowcut / nyq\n",
        "    high = highcut / nyq\n",
        "    b, a = signal.butter(order, [low, high], btype='band')\n",
        "    return b, a\n",
        "\n",
        "\n",
        "def butter_bandpass_filter(data, lowcut, highcut, fs, order=5):\n",
        "    b, a = butter_bandpass(lowcut, highcut, fs, order=order)\n",
        "    y = signal.lfilter(b, a, data)\n",
        "    return y\n"
      ],
      "metadata": {
        "id": "5ZW-U7eygZvS"
      },
      "execution_count": 5,
      "outputs": []
    },
    {
      "cell_type": "code",
      "source": [
        "def metrics_zscore(data, selected_eletrodes):\n",
        "  std = []\n",
        "  mean = []\n",
        "  for eletrode in selected_eletrodes:\n",
        "    eletrodoStd = pd.Series(data.loc[data[\"eletrodo\"] == eletrode, \"leitura0\":\"leitura639\"].values.ravel('F')).std()\n",
        "    eletrodoMean = pd.Series(data.loc[data[\"eletrodo\"] == eletrode, \"leitura0\":\"leitura639\"].values.ravel('F')).mean()\n",
        "    std.append(eletrodoStd)\n",
        "    mean.append(eletrodoMean)\n",
        "\n",
        "  return std, mean"
      ],
      "metadata": {
        "id": "OlUV-TLVsyyS"
      },
      "execution_count": 6,
      "outputs": []
    },
    {
      "cell_type": "code",
      "source": [
        "def assemble_data(data, selected_eletrodes, std_el, mean_el):\n",
        "  cwt_limit = 30\n",
        "  widths = np.arange(1, cwt_limit + 1)\n",
        "  labels = []\n",
        "  signals = []\n",
        "  pacients = data[\"paciente\"].unique()\n",
        "  len_selected_eletrodes = len(selected_eletrodes)\n",
        "\n",
        "  for pacient in pacients:\n",
        "      measures = data.loc[data['paciente'] == pacient]['medicao'].unique()\n",
        "      for measure in measures:\n",
        "          label = data.loc[(data['paciente'] == pacient) & (data['medicao'] == measure)]['label'].unique()[0]\n",
        "          signal_list = []\n",
        "          img = np.zeros([len_selected_eletrodes, 640])\n",
        "          print(pacient,measure)\n",
        "          for idx, eletrode in enumerate(selected_eletrodes):\n",
        "              sign = data.loc[(data['paciente'] == pacient) & (data['medicao'] == measure) & (data['eletrodo'] == eletrode)].iloc[:,4:644].to_numpy().reshape(640)\n",
        "              sign -= mean_el[idx]\n",
        "              sign /= std_el[idx]\n",
        "              img[idx] = sign\n",
        "\n",
        "\n",
        "\n",
        "          if label == 2 :\n",
        "            signals.append(img)\n",
        "            labels.append(label-2)\n",
        "          elif label == 3:\n",
        "            signals.append(img)\n",
        "            labels.append(label-2)\n",
        "\n",
        "          clear_output(wait=True)\n",
        "\n",
        "  return labels, signals\n"
      ],
      "metadata": {
        "id": "7z_NC9cImEMO"
      },
      "execution_count": 7,
      "outputs": []
    },
    {
      "cell_type": "code",
      "source": [
        "class PhysionetDataset:\n",
        "  def __init__(self, data, selected_eletrodes, batch_size, train=True, std=None, mean=None):\n",
        "    if(train):\n",
        "      self.std, self.mean = metrics_zscore(data, selected_eletrodes)\n",
        "    else:\n",
        "      self.std, self.mean = std, mean\n",
        "\n",
        "    label, signal = assemble_data(data, selected_eletrodes, self.std, self.mean)\n",
        "    img_generator = tf.keras.preprocessing.image.ImageDataGenerator()\n",
        "\n",
        "    self.features = img_generator.flow(\n",
        "        x=np.array(signal).reshape(len(signal), len(selected_eletrodes), 640, 1),\n",
        "        y=np.array(label).reshape(len(label),1),\n",
        "        batch_size=batch_size)\n",
        "\n"
      ],
      "metadata": {
        "id": "gmanROLbkXgg"
      },
      "execution_count": 8,
      "outputs": []
    },
    {
      "cell_type": "code",
      "source": [
        "batch = 64\n",
        "\n",
        "#TimeseriesGenerator\n",
        "train_dataset = PhysionetDataset(train_data, selected_eletrodes, batch)\n",
        "val_dataset = PhysionetDataset(val_data, selected_eletrodes, batch, train=False, std=train_dataset.std, mean=train_dataset.mean)\n",
        "#test_dataset = PhysionetDataset(test_data, selected_eletrodes, batch)"
      ],
      "metadata": {
        "id": "dGZAACBhnXFd",
        "colab": {
          "base_uri": "https://localhost:8080/"
        },
        "outputId": "8fb33118-abc4-4f26-b7a5-aace4b628d60"
      },
      "execution_count": 9,
      "outputs": [
        {
          "output_type": "stream",
          "name": "stdout",
          "text": [
            "30 20\n"
          ]
        }
      ]
    },
    {
      "cell_type": "code",
      "source": [
        "inp = layers.Input(shape=(64, 640, 1))\n",
        "x = layers.Conv2D(8, (2,2), padding= 'same')(inp)\n",
        "x = layers.Conv2D(16, (2,2), activation=layers.LeakyReLU(0.1), strides=(1,4))(x)\n",
        "x = layers.Conv2D(10, (2,2), padding= 'same')(x)\n",
        "\n",
        "x = layers.MaxPool2D((2,2))(x)\n",
        "x = layers.Dropout(0.1)(x)\n",
        "x = layers.Conv2D(8, (2,2), activation=layers.LeakyReLU(0.1), padding= 'same')(x)\n",
        "x = layers.Conv2D(8, (2,2), activation=layers.LeakyReLU(0.1), padding= 'same')(x)\n",
        "\n",
        "x = layers.MaxPool2D((2,2))(x)\n",
        "x = layers.Dropout(0.1)(x)\n",
        "x = layers.Conv2D(16, (2,2), activation=layers.LeakyReLU(0.1), padding= 'same')(x)\n",
        "x = layers.Conv2D(16, (2,2), activation=layers.LeakyReLU(0.1), padding= 'same')(x)\n",
        "\n",
        "x = layers.MaxPool2D((2,2))(x)\n",
        "x = layers.Dropout(0.1)(x)\n",
        "x = layers.Conv2D(32, (2,2), activation=layers.LeakyReLU(0.1), padding= 'same')(x)\n",
        "x = layers.Conv2D(32, (2,2), activation=layers.LeakyReLU(0.1), padding= 'same')(x)\n",
        "\n",
        "x = layers.MaxPool2D((2,2))(x)\n",
        "x = layers.Dropout(0.1)(x)\n",
        "x = layers.Conv2D(128, (2,2), activation=layers.LeakyReLU(0.1), padding= 'same')(x)\n",
        "x = layers.Conv2D(256, (2,2), activation=layers.LeakyReLU(0.1), padding= 'same')(x)\n",
        "\n",
        "x = layers.MaxPool2D((2,2))(x)\n",
        "x = layers.Dropout(0.1)(x)\n",
        "x = layers.Conv2D(512, (2,2), activation=layers.LeakyReLU(0.1), padding= 'same')(x)\n",
        "x = layers.Conv2D(1024, (2,2), activation=layers.LeakyReLU(0.1), padding= 'same')(x)\n",
        "\n",
        "#x = layers.MaxPool2D((2,2))(x)\n",
        "#x = layers.TimeDistributed(layers.LSTM(256, return_sequences=True))(x)\n",
        "#x = layers.TimeDistributed(layers.LSTM(128, return_sequences=True))(x)\n",
        "#x = layers.TimeDistributed(layers.LSTM(32, return_sequences=True))(x)\n",
        "#x = layers.TimeDistributed(layers.LSTM(16, return_sequences=True))(x)\n",
        "#x = layers.TimeDistributed(layers.LSTM(8, return_sequences=True))(x)\n",
        "x = layers.Flatten()(x)\n",
        "\n",
        "x = layers.Dropout(0.5)(x)\n",
        "x = layers.Dense(2, activation='softmax')(x)\n",
        "\n",
        "model = Model(inp, x)"
      ],
      "metadata": {
        "id": "j1sUaKwGH5yQ"
      },
      "execution_count": 10,
      "outputs": []
    },
    {
      "cell_type": "code",
      "source": [
        "model.summary()"
      ],
      "metadata": {
        "id": "R8w2hSLulS5B",
        "colab": {
          "base_uri": "https://localhost:8080/"
        },
        "outputId": "18e52128-8428-4143-921e-503072123ca7"
      },
      "execution_count": 11,
      "outputs": [
        {
          "output_type": "stream",
          "name": "stdout",
          "text": [
            "Model: \"model\"\n",
            "_________________________________________________________________\n",
            " Layer (type)                Output Shape              Param #   \n",
            "=================================================================\n",
            " input_1 (InputLayer)        [(None, 64, 640, 1)]      0         \n",
            "                                                                 \n",
            " conv2d (Conv2D)             (None, 64, 640, 8)        40        \n",
            "                                                                 \n",
            " conv2d_1 (Conv2D)           (None, 63, 160, 16)       528       \n",
            "                                                                 \n",
            " conv2d_2 (Conv2D)           (None, 63, 160, 10)       650       \n",
            "                                                                 \n",
            " max_pooling2d (MaxPooling2D  (None, 31, 80, 10)       0         \n",
            " )                                                               \n",
            "                                                                 \n",
            " dropout (Dropout)           (None, 31, 80, 10)        0         \n",
            "                                                                 \n",
            " conv2d_3 (Conv2D)           (None, 31, 80, 8)         328       \n",
            "                                                                 \n",
            " conv2d_4 (Conv2D)           (None, 31, 80, 8)         264       \n",
            "                                                                 \n",
            " max_pooling2d_1 (MaxPooling  (None, 15, 40, 8)        0         \n",
            " 2D)                                                             \n",
            "                                                                 \n",
            " dropout_1 (Dropout)         (None, 15, 40, 8)         0         \n",
            "                                                                 \n",
            " conv2d_5 (Conv2D)           (None, 15, 40, 16)        528       \n",
            "                                                                 \n",
            " conv2d_6 (Conv2D)           (None, 15, 40, 16)        1040      \n",
            "                                                                 \n",
            " max_pooling2d_2 (MaxPooling  (None, 7, 20, 16)        0         \n",
            " 2D)                                                             \n",
            "                                                                 \n",
            " dropout_2 (Dropout)         (None, 7, 20, 16)         0         \n",
            "                                                                 \n",
            " conv2d_7 (Conv2D)           (None, 7, 20, 32)         2080      \n",
            "                                                                 \n",
            " conv2d_8 (Conv2D)           (None, 7, 20, 32)         4128      \n",
            "                                                                 \n",
            " max_pooling2d_3 (MaxPooling  (None, 3, 10, 32)        0         \n",
            " 2D)                                                             \n",
            "                                                                 \n",
            " dropout_3 (Dropout)         (None, 3, 10, 32)         0         \n",
            "                                                                 \n",
            " conv2d_9 (Conv2D)           (None, 3, 10, 128)        16512     \n",
            "                                                                 \n",
            " conv2d_10 (Conv2D)          (None, 3, 10, 256)        131328    \n",
            "                                                                 \n",
            " max_pooling2d_4 (MaxPooling  (None, 1, 5, 256)        0         \n",
            " 2D)                                                             \n",
            "                                                                 \n",
            " dropout_4 (Dropout)         (None, 1, 5, 256)         0         \n",
            "                                                                 \n",
            " conv2d_11 (Conv2D)          (None, 1, 5, 512)         524800    \n",
            "                                                                 \n",
            " conv2d_12 (Conv2D)          (None, 1, 5, 1024)        2098176   \n",
            "                                                                 \n",
            " flatten (Flatten)           (None, 5120)              0         \n",
            "                                                                 \n",
            " dropout_5 (Dropout)         (None, 5120)              0         \n",
            "                                                                 \n",
            " dense (Dense)               (None, 2)                 10242     \n",
            "                                                                 \n",
            "=================================================================\n",
            "Total params: 2,790,644\n",
            "Trainable params: 2,790,644\n",
            "Non-trainable params: 0\n",
            "_________________________________________________________________\n"
          ]
        }
      ]
    },
    {
      "cell_type": "code",
      "source": [
        "\n",
        "model.compile(optimizer='adam',loss=tf.keras.losses.SparseCategoricalCrossentropy(),metrics=['accuracy'])"
      ],
      "metadata": {
        "id": "Z--N1ITBYRHM"
      },
      "execution_count": 12,
      "outputs": []
    },
    {
      "cell_type": "code",
      "source": [
        "#model = load_model('/content/drive/MyDrive/TCC-Physionet/model_CNNEEG.h5')\n",
        "\n",
        "history = model.fit(train_dataset.features.x, train_dataset.features.y, epochs=100,\n",
        "                    validation_data=(val_dataset.features.x, val_dataset.features.y))#, callbacks=callbacks)\n",
        "\n",
        "model.save('/content/drive/MyDrive/TCC-Physionet/model_CNNEEG.h5')"
      ],
      "metadata": {
        "id": "-WNTWEnr_eJo"
      },
      "execution_count": null,
      "outputs": []
    },
    {
      "cell_type": "code",
      "source": [
        "model = load_model('/content/drive/MyDrive/TCC-Physionet/model_CNNEEG.h5')\n",
        "\n",
        "history = model.fit(train_dataset.features.x, train_dataset.features.y, epochs=50,\n",
        "                    validation_data=(val_dataset.features.x, val_dataset.features.y))#, callbacks=callbacks)\n",
        "\n",
        "model.save('/content/drive/MyDrive/TCC-Physionet/model_CNNEEG.h5')"
      ],
      "metadata": {
        "id": "3Hj6765SQpYs"
      },
      "execution_count": null,
      "outputs": []
    },
    {
      "cell_type": "code",
      "source": [
        "test_dataset = PhysionetDataset(test_data, selected_eletrodes, batch, train=False, std=train_dataset.std, mean=train_dataset.mean)"
      ],
      "metadata": {
        "id": "Rwx5bXyK0hAM",
        "colab": {
          "base_uri": "https://localhost:8080/"
        },
        "outputId": "5bdf80a1-c9fb-4e88-caf9-febbbe7e0b1f"
      },
      "execution_count": 15,
      "outputs": [
        {
          "output_type": "stream",
          "name": "stdout",
          "text": [
            "30 11\n"
          ]
        }
      ]
    },
    {
      "cell_type": "code",
      "source": [
        "score = model.evaluate(test_dataset.features.x, test_dataset.features.y, verbose=0)\n",
        "print('Loss: ', score[0])\n",
        "print('Accuracy: ', score[1])"
      ],
      "metadata": {
        "colab": {
          "base_uri": "https://localhost:8080/"
        },
        "id": "YLwaxBhBKBzN",
        "outputId": "141b4b5a-9ee4-42c0-ead7-282d11b545f0"
      },
      "execution_count": 16,
      "outputs": [
        {
          "output_type": "stream",
          "name": "stdout",
          "text": [
            "Loss:  1.602621078491211\n",
            "Accuracy:  0.7313432693481445\n"
          ]
        }
      ]
    },
    {
      "cell_type": "code",
      "source": [
        "inp = layers.Input(shape=(64, 800, 1))\n",
        "x = layers.Conv2D(256, (2,2), activation='relu')(inp)\n",
        "x = layers.Conv2D(256, (2,2), activation='relu')(x)\n",
        "\n",
        "x = layers.MaxPool2D((2,2))(x)\n",
        "\n",
        "x = layers.Conv2D(512, (2,2), activation='relu')(x)\n",
        "x = layers.Conv2D(512, (2,2), activation='relu')(x)\n",
        "\n",
        "x = layers.MaxPool2D((2,2))(x)\n",
        "\n",
        "x = layers.TimeDistributed(layers.LSTM(256, return_sequences=True))(x)\n",
        "x = layers.TimeDistributed(layers.LSTM(128, return_sequences=True))(x)\n",
        "x = layers.TimeDistributed(layers.LSTM(64, return_sequences=True))(x)\n",
        "x = layers.Flatten()(x)\n",
        "#x = layers.Dropout(0.5)(x)\n",
        "x = layers.Dense(3, activation='softmax')(x)\n",
        "\n",
        "model = Model(inp, x)"
      ],
      "metadata": {
        "id": "ZbwY5oIz0o2A"
      },
      "execution_count": null,
      "outputs": []
    },
    {
      "cell_type": "code",
      "source": [
        "import numpy as np\n",
        "import matplotlib.pyplot as plt\n",
        "\n",
        "from sklearn.pipeline import Pipeline\n",
        "from sklearn.discriminant_analysis import LinearDiscriminantAnalysis\n",
        "from sklearn.model_selection import ShuffleSplit, cross_val_score\n",
        "\n",
        "from mne import Epochs, pick_types, events_from_annotations\n",
        "from mne.channels import make_standard_montage\n",
        "from mne.io import concatenate_raws, read_raw_edf\n",
        "from mne.datasets import eegbci\n",
        "from mne.decoding import CSP\n",
        "print(__doc__)\n"
      ],
      "metadata": {
        "colab": {
          "base_uri": "https://localhost:8080/"
        },
        "id": "woVfLgN4T0RV",
        "outputId": "b3698df1-f6c3-4794-e143-84cff7e4162c"
      },
      "execution_count": null,
      "outputs": [
        {
          "output_type": "stream",
          "name": "stdout",
          "text": [
            "Automatically created module for IPython interactive environment\n"
          ]
        }
      ]
    },
    {
      "cell_type": "code",
      "source": [
        "\n",
        "\n",
        "# #############################################################################\n",
        "# # Set parameters and read data\n",
        "\n",
        "# avoid classification of evoked responses by using epochs that start 1s after\n",
        "# cue onset.\n",
        "tmin, tmax = -1.0, 4.0\n",
        "event_id = dict(rest=1,left=2, right=3)\n",
        "subject = 1\n",
        "runs = [3]\n",
        "\n",
        "raw_fnames = eegbci.load_data(subject, runs)\n",
        "raw = concatenate_raws([read_raw_edf(f, preload=True) for f in raw_fnames])\n",
        "eegbci.standardize(raw)  # set channel names\n",
        "montage = make_standard_montage(\"standard_1005\")\n",
        "raw.set_montage(montage)\n"
      ],
      "metadata": {
        "colab": {
          "base_uri": "https://localhost:8080/",
          "height": 383
        },
        "id": "pIrS8LCTWW6h",
        "outputId": "22007187-893a-454c-a869-45cfc20fdc35"
      },
      "execution_count": null,
      "outputs": [
        {
          "output_type": "stream",
          "name": "stdout",
          "text": [
            "Extracting EDF parameters from /root/mne_data/MNE-eegbci-data/files/eegmmidb/1.0.0/S001/S001R03.edf...\n",
            "EDF file detected\n",
            "Setting channel info structure...\n",
            "Creating raw.info structure...\n",
            "Reading 0 ... 19999  =      0.000 ...   124.994 secs...\n"
          ]
        },
        {
          "output_type": "execute_result",
          "data": {
            "text/plain": [
              "<RawEDF | S001R03.edf, 64 x 20000 (125.0 s), ~9.9 MB, data loaded>"
            ],
            "text/html": [
              "<table class=\"table table-hover table-striped table-sm table-responsive small\">\n",
              "    <tr>\n",
              "        <th>Measurement date</th>\n",
              "        \n",
              "        <td>August 12, 2009  16:15:00 GMT</td>\n",
              "        \n",
              "    </tr>\n",
              "    <tr>\n",
              "        <th>Experimenter</th>\n",
              "        \n",
              "        <td>Unknown</td>\n",
              "        \n",
              "    </tr>\n",
              "        <th>Participant</th>\n",
              "        \n",
              "            \n",
              "            <td>X</td>\n",
              "            \n",
              "        \n",
              "    </tr>\n",
              "    <tr>\n",
              "        <th>Digitized points</th>\n",
              "        \n",
              "        <td>67 points</td>\n",
              "        \n",
              "    </tr>\n",
              "    <tr>\n",
              "        <th>Good channels</th>\n",
              "        <td>64 EEG</td>\n",
              "    </tr>\n",
              "    <tr>\n",
              "        <th>Bad channels</th>\n",
              "        <td>None</td>\n",
              "    </tr>\n",
              "    <tr>\n",
              "        <th>EOG channels</th>\n",
              "        <td>Not available</td>\n",
              "    </tr>\n",
              "    <tr>\n",
              "        <th>ECG channels</th>\n",
              "        <td>Not available</td>\n",
              "    \n",
              "    <tr>\n",
              "        <th>Sampling frequency</th>\n",
              "        <td>160.00 Hz</td>\n",
              "    </tr>\n",
              "    \n",
              "    \n",
              "    <tr>\n",
              "        <th>Highpass</th>\n",
              "        <td>0.00 Hz</td>\n",
              "    </tr>\n",
              "    \n",
              "    \n",
              "    <tr>\n",
              "        <th>Lowpass</th>\n",
              "        <td>80.00 Hz</td>\n",
              "    </tr>\n",
              "    \n",
              "    \n",
              "    \n",
              "    <tr>\n",
              "        <th>Filenames</th>\n",
              "        <td>S001R03.edf</td>\n",
              "    </tr>\n",
              "    \n",
              "    <tr>\n",
              "        <th>Duration</th>\n",
              "        <td>00:02:05 (HH:MM:SS)</td>\n",
              "    </tr>\n",
              "</table>"
            ]
          },
          "metadata": {},
          "execution_count": 42
        }
      ]
    },
    {
      "cell_type": "code",
      "source": [
        "# Apply band-pass filter\n",
        "#raw.filter(2.0, 10.0, fir_design=\"firwin\", skip_by_annotation=\"edge\")\n",
        "\n",
        "events, _ = events_from_annotations(raw, event_id='auto')\n",
        "print(events)\n",
        "picks = pick_types(raw.info, meg=False, eeg=True, stim=False, eog=False, exclude=\"bads\")\n"
      ],
      "metadata": {
        "colab": {
          "base_uri": "https://localhost:8080/"
        },
        "id": "1Wn3uXLpWeM0",
        "outputId": "13eec3c4-730a-48a7-8693-c03e7a3f1c6f"
      },
      "execution_count": null,
      "outputs": [
        {
          "output_type": "stream",
          "name": "stdout",
          "text": [
            "Used Annotations descriptions: ['T0', 'T1', 'T2']\n",
            "[[    0     0     1]\n",
            " [  672     0     3]\n",
            " [ 1328     0     1]\n",
            " [ 2000     0     2]\n",
            " [ 2656     0     1]\n",
            " [ 3328     0     2]\n",
            " [ 3984     0     1]\n",
            " [ 4656     0     3]\n",
            " [ 5312     0     1]\n",
            " [ 5984     0     3]\n",
            " [ 6640     0     1]\n",
            " [ 7312     0     2]\n",
            " [ 7968     0     1]\n",
            " [ 8640     0     2]\n",
            " [ 9296     0     1]\n",
            " [ 9968     0     3]\n",
            " [10624     0     1]\n",
            " [11296     0     2]\n",
            " [11952     0     1]\n",
            " [12624     0     3]\n",
            " [13280     0     1]\n",
            " [13952     0     3]\n",
            " [14608     0     1]\n",
            " [15280     0     2]\n",
            " [15936     0     1]\n",
            " [16608     0     2]\n",
            " [17264     0     1]\n",
            " [17936     0     3]\n",
            " [18592     0     1]\n",
            " [19264     0     2]]\n"
          ]
        }
      ]
    },
    {
      "cell_type": "code",
      "source": [
        "# Read epochs (train will be done only between 1 and 2s)\n",
        "# Testing will be done with a running classifier\n",
        "epochs = Epochs(\n",
        "    raw,\n",
        "    events,\n",
        "    event_id,\n",
        "    tmin,\n",
        "    tmax,\n",
        "    proj=True,\n",
        "    picks=picks,\n",
        "    baseline=None,\n",
        "    preload=True,\n",
        ")\n",
        "epochs_train = epochs.copy().crop(tmin=1.0, tmax=2.0)\n",
        "labels = epochs.events[:, -1] - 2"
      ],
      "metadata": {
        "colab": {
          "base_uri": "https://localhost:8080/"
        },
        "id": "2iQcnKdZWhtW",
        "outputId": "5e49a8dc-7e9a-46d6-94c8-34edc41c3c36"
      },
      "execution_count": null,
      "outputs": [
        {
          "output_type": "stream",
          "name": "stdout",
          "text": [
            "Not setting metadata\n",
            "30 matching events found\n",
            "No baseline correction applied\n",
            "0 projection items activated\n",
            "Using data from preloaded Raw for 30 events and 801 original time points ...\n",
            "1 bad epochs dropped\n"
          ]
        }
      ]
    },
    {
      "cell_type": "code",
      "source": [
        "# Define a monte-carlo cross-validation generator (reduce variance):\n",
        "scores = []\n",
        "epochs_data = epochs.get_data()\n",
        "epochs_data_train = epochs_train.get_data()\n",
        "cv = ShuffleSplit(10, test_size=0.2, random_state=42)\n",
        "cv_split = cv.split(epochs_data_train)\n",
        "\n",
        "# Assemble a classifier\n",
        "lda = LinearDiscriminantAnalysis()\n",
        "csp = CSP(n_components=3, reg=None, log=True, norm_trace=False)\n",
        "\n",
        "# Use scikit-learn Pipeline with cross_val_score function\n",
        "clf = Pipeline([(\"CSP\", csp), (\"LDA\", lda)])\n",
        "scores = cross_val_score(clf, epochs_data_train, labels, cv=cv, n_jobs=None)\n",
        "\n",
        "# Printing the results\n",
        "class_balance = np.mean(labels == labels[0])\n",
        "class_balance = max(class_balance, 1.0 - class_balance)\n",
        "print(\n",
        "    \"Classification accuracy: %f / Chance level: %f\" % (np.mean(scores), class_balance)\n",
        ")\n",
        "\n",
        "# plot CSP patterns estimated on full data for visualization\n",
        "retorno = csp.fit_transform(epochs_data, labels)\n",
        "\n",
        "csp.plot_patterns(epochs.info, ch_type=\"eeg\", units=\"Patterns (AU)\", size=1.5)"
      ],
      "metadata": {
        "id": "FbwnkKY-Wwv1"
      },
      "execution_count": null,
      "outputs": []
    },
    {
      "cell_type": "code",
      "source": [
        "print(len(epochs_data),len(epochs_data[0]), len(epochs_data[0][0]))\n",
        "print(labels)"
      ],
      "metadata": {
        "id": "dKsZG3rHZKAD",
        "colab": {
          "base_uri": "https://localhost:8080/"
        },
        "outputId": "1b43115c-dd5d-4f13-fc64-0705d0233729"
      },
      "execution_count": null,
      "outputs": [
        {
          "output_type": "stream",
          "name": "stdout",
          "text": [
            "29 64 801\n",
            "[ 1 -1  0 -1  0 -1  1 -1  1 -1  0 -1  0 -1  1 -1  0 -1  1 -1  1 -1  0 -1\n",
            "  0 -1  1 -1  0]\n"
          ]
        }
      ]
    },
    {
      "cell_type": "code",
      "source": [
        "print(len(retorno))\n",
        "print(len(retorno),len(retorno[0]))\n",
        "print(retorno)"
      ],
      "metadata": {
        "id": "XAZDG6uUbrFU"
      },
      "execution_count": null,
      "outputs": []
    },
    {
      "cell_type": "code",
      "source": [
        "sfreq = raw.info[\"sfreq\"]\n",
        "w_length = int(sfreq * 0.5)  # running classifier: window length\n",
        "w_step = int(sfreq * 0.1)  # running classifier: window step size\n",
        "w_start = np.arange(0, epochs_data.shape[2] - w_length, w_step)\n",
        "\n",
        "scores_windows = []\n",
        "\n",
        "for train_idx, test_idx in cv_split:\n",
        "    y_train, y_test = labels[train_idx], labels[test_idx]\n",
        "\n",
        "    X_train = csp.fit_transform(epochs_data_train[train_idx], y_train)\n",
        "    X_test = csp.transform(epochs_data_train[test_idx])\n",
        "    print(len(X_test), len(X_test[0]), X_test[0][0])\n",
        "    # fit classifier\n",
        "    lda.fit(X_train, y_train)\n",
        "\n",
        "    # running classifier: test classifier on sliding window\n",
        "    score_this_window = []\n",
        "    for n in w_start:\n",
        "        X_test = csp.transform(epochs_data[test_idx][:, :, n : (n + w_length)])\n",
        "        score_this_window.append(lda.score(X_test, y_test))\n",
        "    scores_windows.append(score_this_window)\n",
        "\n",
        "# Plot scores over time\n",
        "w_times = (w_start + w_length / 2.0) / sfreq + epochs.tmin\n",
        "\n",
        "plt.figure()\n",
        "plt.plot(w_times, np.mean(scores_windows, 0), label=\"Score\")\n",
        "plt.axvline(0, linestyle=\"--\", color=\"k\", label=\"Onset\")\n",
        "plt.axhline(0.5, linestyle=\"-\", color=\"k\", label=\"Chance\")\n",
        "plt.xlabel(\"time (s)\")\n",
        "plt.ylabel(\"classification accuracy\")\n",
        "plt.title(\"Classification score over time\")\n",
        "plt.legend(loc=\"lower right\")\n",
        "plt.show()"
      ],
      "metadata": {
        "id": "6fjjcJkVW1dT"
      },
      "execution_count": null,
      "outputs": []
    },
    {
      "cell_type": "code",
      "source": [
        "parametros = csp.get_params(True)"
      ],
      "metadata": {
        "id": "pS3XMAh0a4EN"
      },
      "execution_count": null,
      "outputs": []
    },
    {
      "cell_type": "code",
      "source": [
        "parametros"
      ],
      "metadata": {
        "colab": {
          "base_uri": "https://localhost:8080/"
        },
        "id": "lcFcl6oG2fC6",
        "outputId": "749f49ed-151a-4235-fc97-2eb845d533bf"
      },
      "execution_count": null,
      "outputs": [
        {
          "output_type": "execute_result",
          "data": {
            "text/plain": [
              "{'component_order': 'mutual_info',\n",
              " 'cov_est': 'concat',\n",
              " 'cov_method_params': None,\n",
              " 'log': True,\n",
              " 'n_components': 12,\n",
              " 'norm_trace': False,\n",
              " 'rank': None,\n",
              " 'reg': None,\n",
              " 'transform_into': 'average_power'}"
            ]
          },
          "metadata": {},
          "execution_count": 18
        }
      ]
    },
    {
      "cell_type": "code",
      "source": [
        "len(epochs_data_train)"
      ],
      "metadata": {
        "id": "AikMwKKT6Lh-",
        "colab": {
          "base_uri": "https://localhost:8080/"
        },
        "outputId": "4dd7ff81-31a2-4cd4-fc46-dedca4827c85"
      },
      "execution_count": null,
      "outputs": [
        {
          "output_type": "execute_result",
          "data": {
            "text/plain": [
              "29"
            ]
          },
          "metadata": {},
          "execution_count": 20
        }
      ]
    },
    {
      "cell_type": "code",
      "source": [
        "len(epochs_data_train[0])"
      ],
      "metadata": {
        "colab": {
          "base_uri": "https://localhost:8080/"
        },
        "id": "_2l5Iyan-4hV",
        "outputId": "402202c9-653c-4bea-8905-65e6163dcf94"
      },
      "execution_count": null,
      "outputs": [
        {
          "output_type": "execute_result",
          "data": {
            "text/plain": [
              "64"
            ]
          },
          "metadata": {},
          "execution_count": 21
        }
      ]
    },
    {
      "cell_type": "code",
      "source": [
        "len(epochs_data_train[0][0])"
      ],
      "metadata": {
        "colab": {
          "base_uri": "https://localhost:8080/"
        },
        "id": "K85QXiw--7lU",
        "outputId": "146c9013-b8a1-4c3d-b6a4-eb9c68f0978d"
      },
      "execution_count": null,
      "outputs": [
        {
          "output_type": "execute_result",
          "data": {
            "text/plain": [
              "161"
            ]
          },
          "metadata": {},
          "execution_count": 22
        }
      ]
    },
    {
      "cell_type": "code",
      "source": [
        "cv_split = cv.split(epochs_data_train)\n",
        "\n",
        "\n",
        "for train_idx, test_idx in cv_split:\n",
        "  print(test_idx)\n",
        "  print('-------------')\n",
        "  X_test = csp.transform(epochs_data_train[train_idx])\n",
        "  print(len(X_test))\n",
        "  print(len(X_test[0]))\n"
      ],
      "metadata": {
        "colab": {
          "base_uri": "https://localhost:8080/"
        },
        "id": "kamxrzzY_xY4",
        "outputId": "893e770d-a1fc-42af-ac41-a17872e1579f"
      },
      "execution_count": null,
      "outputs": [
        {
          "output_type": "stream",
          "name": "stdout",
          "text": [
            "[27 16 12 22  8  9]\n",
            "-------------\n",
            "23\n",
            "12\n",
            "[ 0  5 20 25 13  7]\n",
            "-------------\n",
            "23\n",
            "12\n",
            "[ 4 24 10  0  8 19]\n",
            "-------------\n",
            "23\n",
            "12\n",
            "[ 3  1  4  5 16 25]\n",
            "-------------\n",
            "23\n",
            "12\n",
            "[14  3 27 19 24 21]\n",
            "-------------\n",
            "23\n",
            "12\n",
            "[17 11  7 13  0 27]\n",
            "-------------\n",
            "23\n",
            "12\n",
            "[14 13 18 15  9 26]\n",
            "-------------\n",
            "23\n",
            "12\n",
            "[ 9  8  7 12  3 14]\n",
            "-------------\n",
            "23\n",
            "12\n",
            "[12 14 21 20  6  7]\n",
            "-------------\n",
            "23\n",
            "12\n",
            "[13 14 15 25  4 20]\n",
            "-------------\n",
            "23\n",
            "12\n"
          ]
        }
      ]
    },
    {
      "cell_type": "code",
      "source": [
        "print(len(epochs_data_train), len(epochs_data_train[0]))"
      ],
      "metadata": {
        "colab": {
          "base_uri": "https://localhost:8080/"
        },
        "id": "ROdaI78gAGGB",
        "outputId": "f6196cf2-b4f9-46b9-9de9-13b82e48d26b"
      },
      "execution_count": null,
      "outputs": [
        {
          "output_type": "stream",
          "name": "stdout",
          "text": [
            "29 64\n"
          ]
        }
      ]
    },
    {
      "cell_type": "code",
      "source": [
        "epochs_data_train.shape()"
      ],
      "metadata": {
        "colab": {
          "base_uri": "https://localhost:8080/",
          "height": 175
        },
        "id": "kpV9GDmkGahG",
        "outputId": "4c787f06-0946-47a8-b21d-c82b2be44309"
      },
      "execution_count": null,
      "outputs": [
        {
          "output_type": "error",
          "ename": "TypeError",
          "evalue": "ignored",
          "traceback": [
            "\u001b[0;31m---------------------------------------------------------------------------\u001b[0m",
            "\u001b[0;31mTypeError\u001b[0m                                 Traceback (most recent call last)",
            "\u001b[0;32m<ipython-input-51-ce5286e76427>\u001b[0m in \u001b[0;36m<cell line: 1>\u001b[0;34m()\u001b[0m\n\u001b[0;32m----> 1\u001b[0;31m \u001b[0mepochs_data_train\u001b[0m\u001b[0;34m.\u001b[0m\u001b[0mshape\u001b[0m\u001b[0;34m(\u001b[0m\u001b[0;34m)\u001b[0m\u001b[0;34m\u001b[0m\u001b[0;34m\u001b[0m\u001b[0m\n\u001b[0m",
            "\u001b[0;31mTypeError\u001b[0m: 'tuple' object is not callable"
          ]
        }
      ]
    },
    {
      "cell_type": "code",
      "source": [],
      "metadata": {
        "id": "RlqRtMXtGgLZ"
      },
      "execution_count": null,
      "outputs": []
    }
  ]
}