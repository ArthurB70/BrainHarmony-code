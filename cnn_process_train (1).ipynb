{
  "nbformat": 4,
  "nbformat_minor": 0,
  "metadata": {
    "colab": {
      "provenance": [],
      "machine_shape": "hm"
    },
    "kernelspec": {
      "name": "python3",
      "display_name": "Python 3"
    },
    "language_info": {
      "name": "python"
    }
  },
  "cells": [
    {
      "cell_type": "code",
      "source": [
        "!pip install mne\n",
        "!pip install tensorflow==2.9.1"
      ],
      "metadata": {
        "id": "kOWcgKDKbIe-"
      },
      "execution_count": null,
      "outputs": []
    },
    {
      "cell_type": "code",
      "source": [
        "import tensorflow as tf\n",
        "print(tf.__version__)\n",
        "from mne.decoding import CSP"
      ],
      "metadata": {
        "colab": {
          "base_uri": "https://localhost:8080/"
        },
        "id": "Nzt6RPKOAIyo",
        "outputId": "0ee0a885-d179-488a-f3e0-5fb6c6214b3b"
      },
      "execution_count": 1,
      "outputs": [
        {
          "output_type": "stream",
          "name": "stdout",
          "text": [
            "2.9.1\n"
          ]
        }
      ]
    },
    {
      "cell_type": "code",
      "execution_count": 2,
      "metadata": {
        "colab": {
          "base_uri": "https://localhost:8080/"
        },
        "id": "Wlar8yXLjXDc",
        "outputId": "7010642c-a675-4a7d-f0ed-ffc81bbac96b"
      },
      "outputs": [
        {
          "output_type": "stream",
          "name": "stdout",
          "text": [
            "Mounted at /content/drive\n"
          ]
        }
      ],
      "source": [
        "import pandas as pd\n",
        "import matplotlib.pyplot as plt\n",
        "from scipy import signal\n",
        "from IPython.display import clear_output\n",
        "#import pywt\n",
        "import numpy as np\n",
        "#import imageio\n",
        "import tensorflow as tf\n",
        "#import cv2\n",
        "#import time\n",
        "from tensorflow.keras import datasets, layers, models\n",
        "import matplotlib.pyplot as plt\n",
        "from tensorflow.keras.metrics import Precision, Recall, BinaryAccuracy\n",
        "from tensorflow.keras.models import Model, load_model\n",
        "from sklearn.metrics import classification_report\n",
        "import os\n",
        "#from scipy import signal\n",
        "#from sklearn import preprocessing\n",
        "from google.colab import drive\n",
        "drive.mount('/content/drive')"
      ]
    },
    {
      "cell_type": "code",
      "source": [
        "train_data = pd.read_csv('/content/drive/MyDrive/TCC-Physionet/PhysionetTrainSub1_30.csv', delimiter=\";\")\n",
        "test_data = pd.read_csv('/content/drive/MyDrive/TCC-Physionet/PhysionetTestSub1_30.csv', delimiter=\";\")\n",
        "val_data = pd.read_csv('/content/drive/MyDrive/TCC-Physionet/PhysionetValSub1_30.csv', delimiter=\";\")\n"
      ],
      "metadata": {
        "id": "vs3-ssJtjix8"
      },
      "execution_count": 3,
      "outputs": []
    },
    {
      "cell_type": "code",
      "source": [
        "labels = {'0': 'rest', '1': 'left', '2': 'right'}\n",
        "selected_eletrodes = list(train_data['eletrodo'].unique())\n",
        " #['F3', 'F4', 'F5', 'F6', 'FC5', 'FC3','FC4', 'FC6', 'C5', 'C3', 'C4', 'C6']"
      ],
      "metadata": {
        "id": "4fxXUF0Vms75"
      },
      "execution_count": 4,
      "outputs": []
    },
    {
      "cell_type": "code",
      "source": [
        "# y_delta = butter_bandpass_filter(signal, 0.1, 4, 160, order=5)\n",
        "def butter_bandpass(lowcut, highcut, fs, order=5):\n",
        "    nyq = 0.5 * fs\n",
        "    low = lowcut / nyq\n",
        "    high = highcut / nyq\n",
        "    b, a = signal.butter(order, [low, high], btype='band')\n",
        "    return b, a\n",
        "\n",
        "\n",
        "def butter_bandpass_filter(data, lowcut, highcut, fs, order=5):\n",
        "    b, a = butter_bandpass(lowcut, highcut, fs, order=order)\n",
        "    y = signal.lfilter(b, a, data)\n",
        "    return y\n"
      ],
      "metadata": {
        "id": "5ZW-U7eygZvS"
      },
      "execution_count": 5,
      "outputs": []
    },
    {
      "cell_type": "code",
      "source": [
        "def metrics_zscore(data, selected_eletrodes):\n",
        "  std = []\n",
        "  mean = []\n",
        "  for eletrode in selected_eletrodes:\n",
        "    eletrodoStd = pd.Series(data.loc[data[\"eletrodo\"] == eletrode, \"leitura0\":\"leitura639\"].values.ravel('F')).std()\n",
        "    eletrodoMean = pd.Series(data.loc[data[\"eletrodo\"] == eletrode, \"leitura0\":\"leitura639\"].values.ravel('F')).mean()\n",
        "    std.append(eletrodoStd)\n",
        "    mean.append(eletrodoMean)\n",
        "\n",
        "  return std, mean"
      ],
      "metadata": {
        "id": "OlUV-TLVsyyS"
      },
      "execution_count": 6,
      "outputs": []
    },
    {
      "cell_type": "code",
      "source": [
        "def assemble_data(data, selected_eletrodes, std_el, mean_el):\n",
        "  cwt_limit = 30\n",
        "  widths = np.arange(1, cwt_limit + 1)\n",
        "  labels = []\n",
        "  signals = []\n",
        "  pacients = data[\"paciente\"].unique()\n",
        "  len_selected_eletrodes = len(selected_eletrodes)\n",
        "\n",
        "  for pacient in pacients:\n",
        "      measures = data.loc[data['paciente'] == pacient]['medicao'].unique()\n",
        "      for measure in measures:\n",
        "          label = data.loc[(data['paciente'] == pacient) & (data['medicao'] == measure)]['label'].unique()[0]\n",
        "          signal_list = []\n",
        "          img = np.zeros([len_selected_eletrodes, 640])\n",
        "          print(pacient,measure)\n",
        "          for idx, eletrode in enumerate(selected_eletrodes):\n",
        "              sign = data.loc[(data['paciente'] == pacient) & (data['medicao'] == measure) & (data['eletrodo'] == eletrode)].iloc[:,4:644].to_numpy().reshape(640)\n",
        "              sign -= mean_el[idx]\n",
        "              sign /= std_el[idx]\n",
        "              img[idx] = sign\n",
        "          signals.append(img)\n",
        "          labels.append(label-1)\n",
        "          '''if label == 1 :\n",
        "            labels.append([1,0,0])\n",
        "          elif label == 2:\n",
        "            labels.append([0,1,0])\n",
        "          else:\n",
        "            labels.append([0,0,1])'''\n",
        "          clear_output(wait=True)\n",
        "\n",
        "  return labels, signals\n"
      ],
      "metadata": {
        "id": "7z_NC9cImEMO"
      },
      "execution_count": 7,
      "outputs": []
    },
    {
      "cell_type": "code",
      "source": [
        "class PhysionetDataset:\n",
        "  def __init__(self, data, selected_eletrodes, batch_size, train=True, std=None, mean=None):\n",
        "    if(train):\n",
        "      self.std, self.mean = metrics_zscore(data, selected_eletrodes)\n",
        "    else:\n",
        "      self.std, self.mean = std, mean\n",
        "\n",
        "    label, signal = assemble_data(data, selected_eletrodes, self.std, self.mean)\n",
        "    img_generator = tf.keras.preprocessing.image.ImageDataGenerator()\n",
        "\n",
        "    self.features = img_generator.flow(\n",
        "        x=np.array(signal).reshape(len(signal), len(selected_eletrodes), 640, 1),\n",
        "        y=np.array(label).reshape(len(label),1),\n",
        "        batch_size=batch_size)\n",
        "\n"
      ],
      "metadata": {
        "id": "gmanROLbkXgg"
      },
      "execution_count": 8,
      "outputs": []
    },
    {
      "cell_type": "code",
      "source": [
        "batch = 64\n",
        "\n",
        "#TimeseriesGenerator\n",
        "train_dataset = PhysionetDataset(train_data, selected_eletrodes, batch)\n",
        "val_dataset = PhysionetDataset(val_data, selected_eletrodes, batch, train=False, std=train_dataset.std, mean=train_dataset.mean)\n",
        "#test_dataset = PhysionetDataset(test_data, selected_eletrodes, batch)"
      ],
      "metadata": {
        "id": "dGZAACBhnXFd",
        "colab": {
          "base_uri": "https://localhost:8080/"
        },
        "outputId": "139e133e-7b0d-41c8-deda-d18674a2546b"
      },
      "execution_count": 9,
      "outputs": [
        {
          "output_type": "stream",
          "name": "stdout",
          "text": [
            "30 20\n"
          ]
        }
      ]
    },
    {
      "cell_type": "code",
      "source": [
        "inp = layers.Input(shape=(64, 640, 1))\n",
        "'''\n",
        "            nn.MaxPool1d(2, 2),\n",
        "            nn.Dropout(p=0.1, inplace=True),\n",
        "            nn.Conv1d(inchannels, outchannels, 5, padding=2),\n",
        "            nn.LeakyReLU(0.1),\n",
        "            nn.Conv1d(outchannels, outchannels, 5, padding=2),\n",
        "            nn.LeakyReLU(0.1),\n",
        "'''\n",
        "x = layers.Conv2D(8, (2,2), padding= 'same')(inp)\n",
        "x = layers.Conv2D(16, (2,2), activation=layers.LeakyReLU(0.1), strides=(1,4))(x)\n",
        "x = layers.Conv2D(10, (2,2), padding= 'same')(x)\n",
        "\n",
        "x = layers.MaxPool2D((2,2))(x)\n",
        "x = layers.Dropout(0.1)(x)\n",
        "x = layers.Conv2D(8, (2,2), activation=layers.LeakyReLU(0.1), padding= 'same')(x)\n",
        "x = layers.Conv2D(8, (2,2), activation=layers.LeakyReLU(0.1), padding= 'same')(x)\n",
        "\n",
        "x = layers.MaxPool2D((2,2))(x)\n",
        "x = layers.Dropout(0.1)(x)\n",
        "x = layers.Conv2D(16, (2,2), activation=layers.LeakyReLU(0.1), padding= 'same')(x)\n",
        "x = layers.Conv2D(16, (2,2), activation=layers.LeakyReLU(0.1), padding= 'same')(x)\n",
        "\n",
        "x = layers.MaxPool2D((2,2))(x)\n",
        "x = layers.Dropout(0.1)(x)\n",
        "x = layers.Conv2D(32, (2,2), activation=layers.LeakyReLU(0.1), padding= 'same')(x)\n",
        "x = layers.Conv2D(32, (2,2), activation=layers.LeakyReLU(0.1), padding= 'same')(x)\n",
        "\n",
        "x = layers.MaxPool2D((2,2))(x)\n",
        "x = layers.Dropout(0.1)(x)\n",
        "x = layers.Conv2D(64, (2,2), activation=layers.LeakyReLU(0.1), padding= 'same')(x)\n",
        "x = layers.Conv2D(64, (2,2), activation=layers.LeakyReLU(0.1), padding= 'same')(x)\n",
        "\n",
        "x = layers.MaxPool2D((2,2))(x)\n",
        "x = layers.Dropout(0.1)(x)\n",
        "x = layers.Conv2D(128, (2,2), activation=layers.LeakyReLU(0.1), padding= 'same')(x)\n",
        "x = layers.Conv2D(128, (2,2), activation=layers.LeakyReLU(0.1), padding= 'same')(x)\n",
        "\n",
        "\n",
        "#x = layers.TimeDistributed(layers.LSTM(256, return_sequences=True))(x)\n",
        "#x = layers.TimeDistributed(layers.LSTM(128, return_sequences=True))(x)\n",
        "#x = layers.TimeDistributed(layers.LSTM(64, return_sequences=True))(x)\n",
        "x = layers.Flatten()(x)\n",
        "#x = layers.Dropout(0.5)(x)\n",
        "x = layers.Dense(3, activation='softmax')(x)\n",
        "\n",
        "model = Model(inp, x)"
      ],
      "metadata": {
        "id": "j1sUaKwGH5yQ"
      },
      "execution_count": 48,
      "outputs": []
    },
    {
      "cell_type": "code",
      "source": [
        "model.summary()"
      ],
      "metadata": {
        "id": "R8w2hSLulS5B"
      },
      "execution_count": null,
      "outputs": []
    },
    {
      "cell_type": "code",
      "source": [
        "\n",
        "model.compile(optimizer='adam',loss=tf.keras.losses.SparseCategoricalCrossentropy(),metrics=['accuracy'])"
      ],
      "metadata": {
        "id": "Z--N1ITBYRHM"
      },
      "execution_count": 50,
      "outputs": []
    },
    {
      "cell_type": "code",
      "source": [
        "#model = load_model('/content/drive/MyDrive/TCC-Physionet/model_CNNEEG.h5')\n",
        "\n",
        "history = model.fit(train_dataset.features.x, train_dataset.features.y, epochs=50,\n",
        "                    validation_data=(val_dataset.features.x, val_dataset.features.y))#, callbacks=callbacks)\n",
        "\n",
        "model.save('/content/drive/MyDrive/TCC-Physionet/model_CNNEEG.h5')"
      ],
      "metadata": {
        "id": "-WNTWEnr_eJo",
        "colab": {
          "base_uri": "https://localhost:8080/"
        },
        "outputId": "a071b9b0-0329-4ee8-9da4-4978d63ff246"
      },
      "execution_count": 51,
      "outputs": [
        {
          "output_type": "stream",
          "name": "stdout",
          "text": [
            "Epoch 1/50\n",
            "15/15 [==============================] - 5s 247ms/step - loss: 1.0999 - accuracy: 0.3333 - val_loss: 1.0985 - val_accuracy: 0.3646\n",
            "Epoch 2/50\n",
            "15/15 [==============================] - 3s 189ms/step - loss: 1.0993 - accuracy: 0.3333 - val_loss: 1.0989 - val_accuracy: 0.3125\n",
            "Epoch 3/50\n",
            "15/15 [==============================] - 3s 191ms/step - loss: 1.0978 - accuracy: 0.3291 - val_loss: 1.0988 - val_accuracy: 0.3438\n",
            "Epoch 4/50\n",
            "15/15 [==============================] - 3s 196ms/step - loss: 1.0951 - accuracy: 0.3737 - val_loss: 1.0933 - val_accuracy: 0.3958\n",
            "Epoch 5/50\n",
            "15/15 [==============================] - 3s 209ms/step - loss: 1.0897 - accuracy: 0.4013 - val_loss: 1.0833 - val_accuracy: 0.3542\n",
            "Epoch 6/50\n",
            "15/15 [==============================] - 3s 203ms/step - loss: 1.0609 - accuracy: 0.4183 - val_loss: 1.0833 - val_accuracy: 0.4479\n",
            "Epoch 7/50\n",
            "15/15 [==============================] - 3s 196ms/step - loss: 1.0220 - accuracy: 0.4671 - val_loss: 1.0397 - val_accuracy: 0.5417\n",
            "Epoch 8/50\n",
            "15/15 [==============================] - 3s 190ms/step - loss: 0.9892 - accuracy: 0.5265 - val_loss: 1.0521 - val_accuracy: 0.4167\n",
            "Epoch 9/50\n",
            "15/15 [==============================] - 3s 188ms/step - loss: 0.9442 - accuracy: 0.5648 - val_loss: 1.0536 - val_accuracy: 0.5208\n",
            "Epoch 10/50\n",
            "15/15 [==============================] - 3s 192ms/step - loss: 0.9177 - accuracy: 0.5520 - val_loss: 1.0456 - val_accuracy: 0.5938\n",
            "Epoch 11/50\n",
            "15/15 [==============================] - 3s 212ms/step - loss: 0.8755 - accuracy: 0.5902 - val_loss: 1.1110 - val_accuracy: 0.5625\n",
            "Epoch 12/50\n",
            "15/15 [==============================] - 3s 204ms/step - loss: 0.8974 - accuracy: 0.5456 - val_loss: 1.0574 - val_accuracy: 0.5312\n",
            "Epoch 13/50\n",
            "15/15 [==============================] - 3s 203ms/step - loss: 0.8761 - accuracy: 0.5902 - val_loss: 1.0888 - val_accuracy: 0.4792\n",
            "Epoch 14/50\n",
            "15/15 [==============================] - 3s 191ms/step - loss: 0.8197 - accuracy: 0.6030 - val_loss: 1.1994 - val_accuracy: 0.5000\n",
            "Epoch 15/50\n",
            "15/15 [==============================] - 3s 191ms/step - loss: 0.8597 - accuracy: 0.5860 - val_loss: 1.0222 - val_accuracy: 0.5417\n",
            "Epoch 16/50\n",
            "15/15 [==============================] - 3s 195ms/step - loss: 0.8241 - accuracy: 0.6072 - val_loss: 1.0580 - val_accuracy: 0.5833\n",
            "Epoch 17/50\n",
            "15/15 [==============================] - 3s 212ms/step - loss: 0.8033 - accuracy: 0.6221 - val_loss: 1.0507 - val_accuracy: 0.5625\n",
            "Epoch 18/50\n",
            "15/15 [==============================] - 3s 209ms/step - loss: 0.7804 - accuracy: 0.6391 - val_loss: 1.0416 - val_accuracy: 0.5104\n",
            "Epoch 19/50\n",
            "15/15 [==============================] - 3s 207ms/step - loss: 0.7692 - accuracy: 0.6518 - val_loss: 1.0947 - val_accuracy: 0.6250\n",
            "Epoch 20/50\n",
            "15/15 [==============================] - 3s 196ms/step - loss: 0.7554 - accuracy: 0.6582 - val_loss: 1.0848 - val_accuracy: 0.5208\n",
            "Epoch 21/50\n",
            "15/15 [==============================] - 3s 194ms/step - loss: 0.7497 - accuracy: 0.6688 - val_loss: 1.0831 - val_accuracy: 0.5625\n",
            "Epoch 22/50\n",
            "15/15 [==============================] - 3s 185ms/step - loss: 0.6661 - accuracy: 0.7049 - val_loss: 1.1440 - val_accuracy: 0.5312\n",
            "Epoch 23/50\n",
            "15/15 [==============================] - 3s 200ms/step - loss: 0.7183 - accuracy: 0.6539 - val_loss: 1.0977 - val_accuracy: 0.5729\n",
            "Epoch 24/50\n",
            "15/15 [==============================] - 3s 205ms/step - loss: 0.6818 - accuracy: 0.7113 - val_loss: 1.0722 - val_accuracy: 0.5938\n",
            "Epoch 25/50\n",
            "15/15 [==============================] - 3s 209ms/step - loss: 0.6768 - accuracy: 0.6858 - val_loss: 1.1699 - val_accuracy: 0.5729\n",
            "Epoch 26/50\n",
            "15/15 [==============================] - 3s 210ms/step - loss: 0.6308 - accuracy: 0.7134 - val_loss: 1.0970 - val_accuracy: 0.5625\n",
            "Epoch 27/50\n",
            "15/15 [==============================] - 3s 210ms/step - loss: 0.5679 - accuracy: 0.7622 - val_loss: 1.3466 - val_accuracy: 0.5521\n",
            "Epoch 28/50\n",
            "15/15 [==============================] - 3s 209ms/step - loss: 0.5916 - accuracy: 0.7707 - val_loss: 1.1761 - val_accuracy: 0.6146\n",
            "Epoch 29/50\n",
            "15/15 [==============================] - 3s 231ms/step - loss: 0.5852 - accuracy: 0.7516 - val_loss: 1.1595 - val_accuracy: 0.5833\n",
            "Epoch 30/50\n",
            "15/15 [==============================] - 4s 236ms/step - loss: 0.5220 - accuracy: 0.7792 - val_loss: 1.1486 - val_accuracy: 0.6458\n",
            "Epoch 31/50\n",
            "15/15 [==============================] - 3s 203ms/step - loss: 0.4772 - accuracy: 0.8025 - val_loss: 1.3154 - val_accuracy: 0.5938\n",
            "Epoch 32/50\n",
            "15/15 [==============================] - 3s 190ms/step - loss: 0.4940 - accuracy: 0.7707 - val_loss: 1.2295 - val_accuracy: 0.6875\n",
            "Epoch 33/50\n",
            "15/15 [==============================] - 3s 189ms/step - loss: 0.5136 - accuracy: 0.7856 - val_loss: 1.2453 - val_accuracy: 0.5417\n",
            "Epoch 34/50\n",
            "15/15 [==============================] - 3s 190ms/step - loss: 0.4649 - accuracy: 0.8132 - val_loss: 1.2270 - val_accuracy: 0.6250\n",
            "Epoch 35/50\n",
            "15/15 [==============================] - 3s 198ms/step - loss: 0.4008 - accuracy: 0.8386 - val_loss: 1.4584 - val_accuracy: 0.5521\n",
            "Epoch 36/50\n",
            "15/15 [==============================] - 3s 209ms/step - loss: 0.4084 - accuracy: 0.8323 - val_loss: 1.2603 - val_accuracy: 0.6771\n",
            "Epoch 37/50\n",
            "15/15 [==============================] - 3s 201ms/step - loss: 0.3691 - accuracy: 0.8493 - val_loss: 1.5948 - val_accuracy: 0.6042\n",
            "Epoch 38/50\n",
            "15/15 [==============================] - 3s 191ms/step - loss: 0.3985 - accuracy: 0.8471 - val_loss: 1.3159 - val_accuracy: 0.6458\n",
            "Epoch 39/50\n",
            "15/15 [==============================] - 3s 192ms/step - loss: 0.3527 - accuracy: 0.8641 - val_loss: 1.6099 - val_accuracy: 0.5938\n",
            "Epoch 40/50\n",
            "15/15 [==============================] - 3s 186ms/step - loss: 0.3761 - accuracy: 0.8769 - val_loss: 1.3273 - val_accuracy: 0.6458\n",
            "Epoch 41/50\n",
            "15/15 [==============================] - 3s 197ms/step - loss: 0.3767 - accuracy: 0.8556 - val_loss: 1.4535 - val_accuracy: 0.6146\n",
            "Epoch 42/50\n",
            "15/15 [==============================] - 3s 209ms/step - loss: 0.2880 - accuracy: 0.8769 - val_loss: 1.7067 - val_accuracy: 0.6042\n",
            "Epoch 43/50\n",
            "15/15 [==============================] - 3s 207ms/step - loss: 0.2886 - accuracy: 0.8896 - val_loss: 1.5697 - val_accuracy: 0.6354\n",
            "Epoch 44/50\n",
            "15/15 [==============================] - 3s 198ms/step - loss: 0.3154 - accuracy: 0.8896 - val_loss: 1.4009 - val_accuracy: 0.6562\n",
            "Epoch 45/50\n",
            "15/15 [==============================] - 3s 187ms/step - loss: 0.2813 - accuracy: 0.8938 - val_loss: 1.7719 - val_accuracy: 0.5729\n",
            "Epoch 46/50\n",
            "15/15 [==============================] - 3s 196ms/step - loss: 0.4568 - accuracy: 0.8301 - val_loss: 1.6228 - val_accuracy: 0.6354\n",
            "Epoch 47/50\n",
            "15/15 [==============================] - 3s 193ms/step - loss: 0.4444 - accuracy: 0.8174 - val_loss: 1.2028 - val_accuracy: 0.6667\n",
            "Epoch 48/50\n",
            "15/15 [==============================] - 3s 209ms/step - loss: 0.3594 - accuracy: 0.8471 - val_loss: 1.1506 - val_accuracy: 0.6250\n",
            "Epoch 49/50\n",
            "15/15 [==============================] - 3s 205ms/step - loss: 0.2646 - accuracy: 0.8981 - val_loss: 1.3515 - val_accuracy: 0.6458\n",
            "Epoch 50/50\n",
            "15/15 [==============================] - 3s 195ms/step - loss: 0.1848 - accuracy: 0.9342 - val_loss: 1.7090 - val_accuracy: 0.5625\n"
          ]
        }
      ]
    },
    {
      "cell_type": "code",
      "source": [
        "model = load_model('/content/drive/MyDrive/TCC-Physionet/model_CNNEEG.h5')\n",
        "\n",
        "history = model.fit(train_dataset.features.x, train_dataset.features.y, epochs=30,\n",
        "                    validation_data=(val_dataset.features.x, val_dataset.features.y))#, callbacks=callbacks)\n",
        "\n",
        "model.save('/content/drive/MyDrive/TCC-Physionet/model_CNNEEG.h5')"
      ],
      "metadata": {
        "colab": {
          "base_uri": "https://localhost:8080/"
        },
        "id": "3Hj6765SQpYs",
        "outputId": "e51e4108-7f3e-4f31-ab8a-b2276ef6db10"
      },
      "execution_count": 52,
      "outputs": [
        {
          "output_type": "stream",
          "name": "stdout",
          "text": [
            "Epoch 1/30\n",
            "15/15 [==============================] - 4s 226ms/step - loss: 0.2470 - accuracy: 0.9045 - val_loss: 1.9006 - val_accuracy: 0.5938\n",
            "Epoch 2/30\n",
            "15/15 [==============================] - 3s 202ms/step - loss: 0.2945 - accuracy: 0.8896 - val_loss: 1.4200 - val_accuracy: 0.6667\n",
            "Epoch 3/30\n",
            "15/15 [==============================] - 3s 204ms/step - loss: 0.2492 - accuracy: 0.8896 - val_loss: 1.5371 - val_accuracy: 0.6042\n",
            "Epoch 4/30\n",
            "15/15 [==============================] - 3s 195ms/step - loss: 0.2410 - accuracy: 0.9130 - val_loss: 1.6439 - val_accuracy: 0.5833\n",
            "Epoch 5/30\n",
            "15/15 [==============================] - 3s 195ms/step - loss: 0.1872 - accuracy: 0.9299 - val_loss: 1.7320 - val_accuracy: 0.6146\n",
            "Epoch 6/30\n",
            "15/15 [==============================] - 3s 192ms/step - loss: 0.1735 - accuracy: 0.9406 - val_loss: 1.7471 - val_accuracy: 0.5833\n",
            "Epoch 7/30\n",
            "15/15 [==============================] - 3s 206ms/step - loss: 0.1775 - accuracy: 0.9469 - val_loss: 1.7333 - val_accuracy: 0.6042\n",
            "Epoch 8/30\n",
            "15/15 [==============================] - 3s 204ms/step - loss: 0.1680 - accuracy: 0.9321 - val_loss: 1.8904 - val_accuracy: 0.6042\n",
            "Epoch 9/30\n",
            "15/15 [==============================] - 3s 208ms/step - loss: 0.1246 - accuracy: 0.9427 - val_loss: 1.7828 - val_accuracy: 0.6146\n",
            "Epoch 10/30\n",
            "15/15 [==============================] - 3s 194ms/step - loss: 0.2050 - accuracy: 0.9257 - val_loss: 1.7702 - val_accuracy: 0.6042\n",
            "Epoch 11/30\n",
            "15/15 [==============================] - 3s 189ms/step - loss: 0.1466 - accuracy: 0.9469 - val_loss: 1.7117 - val_accuracy: 0.6354\n",
            "Epoch 12/30\n",
            "15/15 [==============================] - 3s 189ms/step - loss: 0.1440 - accuracy: 0.9469 - val_loss: 1.8166 - val_accuracy: 0.5521\n",
            "Epoch 13/30\n",
            "15/15 [==============================] - 3s 218ms/step - loss: 0.1683 - accuracy: 0.9321 - val_loss: 2.0396 - val_accuracy: 0.5208\n",
            "Epoch 14/30\n",
            "15/15 [==============================] - 3s 208ms/step - loss: 0.1412 - accuracy: 0.9533 - val_loss: 2.0954 - val_accuracy: 0.6042\n",
            "Epoch 15/30\n",
            "15/15 [==============================] - 3s 201ms/step - loss: 0.1417 - accuracy: 0.9533 - val_loss: 1.9651 - val_accuracy: 0.5938\n",
            "Epoch 16/30\n",
            "15/15 [==============================] - 3s 191ms/step - loss: 0.0978 - accuracy: 0.9618 - val_loss: 1.8595 - val_accuracy: 0.5938\n",
            "Epoch 17/30\n",
            "15/15 [==============================] - 3s 188ms/step - loss: 0.0994 - accuracy: 0.9724 - val_loss: 1.8788 - val_accuracy: 0.6146\n",
            "Epoch 18/30\n",
            "15/15 [==============================] - 3s 192ms/step - loss: 0.1063 - accuracy: 0.9660 - val_loss: 2.0508 - val_accuracy: 0.5833\n",
            "Epoch 19/30\n",
            "15/15 [==============================] - 3s 205ms/step - loss: 0.1208 - accuracy: 0.9639 - val_loss: 1.8456 - val_accuracy: 0.6042\n",
            "Epoch 20/30\n",
            "15/15 [==============================] - 3s 206ms/step - loss: 0.1328 - accuracy: 0.9533 - val_loss: 1.6940 - val_accuracy: 0.6458\n",
            "Epoch 21/30\n",
            "15/15 [==============================] - 3s 205ms/step - loss: 0.1282 - accuracy: 0.9490 - val_loss: 1.8232 - val_accuracy: 0.6250\n",
            "Epoch 22/30\n",
            "15/15 [==============================] - 3s 191ms/step - loss: 0.0875 - accuracy: 0.9682 - val_loss: 2.0142 - val_accuracy: 0.6042\n",
            "Epoch 23/30\n",
            "15/15 [==============================] - 3s 191ms/step - loss: 0.1549 - accuracy: 0.9448 - val_loss: 2.0485 - val_accuracy: 0.5833\n",
            "Epoch 24/30\n",
            "15/15 [==============================] - 3s 191ms/step - loss: 0.1964 - accuracy: 0.9469 - val_loss: 1.9441 - val_accuracy: 0.5729\n",
            "Epoch 25/30\n",
            "15/15 [==============================] - 3s 193ms/step - loss: 0.1612 - accuracy: 0.9278 - val_loss: 1.9708 - val_accuracy: 0.5938\n",
            "Epoch 26/30\n",
            "15/15 [==============================] - 3s 206ms/step - loss: 0.1269 - accuracy: 0.9597 - val_loss: 2.0873 - val_accuracy: 0.6042\n",
            "Epoch 27/30\n",
            "15/15 [==============================] - 3s 199ms/step - loss: 0.1054 - accuracy: 0.9575 - val_loss: 2.0979 - val_accuracy: 0.6250\n",
            "Epoch 28/30\n",
            "15/15 [==============================] - 3s 198ms/step - loss: 0.1114 - accuracy: 0.9575 - val_loss: 2.2094 - val_accuracy: 0.6250\n",
            "Epoch 29/30\n",
            "15/15 [==============================] - 3s 194ms/step - loss: 0.0854 - accuracy: 0.9703 - val_loss: 2.2143 - val_accuracy: 0.6771\n",
            "Epoch 30/30\n",
            "15/15 [==============================] - 3s 187ms/step - loss: 0.0931 - accuracy: 0.9618 - val_loss: 2.1465 - val_accuracy: 0.5521\n"
          ]
        }
      ]
    },
    {
      "cell_type": "code",
      "source": [
        "test_dataset = PhysionetDataset(test_data, selected_eletrodes, batch, train=False, std=train_dataset.std, mean=train_dataset.mean)"
      ],
      "metadata": {
        "id": "Rwx5bXyK0hAM",
        "colab": {
          "base_uri": "https://localhost:8080/"
        },
        "outputId": "aebc2a93-fc9b-4c06-ecd6-a107cd415802"
      },
      "execution_count": 22,
      "outputs": [
        {
          "output_type": "stream",
          "name": "stdout",
          "text": [
            "30 11\n"
          ]
        }
      ]
    },
    {
      "cell_type": "code",
      "source": [
        "score = model.evaluate(test_dataset.features.x, test_dataset.features.y, verbose=0)\n",
        "print('Loss: ', score[0])\n",
        "print('Accuracy: ', score[1])"
      ],
      "metadata": {
        "colab": {
          "base_uri": "https://localhost:8080/"
        },
        "id": "YLwaxBhBKBzN",
        "outputId": "5b34edc4-d31f-4220-e5e7-7e82489fcc31"
      },
      "execution_count": 53,
      "outputs": [
        {
          "output_type": "stream",
          "name": "stdout",
          "text": [
            "Loss:  1.7705800533294678\n",
            "Accuracy:  0.6451612710952759\n"
          ]
        }
      ]
    },
    {
      "cell_type": "code",
      "source": [
        "inp = layers.Input(shape=(64, 800, 1))\n",
        "x = layers.Conv2D(256, (2,2), activation='relu')(inp)\n",
        "x = layers.Conv2D(256, (2,2), activation='relu')(x)\n",
        "\n",
        "x = layers.MaxPool2D((2,2))(x)\n",
        "\n",
        "x = layers.Conv2D(512, (2,2), activation='relu')(x)\n",
        "x = layers.Conv2D(512, (2,2), activation='relu')(x)\n",
        "\n",
        "x = layers.MaxPool2D((2,2))(x)\n",
        "\n",
        "x = layers.TimeDistributed(layers.LSTM(256, return_sequences=True))(x)\n",
        "x = layers.TimeDistributed(layers.LSTM(128, return_sequences=True))(x)\n",
        "x = layers.TimeDistributed(layers.LSTM(64, return_sequences=True))(x)\n",
        "x = layers.Flatten()(x)\n",
        "#x = layers.Dropout(0.5)(x)\n",
        "x = layers.Dense(3, activation='softmax')(x)\n",
        "\n",
        "model = Model(inp, x)"
      ],
      "metadata": {
        "id": "ZbwY5oIz0o2A"
      },
      "execution_count": null,
      "outputs": []
    },
    {
      "cell_type": "code",
      "source": [
        "import numpy as np\n",
        "import matplotlib.pyplot as plt\n",
        "\n",
        "from sklearn.pipeline import Pipeline\n",
        "from sklearn.discriminant_analysis import LinearDiscriminantAnalysis\n",
        "from sklearn.model_selection import ShuffleSplit, cross_val_score\n",
        "\n",
        "from mne import Epochs, pick_types, events_from_annotations\n",
        "from mne.channels import make_standard_montage\n",
        "from mne.io import concatenate_raws, read_raw_edf\n",
        "from mne.datasets import eegbci\n",
        "from mne.decoding import CSP\n",
        "print(__doc__)\n"
      ],
      "metadata": {
        "colab": {
          "base_uri": "https://localhost:8080/"
        },
        "id": "woVfLgN4T0RV",
        "outputId": "b3698df1-f6c3-4794-e143-84cff7e4162c"
      },
      "execution_count": null,
      "outputs": [
        {
          "output_type": "stream",
          "name": "stdout",
          "text": [
            "Automatically created module for IPython interactive environment\n"
          ]
        }
      ]
    },
    {
      "cell_type": "code",
      "source": [
        "\n",
        "\n",
        "# #############################################################################\n",
        "# # Set parameters and read data\n",
        "\n",
        "# avoid classification of evoked responses by using epochs that start 1s after\n",
        "# cue onset.\n",
        "tmin, tmax = -1.0, 4.0\n",
        "event_id = dict(rest=1,left=2, right=3)\n",
        "subject = 1\n",
        "runs = [3]\n",
        "\n",
        "raw_fnames = eegbci.load_data(subject, runs)\n",
        "raw = concatenate_raws([read_raw_edf(f, preload=True) for f in raw_fnames])\n",
        "eegbci.standardize(raw)  # set channel names\n",
        "montage = make_standard_montage(\"standard_1005\")\n",
        "raw.set_montage(montage)\n"
      ],
      "metadata": {
        "colab": {
          "base_uri": "https://localhost:8080/",
          "height": 383
        },
        "id": "pIrS8LCTWW6h",
        "outputId": "22007187-893a-454c-a869-45cfc20fdc35"
      },
      "execution_count": null,
      "outputs": [
        {
          "output_type": "stream",
          "name": "stdout",
          "text": [
            "Extracting EDF parameters from /root/mne_data/MNE-eegbci-data/files/eegmmidb/1.0.0/S001/S001R03.edf...\n",
            "EDF file detected\n",
            "Setting channel info structure...\n",
            "Creating raw.info structure...\n",
            "Reading 0 ... 19999  =      0.000 ...   124.994 secs...\n"
          ]
        },
        {
          "output_type": "execute_result",
          "data": {
            "text/plain": [
              "<RawEDF | S001R03.edf, 64 x 20000 (125.0 s), ~9.9 MB, data loaded>"
            ],
            "text/html": [
              "<table class=\"table table-hover table-striped table-sm table-responsive small\">\n",
              "    <tr>\n",
              "        <th>Measurement date</th>\n",
              "        \n",
              "        <td>August 12, 2009  16:15:00 GMT</td>\n",
              "        \n",
              "    </tr>\n",
              "    <tr>\n",
              "        <th>Experimenter</th>\n",
              "        \n",
              "        <td>Unknown</td>\n",
              "        \n",
              "    </tr>\n",
              "        <th>Participant</th>\n",
              "        \n",
              "            \n",
              "            <td>X</td>\n",
              "            \n",
              "        \n",
              "    </tr>\n",
              "    <tr>\n",
              "        <th>Digitized points</th>\n",
              "        \n",
              "        <td>67 points</td>\n",
              "        \n",
              "    </tr>\n",
              "    <tr>\n",
              "        <th>Good channels</th>\n",
              "        <td>64 EEG</td>\n",
              "    </tr>\n",
              "    <tr>\n",
              "        <th>Bad channels</th>\n",
              "        <td>None</td>\n",
              "    </tr>\n",
              "    <tr>\n",
              "        <th>EOG channels</th>\n",
              "        <td>Not available</td>\n",
              "    </tr>\n",
              "    <tr>\n",
              "        <th>ECG channels</th>\n",
              "        <td>Not available</td>\n",
              "    \n",
              "    <tr>\n",
              "        <th>Sampling frequency</th>\n",
              "        <td>160.00 Hz</td>\n",
              "    </tr>\n",
              "    \n",
              "    \n",
              "    <tr>\n",
              "        <th>Highpass</th>\n",
              "        <td>0.00 Hz</td>\n",
              "    </tr>\n",
              "    \n",
              "    \n",
              "    <tr>\n",
              "        <th>Lowpass</th>\n",
              "        <td>80.00 Hz</td>\n",
              "    </tr>\n",
              "    \n",
              "    \n",
              "    \n",
              "    <tr>\n",
              "        <th>Filenames</th>\n",
              "        <td>S001R03.edf</td>\n",
              "    </tr>\n",
              "    \n",
              "    <tr>\n",
              "        <th>Duration</th>\n",
              "        <td>00:02:05 (HH:MM:SS)</td>\n",
              "    </tr>\n",
              "</table>"
            ]
          },
          "metadata": {},
          "execution_count": 42
        }
      ]
    },
    {
      "cell_type": "code",
      "source": [
        "# Apply band-pass filter\n",
        "#raw.filter(2.0, 10.0, fir_design=\"firwin\", skip_by_annotation=\"edge\")\n",
        "\n",
        "events, _ = events_from_annotations(raw, event_id='auto')\n",
        "print(events)\n",
        "picks = pick_types(raw.info, meg=False, eeg=True, stim=False, eog=False, exclude=\"bads\")\n"
      ],
      "metadata": {
        "colab": {
          "base_uri": "https://localhost:8080/"
        },
        "id": "1Wn3uXLpWeM0",
        "outputId": "13eec3c4-730a-48a7-8693-c03e7a3f1c6f"
      },
      "execution_count": null,
      "outputs": [
        {
          "output_type": "stream",
          "name": "stdout",
          "text": [
            "Used Annotations descriptions: ['T0', 'T1', 'T2']\n",
            "[[    0     0     1]\n",
            " [  672     0     3]\n",
            " [ 1328     0     1]\n",
            " [ 2000     0     2]\n",
            " [ 2656     0     1]\n",
            " [ 3328     0     2]\n",
            " [ 3984     0     1]\n",
            " [ 4656     0     3]\n",
            " [ 5312     0     1]\n",
            " [ 5984     0     3]\n",
            " [ 6640     0     1]\n",
            " [ 7312     0     2]\n",
            " [ 7968     0     1]\n",
            " [ 8640     0     2]\n",
            " [ 9296     0     1]\n",
            " [ 9968     0     3]\n",
            " [10624     0     1]\n",
            " [11296     0     2]\n",
            " [11952     0     1]\n",
            " [12624     0     3]\n",
            " [13280     0     1]\n",
            " [13952     0     3]\n",
            " [14608     0     1]\n",
            " [15280     0     2]\n",
            " [15936     0     1]\n",
            " [16608     0     2]\n",
            " [17264     0     1]\n",
            " [17936     0     3]\n",
            " [18592     0     1]\n",
            " [19264     0     2]]\n"
          ]
        }
      ]
    },
    {
      "cell_type": "code",
      "source": [
        "# Read epochs (train will be done only between 1 and 2s)\n",
        "# Testing will be done with a running classifier\n",
        "epochs = Epochs(\n",
        "    raw,\n",
        "    events,\n",
        "    event_id,\n",
        "    tmin,\n",
        "    tmax,\n",
        "    proj=True,\n",
        "    picks=picks,\n",
        "    baseline=None,\n",
        "    preload=True,\n",
        ")\n",
        "epochs_train = epochs.copy().crop(tmin=1.0, tmax=2.0)\n",
        "labels = epochs.events[:, -1] - 2"
      ],
      "metadata": {
        "colab": {
          "base_uri": "https://localhost:8080/"
        },
        "id": "2iQcnKdZWhtW",
        "outputId": "5e49a8dc-7e9a-46d6-94c8-34edc41c3c36"
      },
      "execution_count": null,
      "outputs": [
        {
          "output_type": "stream",
          "name": "stdout",
          "text": [
            "Not setting metadata\n",
            "30 matching events found\n",
            "No baseline correction applied\n",
            "0 projection items activated\n",
            "Using data from preloaded Raw for 30 events and 801 original time points ...\n",
            "1 bad epochs dropped\n"
          ]
        }
      ]
    },
    {
      "cell_type": "code",
      "source": [
        "# Define a monte-carlo cross-validation generator (reduce variance):\n",
        "scores = []\n",
        "epochs_data = epochs.get_data()\n",
        "epochs_data_train = epochs_train.get_data()\n",
        "cv = ShuffleSplit(10, test_size=0.2, random_state=42)\n",
        "cv_split = cv.split(epochs_data_train)\n",
        "\n",
        "# Assemble a classifier\n",
        "lda = LinearDiscriminantAnalysis()\n",
        "csp = CSP(n_components=3, reg=None, log=True, norm_trace=False)\n",
        "\n",
        "# Use scikit-learn Pipeline with cross_val_score function\n",
        "clf = Pipeline([(\"CSP\", csp), (\"LDA\", lda)])\n",
        "scores = cross_val_score(clf, epochs_data_train, labels, cv=cv, n_jobs=None)\n",
        "\n",
        "# Printing the results\n",
        "class_balance = np.mean(labels == labels[0])\n",
        "class_balance = max(class_balance, 1.0 - class_balance)\n",
        "print(\n",
        "    \"Classification accuracy: %f / Chance level: %f\" % (np.mean(scores), class_balance)\n",
        ")\n",
        "\n",
        "# plot CSP patterns estimated on full data for visualization\n",
        "retorno = csp.fit_transform(epochs_data, labels)\n",
        "\n",
        "csp.plot_patterns(epochs.info, ch_type=\"eeg\", units=\"Patterns (AU)\", size=1.5)"
      ],
      "metadata": {
        "id": "FbwnkKY-Wwv1"
      },
      "execution_count": null,
      "outputs": []
    },
    {
      "cell_type": "code",
      "source": [
        "print(len(epochs_data),len(epochs_data[0]), len(epochs_data[0][0]))\n",
        "print(labels)"
      ],
      "metadata": {
        "id": "dKsZG3rHZKAD",
        "colab": {
          "base_uri": "https://localhost:8080/"
        },
        "outputId": "1b43115c-dd5d-4f13-fc64-0705d0233729"
      },
      "execution_count": null,
      "outputs": [
        {
          "output_type": "stream",
          "name": "stdout",
          "text": [
            "29 64 801\n",
            "[ 1 -1  0 -1  0 -1  1 -1  1 -1  0 -1  0 -1  1 -1  0 -1  1 -1  1 -1  0 -1\n",
            "  0 -1  1 -1  0]\n"
          ]
        }
      ]
    },
    {
      "cell_type": "code",
      "source": [
        "print(len(retorno))\n",
        "print(len(retorno),len(retorno[0]))\n",
        "print(retorno)"
      ],
      "metadata": {
        "id": "XAZDG6uUbrFU"
      },
      "execution_count": null,
      "outputs": []
    },
    {
      "cell_type": "code",
      "source": [
        "sfreq = raw.info[\"sfreq\"]\n",
        "w_length = int(sfreq * 0.5)  # running classifier: window length\n",
        "w_step = int(sfreq * 0.1)  # running classifier: window step size\n",
        "w_start = np.arange(0, epochs_data.shape[2] - w_length, w_step)\n",
        "\n",
        "scores_windows = []\n",
        "\n",
        "for train_idx, test_idx in cv_split:\n",
        "    y_train, y_test = labels[train_idx], labels[test_idx]\n",
        "\n",
        "    X_train = csp.fit_transform(epochs_data_train[train_idx], y_train)\n",
        "    X_test = csp.transform(epochs_data_train[test_idx])\n",
        "    print(len(X_test), len(X_test[0]), X_test[0][0])\n",
        "    # fit classifier\n",
        "    lda.fit(X_train, y_train)\n",
        "\n",
        "    # running classifier: test classifier on sliding window\n",
        "    score_this_window = []\n",
        "    for n in w_start:\n",
        "        X_test = csp.transform(epochs_data[test_idx][:, :, n : (n + w_length)])\n",
        "        score_this_window.append(lda.score(X_test, y_test))\n",
        "    scores_windows.append(score_this_window)\n",
        "\n",
        "# Plot scores over time\n",
        "w_times = (w_start + w_length / 2.0) / sfreq + epochs.tmin\n",
        "\n",
        "plt.figure()\n",
        "plt.plot(w_times, np.mean(scores_windows, 0), label=\"Score\")\n",
        "plt.axvline(0, linestyle=\"--\", color=\"k\", label=\"Onset\")\n",
        "plt.axhline(0.5, linestyle=\"-\", color=\"k\", label=\"Chance\")\n",
        "plt.xlabel(\"time (s)\")\n",
        "plt.ylabel(\"classification accuracy\")\n",
        "plt.title(\"Classification score over time\")\n",
        "plt.legend(loc=\"lower right\")\n",
        "plt.show()"
      ],
      "metadata": {
        "id": "6fjjcJkVW1dT"
      },
      "execution_count": null,
      "outputs": []
    },
    {
      "cell_type": "code",
      "source": [
        "parametros = csp.get_params(True)"
      ],
      "metadata": {
        "id": "pS3XMAh0a4EN"
      },
      "execution_count": null,
      "outputs": []
    },
    {
      "cell_type": "code",
      "source": [
        "parametros"
      ],
      "metadata": {
        "colab": {
          "base_uri": "https://localhost:8080/"
        },
        "id": "lcFcl6oG2fC6",
        "outputId": "749f49ed-151a-4235-fc97-2eb845d533bf"
      },
      "execution_count": null,
      "outputs": [
        {
          "output_type": "execute_result",
          "data": {
            "text/plain": [
              "{'component_order': 'mutual_info',\n",
              " 'cov_est': 'concat',\n",
              " 'cov_method_params': None,\n",
              " 'log': True,\n",
              " 'n_components': 12,\n",
              " 'norm_trace': False,\n",
              " 'rank': None,\n",
              " 'reg': None,\n",
              " 'transform_into': 'average_power'}"
            ]
          },
          "metadata": {},
          "execution_count": 18
        }
      ]
    },
    {
      "cell_type": "code",
      "source": [
        "len(epochs_data_train)"
      ],
      "metadata": {
        "id": "AikMwKKT6Lh-",
        "colab": {
          "base_uri": "https://localhost:8080/"
        },
        "outputId": "4dd7ff81-31a2-4cd4-fc46-dedca4827c85"
      },
      "execution_count": null,
      "outputs": [
        {
          "output_type": "execute_result",
          "data": {
            "text/plain": [
              "29"
            ]
          },
          "metadata": {},
          "execution_count": 20
        }
      ]
    },
    {
      "cell_type": "code",
      "source": [
        "len(epochs_data_train[0])"
      ],
      "metadata": {
        "colab": {
          "base_uri": "https://localhost:8080/"
        },
        "id": "_2l5Iyan-4hV",
        "outputId": "402202c9-653c-4bea-8905-65e6163dcf94"
      },
      "execution_count": null,
      "outputs": [
        {
          "output_type": "execute_result",
          "data": {
            "text/plain": [
              "64"
            ]
          },
          "metadata": {},
          "execution_count": 21
        }
      ]
    },
    {
      "cell_type": "code",
      "source": [
        "len(epochs_data_train[0][0])"
      ],
      "metadata": {
        "colab": {
          "base_uri": "https://localhost:8080/"
        },
        "id": "K85QXiw--7lU",
        "outputId": "146c9013-b8a1-4c3d-b6a4-eb9c68f0978d"
      },
      "execution_count": null,
      "outputs": [
        {
          "output_type": "execute_result",
          "data": {
            "text/plain": [
              "161"
            ]
          },
          "metadata": {},
          "execution_count": 22
        }
      ]
    },
    {
      "cell_type": "code",
      "source": [
        "cv_split = cv.split(epochs_data_train)\n",
        "\n",
        "\n",
        "for train_idx, test_idx in cv_split:\n",
        "  print(test_idx)\n",
        "  print('-------------')\n",
        "  X_test = csp.transform(epochs_data_train[train_idx])\n",
        "  print(len(X_test))\n",
        "  print(len(X_test[0]))\n"
      ],
      "metadata": {
        "colab": {
          "base_uri": "https://localhost:8080/"
        },
        "id": "kamxrzzY_xY4",
        "outputId": "893e770d-a1fc-42af-ac41-a17872e1579f"
      },
      "execution_count": null,
      "outputs": [
        {
          "output_type": "stream",
          "name": "stdout",
          "text": [
            "[27 16 12 22  8  9]\n",
            "-------------\n",
            "23\n",
            "12\n",
            "[ 0  5 20 25 13  7]\n",
            "-------------\n",
            "23\n",
            "12\n",
            "[ 4 24 10  0  8 19]\n",
            "-------------\n",
            "23\n",
            "12\n",
            "[ 3  1  4  5 16 25]\n",
            "-------------\n",
            "23\n",
            "12\n",
            "[14  3 27 19 24 21]\n",
            "-------------\n",
            "23\n",
            "12\n",
            "[17 11  7 13  0 27]\n",
            "-------------\n",
            "23\n",
            "12\n",
            "[14 13 18 15  9 26]\n",
            "-------------\n",
            "23\n",
            "12\n",
            "[ 9  8  7 12  3 14]\n",
            "-------------\n",
            "23\n",
            "12\n",
            "[12 14 21 20  6  7]\n",
            "-------------\n",
            "23\n",
            "12\n",
            "[13 14 15 25  4 20]\n",
            "-------------\n",
            "23\n",
            "12\n"
          ]
        }
      ]
    },
    {
      "cell_type": "code",
      "source": [
        "print(len(epochs_data_train), len(epochs_data_train[0]))"
      ],
      "metadata": {
        "colab": {
          "base_uri": "https://localhost:8080/"
        },
        "id": "ROdaI78gAGGB",
        "outputId": "f6196cf2-b4f9-46b9-9de9-13b82e48d26b"
      },
      "execution_count": null,
      "outputs": [
        {
          "output_type": "stream",
          "name": "stdout",
          "text": [
            "29 64\n"
          ]
        }
      ]
    },
    {
      "cell_type": "code",
      "source": [
        "epochs_data_train.shape()"
      ],
      "metadata": {
        "colab": {
          "base_uri": "https://localhost:8080/",
          "height": 175
        },
        "id": "kpV9GDmkGahG",
        "outputId": "4c787f06-0946-47a8-b21d-c82b2be44309"
      },
      "execution_count": null,
      "outputs": [
        {
          "output_type": "error",
          "ename": "TypeError",
          "evalue": "ignored",
          "traceback": [
            "\u001b[0;31m---------------------------------------------------------------------------\u001b[0m",
            "\u001b[0;31mTypeError\u001b[0m                                 Traceback (most recent call last)",
            "\u001b[0;32m<ipython-input-51-ce5286e76427>\u001b[0m in \u001b[0;36m<cell line: 1>\u001b[0;34m()\u001b[0m\n\u001b[0;32m----> 1\u001b[0;31m \u001b[0mepochs_data_train\u001b[0m\u001b[0;34m.\u001b[0m\u001b[0mshape\u001b[0m\u001b[0;34m(\u001b[0m\u001b[0;34m)\u001b[0m\u001b[0;34m\u001b[0m\u001b[0;34m\u001b[0m\u001b[0m\n\u001b[0m",
            "\u001b[0;31mTypeError\u001b[0m: 'tuple' object is not callable"
          ]
        }
      ]
    },
    {
      "cell_type": "code",
      "source": [],
      "metadata": {
        "id": "RlqRtMXtGgLZ"
      },
      "execution_count": null,
      "outputs": []
    }
  ]
}