{
  "cells": [
    {
      "cell_type": "code",
      "execution_count": 1,
      "metadata": {
        "id": "kiQcUuBXwMRI"
      },
      "outputs": [],
      "source": [
        "from torch.utils.data import DataLoader, Dataset\n",
        "import torch\n",
        "import argparse\n",
        "import torch.nn as nn\n",
        "\n",
        "import numpy as np\n",
        "from zipfile import ZipFile\n",
        "import matplotlib.pyplot as plt\n",
        "import os\n",
        "import pandas as pd\n",
        "import torch.optim as optim\n",
        "import random\n",
        "import torch.nn.functional as F\n",
        "from sklearn import metrics\n",
        "from tqdm.notebook import tqdm\n",
        "import gc\n",
        "import shutil\n",
        "import pywt"
      ]
    },
    {
      "cell_type": "code",
      "execution_count": 2,
      "metadata": {
        "colab": {
          "base_uri": "https://localhost:8080/"
        },
        "id": "Jc1m62_pEycb",
        "outputId": "87e276f4-7263-4b69-d9b0-d239df9a99d3"
      },
      "outputs": [
        {
          "output_type": "stream",
          "name": "stdout",
          "text": [
            "Collecting mne\n",
            "  Downloading mne-1.5.1-py3-none-any.whl (7.7 MB)\n",
            "\u001b[2K     \u001b[90m━━━━━━━━━━━━━━━━━━━━━━━━━━━━━━━━━━━━━━━━\u001b[0m \u001b[32m7.7/7.7 MB\u001b[0m \u001b[31m28.0 MB/s\u001b[0m eta \u001b[36m0:00:00\u001b[0m\n",
            "\u001b[?25hRequirement already satisfied: numpy>=1.15.4 in /usr/local/lib/python3.10/dist-packages (from mne) (1.23.5)\n",
            "Requirement already satisfied: scipy>=1.6.3 in /usr/local/lib/python3.10/dist-packages (from mne) (1.11.3)\n",
            "Requirement already satisfied: matplotlib>=3.4.0 in /usr/local/lib/python3.10/dist-packages (from mne) (3.7.1)\n",
            "Requirement already satisfied: tqdm in /usr/local/lib/python3.10/dist-packages (from mne) (4.66.1)\n",
            "Requirement already satisfied: pooch>=1.5 in /usr/local/lib/python3.10/dist-packages (from mne) (1.7.0)\n",
            "Requirement already satisfied: decorator in /usr/local/lib/python3.10/dist-packages (from mne) (4.4.2)\n",
            "Requirement already satisfied: packaging in /usr/local/lib/python3.10/dist-packages (from mne) (23.2)\n",
            "Requirement already satisfied: jinja2 in /usr/local/lib/python3.10/dist-packages (from mne) (3.1.2)\n",
            "Requirement already satisfied: contourpy>=1.0.1 in /usr/local/lib/python3.10/dist-packages (from matplotlib>=3.4.0->mne) (1.1.1)\n",
            "Requirement already satisfied: cycler>=0.10 in /usr/local/lib/python3.10/dist-packages (from matplotlib>=3.4.0->mne) (0.12.0)\n",
            "Requirement already satisfied: fonttools>=4.22.0 in /usr/local/lib/python3.10/dist-packages (from matplotlib>=3.4.0->mne) (4.43.1)\n",
            "Requirement already satisfied: kiwisolver>=1.0.1 in /usr/local/lib/python3.10/dist-packages (from matplotlib>=3.4.0->mne) (1.4.5)\n",
            "Requirement already satisfied: pillow>=6.2.0 in /usr/local/lib/python3.10/dist-packages (from matplotlib>=3.4.0->mne) (9.4.0)\n",
            "Requirement already satisfied: pyparsing>=2.3.1 in /usr/local/lib/python3.10/dist-packages (from matplotlib>=3.4.0->mne) (3.1.1)\n",
            "Requirement already satisfied: python-dateutil>=2.7 in /usr/local/lib/python3.10/dist-packages (from matplotlib>=3.4.0->mne) (2.8.2)\n",
            "Requirement already satisfied: platformdirs>=2.5.0 in /usr/local/lib/python3.10/dist-packages (from pooch>=1.5->mne) (3.11.0)\n",
            "Requirement already satisfied: requests>=2.19.0 in /usr/local/lib/python3.10/dist-packages (from pooch>=1.5->mne) (2.31.0)\n",
            "Requirement already satisfied: MarkupSafe>=2.0 in /usr/local/lib/python3.10/dist-packages (from jinja2->mne) (2.1.3)\n",
            "Requirement already satisfied: six>=1.5 in /usr/local/lib/python3.10/dist-packages (from python-dateutil>=2.7->matplotlib>=3.4.0->mne) (1.16.0)\n",
            "Requirement already satisfied: charset-normalizer<4,>=2 in /usr/local/lib/python3.10/dist-packages (from requests>=2.19.0->pooch>=1.5->mne) (3.3.0)\n",
            "Requirement already satisfied: idna<4,>=2.5 in /usr/local/lib/python3.10/dist-packages (from requests>=2.19.0->pooch>=1.5->mne) (3.4)\n",
            "Requirement already satisfied: urllib3<3,>=1.21.1 in /usr/local/lib/python3.10/dist-packages (from requests>=2.19.0->pooch>=1.5->mne) (2.0.6)\n",
            "Requirement already satisfied: certifi>=2017.4.17 in /usr/local/lib/python3.10/dist-packages (from requests>=2.19.0->pooch>=1.5->mne) (2023.7.22)\n",
            "Installing collected packages: mne\n",
            "Successfully installed mne-1.5.1\n"
          ]
        }
      ],
      "source": [
        "pip install mne"
      ]
    },
    {
      "cell_type": "code",
      "execution_count": 3,
      "metadata": {
        "colab": {
          "base_uri": "https://localhost:8080/"
        },
        "id": "mHiaFu-SGLZ2",
        "outputId": "67156676-13ee-4981-cfd9-7913fd22197d"
      },
      "outputs": [
        {
          "output_type": "stream",
          "name": "stdout",
          "text": [
            "Downloading EEGBCI data\n"
          ]
        },
        {
          "output_type": "stream",
          "name": "stderr",
          "text": [
            "Downloading file 'S001/S001R03.edf' from 'https://physionet.org/files/eegmmidb/1.0.0/S001/S001R03.edf' to '/content/MNE-eegbci-data/files/eegmmidb/1.0.0'.\n",
            "Downloading file 'S001/S001R07.edf' from 'https://physionet.org/files/eegmmidb/1.0.0/S001/S001R07.edf' to '/content/MNE-eegbci-data/files/eegmmidb/1.0.0'.\n",
            "Downloading file 'S001/S001R11.edf' from 'https://physionet.org/files/eegmmidb/1.0.0/S001/S001R11.edf' to '/content/MNE-eegbci-data/files/eegmmidb/1.0.0'.\n"
          ]
        },
        {
          "output_type": "stream",
          "name": "stdout",
          "text": [
            "Do you want to set the path:\n",
            "    /content\n",
            "as the default EEGBCI dataset path in the mne-python config [y]/n? y\n",
            "Attempting to create new mne-python configuration file:\n",
            "/root/.mne/mne-python.json\n",
            "Download complete in 11s (7.4 MB)\n",
            "Downloading EEGBCI data\n"
          ]
        },
        {
          "output_type": "stream",
          "name": "stderr",
          "text": [
            "Downloading file 'S002/S002R03.edf' from 'https://physionet.org/files/eegmmidb/1.0.0/S002/S002R03.edf' to '/content/MNE-eegbci-data/files/eegmmidb/1.0.0'.\n",
            "Downloading file 'S002/S002R07.edf' from 'https://physionet.org/files/eegmmidb/1.0.0/S002/S002R07.edf' to '/content/MNE-eegbci-data/files/eegmmidb/1.0.0'.\n",
            "Downloading file 'S002/S002R11.edf' from 'https://physionet.org/files/eegmmidb/1.0.0/S002/S002R11.edf' to '/content/MNE-eegbci-data/files/eegmmidb/1.0.0'.\n"
          ]
        },
        {
          "output_type": "stream",
          "name": "stdout",
          "text": [
            "Download complete in 08s (7.3 MB)\n",
            "Downloading EEGBCI data\n"
          ]
        },
        {
          "output_type": "stream",
          "name": "stderr",
          "text": [
            "Downloading file 'S003/S003R03.edf' from 'https://physionet.org/files/eegmmidb/1.0.0/S003/S003R03.edf' to '/content/MNE-eegbci-data/files/eegmmidb/1.0.0'.\n",
            "Downloading file 'S003/S003R07.edf' from 'https://physionet.org/files/eegmmidb/1.0.0/S003/S003R07.edf' to '/content/MNE-eegbci-data/files/eegmmidb/1.0.0'.\n",
            "Downloading file 'S003/S003R11.edf' from 'https://physionet.org/files/eegmmidb/1.0.0/S003/S003R11.edf' to '/content/MNE-eegbci-data/files/eegmmidb/1.0.0'.\n"
          ]
        },
        {
          "output_type": "stream",
          "name": "stdout",
          "text": [
            "Download complete in 08s (7.4 MB)\n",
            "Downloading EEGBCI data\n"
          ]
        },
        {
          "output_type": "stream",
          "name": "stderr",
          "text": [
            "Downloading file 'S004/S004R03.edf' from 'https://physionet.org/files/eegmmidb/1.0.0/S004/S004R03.edf' to '/content/MNE-eegbci-data/files/eegmmidb/1.0.0'.\n",
            "Downloading file 'S004/S004R07.edf' from 'https://physionet.org/files/eegmmidb/1.0.0/S004/S004R07.edf' to '/content/MNE-eegbci-data/files/eegmmidb/1.0.0'.\n",
            "Downloading file 'S004/S004R11.edf' from 'https://physionet.org/files/eegmmidb/1.0.0/S004/S004R11.edf' to '/content/MNE-eegbci-data/files/eegmmidb/1.0.0'.\n"
          ]
        },
        {
          "output_type": "stream",
          "name": "stdout",
          "text": [
            "Download complete in 08s (7.3 MB)\n",
            "Downloading EEGBCI data\n"
          ]
        },
        {
          "output_type": "stream",
          "name": "stderr",
          "text": [
            "Downloading file 'S005/S005R03.edf' from 'https://physionet.org/files/eegmmidb/1.0.0/S005/S005R03.edf' to '/content/MNE-eegbci-data/files/eegmmidb/1.0.0'.\n",
            "Downloading file 'S005/S005R07.edf' from 'https://physionet.org/files/eegmmidb/1.0.0/S005/S005R07.edf' to '/content/MNE-eegbci-data/files/eegmmidb/1.0.0'.\n",
            "Downloading file 'S005/S005R11.edf' from 'https://physionet.org/files/eegmmidb/1.0.0/S005/S005R11.edf' to '/content/MNE-eegbci-data/files/eegmmidb/1.0.0'.\n"
          ]
        },
        {
          "output_type": "stream",
          "name": "stdout",
          "text": [
            "Download complete in 08s (7.3 MB)\n",
            "Downloading EEGBCI data\n"
          ]
        },
        {
          "output_type": "stream",
          "name": "stderr",
          "text": [
            "Downloading file 'S006/S006R03.edf' from 'https://physionet.org/files/eegmmidb/1.0.0/S006/S006R03.edf' to '/content/MNE-eegbci-data/files/eegmmidb/1.0.0'.\n",
            "Downloading file 'S006/S006R07.edf' from 'https://physionet.org/files/eegmmidb/1.0.0/S006/S006R07.edf' to '/content/MNE-eegbci-data/files/eegmmidb/1.0.0'.\n",
            "Downloading file 'S006/S006R11.edf' from 'https://physionet.org/files/eegmmidb/1.0.0/S006/S006R11.edf' to '/content/MNE-eegbci-data/files/eegmmidb/1.0.0'.\n"
          ]
        },
        {
          "output_type": "stream",
          "name": "stdout",
          "text": [
            "Download complete in 08s (7.3 MB)\n",
            "Downloading EEGBCI data\n"
          ]
        },
        {
          "output_type": "stream",
          "name": "stderr",
          "text": [
            "Downloading file 'S007/S007R03.edf' from 'https://physionet.org/files/eegmmidb/1.0.0/S007/S007R03.edf' to '/content/MNE-eegbci-data/files/eegmmidb/1.0.0'.\n",
            "Downloading file 'S007/S007R07.edf' from 'https://physionet.org/files/eegmmidb/1.0.0/S007/S007R07.edf' to '/content/MNE-eegbci-data/files/eegmmidb/1.0.0'.\n",
            "Downloading file 'S007/S007R11.edf' from 'https://physionet.org/files/eegmmidb/1.0.0/S007/S007R11.edf' to '/content/MNE-eegbci-data/files/eegmmidb/1.0.0'.\n"
          ]
        },
        {
          "output_type": "stream",
          "name": "stdout",
          "text": [
            "Download complete in 08s (7.4 MB)\n",
            "Downloading EEGBCI data\n"
          ]
        },
        {
          "output_type": "stream",
          "name": "stderr",
          "text": [
            "Downloading file 'S008/S008R03.edf' from 'https://physionet.org/files/eegmmidb/1.0.0/S008/S008R03.edf' to '/content/MNE-eegbci-data/files/eegmmidb/1.0.0'.\n",
            "Downloading file 'S008/S008R07.edf' from 'https://physionet.org/files/eegmmidb/1.0.0/S008/S008R07.edf' to '/content/MNE-eegbci-data/files/eegmmidb/1.0.0'.\n",
            "Downloading file 'S008/S008R11.edf' from 'https://physionet.org/files/eegmmidb/1.0.0/S008/S008R11.edf' to '/content/MNE-eegbci-data/files/eegmmidb/1.0.0'.\n"
          ]
        },
        {
          "output_type": "stream",
          "name": "stdout",
          "text": [
            "Download complete in 08s (7.3 MB)\n",
            "Downloading EEGBCI data\n"
          ]
        },
        {
          "output_type": "stream",
          "name": "stderr",
          "text": [
            "Downloading file 'S009/S009R03.edf' from 'https://physionet.org/files/eegmmidb/1.0.0/S009/S009R03.edf' to '/content/MNE-eegbci-data/files/eegmmidb/1.0.0'.\n",
            "Downloading file 'S009/S009R07.edf' from 'https://physionet.org/files/eegmmidb/1.0.0/S009/S009R07.edf' to '/content/MNE-eegbci-data/files/eegmmidb/1.0.0'.\n",
            "Downloading file 'S009/S009R11.edf' from 'https://physionet.org/files/eegmmidb/1.0.0/S009/S009R11.edf' to '/content/MNE-eegbci-data/files/eegmmidb/1.0.0'.\n"
          ]
        },
        {
          "output_type": "stream",
          "name": "stdout",
          "text": [
            "Download complete in 08s (7.3 MB)\n",
            "Downloading EEGBCI data\n"
          ]
        },
        {
          "output_type": "stream",
          "name": "stderr",
          "text": [
            "Downloading file 'S010/S010R03.edf' from 'https://physionet.org/files/eegmmidb/1.0.0/S010/S010R03.edf' to '/content/MNE-eegbci-data/files/eegmmidb/1.0.0'.\n",
            "Downloading file 'S010/S010R07.edf' from 'https://physionet.org/files/eegmmidb/1.0.0/S010/S010R07.edf' to '/content/MNE-eegbci-data/files/eegmmidb/1.0.0'.\n",
            "Downloading file 'S010/S010R11.edf' from 'https://physionet.org/files/eegmmidb/1.0.0/S010/S010R11.edf' to '/content/MNE-eegbci-data/files/eegmmidb/1.0.0'.\n"
          ]
        },
        {
          "output_type": "stream",
          "name": "stdout",
          "text": [
            "Download complete in 08s (7.3 MB)\n",
            "Downloading EEGBCI data\n"
          ]
        },
        {
          "output_type": "stream",
          "name": "stderr",
          "text": [
            "Downloading file 'S011/S011R03.edf' from 'https://physionet.org/files/eegmmidb/1.0.0/S011/S011R03.edf' to '/content/MNE-eegbci-data/files/eegmmidb/1.0.0'.\n",
            "Downloading file 'S011/S011R07.edf' from 'https://physionet.org/files/eegmmidb/1.0.0/S011/S011R07.edf' to '/content/MNE-eegbci-data/files/eegmmidb/1.0.0'.\n",
            "Downloading file 'S011/S011R11.edf' from 'https://physionet.org/files/eegmmidb/1.0.0/S011/S011R11.edf' to '/content/MNE-eegbci-data/files/eegmmidb/1.0.0'.\n"
          ]
        },
        {
          "output_type": "stream",
          "name": "stdout",
          "text": [
            "Download complete in 08s (7.3 MB)\n",
            "Downloading EEGBCI data\n"
          ]
        },
        {
          "output_type": "stream",
          "name": "stderr",
          "text": [
            "Downloading file 'S012/S012R03.edf' from 'https://physionet.org/files/eegmmidb/1.0.0/S012/S012R03.edf' to '/content/MNE-eegbci-data/files/eegmmidb/1.0.0'.\n",
            "Downloading file 'S012/S012R07.edf' from 'https://physionet.org/files/eegmmidb/1.0.0/S012/S012R07.edf' to '/content/MNE-eegbci-data/files/eegmmidb/1.0.0'.\n",
            "Downloading file 'S012/S012R11.edf' from 'https://physionet.org/files/eegmmidb/1.0.0/S012/S012R11.edf' to '/content/MNE-eegbci-data/files/eegmmidb/1.0.0'.\n"
          ]
        },
        {
          "output_type": "stream",
          "name": "stdout",
          "text": [
            "Download complete in 08s (7.3 MB)\n",
            "Downloading EEGBCI data\n"
          ]
        },
        {
          "output_type": "stream",
          "name": "stderr",
          "text": [
            "Downloading file 'S013/S013R03.edf' from 'https://physionet.org/files/eegmmidb/1.0.0/S013/S013R03.edf' to '/content/MNE-eegbci-data/files/eegmmidb/1.0.0'.\n",
            "Downloading file 'S013/S013R07.edf' from 'https://physionet.org/files/eegmmidb/1.0.0/S013/S013R07.edf' to '/content/MNE-eegbci-data/files/eegmmidb/1.0.0'.\n",
            "Downloading file 'S013/S013R11.edf' from 'https://physionet.org/files/eegmmidb/1.0.0/S013/S013R11.edf' to '/content/MNE-eegbci-data/files/eegmmidb/1.0.0'.\n"
          ]
        },
        {
          "output_type": "stream",
          "name": "stdout",
          "text": [
            "Download complete in 08s (7.3 MB)\n",
            "Downloading EEGBCI data\n"
          ]
        },
        {
          "output_type": "stream",
          "name": "stderr",
          "text": [
            "Downloading file 'S014/S014R03.edf' from 'https://physionet.org/files/eegmmidb/1.0.0/S014/S014R03.edf' to '/content/MNE-eegbci-data/files/eegmmidb/1.0.0'.\n",
            "Downloading file 'S014/S014R07.edf' from 'https://physionet.org/files/eegmmidb/1.0.0/S014/S014R07.edf' to '/content/MNE-eegbci-data/files/eegmmidb/1.0.0'.\n",
            "Downloading file 'S014/S014R11.edf' from 'https://physionet.org/files/eegmmidb/1.0.0/S014/S014R11.edf' to '/content/MNE-eegbci-data/files/eegmmidb/1.0.0'.\n"
          ]
        },
        {
          "output_type": "stream",
          "name": "stdout",
          "text": [
            "Download complete in 08s (7.3 MB)\n",
            "Downloading EEGBCI data\n"
          ]
        },
        {
          "output_type": "stream",
          "name": "stderr",
          "text": [
            "Downloading file 'S015/S015R03.edf' from 'https://physionet.org/files/eegmmidb/1.0.0/S015/S015R03.edf' to '/content/MNE-eegbci-data/files/eegmmidb/1.0.0'.\n",
            "Downloading file 'S015/S015R07.edf' from 'https://physionet.org/files/eegmmidb/1.0.0/S015/S015R07.edf' to '/content/MNE-eegbci-data/files/eegmmidb/1.0.0'.\n",
            "Downloading file 'S015/S015R11.edf' from 'https://physionet.org/files/eegmmidb/1.0.0/S015/S015R11.edf' to '/content/MNE-eegbci-data/files/eegmmidb/1.0.0'.\n"
          ]
        },
        {
          "output_type": "stream",
          "name": "stdout",
          "text": [
            "Download complete in 08s (7.3 MB)\n",
            "Downloading EEGBCI data\n"
          ]
        },
        {
          "output_type": "stream",
          "name": "stderr",
          "text": [
            "Downloading file 'S016/S016R03.edf' from 'https://physionet.org/files/eegmmidb/1.0.0/S016/S016R03.edf' to '/content/MNE-eegbci-data/files/eegmmidb/1.0.0'.\n",
            "Downloading file 'S016/S016R07.edf' from 'https://physionet.org/files/eegmmidb/1.0.0/S016/S016R07.edf' to '/content/MNE-eegbci-data/files/eegmmidb/1.0.0'.\n",
            "Downloading file 'S016/S016R11.edf' from 'https://physionet.org/files/eegmmidb/1.0.0/S016/S016R11.edf' to '/content/MNE-eegbci-data/files/eegmmidb/1.0.0'.\n"
          ]
        },
        {
          "output_type": "stream",
          "name": "stdout",
          "text": [
            "Download complete in 08s (7.3 MB)\n",
            "Downloading EEGBCI data\n"
          ]
        },
        {
          "output_type": "stream",
          "name": "stderr",
          "text": [
            "Downloading file 'S017/S017R03.edf' from 'https://physionet.org/files/eegmmidb/1.0.0/S017/S017R03.edf' to '/content/MNE-eegbci-data/files/eegmmidb/1.0.0'.\n",
            "Downloading file 'S017/S017R07.edf' from 'https://physionet.org/files/eegmmidb/1.0.0/S017/S017R07.edf' to '/content/MNE-eegbci-data/files/eegmmidb/1.0.0'.\n",
            "Downloading file 'S017/S017R11.edf' from 'https://physionet.org/files/eegmmidb/1.0.0/S017/S017R11.edf' to '/content/MNE-eegbci-data/files/eegmmidb/1.0.0'.\n"
          ]
        },
        {
          "output_type": "stream",
          "name": "stdout",
          "text": [
            "Download complete in 08s (7.3 MB)\n",
            "Downloading EEGBCI data\n"
          ]
        },
        {
          "output_type": "stream",
          "name": "stderr",
          "text": [
            "Downloading file 'S018/S018R03.edf' from 'https://physionet.org/files/eegmmidb/1.0.0/S018/S018R03.edf' to '/content/MNE-eegbci-data/files/eegmmidb/1.0.0'.\n",
            "Downloading file 'S018/S018R07.edf' from 'https://physionet.org/files/eegmmidb/1.0.0/S018/S018R07.edf' to '/content/MNE-eegbci-data/files/eegmmidb/1.0.0'.\n",
            "Downloading file 'S018/S018R11.edf' from 'https://physionet.org/files/eegmmidb/1.0.0/S018/S018R11.edf' to '/content/MNE-eegbci-data/files/eegmmidb/1.0.0'.\n"
          ]
        },
        {
          "output_type": "stream",
          "name": "stdout",
          "text": [
            "Download complete in 08s (7.3 MB)\n",
            "Downloading EEGBCI data\n"
          ]
        },
        {
          "output_type": "stream",
          "name": "stderr",
          "text": [
            "Downloading file 'S019/S019R03.edf' from 'https://physionet.org/files/eegmmidb/1.0.0/S019/S019R03.edf' to '/content/MNE-eegbci-data/files/eegmmidb/1.0.0'.\n",
            "Downloading file 'S019/S019R07.edf' from 'https://physionet.org/files/eegmmidb/1.0.0/S019/S019R07.edf' to '/content/MNE-eegbci-data/files/eegmmidb/1.0.0'.\n",
            "Downloading file 'S019/S019R11.edf' from 'https://physionet.org/files/eegmmidb/1.0.0/S019/S019R11.edf' to '/content/MNE-eegbci-data/files/eegmmidb/1.0.0'.\n"
          ]
        },
        {
          "output_type": "stream",
          "name": "stdout",
          "text": [
            "Download complete in 08s (7.3 MB)\n",
            "Downloading EEGBCI data\n"
          ]
        },
        {
          "output_type": "stream",
          "name": "stderr",
          "text": [
            "Downloading file 'S020/S020R03.edf' from 'https://physionet.org/files/eegmmidb/1.0.0/S020/S020R03.edf' to '/content/MNE-eegbci-data/files/eegmmidb/1.0.0'.\n",
            "Downloading file 'S020/S020R07.edf' from 'https://physionet.org/files/eegmmidb/1.0.0/S020/S020R07.edf' to '/content/MNE-eegbci-data/files/eegmmidb/1.0.0'.\n",
            "Downloading file 'S020/S020R11.edf' from 'https://physionet.org/files/eegmmidb/1.0.0/S020/S020R11.edf' to '/content/MNE-eegbci-data/files/eegmmidb/1.0.0'.\n"
          ]
        },
        {
          "output_type": "stream",
          "name": "stdout",
          "text": [
            "Download complete in 08s (7.3 MB)\n",
            "Downloading EEGBCI data\n"
          ]
        },
        {
          "output_type": "stream",
          "name": "stderr",
          "text": [
            "Downloading file 'S021/S021R03.edf' from 'https://physionet.org/files/eegmmidb/1.0.0/S021/S021R03.edf' to '/content/MNE-eegbci-data/files/eegmmidb/1.0.0'.\n",
            "Downloading file 'S021/S021R07.edf' from 'https://physionet.org/files/eegmmidb/1.0.0/S021/S021R07.edf' to '/content/MNE-eegbci-data/files/eegmmidb/1.0.0'.\n",
            "Downloading file 'S021/S021R11.edf' from 'https://physionet.org/files/eegmmidb/1.0.0/S021/S021R11.edf' to '/content/MNE-eegbci-data/files/eegmmidb/1.0.0'.\n"
          ]
        },
        {
          "output_type": "stream",
          "name": "stdout",
          "text": [
            "Download complete in 08s (7.4 MB)\n",
            "Downloading EEGBCI data\n"
          ]
        },
        {
          "output_type": "stream",
          "name": "stderr",
          "text": [
            "Downloading file 'S022/S022R03.edf' from 'https://physionet.org/files/eegmmidb/1.0.0/S022/S022R03.edf' to '/content/MNE-eegbci-data/files/eegmmidb/1.0.0'.\n",
            "Downloading file 'S022/S022R07.edf' from 'https://physionet.org/files/eegmmidb/1.0.0/S022/S022R07.edf' to '/content/MNE-eegbci-data/files/eegmmidb/1.0.0'.\n",
            "Downloading file 'S022/S022R11.edf' from 'https://physionet.org/files/eegmmidb/1.0.0/S022/S022R11.edf' to '/content/MNE-eegbci-data/files/eegmmidb/1.0.0'.\n"
          ]
        },
        {
          "output_type": "stream",
          "name": "stdout",
          "text": [
            "Download complete in 08s (7.4 MB)\n",
            "Downloading EEGBCI data\n"
          ]
        },
        {
          "output_type": "stream",
          "name": "stderr",
          "text": [
            "Downloading file 'S023/S023R03.edf' from 'https://physionet.org/files/eegmmidb/1.0.0/S023/S023R03.edf' to '/content/MNE-eegbci-data/files/eegmmidb/1.0.0'.\n",
            "Downloading file 'S023/S023R07.edf' from 'https://physionet.org/files/eegmmidb/1.0.0/S023/S023R07.edf' to '/content/MNE-eegbci-data/files/eegmmidb/1.0.0'.\n",
            "Downloading file 'S023/S023R11.edf' from 'https://physionet.org/files/eegmmidb/1.0.0/S023/S023R11.edf' to '/content/MNE-eegbci-data/files/eegmmidb/1.0.0'.\n"
          ]
        },
        {
          "output_type": "stream",
          "name": "stdout",
          "text": [
            "Download complete in 08s (7.3 MB)\n",
            "Downloading EEGBCI data\n"
          ]
        },
        {
          "output_type": "stream",
          "name": "stderr",
          "text": [
            "Downloading file 'S024/S024R03.edf' from 'https://physionet.org/files/eegmmidb/1.0.0/S024/S024R03.edf' to '/content/MNE-eegbci-data/files/eegmmidb/1.0.0'.\n",
            "Downloading file 'S024/S024R07.edf' from 'https://physionet.org/files/eegmmidb/1.0.0/S024/S024R07.edf' to '/content/MNE-eegbci-data/files/eegmmidb/1.0.0'.\n",
            "Downloading file 'S024/S024R11.edf' from 'https://physionet.org/files/eegmmidb/1.0.0/S024/S024R11.edf' to '/content/MNE-eegbci-data/files/eegmmidb/1.0.0'.\n"
          ]
        },
        {
          "output_type": "stream",
          "name": "stdout",
          "text": [
            "Download complete in 08s (7.3 MB)\n",
            "Downloading EEGBCI data\n"
          ]
        },
        {
          "output_type": "stream",
          "name": "stderr",
          "text": [
            "Downloading file 'S025/S025R03.edf' from 'https://physionet.org/files/eegmmidb/1.0.0/S025/S025R03.edf' to '/content/MNE-eegbci-data/files/eegmmidb/1.0.0'.\n",
            "Downloading file 'S025/S025R07.edf' from 'https://physionet.org/files/eegmmidb/1.0.0/S025/S025R07.edf' to '/content/MNE-eegbci-data/files/eegmmidb/1.0.0'.\n",
            "Downloading file 'S025/S025R11.edf' from 'https://physionet.org/files/eegmmidb/1.0.0/S025/S025R11.edf' to '/content/MNE-eegbci-data/files/eegmmidb/1.0.0'.\n"
          ]
        },
        {
          "output_type": "stream",
          "name": "stdout",
          "text": [
            "Download complete in 08s (7.3 MB)\n",
            "Downloading EEGBCI data\n"
          ]
        },
        {
          "output_type": "stream",
          "name": "stderr",
          "text": [
            "Downloading file 'S026/S026R03.edf' from 'https://physionet.org/files/eegmmidb/1.0.0/S026/S026R03.edf' to '/content/MNE-eegbci-data/files/eegmmidb/1.0.0'.\n",
            "Downloading file 'S026/S026R07.edf' from 'https://physionet.org/files/eegmmidb/1.0.0/S026/S026R07.edf' to '/content/MNE-eegbci-data/files/eegmmidb/1.0.0'.\n",
            "Downloading file 'S026/S026R11.edf' from 'https://physionet.org/files/eegmmidb/1.0.0/S026/S026R11.edf' to '/content/MNE-eegbci-data/files/eegmmidb/1.0.0'.\n"
          ]
        },
        {
          "output_type": "stream",
          "name": "stdout",
          "text": [
            "Download complete in 08s (7.3 MB)\n",
            "Downloading EEGBCI data\n"
          ]
        },
        {
          "output_type": "stream",
          "name": "stderr",
          "text": [
            "Downloading file 'S027/S027R03.edf' from 'https://physionet.org/files/eegmmidb/1.0.0/S027/S027R03.edf' to '/content/MNE-eegbci-data/files/eegmmidb/1.0.0'.\n",
            "Downloading file 'S027/S027R07.edf' from 'https://physionet.org/files/eegmmidb/1.0.0/S027/S027R07.edf' to '/content/MNE-eegbci-data/files/eegmmidb/1.0.0'.\n",
            "Downloading file 'S027/S027R11.edf' from 'https://physionet.org/files/eegmmidb/1.0.0/S027/S027R11.edf' to '/content/MNE-eegbci-data/files/eegmmidb/1.0.0'.\n"
          ]
        },
        {
          "output_type": "stream",
          "name": "stdout",
          "text": [
            "Download complete in 08s (7.3 MB)\n",
            "Downloading EEGBCI data\n"
          ]
        },
        {
          "output_type": "stream",
          "name": "stderr",
          "text": [
            "Downloading file 'S028/S028R03.edf' from 'https://physionet.org/files/eegmmidb/1.0.0/S028/S028R03.edf' to '/content/MNE-eegbci-data/files/eegmmidb/1.0.0'.\n",
            "Downloading file 'S028/S028R07.edf' from 'https://physionet.org/files/eegmmidb/1.0.0/S028/S028R07.edf' to '/content/MNE-eegbci-data/files/eegmmidb/1.0.0'.\n",
            "Downloading file 'S028/S028R11.edf' from 'https://physionet.org/files/eegmmidb/1.0.0/S028/S028R11.edf' to '/content/MNE-eegbci-data/files/eegmmidb/1.0.0'.\n"
          ]
        },
        {
          "output_type": "stream",
          "name": "stdout",
          "text": [
            "Download complete in 08s (7.3 MB)\n",
            "Downloading EEGBCI data\n"
          ]
        },
        {
          "output_type": "stream",
          "name": "stderr",
          "text": [
            "Downloading file 'S029/S029R03.edf' from 'https://physionet.org/files/eegmmidb/1.0.0/S029/S029R03.edf' to '/content/MNE-eegbci-data/files/eegmmidb/1.0.0'.\n",
            "Downloading file 'S029/S029R07.edf' from 'https://physionet.org/files/eegmmidb/1.0.0/S029/S029R07.edf' to '/content/MNE-eegbci-data/files/eegmmidb/1.0.0'.\n",
            "Downloading file 'S029/S029R11.edf' from 'https://physionet.org/files/eegmmidb/1.0.0/S029/S029R11.edf' to '/content/MNE-eegbci-data/files/eegmmidb/1.0.0'.\n"
          ]
        },
        {
          "output_type": "stream",
          "name": "stdout",
          "text": [
            "Download complete in 08s (7.4 MB)\n",
            "Downloading EEGBCI data\n"
          ]
        },
        {
          "output_type": "stream",
          "name": "stderr",
          "text": [
            "Downloading file 'S030/S030R03.edf' from 'https://physionet.org/files/eegmmidb/1.0.0/S030/S030R03.edf' to '/content/MNE-eegbci-data/files/eegmmidb/1.0.0'.\n",
            "Downloading file 'S030/S030R07.edf' from 'https://physionet.org/files/eegmmidb/1.0.0/S030/S030R07.edf' to '/content/MNE-eegbci-data/files/eegmmidb/1.0.0'.\n",
            "Downloading file 'S030/S030R11.edf' from 'https://physionet.org/files/eegmmidb/1.0.0/S030/S030R11.edf' to '/content/MNE-eegbci-data/files/eegmmidb/1.0.0'.\n"
          ]
        },
        {
          "output_type": "stream",
          "name": "stdout",
          "text": [
            "Download complete in 08s (7.4 MB)\n",
            "Downloading EEGBCI data\n"
          ]
        },
        {
          "output_type": "stream",
          "name": "stderr",
          "text": [
            "Downloading file 'S031/S031R03.edf' from 'https://physionet.org/files/eegmmidb/1.0.0/S031/S031R03.edf' to '/content/MNE-eegbci-data/files/eegmmidb/1.0.0'.\n",
            "Downloading file 'S031/S031R07.edf' from 'https://physionet.org/files/eegmmidb/1.0.0/S031/S031R07.edf' to '/content/MNE-eegbci-data/files/eegmmidb/1.0.0'.\n",
            "Downloading file 'S031/S031R11.edf' from 'https://physionet.org/files/eegmmidb/1.0.0/S031/S031R11.edf' to '/content/MNE-eegbci-data/files/eegmmidb/1.0.0'.\n"
          ]
        },
        {
          "output_type": "stream",
          "name": "stdout",
          "text": [
            "Download complete in 08s (7.3 MB)\n",
            "Downloading EEGBCI data\n"
          ]
        },
        {
          "output_type": "stream",
          "name": "stderr",
          "text": [
            "Downloading file 'S032/S032R03.edf' from 'https://physionet.org/files/eegmmidb/1.0.0/S032/S032R03.edf' to '/content/MNE-eegbci-data/files/eegmmidb/1.0.0'.\n",
            "Downloading file 'S032/S032R07.edf' from 'https://physionet.org/files/eegmmidb/1.0.0/S032/S032R07.edf' to '/content/MNE-eegbci-data/files/eegmmidb/1.0.0'.\n",
            "Downloading file 'S032/S032R11.edf' from 'https://physionet.org/files/eegmmidb/1.0.0/S032/S032R11.edf' to '/content/MNE-eegbci-data/files/eegmmidb/1.0.0'.\n"
          ]
        },
        {
          "output_type": "stream",
          "name": "stdout",
          "text": [
            "Download complete in 08s (7.4 MB)\n",
            "Downloading EEGBCI data\n"
          ]
        },
        {
          "output_type": "stream",
          "name": "stderr",
          "text": [
            "Downloading file 'S033/S033R03.edf' from 'https://physionet.org/files/eegmmidb/1.0.0/S033/S033R03.edf' to '/content/MNE-eegbci-data/files/eegmmidb/1.0.0'.\n",
            "Downloading file 'S033/S033R07.edf' from 'https://physionet.org/files/eegmmidb/1.0.0/S033/S033R07.edf' to '/content/MNE-eegbci-data/files/eegmmidb/1.0.0'.\n",
            "Downloading file 'S033/S033R11.edf' from 'https://physionet.org/files/eegmmidb/1.0.0/S033/S033R11.edf' to '/content/MNE-eegbci-data/files/eegmmidb/1.0.0'.\n"
          ]
        },
        {
          "output_type": "stream",
          "name": "stdout",
          "text": [
            "Download complete in 08s (7.3 MB)\n",
            "Downloading EEGBCI data\n"
          ]
        },
        {
          "output_type": "stream",
          "name": "stderr",
          "text": [
            "Downloading file 'S034/S034R03.edf' from 'https://physionet.org/files/eegmmidb/1.0.0/S034/S034R03.edf' to '/content/MNE-eegbci-data/files/eegmmidb/1.0.0'.\n",
            "Downloading file 'S034/S034R07.edf' from 'https://physionet.org/files/eegmmidb/1.0.0/S034/S034R07.edf' to '/content/MNE-eegbci-data/files/eegmmidb/1.0.0'.\n",
            "Downloading file 'S034/S034R11.edf' from 'https://physionet.org/files/eegmmidb/1.0.0/S034/S034R11.edf' to '/content/MNE-eegbci-data/files/eegmmidb/1.0.0'.\n"
          ]
        },
        {
          "output_type": "stream",
          "name": "stdout",
          "text": [
            "Download complete in 08s (7.3 MB)\n",
            "Downloading EEGBCI data\n"
          ]
        },
        {
          "output_type": "stream",
          "name": "stderr",
          "text": [
            "Downloading file 'S035/S035R03.edf' from 'https://physionet.org/files/eegmmidb/1.0.0/S035/S035R03.edf' to '/content/MNE-eegbci-data/files/eegmmidb/1.0.0'.\n",
            "Downloading file 'S035/S035R07.edf' from 'https://physionet.org/files/eegmmidb/1.0.0/S035/S035R07.edf' to '/content/MNE-eegbci-data/files/eegmmidb/1.0.0'.\n",
            "Downloading file 'S035/S035R11.edf' from 'https://physionet.org/files/eegmmidb/1.0.0/S035/S035R11.edf' to '/content/MNE-eegbci-data/files/eegmmidb/1.0.0'.\n"
          ]
        },
        {
          "output_type": "stream",
          "name": "stdout",
          "text": [
            "Download complete in 08s (7.4 MB)\n",
            "Downloading EEGBCI data\n"
          ]
        },
        {
          "output_type": "stream",
          "name": "stderr",
          "text": [
            "Downloading file 'S036/S036R03.edf' from 'https://physionet.org/files/eegmmidb/1.0.0/S036/S036R03.edf' to '/content/MNE-eegbci-data/files/eegmmidb/1.0.0'.\n",
            "Downloading file 'S036/S036R07.edf' from 'https://physionet.org/files/eegmmidb/1.0.0/S036/S036R07.edf' to '/content/MNE-eegbci-data/files/eegmmidb/1.0.0'.\n",
            "Downloading file 'S036/S036R11.edf' from 'https://physionet.org/files/eegmmidb/1.0.0/S036/S036R11.edf' to '/content/MNE-eegbci-data/files/eegmmidb/1.0.0'.\n"
          ]
        },
        {
          "output_type": "stream",
          "name": "stdout",
          "text": [
            "Download complete in 08s (7.3 MB)\n",
            "Downloading EEGBCI data\n"
          ]
        },
        {
          "output_type": "stream",
          "name": "stderr",
          "text": [
            "Downloading file 'S037/S037R03.edf' from 'https://physionet.org/files/eegmmidb/1.0.0/S037/S037R03.edf' to '/content/MNE-eegbci-data/files/eegmmidb/1.0.0'.\n",
            "Downloading file 'S037/S037R07.edf' from 'https://physionet.org/files/eegmmidb/1.0.0/S037/S037R07.edf' to '/content/MNE-eegbci-data/files/eegmmidb/1.0.0'.\n",
            "Downloading file 'S037/S037R11.edf' from 'https://physionet.org/files/eegmmidb/1.0.0/S037/S037R11.edf' to '/content/MNE-eegbci-data/files/eegmmidb/1.0.0'.\n"
          ]
        },
        {
          "output_type": "stream",
          "name": "stdout",
          "text": [
            "Download complete in 08s (7.3 MB)\n",
            "Downloading EEGBCI data\n"
          ]
        },
        {
          "output_type": "stream",
          "name": "stderr",
          "text": [
            "Downloading file 'S038/S038R03.edf' from 'https://physionet.org/files/eegmmidb/1.0.0/S038/S038R03.edf' to '/content/MNE-eegbci-data/files/eegmmidb/1.0.0'.\n",
            "Downloading file 'S038/S038R07.edf' from 'https://physionet.org/files/eegmmidb/1.0.0/S038/S038R07.edf' to '/content/MNE-eegbci-data/files/eegmmidb/1.0.0'.\n",
            "Downloading file 'S038/S038R11.edf' from 'https://physionet.org/files/eegmmidb/1.0.0/S038/S038R11.edf' to '/content/MNE-eegbci-data/files/eegmmidb/1.0.0'.\n"
          ]
        },
        {
          "output_type": "stream",
          "name": "stdout",
          "text": [
            "Download complete in 08s (7.3 MB)\n",
            "Downloading EEGBCI data\n"
          ]
        },
        {
          "output_type": "stream",
          "name": "stderr",
          "text": [
            "Downloading file 'S039/S039R03.edf' from 'https://physionet.org/files/eegmmidb/1.0.0/S039/S039R03.edf' to '/content/MNE-eegbci-data/files/eegmmidb/1.0.0'.\n",
            "Downloading file 'S039/S039R07.edf' from 'https://physionet.org/files/eegmmidb/1.0.0/S039/S039R07.edf' to '/content/MNE-eegbci-data/files/eegmmidb/1.0.0'.\n",
            "Downloading file 'S039/S039R11.edf' from 'https://physionet.org/files/eegmmidb/1.0.0/S039/S039R11.edf' to '/content/MNE-eegbci-data/files/eegmmidb/1.0.0'.\n"
          ]
        },
        {
          "output_type": "stream",
          "name": "stdout",
          "text": [
            "Download complete in 08s (7.3 MB)\n",
            "Downloading EEGBCI data\n"
          ]
        },
        {
          "output_type": "stream",
          "name": "stderr",
          "text": [
            "Downloading file 'S040/S040R03.edf' from 'https://physionet.org/files/eegmmidb/1.0.0/S040/S040R03.edf' to '/content/MNE-eegbci-data/files/eegmmidb/1.0.0'.\n",
            "Downloading file 'S040/S040R07.edf' from 'https://physionet.org/files/eegmmidb/1.0.0/S040/S040R07.edf' to '/content/MNE-eegbci-data/files/eegmmidb/1.0.0'.\n",
            "Downloading file 'S040/S040R11.edf' from 'https://physionet.org/files/eegmmidb/1.0.0/S040/S040R11.edf' to '/content/MNE-eegbci-data/files/eegmmidb/1.0.0'.\n"
          ]
        },
        {
          "output_type": "stream",
          "name": "stdout",
          "text": [
            "Download complete in 08s (7.3 MB)\n",
            "Downloading EEGBCI data\n"
          ]
        },
        {
          "output_type": "stream",
          "name": "stderr",
          "text": [
            "Downloading file 'S041/S041R03.edf' from 'https://physionet.org/files/eegmmidb/1.0.0/S041/S041R03.edf' to '/content/MNE-eegbci-data/files/eegmmidb/1.0.0'.\n",
            "Downloading file 'S041/S041R07.edf' from 'https://physionet.org/files/eegmmidb/1.0.0/S041/S041R07.edf' to '/content/MNE-eegbci-data/files/eegmmidb/1.0.0'.\n",
            "Downloading file 'S041/S041R11.edf' from 'https://physionet.org/files/eegmmidb/1.0.0/S041/S041R11.edf' to '/content/MNE-eegbci-data/files/eegmmidb/1.0.0'.\n"
          ]
        },
        {
          "output_type": "stream",
          "name": "stdout",
          "text": [
            "Download complete in 08s (7.3 MB)\n",
            "Downloading EEGBCI data\n"
          ]
        },
        {
          "output_type": "stream",
          "name": "stderr",
          "text": [
            "Downloading file 'S042/S042R03.edf' from 'https://physionet.org/files/eegmmidb/1.0.0/S042/S042R03.edf' to '/content/MNE-eegbci-data/files/eegmmidb/1.0.0'.\n",
            "Downloading file 'S042/S042R07.edf' from 'https://physionet.org/files/eegmmidb/1.0.0/S042/S042R07.edf' to '/content/MNE-eegbci-data/files/eegmmidb/1.0.0'.\n",
            "Downloading file 'S042/S042R11.edf' from 'https://physionet.org/files/eegmmidb/1.0.0/S042/S042R11.edf' to '/content/MNE-eegbci-data/files/eegmmidb/1.0.0'.\n"
          ]
        },
        {
          "output_type": "stream",
          "name": "stdout",
          "text": [
            "Download complete in 08s (7.3 MB)\n",
            "Downloading EEGBCI data\n"
          ]
        },
        {
          "output_type": "stream",
          "name": "stderr",
          "text": [
            "Downloading file 'S043/S043R03.edf' from 'https://physionet.org/files/eegmmidb/1.0.0/S043/S043R03.edf' to '/content/MNE-eegbci-data/files/eegmmidb/1.0.0'.\n",
            "Downloading file 'S043/S043R07.edf' from 'https://physionet.org/files/eegmmidb/1.0.0/S043/S043R07.edf' to '/content/MNE-eegbci-data/files/eegmmidb/1.0.0'.\n",
            "Downloading file 'S043/S043R11.edf' from 'https://physionet.org/files/eegmmidb/1.0.0/S043/S043R11.edf' to '/content/MNE-eegbci-data/files/eegmmidb/1.0.0'.\n"
          ]
        },
        {
          "output_type": "stream",
          "name": "stdout",
          "text": [
            "Download complete in 08s (7.3 MB)\n",
            "Downloading EEGBCI data\n"
          ]
        },
        {
          "output_type": "stream",
          "name": "stderr",
          "text": [
            "Downloading file 'S044/S044R03.edf' from 'https://physionet.org/files/eegmmidb/1.0.0/S044/S044R03.edf' to '/content/MNE-eegbci-data/files/eegmmidb/1.0.0'.\n",
            "Downloading file 'S044/S044R07.edf' from 'https://physionet.org/files/eegmmidb/1.0.0/S044/S044R07.edf' to '/content/MNE-eegbci-data/files/eegmmidb/1.0.0'.\n",
            "Downloading file 'S044/S044R11.edf' from 'https://physionet.org/files/eegmmidb/1.0.0/S044/S044R11.edf' to '/content/MNE-eegbci-data/files/eegmmidb/1.0.0'.\n"
          ]
        },
        {
          "output_type": "stream",
          "name": "stdout",
          "text": [
            "Download complete in 08s (7.3 MB)\n",
            "Downloading EEGBCI data\n"
          ]
        },
        {
          "output_type": "stream",
          "name": "stderr",
          "text": [
            "Downloading file 'S045/S045R03.edf' from 'https://physionet.org/files/eegmmidb/1.0.0/S045/S045R03.edf' to '/content/MNE-eegbci-data/files/eegmmidb/1.0.0'.\n",
            "Downloading file 'S045/S045R07.edf' from 'https://physionet.org/files/eegmmidb/1.0.0/S045/S045R07.edf' to '/content/MNE-eegbci-data/files/eegmmidb/1.0.0'.\n",
            "Downloading file 'S045/S045R11.edf' from 'https://physionet.org/files/eegmmidb/1.0.0/S045/S045R11.edf' to '/content/MNE-eegbci-data/files/eegmmidb/1.0.0'.\n"
          ]
        },
        {
          "output_type": "stream",
          "name": "stdout",
          "text": [
            "Download complete in 08s (7.3 MB)\n",
            "Downloading EEGBCI data\n"
          ]
        },
        {
          "output_type": "stream",
          "name": "stderr",
          "text": [
            "Downloading file 'S046/S046R03.edf' from 'https://physionet.org/files/eegmmidb/1.0.0/S046/S046R03.edf' to '/content/MNE-eegbci-data/files/eegmmidb/1.0.0'.\n",
            "Downloading file 'S046/S046R07.edf' from 'https://physionet.org/files/eegmmidb/1.0.0/S046/S046R07.edf' to '/content/MNE-eegbci-data/files/eegmmidb/1.0.0'.\n",
            "Downloading file 'S046/S046R11.edf' from 'https://physionet.org/files/eegmmidb/1.0.0/S046/S046R11.edf' to '/content/MNE-eegbci-data/files/eegmmidb/1.0.0'.\n"
          ]
        },
        {
          "output_type": "stream",
          "name": "stdout",
          "text": [
            "Download complete in 08s (7.4 MB)\n",
            "Downloading EEGBCI data\n"
          ]
        },
        {
          "output_type": "stream",
          "name": "stderr",
          "text": [
            "Downloading file 'S047/S047R03.edf' from 'https://physionet.org/files/eegmmidb/1.0.0/S047/S047R03.edf' to '/content/MNE-eegbci-data/files/eegmmidb/1.0.0'.\n",
            "Downloading file 'S047/S047R07.edf' from 'https://physionet.org/files/eegmmidb/1.0.0/S047/S047R07.edf' to '/content/MNE-eegbci-data/files/eegmmidb/1.0.0'.\n",
            "Downloading file 'S047/S047R11.edf' from 'https://physionet.org/files/eegmmidb/1.0.0/S047/S047R11.edf' to '/content/MNE-eegbci-data/files/eegmmidb/1.0.0'.\n"
          ]
        },
        {
          "output_type": "stream",
          "name": "stdout",
          "text": [
            "Download complete in 08s (7.3 MB)\n",
            "Downloading EEGBCI data\n"
          ]
        },
        {
          "output_type": "stream",
          "name": "stderr",
          "text": [
            "Downloading file 'S048/S048R03.edf' from 'https://physionet.org/files/eegmmidb/1.0.0/S048/S048R03.edf' to '/content/MNE-eegbci-data/files/eegmmidb/1.0.0'.\n",
            "Downloading file 'S048/S048R07.edf' from 'https://physionet.org/files/eegmmidb/1.0.0/S048/S048R07.edf' to '/content/MNE-eegbci-data/files/eegmmidb/1.0.0'.\n",
            "Downloading file 'S048/S048R11.edf' from 'https://physionet.org/files/eegmmidb/1.0.0/S048/S048R11.edf' to '/content/MNE-eegbci-data/files/eegmmidb/1.0.0'.\n"
          ]
        },
        {
          "output_type": "stream",
          "name": "stdout",
          "text": [
            "Download complete in 08s (7.3 MB)\n",
            "Downloading EEGBCI data\n"
          ]
        },
        {
          "output_type": "stream",
          "name": "stderr",
          "text": [
            "Downloading file 'S049/S049R03.edf' from 'https://physionet.org/files/eegmmidb/1.0.0/S049/S049R03.edf' to '/content/MNE-eegbci-data/files/eegmmidb/1.0.0'.\n",
            "Downloading file 'S049/S049R07.edf' from 'https://physionet.org/files/eegmmidb/1.0.0/S049/S049R07.edf' to '/content/MNE-eegbci-data/files/eegmmidb/1.0.0'.\n",
            "Downloading file 'S049/S049R11.edf' from 'https://physionet.org/files/eegmmidb/1.0.0/S049/S049R11.edf' to '/content/MNE-eegbci-data/files/eegmmidb/1.0.0'.\n"
          ]
        },
        {
          "output_type": "stream",
          "name": "stdout",
          "text": [
            "Download complete in 08s (7.3 MB)\n",
            "Downloading EEGBCI data\n"
          ]
        },
        {
          "output_type": "stream",
          "name": "stderr",
          "text": [
            "Downloading file 'S050/S050R03.edf' from 'https://physionet.org/files/eegmmidb/1.0.0/S050/S050R03.edf' to '/content/MNE-eegbci-data/files/eegmmidb/1.0.0'.\n",
            "Downloading file 'S050/S050R07.edf' from 'https://physionet.org/files/eegmmidb/1.0.0/S050/S050R07.edf' to '/content/MNE-eegbci-data/files/eegmmidb/1.0.0'.\n",
            "Downloading file 'S050/S050R11.edf' from 'https://physionet.org/files/eegmmidb/1.0.0/S050/S050R11.edf' to '/content/MNE-eegbci-data/files/eegmmidb/1.0.0'.\n"
          ]
        },
        {
          "output_type": "stream",
          "name": "stdout",
          "text": [
            "Download complete in 08s (7.3 MB)\n",
            "Downloading EEGBCI data\n"
          ]
        },
        {
          "output_type": "stream",
          "name": "stderr",
          "text": [
            "Downloading file 'S051/S051R03.edf' from 'https://physionet.org/files/eegmmidb/1.0.0/S051/S051R03.edf' to '/content/MNE-eegbci-data/files/eegmmidb/1.0.0'.\n",
            "Downloading file 'S051/S051R07.edf' from 'https://physionet.org/files/eegmmidb/1.0.0/S051/S051R07.edf' to '/content/MNE-eegbci-data/files/eegmmidb/1.0.0'.\n",
            "Downloading file 'S051/S051R11.edf' from 'https://physionet.org/files/eegmmidb/1.0.0/S051/S051R11.edf' to '/content/MNE-eegbci-data/files/eegmmidb/1.0.0'.\n"
          ]
        },
        {
          "output_type": "stream",
          "name": "stdout",
          "text": [
            "Download complete in 08s (7.3 MB)\n",
            "Downloading EEGBCI data\n"
          ]
        },
        {
          "output_type": "stream",
          "name": "stderr",
          "text": [
            "Downloading file 'S052/S052R03.edf' from 'https://physionet.org/files/eegmmidb/1.0.0/S052/S052R03.edf' to '/content/MNE-eegbci-data/files/eegmmidb/1.0.0'.\n",
            "Downloading file 'S052/S052R07.edf' from 'https://physionet.org/files/eegmmidb/1.0.0/S052/S052R07.edf' to '/content/MNE-eegbci-data/files/eegmmidb/1.0.0'.\n",
            "Downloading file 'S052/S052R11.edf' from 'https://physionet.org/files/eegmmidb/1.0.0/S052/S052R11.edf' to '/content/MNE-eegbci-data/files/eegmmidb/1.0.0'.\n"
          ]
        },
        {
          "output_type": "stream",
          "name": "stdout",
          "text": [
            "Download complete in 08s (7.3 MB)\n",
            "Downloading EEGBCI data\n"
          ]
        },
        {
          "output_type": "stream",
          "name": "stderr",
          "text": [
            "Downloading file 'S053/S053R03.edf' from 'https://physionet.org/files/eegmmidb/1.0.0/S053/S053R03.edf' to '/content/MNE-eegbci-data/files/eegmmidb/1.0.0'.\n",
            "Downloading file 'S053/S053R07.edf' from 'https://physionet.org/files/eegmmidb/1.0.0/S053/S053R07.edf' to '/content/MNE-eegbci-data/files/eegmmidb/1.0.0'.\n",
            "Downloading file 'S053/S053R11.edf' from 'https://physionet.org/files/eegmmidb/1.0.0/S053/S053R11.edf' to '/content/MNE-eegbci-data/files/eegmmidb/1.0.0'.\n"
          ]
        },
        {
          "output_type": "stream",
          "name": "stdout",
          "text": [
            "Download complete in 08s (7.3 MB)\n",
            "Downloading EEGBCI data\n"
          ]
        },
        {
          "output_type": "stream",
          "name": "stderr",
          "text": [
            "Downloading file 'S054/S054R03.edf' from 'https://physionet.org/files/eegmmidb/1.0.0/S054/S054R03.edf' to '/content/MNE-eegbci-data/files/eegmmidb/1.0.0'.\n",
            "Downloading file 'S054/S054R07.edf' from 'https://physionet.org/files/eegmmidb/1.0.0/S054/S054R07.edf' to '/content/MNE-eegbci-data/files/eegmmidb/1.0.0'.\n",
            "Downloading file 'S054/S054R11.edf' from 'https://physionet.org/files/eegmmidb/1.0.0/S054/S054R11.edf' to '/content/MNE-eegbci-data/files/eegmmidb/1.0.0'.\n"
          ]
        },
        {
          "output_type": "stream",
          "name": "stdout",
          "text": [
            "Download complete in 08s (7.3 MB)\n",
            "Downloading EEGBCI data\n"
          ]
        },
        {
          "output_type": "stream",
          "name": "stderr",
          "text": [
            "Downloading file 'S055/S055R03.edf' from 'https://physionet.org/files/eegmmidb/1.0.0/S055/S055R03.edf' to '/content/MNE-eegbci-data/files/eegmmidb/1.0.0'.\n",
            "Downloading file 'S055/S055R07.edf' from 'https://physionet.org/files/eegmmidb/1.0.0/S055/S055R07.edf' to '/content/MNE-eegbci-data/files/eegmmidb/1.0.0'.\n",
            "Downloading file 'S055/S055R11.edf' from 'https://physionet.org/files/eegmmidb/1.0.0/S055/S055R11.edf' to '/content/MNE-eegbci-data/files/eegmmidb/1.0.0'.\n"
          ]
        },
        {
          "output_type": "stream",
          "name": "stdout",
          "text": [
            "Download complete in 08s (7.3 MB)\n",
            "Downloading EEGBCI data\n"
          ]
        },
        {
          "output_type": "stream",
          "name": "stderr",
          "text": [
            "Downloading file 'S056/S056R03.edf' from 'https://physionet.org/files/eegmmidb/1.0.0/S056/S056R03.edf' to '/content/MNE-eegbci-data/files/eegmmidb/1.0.0'.\n",
            "Downloading file 'S056/S056R07.edf' from 'https://physionet.org/files/eegmmidb/1.0.0/S056/S056R07.edf' to '/content/MNE-eegbci-data/files/eegmmidb/1.0.0'.\n",
            "Downloading file 'S056/S056R11.edf' from 'https://physionet.org/files/eegmmidb/1.0.0/S056/S056R11.edf' to '/content/MNE-eegbci-data/files/eegmmidb/1.0.0'.\n"
          ]
        },
        {
          "output_type": "stream",
          "name": "stdout",
          "text": [
            "Download complete in 08s (7.3 MB)\n",
            "Downloading EEGBCI data\n"
          ]
        },
        {
          "output_type": "stream",
          "name": "stderr",
          "text": [
            "Downloading file 'S057/S057R03.edf' from 'https://physionet.org/files/eegmmidb/1.0.0/S057/S057R03.edf' to '/content/MNE-eegbci-data/files/eegmmidb/1.0.0'.\n",
            "Downloading file 'S057/S057R07.edf' from 'https://physionet.org/files/eegmmidb/1.0.0/S057/S057R07.edf' to '/content/MNE-eegbci-data/files/eegmmidb/1.0.0'.\n",
            "Downloading file 'S057/S057R11.edf' from 'https://physionet.org/files/eegmmidb/1.0.0/S057/S057R11.edf' to '/content/MNE-eegbci-data/files/eegmmidb/1.0.0'.\n"
          ]
        },
        {
          "output_type": "stream",
          "name": "stdout",
          "text": [
            "Download complete in 08s (7.4 MB)\n",
            "Downloading EEGBCI data\n"
          ]
        },
        {
          "output_type": "stream",
          "name": "stderr",
          "text": [
            "Downloading file 'S058/S058R03.edf' from 'https://physionet.org/files/eegmmidb/1.0.0/S058/S058R03.edf' to '/content/MNE-eegbci-data/files/eegmmidb/1.0.0'.\n",
            "Downloading file 'S058/S058R07.edf' from 'https://physionet.org/files/eegmmidb/1.0.0/S058/S058R07.edf' to '/content/MNE-eegbci-data/files/eegmmidb/1.0.0'.\n",
            "Downloading file 'S058/S058R11.edf' from 'https://physionet.org/files/eegmmidb/1.0.0/S058/S058R11.edf' to '/content/MNE-eegbci-data/files/eegmmidb/1.0.0'.\n"
          ]
        },
        {
          "output_type": "stream",
          "name": "stdout",
          "text": [
            "Download complete in 08s (7.3 MB)\n",
            "Downloading EEGBCI data\n"
          ]
        },
        {
          "output_type": "stream",
          "name": "stderr",
          "text": [
            "Downloading file 'S059/S059R03.edf' from 'https://physionet.org/files/eegmmidb/1.0.0/S059/S059R03.edf' to '/content/MNE-eegbci-data/files/eegmmidb/1.0.0'.\n",
            "Downloading file 'S059/S059R07.edf' from 'https://physionet.org/files/eegmmidb/1.0.0/S059/S059R07.edf' to '/content/MNE-eegbci-data/files/eegmmidb/1.0.0'.\n",
            "Downloading file 'S059/S059R11.edf' from 'https://physionet.org/files/eegmmidb/1.0.0/S059/S059R11.edf' to '/content/MNE-eegbci-data/files/eegmmidb/1.0.0'.\n"
          ]
        },
        {
          "output_type": "stream",
          "name": "stdout",
          "text": [
            "Download complete in 08s (7.3 MB)\n",
            "Downloading EEGBCI data\n"
          ]
        },
        {
          "output_type": "stream",
          "name": "stderr",
          "text": [
            "Downloading file 'S060/S060R03.edf' from 'https://physionet.org/files/eegmmidb/1.0.0/S060/S060R03.edf' to '/content/MNE-eegbci-data/files/eegmmidb/1.0.0'.\n",
            "Downloading file 'S060/S060R07.edf' from 'https://physionet.org/files/eegmmidb/1.0.0/S060/S060R07.edf' to '/content/MNE-eegbci-data/files/eegmmidb/1.0.0'.\n",
            "Downloading file 'S060/S060R11.edf' from 'https://physionet.org/files/eegmmidb/1.0.0/S060/S060R11.edf' to '/content/MNE-eegbci-data/files/eegmmidb/1.0.0'.\n"
          ]
        },
        {
          "output_type": "stream",
          "name": "stdout",
          "text": [
            "Download complete in 08s (7.3 MB)\n",
            "Downloading EEGBCI data\n"
          ]
        },
        {
          "output_type": "stream",
          "name": "stderr",
          "text": [
            "Downloading file 'S061/S061R03.edf' from 'https://physionet.org/files/eegmmidb/1.0.0/S061/S061R03.edf' to '/content/MNE-eegbci-data/files/eegmmidb/1.0.0'.\n",
            "Downloading file 'S061/S061R07.edf' from 'https://physionet.org/files/eegmmidb/1.0.0/S061/S061R07.edf' to '/content/MNE-eegbci-data/files/eegmmidb/1.0.0'.\n",
            "Downloading file 'S061/S061R11.edf' from 'https://physionet.org/files/eegmmidb/1.0.0/S061/S061R11.edf' to '/content/MNE-eegbci-data/files/eegmmidb/1.0.0'.\n"
          ]
        },
        {
          "output_type": "stream",
          "name": "stdout",
          "text": [
            "Download complete in 09s (7.4 MB)\n",
            "Downloading EEGBCI data\n"
          ]
        },
        {
          "output_type": "stream",
          "name": "stderr",
          "text": [
            "Downloading file 'S062/S062R03.edf' from 'https://physionet.org/files/eegmmidb/1.0.0/S062/S062R03.edf' to '/content/MNE-eegbci-data/files/eegmmidb/1.0.0'.\n",
            "Downloading file 'S062/S062R07.edf' from 'https://physionet.org/files/eegmmidb/1.0.0/S062/S062R07.edf' to '/content/MNE-eegbci-data/files/eegmmidb/1.0.0'.\n",
            "Downloading file 'S062/S062R11.edf' from 'https://physionet.org/files/eegmmidb/1.0.0/S062/S062R11.edf' to '/content/MNE-eegbci-data/files/eegmmidb/1.0.0'.\n"
          ]
        },
        {
          "output_type": "stream",
          "name": "stdout",
          "text": [
            "Download complete in 08s (7.3 MB)\n",
            "Downloading EEGBCI data\n"
          ]
        },
        {
          "output_type": "stream",
          "name": "stderr",
          "text": [
            "Downloading file 'S063/S063R03.edf' from 'https://physionet.org/files/eegmmidb/1.0.0/S063/S063R03.edf' to '/content/MNE-eegbci-data/files/eegmmidb/1.0.0'.\n",
            "Downloading file 'S063/S063R07.edf' from 'https://physionet.org/files/eegmmidb/1.0.0/S063/S063R07.edf' to '/content/MNE-eegbci-data/files/eegmmidb/1.0.0'.\n",
            "Downloading file 'S063/S063R11.edf' from 'https://physionet.org/files/eegmmidb/1.0.0/S063/S063R11.edf' to '/content/MNE-eegbci-data/files/eegmmidb/1.0.0'.\n"
          ]
        },
        {
          "output_type": "stream",
          "name": "stdout",
          "text": [
            "Download complete in 08s (7.3 MB)\n",
            "Downloading EEGBCI data\n"
          ]
        },
        {
          "output_type": "stream",
          "name": "stderr",
          "text": [
            "Downloading file 'S064/S064R03.edf' from 'https://physionet.org/files/eegmmidb/1.0.0/S064/S064R03.edf' to '/content/MNE-eegbci-data/files/eegmmidb/1.0.0'.\n",
            "Downloading file 'S064/S064R07.edf' from 'https://physionet.org/files/eegmmidb/1.0.0/S064/S064R07.edf' to '/content/MNE-eegbci-data/files/eegmmidb/1.0.0'.\n",
            "Downloading file 'S064/S064R11.edf' from 'https://physionet.org/files/eegmmidb/1.0.0/S064/S064R11.edf' to '/content/MNE-eegbci-data/files/eegmmidb/1.0.0'.\n"
          ]
        },
        {
          "output_type": "stream",
          "name": "stdout",
          "text": [
            "Download complete in 08s (7.3 MB)\n",
            "Downloading EEGBCI data\n"
          ]
        },
        {
          "output_type": "stream",
          "name": "stderr",
          "text": [
            "Downloading file 'S065/S065R03.edf' from 'https://physionet.org/files/eegmmidb/1.0.0/S065/S065R03.edf' to '/content/MNE-eegbci-data/files/eegmmidb/1.0.0'.\n",
            "Downloading file 'S065/S065R07.edf' from 'https://physionet.org/files/eegmmidb/1.0.0/S065/S065R07.edf' to '/content/MNE-eegbci-data/files/eegmmidb/1.0.0'.\n",
            "Downloading file 'S065/S065R11.edf' from 'https://physionet.org/files/eegmmidb/1.0.0/S065/S065R11.edf' to '/content/MNE-eegbci-data/files/eegmmidb/1.0.0'.\n"
          ]
        },
        {
          "output_type": "stream",
          "name": "stdout",
          "text": [
            "Download complete in 08s (7.4 MB)\n",
            "Downloading EEGBCI data\n"
          ]
        },
        {
          "output_type": "stream",
          "name": "stderr",
          "text": [
            "Downloading file 'S066/S066R03.edf' from 'https://physionet.org/files/eegmmidb/1.0.0/S066/S066R03.edf' to '/content/MNE-eegbci-data/files/eegmmidb/1.0.0'.\n",
            "Downloading file 'S066/S066R07.edf' from 'https://physionet.org/files/eegmmidb/1.0.0/S066/S066R07.edf' to '/content/MNE-eegbci-data/files/eegmmidb/1.0.0'.\n",
            "Downloading file 'S066/S066R11.edf' from 'https://physionet.org/files/eegmmidb/1.0.0/S066/S066R11.edf' to '/content/MNE-eegbci-data/files/eegmmidb/1.0.0'.\n"
          ]
        },
        {
          "output_type": "stream",
          "name": "stdout",
          "text": [
            "Download complete in 08s (7.4 MB)\n",
            "Downloading EEGBCI data\n"
          ]
        },
        {
          "output_type": "stream",
          "name": "stderr",
          "text": [
            "Downloading file 'S067/S067R03.edf' from 'https://physionet.org/files/eegmmidb/1.0.0/S067/S067R03.edf' to '/content/MNE-eegbci-data/files/eegmmidb/1.0.0'.\n",
            "Downloading file 'S067/S067R07.edf' from 'https://physionet.org/files/eegmmidb/1.0.0/S067/S067R07.edf' to '/content/MNE-eegbci-data/files/eegmmidb/1.0.0'.\n",
            "Downloading file 'S067/S067R11.edf' from 'https://physionet.org/files/eegmmidb/1.0.0/S067/S067R11.edf' to '/content/MNE-eegbci-data/files/eegmmidb/1.0.0'.\n"
          ]
        },
        {
          "output_type": "stream",
          "name": "stdout",
          "text": [
            "Download complete in 08s (7.3 MB)\n",
            "Downloading EEGBCI data\n"
          ]
        },
        {
          "output_type": "stream",
          "name": "stderr",
          "text": [
            "Downloading file 'S068/S068R03.edf' from 'https://physionet.org/files/eegmmidb/1.0.0/S068/S068R03.edf' to '/content/MNE-eegbci-data/files/eegmmidb/1.0.0'.\n",
            "Downloading file 'S068/S068R07.edf' from 'https://physionet.org/files/eegmmidb/1.0.0/S068/S068R07.edf' to '/content/MNE-eegbci-data/files/eegmmidb/1.0.0'.\n",
            "Downloading file 'S068/S068R11.edf' from 'https://physionet.org/files/eegmmidb/1.0.0/S068/S068R11.edf' to '/content/MNE-eegbci-data/files/eegmmidb/1.0.0'.\n"
          ]
        },
        {
          "output_type": "stream",
          "name": "stdout",
          "text": [
            "Download complete in 08s (7.3 MB)\n",
            "Downloading EEGBCI data\n"
          ]
        },
        {
          "output_type": "stream",
          "name": "stderr",
          "text": [
            "Downloading file 'S069/S069R03.edf' from 'https://physionet.org/files/eegmmidb/1.0.0/S069/S069R03.edf' to '/content/MNE-eegbci-data/files/eegmmidb/1.0.0'.\n",
            "Downloading file 'S069/S069R07.edf' from 'https://physionet.org/files/eegmmidb/1.0.0/S069/S069R07.edf' to '/content/MNE-eegbci-data/files/eegmmidb/1.0.0'.\n",
            "Downloading file 'S069/S069R11.edf' from 'https://physionet.org/files/eegmmidb/1.0.0/S069/S069R11.edf' to '/content/MNE-eegbci-data/files/eegmmidb/1.0.0'.\n"
          ]
        },
        {
          "output_type": "stream",
          "name": "stdout",
          "text": [
            "Download complete in 08s (7.3 MB)\n",
            "Downloading EEGBCI data\n"
          ]
        },
        {
          "output_type": "stream",
          "name": "stderr",
          "text": [
            "Downloading file 'S070/S070R03.edf' from 'https://physionet.org/files/eegmmidb/1.0.0/S070/S070R03.edf' to '/content/MNE-eegbci-data/files/eegmmidb/1.0.0'.\n",
            "Downloading file 'S070/S070R07.edf' from 'https://physionet.org/files/eegmmidb/1.0.0/S070/S070R07.edf' to '/content/MNE-eegbci-data/files/eegmmidb/1.0.0'.\n",
            "Downloading file 'S070/S070R11.edf' from 'https://physionet.org/files/eegmmidb/1.0.0/S070/S070R11.edf' to '/content/MNE-eegbci-data/files/eegmmidb/1.0.0'.\n"
          ]
        },
        {
          "output_type": "stream",
          "name": "stdout",
          "text": [
            "Download complete in 08s (7.3 MB)\n",
            "Downloading EEGBCI data\n"
          ]
        },
        {
          "output_type": "stream",
          "name": "stderr",
          "text": [
            "Downloading file 'S071/S071R03.edf' from 'https://physionet.org/files/eegmmidb/1.0.0/S071/S071R03.edf' to '/content/MNE-eegbci-data/files/eegmmidb/1.0.0'.\n",
            "Downloading file 'S071/S071R07.edf' from 'https://physionet.org/files/eegmmidb/1.0.0/S071/S071R07.edf' to '/content/MNE-eegbci-data/files/eegmmidb/1.0.0'.\n",
            "Downloading file 'S071/S071R11.edf' from 'https://physionet.org/files/eegmmidb/1.0.0/S071/S071R11.edf' to '/content/MNE-eegbci-data/files/eegmmidb/1.0.0'.\n"
          ]
        },
        {
          "output_type": "stream",
          "name": "stdout",
          "text": [
            "Download complete in 08s (7.4 MB)\n",
            "Downloading EEGBCI data\n"
          ]
        },
        {
          "output_type": "stream",
          "name": "stderr",
          "text": [
            "Downloading file 'S072/S072R03.edf' from 'https://physionet.org/files/eegmmidb/1.0.0/S072/S072R03.edf' to '/content/MNE-eegbci-data/files/eegmmidb/1.0.0'.\n",
            "Downloading file 'S072/S072R07.edf' from 'https://physionet.org/files/eegmmidb/1.0.0/S072/S072R07.edf' to '/content/MNE-eegbci-data/files/eegmmidb/1.0.0'.\n",
            "Downloading file 'S072/S072R11.edf' from 'https://physionet.org/files/eegmmidb/1.0.0/S072/S072R11.edf' to '/content/MNE-eegbci-data/files/eegmmidb/1.0.0'.\n"
          ]
        },
        {
          "output_type": "stream",
          "name": "stdout",
          "text": [
            "Download complete in 08s (7.3 MB)\n",
            "Downloading EEGBCI data\n"
          ]
        },
        {
          "output_type": "stream",
          "name": "stderr",
          "text": [
            "Downloading file 'S073/S073R03.edf' from 'https://physionet.org/files/eegmmidb/1.0.0/S073/S073R03.edf' to '/content/MNE-eegbci-data/files/eegmmidb/1.0.0'.\n",
            "Downloading file 'S073/S073R07.edf' from 'https://physionet.org/files/eegmmidb/1.0.0/S073/S073R07.edf' to '/content/MNE-eegbci-data/files/eegmmidb/1.0.0'.\n",
            "Downloading file 'S073/S073R11.edf' from 'https://physionet.org/files/eegmmidb/1.0.0/S073/S073R11.edf' to '/content/MNE-eegbci-data/files/eegmmidb/1.0.0'.\n"
          ]
        },
        {
          "output_type": "stream",
          "name": "stdout",
          "text": [
            "Download complete in 08s (7.3 MB)\n",
            "Downloading EEGBCI data\n"
          ]
        },
        {
          "output_type": "stream",
          "name": "stderr",
          "text": [
            "Downloading file 'S074/S074R03.edf' from 'https://physionet.org/files/eegmmidb/1.0.0/S074/S074R03.edf' to '/content/MNE-eegbci-data/files/eegmmidb/1.0.0'.\n",
            "Downloading file 'S074/S074R07.edf' from 'https://physionet.org/files/eegmmidb/1.0.0/S074/S074R07.edf' to '/content/MNE-eegbci-data/files/eegmmidb/1.0.0'.\n",
            "Downloading file 'S074/S074R11.edf' from 'https://physionet.org/files/eegmmidb/1.0.0/S074/S074R11.edf' to '/content/MNE-eegbci-data/files/eegmmidb/1.0.0'.\n"
          ]
        },
        {
          "output_type": "stream",
          "name": "stdout",
          "text": [
            "Download complete in 08s (7.3 MB)\n",
            "Downloading EEGBCI data\n"
          ]
        },
        {
          "output_type": "stream",
          "name": "stderr",
          "text": [
            "Downloading file 'S075/S075R03.edf' from 'https://physionet.org/files/eegmmidb/1.0.0/S075/S075R03.edf' to '/content/MNE-eegbci-data/files/eegmmidb/1.0.0'.\n",
            "Downloading file 'S075/S075R07.edf' from 'https://physionet.org/files/eegmmidb/1.0.0/S075/S075R07.edf' to '/content/MNE-eegbci-data/files/eegmmidb/1.0.0'.\n",
            "Downloading file 'S075/S075R11.edf' from 'https://physionet.org/files/eegmmidb/1.0.0/S075/S075R11.edf' to '/content/MNE-eegbci-data/files/eegmmidb/1.0.0'.\n"
          ]
        },
        {
          "output_type": "stream",
          "name": "stdout",
          "text": [
            "Download complete in 08s (7.3 MB)\n",
            "Downloading EEGBCI data\n"
          ]
        },
        {
          "output_type": "stream",
          "name": "stderr",
          "text": [
            "Downloading file 'S076/S076R03.edf' from 'https://physionet.org/files/eegmmidb/1.0.0/S076/S076R03.edf' to '/content/MNE-eegbci-data/files/eegmmidb/1.0.0'.\n",
            "Downloading file 'S076/S076R07.edf' from 'https://physionet.org/files/eegmmidb/1.0.0/S076/S076R07.edf' to '/content/MNE-eegbci-data/files/eegmmidb/1.0.0'.\n",
            "Downloading file 'S076/S076R11.edf' from 'https://physionet.org/files/eegmmidb/1.0.0/S076/S076R11.edf' to '/content/MNE-eegbci-data/files/eegmmidb/1.0.0'.\n"
          ]
        },
        {
          "output_type": "stream",
          "name": "stdout",
          "text": [
            "Download complete in 08s (7.3 MB)\n",
            "Downloading EEGBCI data\n"
          ]
        },
        {
          "output_type": "stream",
          "name": "stderr",
          "text": [
            "Downloading file 'S077/S077R03.edf' from 'https://physionet.org/files/eegmmidb/1.0.0/S077/S077R03.edf' to '/content/MNE-eegbci-data/files/eegmmidb/1.0.0'.\n",
            "Downloading file 'S077/S077R07.edf' from 'https://physionet.org/files/eegmmidb/1.0.0/S077/S077R07.edf' to '/content/MNE-eegbci-data/files/eegmmidb/1.0.0'.\n",
            "Downloading file 'S077/S077R11.edf' from 'https://physionet.org/files/eegmmidb/1.0.0/S077/S077R11.edf' to '/content/MNE-eegbci-data/files/eegmmidb/1.0.0'.\n"
          ]
        },
        {
          "output_type": "stream",
          "name": "stdout",
          "text": [
            "Download complete in 08s (7.3 MB)\n",
            "Downloading EEGBCI data\n"
          ]
        },
        {
          "output_type": "stream",
          "name": "stderr",
          "text": [
            "Downloading file 'S078/S078R03.edf' from 'https://physionet.org/files/eegmmidb/1.0.0/S078/S078R03.edf' to '/content/MNE-eegbci-data/files/eegmmidb/1.0.0'.\n",
            "Downloading file 'S078/S078R07.edf' from 'https://physionet.org/files/eegmmidb/1.0.0/S078/S078R07.edf' to '/content/MNE-eegbci-data/files/eegmmidb/1.0.0'.\n",
            "Downloading file 'S078/S078R11.edf' from 'https://physionet.org/files/eegmmidb/1.0.0/S078/S078R11.edf' to '/content/MNE-eegbci-data/files/eegmmidb/1.0.0'.\n"
          ]
        },
        {
          "output_type": "stream",
          "name": "stdout",
          "text": [
            "Download complete in 08s (7.3 MB)\n",
            "Downloading EEGBCI data\n"
          ]
        },
        {
          "output_type": "stream",
          "name": "stderr",
          "text": [
            "Downloading file 'S079/S079R03.edf' from 'https://physionet.org/files/eegmmidb/1.0.0/S079/S079R03.edf' to '/content/MNE-eegbci-data/files/eegmmidb/1.0.0'.\n",
            "Downloading file 'S079/S079R07.edf' from 'https://physionet.org/files/eegmmidb/1.0.0/S079/S079R07.edf' to '/content/MNE-eegbci-data/files/eegmmidb/1.0.0'.\n",
            "Downloading file 'S079/S079R11.edf' from 'https://physionet.org/files/eegmmidb/1.0.0/S079/S079R11.edf' to '/content/MNE-eegbci-data/files/eegmmidb/1.0.0'.\n"
          ]
        },
        {
          "output_type": "stream",
          "name": "stdout",
          "text": [
            "Download complete in 08s (7.4 MB)\n",
            "Downloading EEGBCI data\n"
          ]
        },
        {
          "output_type": "stream",
          "name": "stderr",
          "text": [
            "Downloading file 'S080/S080R03.edf' from 'https://physionet.org/files/eegmmidb/1.0.0/S080/S080R03.edf' to '/content/MNE-eegbci-data/files/eegmmidb/1.0.0'.\n",
            "Downloading file 'S080/S080R07.edf' from 'https://physionet.org/files/eegmmidb/1.0.0/S080/S080R07.edf' to '/content/MNE-eegbci-data/files/eegmmidb/1.0.0'.\n",
            "Downloading file 'S080/S080R11.edf' from 'https://physionet.org/files/eegmmidb/1.0.0/S080/S080R11.edf' to '/content/MNE-eegbci-data/files/eegmmidb/1.0.0'.\n"
          ]
        },
        {
          "output_type": "stream",
          "name": "stdout",
          "text": [
            "Download complete in 08s (7.3 MB)\n",
            "Downloading EEGBCI data\n"
          ]
        },
        {
          "output_type": "stream",
          "name": "stderr",
          "text": [
            "Downloading file 'S081/S081R03.edf' from 'https://physionet.org/files/eegmmidb/1.0.0/S081/S081R03.edf' to '/content/MNE-eegbci-data/files/eegmmidb/1.0.0'.\n",
            "Downloading file 'S081/S081R07.edf' from 'https://physionet.org/files/eegmmidb/1.0.0/S081/S081R07.edf' to '/content/MNE-eegbci-data/files/eegmmidb/1.0.0'.\n",
            "Downloading file 'S081/S081R11.edf' from 'https://physionet.org/files/eegmmidb/1.0.0/S081/S081R11.edf' to '/content/MNE-eegbci-data/files/eegmmidb/1.0.0'.\n"
          ]
        },
        {
          "output_type": "stream",
          "name": "stdout",
          "text": [
            "Download complete in 08s (7.3 MB)\n",
            "Downloading EEGBCI data\n"
          ]
        },
        {
          "output_type": "stream",
          "name": "stderr",
          "text": [
            "Downloading file 'S082/S082R03.edf' from 'https://physionet.org/files/eegmmidb/1.0.0/S082/S082R03.edf' to '/content/MNE-eegbci-data/files/eegmmidb/1.0.0'.\n",
            "Downloading file 'S082/S082R07.edf' from 'https://physionet.org/files/eegmmidb/1.0.0/S082/S082R07.edf' to '/content/MNE-eegbci-data/files/eegmmidb/1.0.0'.\n",
            "Downloading file 'S082/S082R11.edf' from 'https://physionet.org/files/eegmmidb/1.0.0/S082/S082R11.edf' to '/content/MNE-eegbci-data/files/eegmmidb/1.0.0'.\n"
          ]
        },
        {
          "output_type": "stream",
          "name": "stdout",
          "text": [
            "Download complete in 08s (7.3 MB)\n",
            "Downloading EEGBCI data\n"
          ]
        },
        {
          "output_type": "stream",
          "name": "stderr",
          "text": [
            "Downloading file 'S083/S083R03.edf' from 'https://physionet.org/files/eegmmidb/1.0.0/S083/S083R03.edf' to '/content/MNE-eegbci-data/files/eegmmidb/1.0.0'.\n",
            "Downloading file 'S083/S083R07.edf' from 'https://physionet.org/files/eegmmidb/1.0.0/S083/S083R07.edf' to '/content/MNE-eegbci-data/files/eegmmidb/1.0.0'.\n",
            "Downloading file 'S083/S083R11.edf' from 'https://physionet.org/files/eegmmidb/1.0.0/S083/S083R11.edf' to '/content/MNE-eegbci-data/files/eegmmidb/1.0.0'.\n"
          ]
        },
        {
          "output_type": "stream",
          "name": "stdout",
          "text": [
            "Download complete in 08s (7.4 MB)\n",
            "Downloading EEGBCI data\n"
          ]
        },
        {
          "output_type": "stream",
          "name": "stderr",
          "text": [
            "Downloading file 'S084/S084R03.edf' from 'https://physionet.org/files/eegmmidb/1.0.0/S084/S084R03.edf' to '/content/MNE-eegbci-data/files/eegmmidb/1.0.0'.\n",
            "Downloading file 'S084/S084R07.edf' from 'https://physionet.org/files/eegmmidb/1.0.0/S084/S084R07.edf' to '/content/MNE-eegbci-data/files/eegmmidb/1.0.0'.\n",
            "Downloading file 'S084/S084R11.edf' from 'https://physionet.org/files/eegmmidb/1.0.0/S084/S084R11.edf' to '/content/MNE-eegbci-data/files/eegmmidb/1.0.0'.\n"
          ]
        },
        {
          "output_type": "stream",
          "name": "stdout",
          "text": [
            "Download complete in 08s (7.3 MB)\n",
            "Downloading EEGBCI data\n"
          ]
        },
        {
          "output_type": "stream",
          "name": "stderr",
          "text": [
            "Downloading file 'S085/S085R03.edf' from 'https://physionet.org/files/eegmmidb/1.0.0/S085/S085R03.edf' to '/content/MNE-eegbci-data/files/eegmmidb/1.0.0'.\n",
            "Downloading file 'S085/S085R07.edf' from 'https://physionet.org/files/eegmmidb/1.0.0/S085/S085R07.edf' to '/content/MNE-eegbci-data/files/eegmmidb/1.0.0'.\n",
            "Downloading file 'S085/S085R11.edf' from 'https://physionet.org/files/eegmmidb/1.0.0/S085/S085R11.edf' to '/content/MNE-eegbci-data/files/eegmmidb/1.0.0'.\n"
          ]
        },
        {
          "output_type": "stream",
          "name": "stdout",
          "text": [
            "Download complete in 08s (7.3 MB)\n",
            "Downloading EEGBCI data\n"
          ]
        },
        {
          "output_type": "stream",
          "name": "stderr",
          "text": [
            "Downloading file 'S086/S086R03.edf' from 'https://physionet.org/files/eegmmidb/1.0.0/S086/S086R03.edf' to '/content/MNE-eegbci-data/files/eegmmidb/1.0.0'.\n",
            "Downloading file 'S086/S086R07.edf' from 'https://physionet.org/files/eegmmidb/1.0.0/S086/S086R07.edf' to '/content/MNE-eegbci-data/files/eegmmidb/1.0.0'.\n",
            "Downloading file 'S086/S086R11.edf' from 'https://physionet.org/files/eegmmidb/1.0.0/S086/S086R11.edf' to '/content/MNE-eegbci-data/files/eegmmidb/1.0.0'.\n"
          ]
        },
        {
          "output_type": "stream",
          "name": "stdout",
          "text": [
            "Download complete in 08s (7.4 MB)\n",
            "Downloading EEGBCI data\n"
          ]
        },
        {
          "output_type": "stream",
          "name": "stderr",
          "text": [
            "Downloading file 'S087/S087R03.edf' from 'https://physionet.org/files/eegmmidb/1.0.0/S087/S087R03.edf' to '/content/MNE-eegbci-data/files/eegmmidb/1.0.0'.\n",
            "Downloading file 'S087/S087R07.edf' from 'https://physionet.org/files/eegmmidb/1.0.0/S087/S087R07.edf' to '/content/MNE-eegbci-data/files/eegmmidb/1.0.0'.\n",
            "Downloading file 'S087/S087R11.edf' from 'https://physionet.org/files/eegmmidb/1.0.0/S087/S087R11.edf' to '/content/MNE-eegbci-data/files/eegmmidb/1.0.0'.\n"
          ]
        },
        {
          "output_type": "stream",
          "name": "stdout",
          "text": [
            "Download complete in 08s (7.3 MB)\n",
            "Downloading EEGBCI data\n"
          ]
        },
        {
          "output_type": "stream",
          "name": "stderr",
          "text": [
            "Downloading file 'S088/S088R03.edf' from 'https://physionet.org/files/eegmmidb/1.0.0/S088/S088R03.edf' to '/content/MNE-eegbci-data/files/eegmmidb/1.0.0'.\n",
            "Downloading file 'S088/S088R07.edf' from 'https://physionet.org/files/eegmmidb/1.0.0/S088/S088R07.edf' to '/content/MNE-eegbci-data/files/eegmmidb/1.0.0'.\n",
            "Downloading file 'S088/S088R11.edf' from 'https://physionet.org/files/eegmmidb/1.0.0/S088/S088R11.edf' to '/content/MNE-eegbci-data/files/eegmmidb/1.0.0'.\n"
          ]
        },
        {
          "output_type": "stream",
          "name": "stdout",
          "text": [
            "Download complete in 07s (5.9 MB)\n",
            "Downloading EEGBCI data\n"
          ]
        },
        {
          "output_type": "stream",
          "name": "stderr",
          "text": [
            "Downloading file 'S089/S089R03.edf' from 'https://physionet.org/files/eegmmidb/1.0.0/S089/S089R03.edf' to '/content/MNE-eegbci-data/files/eegmmidb/1.0.0'.\n",
            "Downloading file 'S089/S089R07.edf' from 'https://physionet.org/files/eegmmidb/1.0.0/S089/S089R07.edf' to '/content/MNE-eegbci-data/files/eegmmidb/1.0.0'.\n",
            "Downloading file 'S089/S089R11.edf' from 'https://physionet.org/files/eegmmidb/1.0.0/S089/S089R11.edf' to '/content/MNE-eegbci-data/files/eegmmidb/1.0.0'.\n"
          ]
        },
        {
          "output_type": "stream",
          "name": "stdout",
          "text": [
            "Download complete in 09s (8.5 MB)\n",
            "Downloading EEGBCI data\n"
          ]
        },
        {
          "output_type": "stream",
          "name": "stderr",
          "text": [
            "Downloading file 'S090/S090R03.edf' from 'https://physionet.org/files/eegmmidb/1.0.0/S090/S090R03.edf' to '/content/MNE-eegbci-data/files/eegmmidb/1.0.0'.\n",
            "Downloading file 'S090/S090R07.edf' from 'https://physionet.org/files/eegmmidb/1.0.0/S090/S090R07.edf' to '/content/MNE-eegbci-data/files/eegmmidb/1.0.0'.\n",
            "Downloading file 'S090/S090R11.edf' from 'https://physionet.org/files/eegmmidb/1.0.0/S090/S090R11.edf' to '/content/MNE-eegbci-data/files/eegmmidb/1.0.0'.\n"
          ]
        },
        {
          "output_type": "stream",
          "name": "stdout",
          "text": [
            "Download complete in 08s (7.3 MB)\n",
            "Downloading EEGBCI data\n"
          ]
        },
        {
          "output_type": "stream",
          "name": "stderr",
          "text": [
            "Downloading file 'S091/S091R03.edf' from 'https://physionet.org/files/eegmmidb/1.0.0/S091/S091R03.edf' to '/content/MNE-eegbci-data/files/eegmmidb/1.0.0'.\n",
            "Downloading file 'S091/S091R07.edf' from 'https://physionet.org/files/eegmmidb/1.0.0/S091/S091R07.edf' to '/content/MNE-eegbci-data/files/eegmmidb/1.0.0'.\n",
            "Downloading file 'S091/S091R11.edf' from 'https://physionet.org/files/eegmmidb/1.0.0/S091/S091R11.edf' to '/content/MNE-eegbci-data/files/eegmmidb/1.0.0'.\n"
          ]
        },
        {
          "output_type": "stream",
          "name": "stdout",
          "text": [
            "Download complete in 08s (7.3 MB)\n",
            "Downloading EEGBCI data\n"
          ]
        },
        {
          "output_type": "stream",
          "name": "stderr",
          "text": [
            "Downloading file 'S092/S092R03.edf' from 'https://physionet.org/files/eegmmidb/1.0.0/S092/S092R03.edf' to '/content/MNE-eegbci-data/files/eegmmidb/1.0.0'.\n",
            "Downloading file 'S092/S092R07.edf' from 'https://physionet.org/files/eegmmidb/1.0.0/S092/S092R07.edf' to '/content/MNE-eegbci-data/files/eegmmidb/1.0.0'.\n",
            "Downloading file 'S092/S092R11.edf' from 'https://physionet.org/files/eegmmidb/1.0.0/S092/S092R11.edf' to '/content/MNE-eegbci-data/files/eegmmidb/1.0.0'.\n"
          ]
        },
        {
          "output_type": "stream",
          "name": "stdout",
          "text": [
            "Download complete in 07s (5.9 MB)\n",
            "Downloading EEGBCI data\n"
          ]
        },
        {
          "output_type": "stream",
          "name": "stderr",
          "text": [
            "Downloading file 'S093/S093R03.edf' from 'https://physionet.org/files/eegmmidb/1.0.0/S093/S093R03.edf' to '/content/MNE-eegbci-data/files/eegmmidb/1.0.0'.\n",
            "Downloading file 'S093/S093R07.edf' from 'https://physionet.org/files/eegmmidb/1.0.0/S093/S093R07.edf' to '/content/MNE-eegbci-data/files/eegmmidb/1.0.0'.\n",
            "Downloading file 'S093/S093R11.edf' from 'https://physionet.org/files/eegmmidb/1.0.0/S093/S093R11.edf' to '/content/MNE-eegbci-data/files/eegmmidb/1.0.0'.\n"
          ]
        },
        {
          "output_type": "stream",
          "name": "stdout",
          "text": [
            "Download complete in 08s (7.3 MB)\n",
            "Downloading EEGBCI data\n"
          ]
        },
        {
          "output_type": "stream",
          "name": "stderr",
          "text": [
            "Downloading file 'S094/S094R03.edf' from 'https://physionet.org/files/eegmmidb/1.0.0/S094/S094R03.edf' to '/content/MNE-eegbci-data/files/eegmmidb/1.0.0'.\n",
            "Downloading file 'S094/S094R07.edf' from 'https://physionet.org/files/eegmmidb/1.0.0/S094/S094R07.edf' to '/content/MNE-eegbci-data/files/eegmmidb/1.0.0'.\n",
            "Downloading file 'S094/S094R11.edf' from 'https://physionet.org/files/eegmmidb/1.0.0/S094/S094R11.edf' to '/content/MNE-eegbci-data/files/eegmmidb/1.0.0'.\n"
          ]
        },
        {
          "output_type": "stream",
          "name": "stdout",
          "text": [
            "Download complete in 08s (7.3 MB)\n",
            "Downloading EEGBCI data\n"
          ]
        },
        {
          "output_type": "stream",
          "name": "stderr",
          "text": [
            "Downloading file 'S095/S095R03.edf' from 'https://physionet.org/files/eegmmidb/1.0.0/S095/S095R03.edf' to '/content/MNE-eegbci-data/files/eegmmidb/1.0.0'.\n",
            "Downloading file 'S095/S095R07.edf' from 'https://physionet.org/files/eegmmidb/1.0.0/S095/S095R07.edf' to '/content/MNE-eegbci-data/files/eegmmidb/1.0.0'.\n",
            "Downloading file 'S095/S095R11.edf' from 'https://physionet.org/files/eegmmidb/1.0.0/S095/S095R11.edf' to '/content/MNE-eegbci-data/files/eegmmidb/1.0.0'.\n"
          ]
        },
        {
          "output_type": "stream",
          "name": "stdout",
          "text": [
            "Download complete in 08s (7.4 MB)\n",
            "Downloading EEGBCI data\n"
          ]
        },
        {
          "output_type": "stream",
          "name": "stderr",
          "text": [
            "Downloading file 'S096/S096R03.edf' from 'https://physionet.org/files/eegmmidb/1.0.0/S096/S096R03.edf' to '/content/MNE-eegbci-data/files/eegmmidb/1.0.0'.\n",
            "Downloading file 'S096/S096R07.edf' from 'https://physionet.org/files/eegmmidb/1.0.0/S096/S096R07.edf' to '/content/MNE-eegbci-data/files/eegmmidb/1.0.0'.\n",
            "Downloading file 'S096/S096R11.edf' from 'https://physionet.org/files/eegmmidb/1.0.0/S096/S096R11.edf' to '/content/MNE-eegbci-data/files/eegmmidb/1.0.0'.\n"
          ]
        },
        {
          "output_type": "stream",
          "name": "stdout",
          "text": [
            "Download complete in 08s (7.4 MB)\n",
            "Downloading EEGBCI data\n"
          ]
        },
        {
          "output_type": "stream",
          "name": "stderr",
          "text": [
            "Downloading file 'S097/S097R03.edf' from 'https://physionet.org/files/eegmmidb/1.0.0/S097/S097R03.edf' to '/content/MNE-eegbci-data/files/eegmmidb/1.0.0'.\n",
            "Downloading file 'S097/S097R07.edf' from 'https://physionet.org/files/eegmmidb/1.0.0/S097/S097R07.edf' to '/content/MNE-eegbci-data/files/eegmmidb/1.0.0'.\n",
            "Downloading file 'S097/S097R11.edf' from 'https://physionet.org/files/eegmmidb/1.0.0/S097/S097R11.edf' to '/content/MNE-eegbci-data/files/eegmmidb/1.0.0'.\n"
          ]
        },
        {
          "output_type": "stream",
          "name": "stdout",
          "text": [
            "Download complete in 08s (7.3 MB)\n",
            "Downloading EEGBCI data\n"
          ]
        },
        {
          "output_type": "stream",
          "name": "stderr",
          "text": [
            "Downloading file 'S098/S098R03.edf' from 'https://physionet.org/files/eegmmidb/1.0.0/S098/S098R03.edf' to '/content/MNE-eegbci-data/files/eegmmidb/1.0.0'.\n",
            "Downloading file 'S098/S098R07.edf' from 'https://physionet.org/files/eegmmidb/1.0.0/S098/S098R07.edf' to '/content/MNE-eegbci-data/files/eegmmidb/1.0.0'.\n",
            "Downloading file 'S098/S098R11.edf' from 'https://physionet.org/files/eegmmidb/1.0.0/S098/S098R11.edf' to '/content/MNE-eegbci-data/files/eegmmidb/1.0.0'.\n"
          ]
        },
        {
          "output_type": "stream",
          "name": "stdout",
          "text": [
            "Download complete in 08s (7.3 MB)\n",
            "Downloading EEGBCI data\n"
          ]
        },
        {
          "output_type": "stream",
          "name": "stderr",
          "text": [
            "Downloading file 'S099/S099R03.edf' from 'https://physionet.org/files/eegmmidb/1.0.0/S099/S099R03.edf' to '/content/MNE-eegbci-data/files/eegmmidb/1.0.0'.\n",
            "Downloading file 'S099/S099R07.edf' from 'https://physionet.org/files/eegmmidb/1.0.0/S099/S099R07.edf' to '/content/MNE-eegbci-data/files/eegmmidb/1.0.0'.\n",
            "Downloading file 'S099/S099R11.edf' from 'https://physionet.org/files/eegmmidb/1.0.0/S099/S099R11.edf' to '/content/MNE-eegbci-data/files/eegmmidb/1.0.0'.\n"
          ]
        },
        {
          "output_type": "stream",
          "name": "stdout",
          "text": [
            "Download complete in 08s (7.3 MB)\n",
            "Downloading EEGBCI data\n"
          ]
        },
        {
          "output_type": "stream",
          "name": "stderr",
          "text": [
            "Downloading file 'S100/S100R03.edf' from 'https://physionet.org/files/eegmmidb/1.0.0/S100/S100R03.edf' to '/content/MNE-eegbci-data/files/eegmmidb/1.0.0'.\n",
            "Downloading file 'S100/S100R07.edf' from 'https://physionet.org/files/eegmmidb/1.0.0/S100/S100R07.edf' to '/content/MNE-eegbci-data/files/eegmmidb/1.0.0'.\n",
            "Downloading file 'S100/S100R11.edf' from 'https://physionet.org/files/eegmmidb/1.0.0/S100/S100R11.edf' to '/content/MNE-eegbci-data/files/eegmmidb/1.0.0'.\n"
          ]
        },
        {
          "output_type": "stream",
          "name": "stdout",
          "text": [
            "Download complete in 07s (5.9 MB)\n",
            "Downloading EEGBCI data\n"
          ]
        },
        {
          "output_type": "stream",
          "name": "stderr",
          "text": [
            "Downloading file 'S101/S101R03.edf' from 'https://physionet.org/files/eegmmidb/1.0.0/S101/S101R03.edf' to '/content/MNE-eegbci-data/files/eegmmidb/1.0.0'.\n",
            "Downloading file 'S101/S101R07.edf' from 'https://physionet.org/files/eegmmidb/1.0.0/S101/S101R07.edf' to '/content/MNE-eegbci-data/files/eegmmidb/1.0.0'.\n",
            "Downloading file 'S101/S101R11.edf' from 'https://physionet.org/files/eegmmidb/1.0.0/S101/S101R11.edf' to '/content/MNE-eegbci-data/files/eegmmidb/1.0.0'.\n"
          ]
        },
        {
          "output_type": "stream",
          "name": "stdout",
          "text": [
            "Download complete in 08s (7.4 MB)\n",
            "Downloading EEGBCI data\n"
          ]
        },
        {
          "output_type": "stream",
          "name": "stderr",
          "text": [
            "Downloading file 'S102/S102R03.edf' from 'https://physionet.org/files/eegmmidb/1.0.0/S102/S102R03.edf' to '/content/MNE-eegbci-data/files/eegmmidb/1.0.0'.\n",
            "Downloading file 'S102/S102R07.edf' from 'https://physionet.org/files/eegmmidb/1.0.0/S102/S102R07.edf' to '/content/MNE-eegbci-data/files/eegmmidb/1.0.0'.\n",
            "Downloading file 'S102/S102R11.edf' from 'https://physionet.org/files/eegmmidb/1.0.0/S102/S102R11.edf' to '/content/MNE-eegbci-data/files/eegmmidb/1.0.0'.\n"
          ]
        },
        {
          "output_type": "stream",
          "name": "stdout",
          "text": [
            "Download complete in 08s (7.3 MB)\n",
            "Downloading EEGBCI data\n"
          ]
        },
        {
          "output_type": "stream",
          "name": "stderr",
          "text": [
            "Downloading file 'S103/S103R03.edf' from 'https://physionet.org/files/eegmmidb/1.0.0/S103/S103R03.edf' to '/content/MNE-eegbci-data/files/eegmmidb/1.0.0'.\n",
            "Downloading file 'S103/S103R07.edf' from 'https://physionet.org/files/eegmmidb/1.0.0/S103/S103R07.edf' to '/content/MNE-eegbci-data/files/eegmmidb/1.0.0'.\n",
            "Downloading file 'S103/S103R11.edf' from 'https://physionet.org/files/eegmmidb/1.0.0/S103/S103R11.edf' to '/content/MNE-eegbci-data/files/eegmmidb/1.0.0'.\n"
          ]
        },
        {
          "output_type": "stream",
          "name": "stdout",
          "text": [
            "Download complete in 08s (7.4 MB)\n",
            "Downloading EEGBCI data\n"
          ]
        },
        {
          "output_type": "stream",
          "name": "stderr",
          "text": [
            "Downloading file 'S104/S104R03.edf' from 'https://physionet.org/files/eegmmidb/1.0.0/S104/S104R03.edf' to '/content/MNE-eegbci-data/files/eegmmidb/1.0.0'.\n",
            "Downloading file 'S104/S104R07.edf' from 'https://physionet.org/files/eegmmidb/1.0.0/S104/S104R07.edf' to '/content/MNE-eegbci-data/files/eegmmidb/1.0.0'.\n",
            "Downloading file 'S104/S104R11.edf' from 'https://physionet.org/files/eegmmidb/1.0.0/S104/S104R11.edf' to '/content/MNE-eegbci-data/files/eegmmidb/1.0.0'.\n"
          ]
        },
        {
          "output_type": "stream",
          "name": "stdout",
          "text": [
            "Download complete in 08s (7.3 MB)\n",
            "Downloading EEGBCI data\n"
          ]
        },
        {
          "output_type": "stream",
          "name": "stderr",
          "text": [
            "Downloading file 'S105/S105R03.edf' from 'https://physionet.org/files/eegmmidb/1.0.0/S105/S105R03.edf' to '/content/MNE-eegbci-data/files/eegmmidb/1.0.0'.\n",
            "Downloading file 'S105/S105R07.edf' from 'https://physionet.org/files/eegmmidb/1.0.0/S105/S105R07.edf' to '/content/MNE-eegbci-data/files/eegmmidb/1.0.0'.\n",
            "Downloading file 'S105/S105R11.edf' from 'https://physionet.org/files/eegmmidb/1.0.0/S105/S105R11.edf' to '/content/MNE-eegbci-data/files/eegmmidb/1.0.0'.\n"
          ]
        },
        {
          "output_type": "stream",
          "name": "stdout",
          "text": [
            "Download complete in 08s (7.3 MB)\n",
            "Downloading EEGBCI data\n"
          ]
        },
        {
          "output_type": "stream",
          "name": "stderr",
          "text": [
            "Downloading file 'S106/S106R03.edf' from 'https://physionet.org/files/eegmmidb/1.0.0/S106/S106R03.edf' to '/content/MNE-eegbci-data/files/eegmmidb/1.0.0'.\n",
            "Downloading file 'S106/S106R07.edf' from 'https://physionet.org/files/eegmmidb/1.0.0/S106/S106R07.edf' to '/content/MNE-eegbci-data/files/eegmmidb/1.0.0'.\n",
            "Downloading file 'S106/S106R11.edf' from 'https://physionet.org/files/eegmmidb/1.0.0/S106/S106R11.edf' to '/content/MNE-eegbci-data/files/eegmmidb/1.0.0'.\n"
          ]
        },
        {
          "output_type": "stream",
          "name": "stdout",
          "text": [
            "Download complete in 09s (7.4 MB)\n",
            "Downloading EEGBCI data\n"
          ]
        },
        {
          "output_type": "stream",
          "name": "stderr",
          "text": [
            "Downloading file 'S107/S107R03.edf' from 'https://physionet.org/files/eegmmidb/1.0.0/S107/S107R03.edf' to '/content/MNE-eegbci-data/files/eegmmidb/1.0.0'.\n",
            "Downloading file 'S107/S107R07.edf' from 'https://physionet.org/files/eegmmidb/1.0.0/S107/S107R07.edf' to '/content/MNE-eegbci-data/files/eegmmidb/1.0.0'.\n",
            "Downloading file 'S107/S107R11.edf' from 'https://physionet.org/files/eegmmidb/1.0.0/S107/S107R11.edf' to '/content/MNE-eegbci-data/files/eegmmidb/1.0.0'.\n"
          ]
        },
        {
          "output_type": "stream",
          "name": "stdout",
          "text": [
            "Download complete in 08s (7.4 MB)\n",
            "Downloading EEGBCI data\n"
          ]
        },
        {
          "output_type": "stream",
          "name": "stderr",
          "text": [
            "Downloading file 'S108/S108R03.edf' from 'https://physionet.org/files/eegmmidb/1.0.0/S108/S108R03.edf' to '/content/MNE-eegbci-data/files/eegmmidb/1.0.0'.\n",
            "Downloading file 'S108/S108R07.edf' from 'https://physionet.org/files/eegmmidb/1.0.0/S108/S108R07.edf' to '/content/MNE-eegbci-data/files/eegmmidb/1.0.0'.\n",
            "Downloading file 'S108/S108R11.edf' from 'https://physionet.org/files/eegmmidb/1.0.0/S108/S108R11.edf' to '/content/MNE-eegbci-data/files/eegmmidb/1.0.0'.\n"
          ]
        },
        {
          "output_type": "stream",
          "name": "stdout",
          "text": [
            "Download complete in 08s (7.3 MB)\n"
          ]
        }
      ],
      "source": [
        "import mne\n",
        "from mne.datasets import eegbci\n",
        "from mne.io import concatenate_raws, read_raw_edf\n",
        "\n",
        "subject_number = 109\n",
        "tasks_number = 14\n",
        "\n",
        "for i in range(1, subject_number):\n",
        "  # for j in range(1, tasks_number):\n",
        "  eegbci.load_data(i, [3, 7, 11], './')\n",
        "\n"
      ]
    },
    {
      "cell_type": "code",
      "execution_count": 4,
      "metadata": {
        "colab": {
          "base_uri": "https://localhost:8080/"
        },
        "id": "VtHIeeQfEPIQ",
        "outputId": "d9a7c7a5-d4e7-4b8e-9a3b-fa45febf91bb"
      },
      "outputs": [
        {
          "output_type": "stream",
          "name": "stdout",
          "text": [
            "Extracting EDF parameters from /content/MNE-eegbci-data/files/eegmmidb/1.0.0/S052/S052R03.edf...\n",
            "EDF file detected\n",
            "Setting channel info structure...\n",
            "Creating raw.info structure...\n",
            "Reading 0 ... 19679  =      0.000 ...   122.994 secs...\n",
            "Used Annotations descriptions: ['T0', 'T1', 'T2']\n",
            "Extracting EDF parameters from /content/MNE-eegbci-data/files/eegmmidb/1.0.0/S052/S052R07.edf...\n",
            "EDF file detected\n",
            "Setting channel info structure...\n",
            "Creating raw.info structure...\n",
            "Reading 0 ... 19679  =      0.000 ...   122.994 secs...\n",
            "Used Annotations descriptions: ['T0', 'T1', 'T2']\n",
            "Extracting EDF parameters from /content/MNE-eegbci-data/files/eegmmidb/1.0.0/S052/S052R11.edf...\n",
            "EDF file detected\n",
            "Setting channel info structure...\n",
            "Creating raw.info structure...\n",
            "Reading 0 ... 19679  =      0.000 ...   122.994 secs...\n",
            "Used Annotations descriptions: ['T0', 'T1', 'T2']\n",
            "Extracting EDF parameters from /content/MNE-eegbci-data/files/eegmmidb/1.0.0/S043/S043R11.edf...\n",
            "EDF file detected\n",
            "Setting channel info structure...\n",
            "Creating raw.info structure...\n",
            "Reading 0 ... 19679  =      0.000 ...   122.994 secs...\n",
            "Used Annotations descriptions: ['T0', 'T1', 'T2']\n",
            "Extracting EDF parameters from /content/MNE-eegbci-data/files/eegmmidb/1.0.0/S043/S043R07.edf...\n",
            "EDF file detected\n",
            "Setting channel info structure...\n",
            "Creating raw.info structure...\n",
            "Reading 0 ... 19679  =      0.000 ...   122.994 secs...\n",
            "Used Annotations descriptions: ['T0', 'T1', 'T2']\n",
            "Extracting EDF parameters from /content/MNE-eegbci-data/files/eegmmidb/1.0.0/S043/S043R03.edf...\n",
            "EDF file detected\n",
            "Setting channel info structure...\n",
            "Creating raw.info structure...\n",
            "Reading 0 ... 19679  =      0.000 ...   122.994 secs...\n",
            "Used Annotations descriptions: ['T0', 'T1', 'T2']\n",
            "Extracting EDF parameters from /content/MNE-eegbci-data/files/eegmmidb/1.0.0/S008/S008R07.edf...\n",
            "EDF file detected\n",
            "Setting channel info structure...\n",
            "Creating raw.info structure...\n",
            "Reading 0 ... 19679  =      0.000 ...   122.994 secs...\n",
            "Used Annotations descriptions: ['T0', 'T1', 'T2']\n",
            "Extracting EDF parameters from /content/MNE-eegbci-data/files/eegmmidb/1.0.0/S008/S008R11.edf...\n",
            "EDF file detected\n",
            "Setting channel info structure...\n",
            "Creating raw.info structure...\n",
            "Reading 0 ... 19679  =      0.000 ...   122.994 secs...\n",
            "Used Annotations descriptions: ['T0', 'T1', 'T2']\n",
            "Extracting EDF parameters from /content/MNE-eegbci-data/files/eegmmidb/1.0.0/S008/S008R03.edf...\n",
            "EDF file detected\n",
            "Setting channel info structure...\n",
            "Creating raw.info structure...\n",
            "Reading 0 ... 19679  =      0.000 ...   122.994 secs...\n",
            "Used Annotations descriptions: ['T0', 'T1', 'T2']\n",
            "Extracting EDF parameters from /content/MNE-eegbci-data/files/eegmmidb/1.0.0/S041/S041R03.edf...\n",
            "EDF file detected\n",
            "Setting channel info structure...\n",
            "Creating raw.info structure...\n",
            "Reading 0 ... 19679  =      0.000 ...   122.994 secs...\n",
            "Used Annotations descriptions: ['T0', 'T1', 'T2']\n",
            "Extracting EDF parameters from /content/MNE-eegbci-data/files/eegmmidb/1.0.0/S041/S041R11.edf...\n",
            "EDF file detected\n",
            "Setting channel info structure...\n",
            "Creating raw.info structure...\n",
            "Reading 0 ... 19679  =      0.000 ...   122.994 secs...\n",
            "Used Annotations descriptions: ['T0', 'T1', 'T2']\n",
            "Extracting EDF parameters from /content/MNE-eegbci-data/files/eegmmidb/1.0.0/S041/S041R07.edf...\n",
            "EDF file detected\n",
            "Setting channel info structure...\n",
            "Creating raw.info structure...\n",
            "Reading 0 ... 19679  =      0.000 ...   122.994 secs...\n",
            "Used Annotations descriptions: ['T0', 'T1', 'T2']\n",
            "Extracting EDF parameters from /content/MNE-eegbci-data/files/eegmmidb/1.0.0/S004/S004R07.edf...\n",
            "EDF file detected\n",
            "Setting channel info structure...\n",
            "Creating raw.info structure...\n",
            "Reading 0 ... 19679  =      0.000 ...   122.994 secs...\n",
            "Used Annotations descriptions: ['T0', 'T1', 'T2']\n",
            "Extracting EDF parameters from /content/MNE-eegbci-data/files/eegmmidb/1.0.0/S004/S004R11.edf...\n",
            "EDF file detected\n",
            "Setting channel info structure...\n",
            "Creating raw.info structure...\n",
            "Reading 0 ... 19679  =      0.000 ...   122.994 secs...\n",
            "Used Annotations descriptions: ['T0', 'T1', 'T2']\n",
            "Extracting EDF parameters from /content/MNE-eegbci-data/files/eegmmidb/1.0.0/S004/S004R03.edf...\n",
            "EDF file detected\n",
            "Setting channel info structure...\n",
            "Creating raw.info structure...\n",
            "Reading 0 ... 19679  =      0.000 ...   122.994 secs...\n",
            "Used Annotations descriptions: ['T0', 'T1', 'T2']\n",
            "Extracting EDF parameters from /content/MNE-eegbci-data/files/eegmmidb/1.0.0/S036/S036R07.edf...\n",
            "EDF file detected\n",
            "Setting channel info structure...\n",
            "Creating raw.info structure...\n",
            "Reading 0 ... 19679  =      0.000 ...   122.994 secs...\n",
            "Used Annotations descriptions: ['T0', 'T1', 'T2']\n",
            "Extracting EDF parameters from /content/MNE-eegbci-data/files/eegmmidb/1.0.0/S036/S036R03.edf...\n",
            "EDF file detected\n",
            "Setting channel info structure...\n",
            "Creating raw.info structure...\n",
            "Reading 0 ... 19679  =      0.000 ...   122.994 secs...\n",
            "Used Annotations descriptions: ['T0', 'T1', 'T2']\n",
            "Extracting EDF parameters from /content/MNE-eegbci-data/files/eegmmidb/1.0.0/S036/S036R11.edf...\n",
            "EDF file detected\n",
            "Setting channel info structure...\n",
            "Creating raw.info structure...\n",
            "Reading 0 ... 19679  =      0.000 ...   122.994 secs...\n",
            "Used Annotations descriptions: ['T0', 'T1', 'T2']\n",
            "Extracting EDF parameters from /content/MNE-eegbci-data/files/eegmmidb/1.0.0/S094/S094R11.edf...\n",
            "EDF file detected\n",
            "Setting channel info structure...\n",
            "Creating raw.info structure...\n",
            "Reading 0 ... 19679  =      0.000 ...   122.994 secs...\n",
            "Used Annotations descriptions: ['T0', 'T1', 'T2']\n",
            "Extracting EDF parameters from /content/MNE-eegbci-data/files/eegmmidb/1.0.0/S094/S094R03.edf...\n",
            "EDF file detected\n",
            "Setting channel info structure...\n",
            "Creating raw.info structure...\n",
            "Reading 0 ... 19679  =      0.000 ...   122.994 secs...\n",
            "Used Annotations descriptions: ['T0', 'T1', 'T2']\n",
            "Extracting EDF parameters from /content/MNE-eegbci-data/files/eegmmidb/1.0.0/S094/S094R07.edf...\n",
            "EDF file detected\n",
            "Setting channel info structure...\n",
            "Creating raw.info structure...\n",
            "Reading 0 ... 19679  =      0.000 ...   122.994 secs...\n",
            "Used Annotations descriptions: ['T0', 'T1', 'T2']\n",
            "Extracting EDF parameters from /content/MNE-eegbci-data/files/eegmmidb/1.0.0/S029/S029R03.edf...\n",
            "EDF file detected\n",
            "Setting channel info structure...\n",
            "Creating raw.info structure...\n",
            "Reading 0 ... 19839  =      0.000 ...   123.994 secs...\n",
            "Used Annotations descriptions: ['T0', 'T1', 'T2']\n",
            "Extracting EDF parameters from /content/MNE-eegbci-data/files/eegmmidb/1.0.0/S029/S029R07.edf...\n",
            "EDF file detected\n",
            "Setting channel info structure...\n",
            "Creating raw.info structure...\n",
            "Reading 0 ... 19839  =      0.000 ...   123.994 secs...\n",
            "Used Annotations descriptions: ['T0', 'T1', 'T2']\n",
            "Extracting EDF parameters from /content/MNE-eegbci-data/files/eegmmidb/1.0.0/S029/S029R11.edf...\n",
            "EDF file detected\n",
            "Setting channel info structure...\n",
            "Creating raw.info structure...\n",
            "Reading 0 ... 19839  =      0.000 ...   123.994 secs...\n",
            "Used Annotations descriptions: ['T0', 'T1', 'T2']\n",
            "Extracting EDF parameters from /content/MNE-eegbci-data/files/eegmmidb/1.0.0/S017/S017R11.edf...\n",
            "EDF file detected\n",
            "Setting channel info structure...\n",
            "Creating raw.info structure...\n",
            "Reading 0 ... 19679  =      0.000 ...   122.994 secs...\n",
            "Used Annotations descriptions: ['T0', 'T1', 'T2']\n",
            "Extracting EDF parameters from /content/MNE-eegbci-data/files/eegmmidb/1.0.0/S017/S017R07.edf...\n",
            "EDF file detected\n",
            "Setting channel info structure...\n",
            "Creating raw.info structure...\n",
            "Reading 0 ... 19679  =      0.000 ...   122.994 secs...\n",
            "Used Annotations descriptions: ['T0', 'T1', 'T2']\n",
            "Extracting EDF parameters from /content/MNE-eegbci-data/files/eegmmidb/1.0.0/S017/S017R03.edf...\n",
            "EDF file detected\n",
            "Setting channel info structure...\n",
            "Creating raw.info structure...\n",
            "Reading 0 ... 19679  =      0.000 ...   122.994 secs...\n",
            "Used Annotations descriptions: ['T0', 'T1', 'T2']\n",
            "Extracting EDF parameters from /content/MNE-eegbci-data/files/eegmmidb/1.0.0/S040/S040R03.edf...\n",
            "EDF file detected\n",
            "Setting channel info structure...\n",
            "Creating raw.info structure...\n",
            "Reading 0 ... 19679  =      0.000 ...   122.994 secs...\n",
            "Used Annotations descriptions: ['T0', 'T1', 'T2']\n",
            "Extracting EDF parameters from /content/MNE-eegbci-data/files/eegmmidb/1.0.0/S040/S040R11.edf...\n",
            "EDF file detected\n",
            "Setting channel info structure...\n",
            "Creating raw.info structure...\n",
            "Reading 0 ... 19679  =      0.000 ...   122.994 secs...\n",
            "Used Annotations descriptions: ['T0', 'T1', 'T2']\n",
            "Extracting EDF parameters from /content/MNE-eegbci-data/files/eegmmidb/1.0.0/S040/S040R07.edf...\n",
            "EDF file detected\n",
            "Setting channel info structure...\n",
            "Creating raw.info structure...\n",
            "Reading 0 ... 19679  =      0.000 ...   122.994 secs...\n",
            "Used Annotations descriptions: ['T0', 'T1', 'T2']\n",
            "Extracting EDF parameters from /content/MNE-eegbci-data/files/eegmmidb/1.0.0/S015/S015R03.edf...\n",
            "EDF file detected\n",
            "Setting channel info structure...\n",
            "Creating raw.info structure...\n",
            "Reading 0 ... 19679  =      0.000 ...   122.994 secs...\n",
            "Used Annotations descriptions: ['T0', 'T1', 'T2']\n",
            "Extracting EDF parameters from /content/MNE-eegbci-data/files/eegmmidb/1.0.0/S015/S015R07.edf...\n",
            "EDF file detected\n",
            "Setting channel info structure...\n",
            "Creating raw.info structure...\n",
            "Reading 0 ... 19679  =      0.000 ...   122.994 secs...\n",
            "Used Annotations descriptions: ['T0', 'T1', 'T2']\n",
            "Extracting EDF parameters from /content/MNE-eegbci-data/files/eegmmidb/1.0.0/S015/S015R11.edf...\n",
            "EDF file detected\n",
            "Setting channel info structure...\n",
            "Creating raw.info structure...\n",
            "Reading 0 ... 19679  =      0.000 ...   122.994 secs...\n",
            "Used Annotations descriptions: ['T0', 'T1', 'T2']\n",
            "Extracting EDF parameters from /content/MNE-eegbci-data/files/eegmmidb/1.0.0/S086/S086R11.edf...\n",
            "EDF file detected\n",
            "Setting channel info structure...\n",
            "Creating raw.info structure...\n",
            "Reading 0 ... 19999  =      0.000 ...   124.994 secs...\n",
            "Used Annotations descriptions: ['T0', 'T1', 'T2']\n",
            "Extracting EDF parameters from /content/MNE-eegbci-data/files/eegmmidb/1.0.0/S086/S086R03.edf...\n",
            "EDF file detected\n",
            "Setting channel info structure...\n",
            "Creating raw.info structure...\n",
            "Reading 0 ... 19999  =      0.000 ...   124.994 secs...\n",
            "Used Annotations descriptions: ['T0', 'T1', 'T2']\n",
            "Extracting EDF parameters from /content/MNE-eegbci-data/files/eegmmidb/1.0.0/S086/S086R07.edf...\n",
            "EDF file detected\n",
            "Setting channel info structure...\n",
            "Creating raw.info structure...\n",
            "Reading 0 ... 19999  =      0.000 ...   124.994 secs...\n",
            "Used Annotations descriptions: ['T0', 'T1', 'T2']\n",
            "Extracting EDF parameters from /content/MNE-eegbci-data/files/eegmmidb/1.0.0/S002/S002R07.edf...\n",
            "EDF file detected\n",
            "Setting channel info structure...\n",
            "Creating raw.info structure...\n",
            "Reading 0 ... 19679  =      0.000 ...   122.994 secs...\n",
            "Used Annotations descriptions: ['T0', 'T1', 'T2']\n",
            "Extracting EDF parameters from /content/MNE-eegbci-data/files/eegmmidb/1.0.0/S002/S002R03.edf...\n",
            "EDF file detected\n",
            "Setting channel info structure...\n",
            "Creating raw.info structure...\n",
            "Reading 0 ... 19679  =      0.000 ...   122.994 secs...\n",
            "Used Annotations descriptions: ['T0', 'T1', 'T2']\n",
            "Extracting EDF parameters from /content/MNE-eegbci-data/files/eegmmidb/1.0.0/S002/S002R11.edf...\n",
            "EDF file detected\n",
            "Setting channel info structure...\n",
            "Creating raw.info structure...\n",
            "Reading 0 ... 19679  =      0.000 ...   122.994 secs...\n",
            "Used Annotations descriptions: ['T0', 'T1', 'T2']\n",
            "Extracting EDF parameters from /content/MNE-eegbci-data/files/eegmmidb/1.0.0/S084/S084R11.edf...\n",
            "EDF file detected\n",
            "Setting channel info structure...\n",
            "Creating raw.info structure...\n",
            "Reading 0 ... 19679  =      0.000 ...   122.994 secs...\n",
            "Used Annotations descriptions: ['T0', 'T1', 'T2']\n",
            "Extracting EDF parameters from /content/MNE-eegbci-data/files/eegmmidb/1.0.0/S084/S084R03.edf...\n",
            "EDF file detected\n",
            "Setting channel info structure...\n",
            "Creating raw.info structure...\n",
            "Reading 0 ... 19679  =      0.000 ...   122.994 secs...\n",
            "Used Annotations descriptions: ['T0', 'T1', 'T2']\n",
            "Extracting EDF parameters from /content/MNE-eegbci-data/files/eegmmidb/1.0.0/S084/S084R07.edf...\n",
            "EDF file detected\n",
            "Setting channel info structure...\n",
            "Creating raw.info structure...\n",
            "Reading 0 ... 19679  =      0.000 ...   122.994 secs...\n",
            "Used Annotations descriptions: ['T0', 'T1', 'T2']\n",
            "Extracting EDF parameters from /content/MNE-eegbci-data/files/eegmmidb/1.0.0/S045/S045R11.edf...\n",
            "EDF file detected\n",
            "Setting channel info structure...\n",
            "Creating raw.info structure...\n",
            "Reading 0 ... 19679  =      0.000 ...   122.994 secs...\n",
            "Used Annotations descriptions: ['T0', 'T1', 'T2']\n",
            "Extracting EDF parameters from /content/MNE-eegbci-data/files/eegmmidb/1.0.0/S045/S045R07.edf...\n",
            "EDF file detected\n",
            "Setting channel info structure...\n",
            "Creating raw.info structure...\n",
            "Reading 0 ... 19679  =      0.000 ...   122.994 secs...\n",
            "Used Annotations descriptions: ['T0', 'T1', 'T2']\n",
            "Extracting EDF parameters from /content/MNE-eegbci-data/files/eegmmidb/1.0.0/S045/S045R03.edf...\n",
            "EDF file detected\n",
            "Setting channel info structure...\n",
            "Creating raw.info structure...\n",
            "Reading 0 ... 19679  =      0.000 ...   122.994 secs...\n",
            "Used Annotations descriptions: ['T0', 'T1', 'T2']\n",
            "Extracting EDF parameters from /content/MNE-eegbci-data/files/eegmmidb/1.0.0/S065/S065R03.edf...\n",
            "EDF file detected\n",
            "Setting channel info structure...\n",
            "Creating raw.info structure...\n",
            "Reading 0 ... 19999  =      0.000 ...   124.994 secs...\n",
            "Used Annotations descriptions: ['T0', 'T1', 'T2']\n",
            "Extracting EDF parameters from /content/MNE-eegbci-data/files/eegmmidb/1.0.0/S065/S065R11.edf...\n",
            "EDF file detected\n",
            "Setting channel info structure...\n",
            "Creating raw.info structure...\n",
            "Reading 0 ... 19999  =      0.000 ...   124.994 secs...\n",
            "Used Annotations descriptions: ['T0', 'T1', 'T2']\n",
            "Extracting EDF parameters from /content/MNE-eegbci-data/files/eegmmidb/1.0.0/S065/S065R07.edf...\n",
            "EDF file detected\n",
            "Setting channel info structure...\n",
            "Creating raw.info structure...\n",
            "Reading 0 ... 19999  =      0.000 ...   124.994 secs...\n",
            "Used Annotations descriptions: ['T0', 'T1', 'T2']\n",
            "Extracting EDF parameters from /content/MNE-eegbci-data/files/eegmmidb/1.0.0/S012/S012R07.edf...\n",
            "EDF file detected\n",
            "Setting channel info structure...\n",
            "Creating raw.info structure...\n",
            "Reading 0 ... 19679  =      0.000 ...   122.994 secs...\n",
            "Used Annotations descriptions: ['T0', 'T1', 'T2']\n",
            "Extracting EDF parameters from /content/MNE-eegbci-data/files/eegmmidb/1.0.0/S012/S012R11.edf...\n",
            "EDF file detected\n",
            "Setting channel info structure...\n",
            "Creating raw.info structure...\n",
            "Reading 0 ... 19679  =      0.000 ...   122.994 secs...\n",
            "Used Annotations descriptions: ['T0', 'T1', 'T2']\n",
            "Extracting EDF parameters from /content/MNE-eegbci-data/files/eegmmidb/1.0.0/S012/S012R03.edf...\n",
            "EDF file detected\n",
            "Setting channel info structure...\n",
            "Creating raw.info structure...\n",
            "Reading 0 ... 19679  =      0.000 ...   122.994 secs...\n",
            "Used Annotations descriptions: ['T0', 'T1', 'T2']\n",
            "Extracting EDF parameters from /content/MNE-eegbci-data/files/eegmmidb/1.0.0/S063/S063R03.edf...\n",
            "EDF file detected\n",
            "Setting channel info structure...\n",
            "Creating raw.info structure...\n",
            "Reading 0 ... 19679  =      0.000 ...   122.994 secs...\n",
            "Used Annotations descriptions: ['T0', 'T1', 'T2']\n",
            "Extracting EDF parameters from /content/MNE-eegbci-data/files/eegmmidb/1.0.0/S063/S063R11.edf...\n",
            "EDF file detected\n",
            "Setting channel info structure...\n",
            "Creating raw.info structure...\n",
            "Reading 0 ... 19679  =      0.000 ...   122.994 secs...\n",
            "Used Annotations descriptions: ['T0', 'T1', 'T2']\n",
            "Extracting EDF parameters from /content/MNE-eegbci-data/files/eegmmidb/1.0.0/S063/S063R07.edf...\n",
            "EDF file detected\n",
            "Setting channel info structure...\n",
            "Creating raw.info structure...\n",
            "Reading 0 ... 19679  =      0.000 ...   122.994 secs...\n",
            "Used Annotations descriptions: ['T0', 'T1', 'T2']\n",
            "Extracting EDF parameters from /content/MNE-eegbci-data/files/eegmmidb/1.0.0/S049/S049R11.edf...\n",
            "EDF file detected\n",
            "Setting channel info structure...\n",
            "Creating raw.info structure...\n",
            "Reading 0 ... 19679  =      0.000 ...   122.994 secs...\n",
            "Used Annotations descriptions: ['T0', 'T1', 'T2']\n",
            "Extracting EDF parameters from /content/MNE-eegbci-data/files/eegmmidb/1.0.0/S049/S049R03.edf...\n",
            "EDF file detected\n",
            "Setting channel info structure...\n",
            "Creating raw.info structure...\n",
            "Reading 0 ... 19679  =      0.000 ...   122.994 secs...\n",
            "Used Annotations descriptions: ['T0', 'T1', 'T2']\n",
            "Extracting EDF parameters from /content/MNE-eegbci-data/files/eegmmidb/1.0.0/S049/S049R07.edf...\n",
            "EDF file detected\n",
            "Setting channel info structure...\n",
            "Creating raw.info structure...\n",
            "Reading 0 ... 19679  =      0.000 ...   122.994 secs...\n",
            "Used Annotations descriptions: ['T0', 'T1', 'T2']\n",
            "Extracting EDF parameters from /content/MNE-eegbci-data/files/eegmmidb/1.0.0/S038/S038R03.edf...\n",
            "EDF file detected\n",
            "Setting channel info structure...\n",
            "Creating raw.info structure...\n",
            "Reading 0 ... 19679  =      0.000 ...   122.994 secs...\n",
            "Used Annotations descriptions: ['T0', 'T1', 'T2']\n",
            "Extracting EDF parameters from /content/MNE-eegbci-data/files/eegmmidb/1.0.0/S038/S038R11.edf...\n",
            "EDF file detected\n",
            "Setting channel info structure...\n",
            "Creating raw.info structure...\n",
            "Reading 0 ... 19679  =      0.000 ...   122.994 secs...\n",
            "Used Annotations descriptions: ['T0', 'T1', 'T2']\n",
            "Extracting EDF parameters from /content/MNE-eegbci-data/files/eegmmidb/1.0.0/S038/S038R07.edf...\n",
            "EDF file detected\n",
            "Setting channel info structure...\n",
            "Creating raw.info structure...\n",
            "Reading 0 ... 19679  =      0.000 ...   122.994 secs...\n",
            "Used Annotations descriptions: ['T0', 'T1', 'T2']\n",
            "Extracting EDF parameters from /content/MNE-eegbci-data/files/eegmmidb/1.0.0/S083/S083R03.edf...\n",
            "EDF file detected\n",
            "Setting channel info structure...\n",
            "Creating raw.info structure...\n",
            "Reading 0 ... 19999  =      0.000 ...   124.994 secs...\n",
            "Used Annotations descriptions: ['T0', 'T1', 'T2']\n",
            "Extracting EDF parameters from /content/MNE-eegbci-data/files/eegmmidb/1.0.0/S083/S083R07.edf...\n",
            "EDF file detected\n",
            "Setting channel info structure...\n",
            "Creating raw.info structure...\n",
            "Reading 0 ... 19999  =      0.000 ...   124.994 secs...\n",
            "Used Annotations descriptions: ['T0', 'T1', 'T2']\n",
            "Extracting EDF parameters from /content/MNE-eegbci-data/files/eegmmidb/1.0.0/S083/S083R11.edf...\n",
            "EDF file detected\n",
            "Setting channel info structure...\n",
            "Creating raw.info structure...\n",
            "Reading 0 ... 19999  =      0.000 ...   124.994 secs...\n",
            "Used Annotations descriptions: ['T0', 'T1', 'T2']\n",
            "Extracting EDF parameters from /content/MNE-eegbci-data/files/eegmmidb/1.0.0/S010/S010R07.edf...\n",
            "EDF file detected\n",
            "Setting channel info structure...\n",
            "Creating raw.info structure...\n",
            "Reading 0 ... 19679  =      0.000 ...   122.994 secs...\n",
            "Used Annotations descriptions: ['T0', 'T1', 'T2']\n",
            "Extracting EDF parameters from /content/MNE-eegbci-data/files/eegmmidb/1.0.0/S010/S010R03.edf...\n",
            "EDF file detected\n",
            "Setting channel info structure...\n",
            "Creating raw.info structure...\n",
            "Reading 0 ... 19679  =      0.000 ...   122.994 secs...\n",
            "Used Annotations descriptions: ['T0', 'T1', 'T2']\n",
            "Extracting EDF parameters from /content/MNE-eegbci-data/files/eegmmidb/1.0.0/S010/S010R11.edf...\n",
            "EDF file detected\n",
            "Setting channel info structure...\n",
            "Creating raw.info structure...\n",
            "Reading 0 ... 19679  =      0.000 ...   122.994 secs...\n",
            "Used Annotations descriptions: ['T0', 'T1', 'T2']\n",
            "Extracting EDF parameters from /content/MNE-eegbci-data/files/eegmmidb/1.0.0/S050/S050R07.edf...\n",
            "EDF file detected\n",
            "Setting channel info structure...\n",
            "Creating raw.info structure...\n",
            "Reading 0 ... 19679  =      0.000 ...   122.994 secs...\n",
            "Used Annotations descriptions: ['T0', 'T1', 'T2']\n",
            "Extracting EDF parameters from /content/MNE-eegbci-data/files/eegmmidb/1.0.0/S050/S050R11.edf...\n",
            "EDF file detected\n",
            "Setting channel info structure...\n",
            "Creating raw.info structure...\n",
            "Reading 0 ... 19679  =      0.000 ...   122.994 secs...\n",
            "Used Annotations descriptions: ['T0', 'T1', 'T2']\n",
            "Extracting EDF parameters from /content/MNE-eegbci-data/files/eegmmidb/1.0.0/S050/S050R03.edf...\n",
            "EDF file detected\n",
            "Setting channel info structure...\n",
            "Creating raw.info structure...\n",
            "Reading 0 ... 19679  =      0.000 ...   122.994 secs...\n",
            "Used Annotations descriptions: ['T0', 'T1', 'T2']\n",
            "Extracting EDF parameters from /content/MNE-eegbci-data/files/eegmmidb/1.0.0/S039/S039R03.edf...\n",
            "EDF file detected\n",
            "Setting channel info structure...\n",
            "Creating raw.info structure...\n",
            "Reading 0 ... 19679  =      0.000 ...   122.994 secs...\n",
            "Used Annotations descriptions: ['T0', 'T1', 'T2']\n",
            "Extracting EDF parameters from /content/MNE-eegbci-data/files/eegmmidb/1.0.0/S039/S039R11.edf...\n",
            "EDF file detected\n",
            "Setting channel info structure...\n",
            "Creating raw.info structure...\n",
            "Reading 0 ... 19679  =      0.000 ...   122.994 secs...\n",
            "Used Annotations descriptions: ['T0', 'T1', 'T2']\n",
            "Extracting EDF parameters from /content/MNE-eegbci-data/files/eegmmidb/1.0.0/S039/S039R07.edf...\n",
            "EDF file detected\n",
            "Setting channel info structure...\n",
            "Creating raw.info structure...\n",
            "Reading 0 ... 19679  =      0.000 ...   122.994 secs...\n",
            "Used Annotations descriptions: ['T0', 'T1', 'T2']\n",
            "Extracting EDF parameters from /content/MNE-eegbci-data/files/eegmmidb/1.0.0/S082/S082R11.edf...\n",
            "EDF file detected\n",
            "Setting channel info structure...\n",
            "Creating raw.info structure...\n",
            "Reading 0 ... 19679  =      0.000 ...   122.994 secs...\n",
            "Used Annotations descriptions: ['T0', 'T1', 'T2']\n",
            "Extracting EDF parameters from /content/MNE-eegbci-data/files/eegmmidb/1.0.0/S082/S082R07.edf...\n",
            "EDF file detected\n",
            "Setting channel info structure...\n",
            "Creating raw.info structure...\n",
            "Reading 0 ... 19679  =      0.000 ...   122.994 secs...\n",
            "Used Annotations descriptions: ['T0', 'T1', 'T2']\n",
            "Extracting EDF parameters from /content/MNE-eegbci-data/files/eegmmidb/1.0.0/S082/S082R03.edf...\n",
            "EDF file detected\n",
            "Setting channel info structure...\n",
            "Creating raw.info structure...\n",
            "Reading 0 ... 19679  =      0.000 ...   122.994 secs...\n",
            "Used Annotations descriptions: ['T0', 'T1', 'T2']\n",
            "Extracting EDF parameters from /content/MNE-eegbci-data/files/eegmmidb/1.0.0/S106/S106R03.edf...\n",
            "EDF file detected\n",
            "Setting channel info structure...\n",
            "Creating raw.info structure...\n",
            "Reading 0 ... 19999  =      0.000 ...   124.994 secs...\n",
            "Used Annotations descriptions: ['T0', 'T1', 'T2']\n",
            "Extracting EDF parameters from /content/MNE-eegbci-data/files/eegmmidb/1.0.0/S106/S106R11.edf...\n",
            "EDF file detected\n",
            "Setting channel info structure...\n",
            "Creating raw.info structure...\n",
            "Reading 0 ... 19999  =      0.000 ...   124.994 secs...\n",
            "Used Annotations descriptions: ['T0', 'T1', 'T2']\n",
            "Extracting EDF parameters from /content/MNE-eegbci-data/files/eegmmidb/1.0.0/S106/S106R07.edf...\n",
            "EDF file detected\n",
            "Setting channel info structure...\n",
            "Creating raw.info structure...\n",
            "Reading 0 ... 19999  =      0.000 ...   124.994 secs...\n",
            "Used Annotations descriptions: ['T0', 'T1', 'T2']\n",
            "Extracting EDF parameters from /content/MNE-eegbci-data/files/eegmmidb/1.0.0/S069/S069R07.edf...\n",
            "EDF file detected\n",
            "Setting channel info structure...\n",
            "Creating raw.info structure...\n",
            "Reading 0 ... 19679  =      0.000 ...   122.994 secs...\n",
            "Used Annotations descriptions: ['T0', 'T1', 'T2']\n",
            "Extracting EDF parameters from /content/MNE-eegbci-data/files/eegmmidb/1.0.0/S069/S069R11.edf...\n",
            "EDF file detected\n",
            "Setting channel info structure...\n",
            "Creating raw.info structure...\n",
            "Reading 0 ... 19679  =      0.000 ...   122.994 secs...\n",
            "Used Annotations descriptions: ['T0', 'T1', 'T2']\n",
            "Extracting EDF parameters from /content/MNE-eegbci-data/files/eegmmidb/1.0.0/S069/S069R03.edf...\n",
            "EDF file detected\n",
            "Setting channel info structure...\n",
            "Creating raw.info structure...\n",
            "Reading 0 ... 19679  =      0.000 ...   122.994 secs...\n",
            "Used Annotations descriptions: ['T0', 'T1', 'T2']\n",
            "Extracting EDF parameters from /content/MNE-eegbci-data/files/eegmmidb/1.0.0/S005/S005R03.edf...\n",
            "EDF file detected\n",
            "Setting channel info structure...\n",
            "Creating raw.info structure...\n",
            "Reading 0 ... 19679  =      0.000 ...   122.994 secs...\n",
            "Used Annotations descriptions: ['T0', 'T1', 'T2']\n",
            "Extracting EDF parameters from /content/MNE-eegbci-data/files/eegmmidb/1.0.0/S005/S005R07.edf...\n",
            "EDF file detected\n",
            "Setting channel info structure...\n",
            "Creating raw.info structure...\n",
            "Reading 0 ... 19679  =      0.000 ...   122.994 secs...\n",
            "Used Annotations descriptions: ['T0', 'T1', 'T2']\n",
            "Extracting EDF parameters from /content/MNE-eegbci-data/files/eegmmidb/1.0.0/S005/S005R11.edf...\n",
            "EDF file detected\n",
            "Setting channel info structure...\n",
            "Creating raw.info structure...\n",
            "Reading 0 ... 19679  =      0.000 ...   122.994 secs...\n",
            "Used Annotations descriptions: ['T0', 'T1', 'T2']\n",
            "Extracting EDF parameters from /content/MNE-eegbci-data/files/eegmmidb/1.0.0/S076/S076R03.edf...\n",
            "EDF file detected\n",
            "Setting channel info structure...\n",
            "Creating raw.info structure...\n",
            "Reading 0 ... 19679  =      0.000 ...   122.994 secs...\n",
            "Used Annotations descriptions: ['T0', 'T1', 'T2']\n",
            "Extracting EDF parameters from /content/MNE-eegbci-data/files/eegmmidb/1.0.0/S076/S076R07.edf...\n",
            "EDF file detected\n",
            "Setting channel info structure...\n",
            "Creating raw.info structure...\n",
            "Reading 0 ... 19679  =      0.000 ...   122.994 secs...\n",
            "Used Annotations descriptions: ['T0', 'T1', 'T2']\n",
            "Extracting EDF parameters from /content/MNE-eegbci-data/files/eegmmidb/1.0.0/S076/S076R11.edf...\n",
            "EDF file detected\n",
            "Setting channel info structure...\n",
            "Creating raw.info structure...\n",
            "Reading 0 ... 19679  =      0.000 ...   122.994 secs...\n",
            "Used Annotations descriptions: ['T0', 'T1', 'T2']\n",
            "Extracting EDF parameters from /content/MNE-eegbci-data/files/eegmmidb/1.0.0/S098/S098R11.edf...\n",
            "EDF file detected\n",
            "Setting channel info structure...\n",
            "Creating raw.info structure...\n",
            "Reading 0 ... 19679  =      0.000 ...   122.994 secs...\n",
            "Used Annotations descriptions: ['T0', 'T1', 'T2']\n",
            "Extracting EDF parameters from /content/MNE-eegbci-data/files/eegmmidb/1.0.0/S098/S098R07.edf...\n",
            "EDF file detected\n",
            "Setting channel info structure...\n",
            "Creating raw.info structure...\n",
            "Reading 0 ... 19679  =      0.000 ...   122.994 secs...\n",
            "Used Annotations descriptions: ['T0', 'T1', 'T2']\n",
            "Extracting EDF parameters from /content/MNE-eegbci-data/files/eegmmidb/1.0.0/S098/S098R03.edf...\n",
            "EDF file detected\n",
            "Setting channel info structure...\n",
            "Creating raw.info structure...\n",
            "Reading 0 ... 19679  =      0.000 ...   122.994 secs...\n",
            "Used Annotations descriptions: ['T0', 'T1', 'T2']\n",
            "Extracting EDF parameters from /content/MNE-eegbci-data/files/eegmmidb/1.0.0/S001/S001R03.edf...\n",
            "EDF file detected\n",
            "Setting channel info structure...\n",
            "Creating raw.info structure...\n",
            "Reading 0 ... 19999  =      0.000 ...   124.994 secs...\n",
            "Used Annotations descriptions: ['T0', 'T1', 'T2']\n",
            "Extracting EDF parameters from /content/MNE-eegbci-data/files/eegmmidb/1.0.0/S001/S001R07.edf...\n",
            "EDF file detected\n",
            "Setting channel info structure...\n",
            "Creating raw.info structure...\n",
            "Reading 0 ... 19999  =      0.000 ...   124.994 secs...\n",
            "Used Annotations descriptions: ['T0', 'T1', 'T2']\n",
            "Extracting EDF parameters from /content/MNE-eegbci-data/files/eegmmidb/1.0.0/S001/S001R11.edf...\n",
            "EDF file detected\n",
            "Setting channel info structure...\n",
            "Creating raw.info structure...\n",
            "Reading 0 ... 19999  =      0.000 ...   124.994 secs...\n",
            "Used Annotations descriptions: ['T0', 'T1', 'T2']\n",
            "Extracting EDF parameters from /content/MNE-eegbci-data/files/eegmmidb/1.0.0/S044/S044R03.edf...\n",
            "EDF file detected\n",
            "Setting channel info structure...\n",
            "Creating raw.info structure...\n",
            "Reading 0 ... 19679  =      0.000 ...   122.994 secs...\n",
            "Used Annotations descriptions: ['T0', 'T1', 'T2']\n",
            "Extracting EDF parameters from /content/MNE-eegbci-data/files/eegmmidb/1.0.0/S044/S044R07.edf...\n",
            "EDF file detected\n",
            "Setting channel info structure...\n",
            "Creating raw.info structure...\n",
            "Reading 0 ... 19679  =      0.000 ...   122.994 secs...\n",
            "Used Annotations descriptions: ['T0', 'T1', 'T2']\n",
            "Extracting EDF parameters from /content/MNE-eegbci-data/files/eegmmidb/1.0.0/S044/S044R11.edf...\n",
            "EDF file detected\n",
            "Setting channel info structure...\n",
            "Creating raw.info structure...\n",
            "Reading 0 ... 19679  =      0.000 ...   122.994 secs...\n",
            "Used Annotations descriptions: ['T0', 'T1', 'T2']\n",
            "Extracting EDF parameters from /content/MNE-eegbci-data/files/eegmmidb/1.0.0/S011/S011R07.edf...\n",
            "EDF file detected\n",
            "Setting channel info structure...\n",
            "Creating raw.info structure...\n",
            "Reading 0 ... 19679  =      0.000 ...   122.994 secs...\n",
            "Used Annotations descriptions: ['T0', 'T1', 'T2']\n",
            "Extracting EDF parameters from /content/MNE-eegbci-data/files/eegmmidb/1.0.0/S011/S011R11.edf...\n",
            "EDF file detected\n",
            "Setting channel info structure...\n",
            "Creating raw.info structure...\n",
            "Reading 0 ... 19679  =      0.000 ...   122.994 secs...\n",
            "Used Annotations descriptions: ['T0', 'T1', 'T2']\n",
            "Extracting EDF parameters from /content/MNE-eegbci-data/files/eegmmidb/1.0.0/S011/S011R03.edf...\n",
            "EDF file detected\n",
            "Setting channel info structure...\n",
            "Creating raw.info structure...\n",
            "Reading 0 ... 19679  =      0.000 ...   122.994 secs...\n",
            "Used Annotations descriptions: ['T0', 'T1', 'T2']\n",
            "Extracting EDF parameters from /content/MNE-eegbci-data/files/eegmmidb/1.0.0/S102/S102R07.edf...\n",
            "EDF file detected\n",
            "Setting channel info structure...\n",
            "Creating raw.info structure...\n",
            "Reading 0 ... 19679  =      0.000 ...   122.994 secs...\n",
            "Used Annotations descriptions: ['T0', 'T1', 'T2']\n",
            "Extracting EDF parameters from /content/MNE-eegbci-data/files/eegmmidb/1.0.0/S102/S102R03.edf...\n",
            "EDF file detected\n",
            "Setting channel info structure...\n",
            "Creating raw.info structure...\n",
            "Reading 0 ... 19679  =      0.000 ...   122.994 secs...\n",
            "Used Annotations descriptions: ['T0', 'T1', 'T2']\n",
            "Extracting EDF parameters from /content/MNE-eegbci-data/files/eegmmidb/1.0.0/S102/S102R11.edf...\n",
            "EDF file detected\n",
            "Setting channel info structure...\n",
            "Creating raw.info structure...\n",
            "Reading 0 ... 19679  =      0.000 ...   122.994 secs...\n",
            "Used Annotations descriptions: ['T0', 'T1', 'T2']\n",
            "Extracting EDF parameters from /content/MNE-eegbci-data/files/eegmmidb/1.0.0/S020/S020R03.edf...\n",
            "EDF file detected\n",
            "Setting channel info structure...\n",
            "Creating raw.info structure...\n",
            "Reading 0 ... 19679  =      0.000 ...   122.994 secs...\n",
            "Used Annotations descriptions: ['T0', 'T1', 'T2']\n",
            "Extracting EDF parameters from /content/MNE-eegbci-data/files/eegmmidb/1.0.0/S020/S020R11.edf...\n",
            "EDF file detected\n",
            "Setting channel info structure...\n",
            "Creating raw.info structure...\n",
            "Reading 0 ... 19679  =      0.000 ...   122.994 secs...\n",
            "Used Annotations descriptions: ['T0', 'T1', 'T2']\n",
            "Extracting EDF parameters from /content/MNE-eegbci-data/files/eegmmidb/1.0.0/S020/S020R07.edf...\n",
            "EDF file detected\n",
            "Setting channel info structure...\n",
            "Creating raw.info structure...\n",
            "Reading 0 ... 19679  =      0.000 ...   122.994 secs...\n",
            "Used Annotations descriptions: ['T0', 'T1', 'T2']\n",
            "Extracting EDF parameters from /content/MNE-eegbci-data/files/eegmmidb/1.0.0/S033/S033R03.edf...\n",
            "EDF file detected\n",
            "Setting channel info structure...\n",
            "Creating raw.info structure...\n",
            "Reading 0 ... 19679  =      0.000 ...   122.994 secs...\n",
            "Used Annotations descriptions: ['T0', 'T1', 'T2']\n",
            "Extracting EDF parameters from /content/MNE-eegbci-data/files/eegmmidb/1.0.0/S033/S033R07.edf...\n",
            "EDF file detected\n",
            "Setting channel info structure...\n",
            "Creating raw.info structure...\n",
            "Reading 0 ... 19679  =      0.000 ...   122.994 secs...\n",
            "Used Annotations descriptions: ['T0', 'T1', 'T2']\n",
            "Extracting EDF parameters from /content/MNE-eegbci-data/files/eegmmidb/1.0.0/S033/S033R11.edf...\n",
            "EDF file detected\n",
            "Setting channel info structure...\n",
            "Creating raw.info structure...\n",
            "Reading 0 ... 19679  =      0.000 ...   122.994 secs...\n",
            "Used Annotations descriptions: ['T0', 'T1', 'T2']\n",
            "Extracting EDF parameters from /content/MNE-eegbci-data/files/eegmmidb/1.0.0/S014/S014R11.edf...\n",
            "EDF file detected\n",
            "Setting channel info structure...\n",
            "Creating raw.info structure...\n",
            "Reading 0 ... 19679  =      0.000 ...   122.994 secs...\n",
            "Used Annotations descriptions: ['T0', 'T1', 'T2']\n",
            "Extracting EDF parameters from /content/MNE-eegbci-data/files/eegmmidb/1.0.0/S014/S014R07.edf...\n",
            "EDF file detected\n",
            "Setting channel info structure...\n",
            "Creating raw.info structure...\n",
            "Reading 0 ... 19679  =      0.000 ...   122.994 secs...\n",
            "Used Annotations descriptions: ['T0', 'T1', 'T2']\n",
            "Extracting EDF parameters from /content/MNE-eegbci-data/files/eegmmidb/1.0.0/S014/S014R03.edf...\n",
            "EDF file detected\n",
            "Setting channel info structure...\n",
            "Creating raw.info structure...\n",
            "Reading 0 ... 19679  =      0.000 ...   122.994 secs...\n",
            "Used Annotations descriptions: ['T0', 'T1', 'T2']\n",
            "Extracting EDF parameters from /content/MNE-eegbci-data/files/eegmmidb/1.0.0/S056/S056R07.edf...\n",
            "EDF file detected\n",
            "Setting channel info structure...\n",
            "Creating raw.info structure...\n",
            "Reading 0 ... 19679  =      0.000 ...   122.994 secs...\n",
            "Used Annotations descriptions: ['T0', 'T1', 'T2']\n",
            "Extracting EDF parameters from /content/MNE-eegbci-data/files/eegmmidb/1.0.0/S056/S056R11.edf...\n",
            "EDF file detected\n",
            "Setting channel info structure...\n",
            "Creating raw.info structure...\n",
            "Reading 0 ... 19679  =      0.000 ...   122.994 secs...\n",
            "Used Annotations descriptions: ['T0', 'T1', 'T2']\n",
            "Extracting EDF parameters from /content/MNE-eegbci-data/files/eegmmidb/1.0.0/S056/S056R03.edf...\n",
            "EDF file detected\n",
            "Setting channel info structure...\n",
            "Creating raw.info structure...\n",
            "Reading 0 ... 19679  =      0.000 ...   122.994 secs...\n",
            "Used Annotations descriptions: ['T0', 'T1', 'T2']\n",
            "Extracting EDF parameters from /content/MNE-eegbci-data/files/eegmmidb/1.0.0/S034/S034R11.edf...\n",
            "EDF file detected\n",
            "Setting channel info structure...\n",
            "Creating raw.info structure...\n",
            "Reading 0 ... 19679  =      0.000 ...   122.994 secs...\n",
            "Used Annotations descriptions: ['T0', 'T1', 'T2']\n",
            "Extracting EDF parameters from /content/MNE-eegbci-data/files/eegmmidb/1.0.0/S034/S034R03.edf...\n",
            "EDF file detected\n",
            "Setting channel info structure...\n",
            "Creating raw.info structure...\n",
            "Reading 0 ... 19679  =      0.000 ...   122.994 secs...\n",
            "Used Annotations descriptions: ['T0', 'T1', 'T2']\n",
            "Extracting EDF parameters from /content/MNE-eegbci-data/files/eegmmidb/1.0.0/S034/S034R07.edf...\n",
            "EDF file detected\n",
            "Setting channel info structure...\n",
            "Creating raw.info structure...\n",
            "Reading 0 ... 19679  =      0.000 ...   122.994 secs...\n",
            "Used Annotations descriptions: ['T0', 'T1', 'T2']\n",
            "Extracting EDF parameters from /content/MNE-eegbci-data/files/eegmmidb/1.0.0/S085/S085R03.edf...\n",
            "EDF file detected\n",
            "Setting channel info structure...\n",
            "Creating raw.info structure...\n",
            "Reading 0 ... 19679  =      0.000 ...   122.994 secs...\n",
            "Used Annotations descriptions: ['T0', 'T1', 'T2']\n",
            "Extracting EDF parameters from /content/MNE-eegbci-data/files/eegmmidb/1.0.0/S085/S085R07.edf...\n",
            "EDF file detected\n",
            "Setting channel info structure...\n",
            "Creating raw.info structure...\n",
            "Reading 0 ... 19679  =      0.000 ...   122.994 secs...\n",
            "Used Annotations descriptions: ['T0', 'T1', 'T2']\n",
            "Extracting EDF parameters from /content/MNE-eegbci-data/files/eegmmidb/1.0.0/S085/S085R11.edf...\n",
            "EDF file detected\n",
            "Setting channel info structure...\n",
            "Creating raw.info structure...\n",
            "Reading 0 ... 19679  =      0.000 ...   122.994 secs...\n",
            "Used Annotations descriptions: ['T0', 'T1', 'T2']\n",
            "Extracting EDF parameters from /content/MNE-eegbci-data/files/eegmmidb/1.0.0/S037/S037R07.edf...\n",
            "EDF file detected\n",
            "Setting channel info structure...\n",
            "Creating raw.info structure...\n",
            "Reading 0 ... 19679  =      0.000 ...   122.994 secs...\n",
            "Used Annotations descriptions: ['T0', 'T1', 'T2']\n",
            "Extracting EDF parameters from /content/MNE-eegbci-data/files/eegmmidb/1.0.0/S037/S037R03.edf...\n",
            "EDF file detected\n",
            "Setting channel info structure...\n",
            "Creating raw.info structure...\n",
            "Reading 0 ... 19679  =      0.000 ...   122.994 secs...\n",
            "Used Annotations descriptions: ['T0', 'T1', 'T2']\n",
            "Extracting EDF parameters from /content/MNE-eegbci-data/files/eegmmidb/1.0.0/S037/S037R11.edf...\n",
            "EDF file detected\n",
            "Setting channel info structure...\n",
            "Creating raw.info structure...\n",
            "Reading 0 ... 19679  =      0.000 ...   122.994 secs...\n",
            "Used Annotations descriptions: ['T0', 'T1', 'T2']\n",
            "Extracting EDF parameters from /content/MNE-eegbci-data/files/eegmmidb/1.0.0/S019/S019R07.edf...\n",
            "EDF file detected\n",
            "Setting channel info structure...\n",
            "Creating raw.info structure...\n",
            "Reading 0 ... 19679  =      0.000 ...   122.994 secs...\n",
            "Used Annotations descriptions: ['T0', 'T1', 'T2']\n",
            "Extracting EDF parameters from /content/MNE-eegbci-data/files/eegmmidb/1.0.0/S019/S019R11.edf...\n",
            "EDF file detected\n",
            "Setting channel info structure...\n",
            "Creating raw.info structure...\n",
            "Reading 0 ... 19679  =      0.000 ...   122.994 secs...\n",
            "Used Annotations descriptions: ['T0', 'T1', 'T2']\n",
            "Extracting EDF parameters from /content/MNE-eegbci-data/files/eegmmidb/1.0.0/S019/S019R03.edf...\n",
            "EDF file detected\n",
            "Setting channel info structure...\n",
            "Creating raw.info structure...\n",
            "Reading 0 ... 19679  =      0.000 ...   122.994 secs...\n",
            "Used Annotations descriptions: ['T0', 'T1', 'T2']\n",
            "Extracting EDF parameters from /content/MNE-eegbci-data/files/eegmmidb/1.0.0/S096/S096R11.edf...\n",
            "EDF file detected\n",
            "Setting channel info structure...\n",
            "Creating raw.info structure...\n",
            "Reading 0 ... 19999  =      0.000 ...   124.994 secs...\n",
            "Used Annotations descriptions: ['T0', 'T1', 'T2']\n",
            "Extracting EDF parameters from /content/MNE-eegbci-data/files/eegmmidb/1.0.0/S096/S096R03.edf...\n",
            "EDF file detected\n",
            "Setting channel info structure...\n",
            "Creating raw.info structure...\n",
            "Reading 0 ... 19999  =      0.000 ...   124.994 secs...\n",
            "Used Annotations descriptions: ['T0', 'T1', 'T2']\n",
            "Extracting EDF parameters from /content/MNE-eegbci-data/files/eegmmidb/1.0.0/S096/S096R07.edf...\n",
            "EDF file detected\n",
            "Setting channel info structure...\n",
            "Creating raw.info structure...\n",
            "Reading 0 ... 19999  =      0.000 ...   124.994 secs...\n",
            "Used Annotations descriptions: ['T0', 'T1', 'T2']\n",
            "Extracting EDF parameters from /content/MNE-eegbci-data/files/eegmmidb/1.0.0/S091/S091R07.edf...\n",
            "EDF file detected\n",
            "Setting channel info structure...\n",
            "Creating raw.info structure...\n",
            "Reading 0 ... 19679  =      0.000 ...   122.994 secs...\n",
            "Used Annotations descriptions: ['T0', 'T1', 'T2']\n",
            "Extracting EDF parameters from /content/MNE-eegbci-data/files/eegmmidb/1.0.0/S091/S091R11.edf...\n",
            "EDF file detected\n",
            "Setting channel info structure...\n",
            "Creating raw.info structure...\n",
            "Reading 0 ... 19679  =      0.000 ...   122.994 secs...\n",
            "Used Annotations descriptions: ['T0', 'T1', 'T2']\n",
            "Extracting EDF parameters from /content/MNE-eegbci-data/files/eegmmidb/1.0.0/S091/S091R03.edf...\n",
            "EDF file detected\n",
            "Setting channel info structure...\n",
            "Creating raw.info structure...\n",
            "Reading 0 ... 19679  =      0.000 ...   122.994 secs...\n",
            "Used Annotations descriptions: ['T0', 'T1', 'T2']\n",
            "Extracting EDF parameters from /content/MNE-eegbci-data/files/eegmmidb/1.0.0/S057/S057R07.edf...\n",
            "EDF file detected\n",
            "Setting channel info structure...\n",
            "Creating raw.info structure...\n",
            "Reading 0 ... 19999  =      0.000 ...   124.994 secs...\n",
            "Used Annotations descriptions: ['T0', 'T1', 'T2']\n",
            "Extracting EDF parameters from /content/MNE-eegbci-data/files/eegmmidb/1.0.0/S057/S057R11.edf...\n",
            "EDF file detected\n",
            "Setting channel info structure...\n",
            "Creating raw.info structure...\n",
            "Reading 0 ... 19999  =      0.000 ...   124.994 secs...\n",
            "Used Annotations descriptions: ['T0', 'T1', 'T2']\n",
            "Extracting EDF parameters from /content/MNE-eegbci-data/files/eegmmidb/1.0.0/S057/S057R03.edf...\n",
            "EDF file detected\n",
            "Setting channel info structure...\n",
            "Creating raw.info structure...\n",
            "Reading 0 ... 19999  =      0.000 ...   124.994 secs...\n",
            "Used Annotations descriptions: ['T0', 'T1', 'T2']\n",
            "Extracting EDF parameters from /content/MNE-eegbci-data/files/eegmmidb/1.0.0/S006/S006R11.edf...\n",
            "EDF file detected\n",
            "Setting channel info structure...\n",
            "Creating raw.info structure...\n",
            "Reading 0 ... 19679  =      0.000 ...   122.994 secs...\n",
            "Used Annotations descriptions: ['T0', 'T1', 'T2']\n",
            "Extracting EDF parameters from /content/MNE-eegbci-data/files/eegmmidb/1.0.0/S006/S006R07.edf...\n",
            "EDF file detected\n",
            "Setting channel info structure...\n",
            "Creating raw.info structure...\n",
            "Reading 0 ... 19679  =      0.000 ...   122.994 secs...\n",
            "Used Annotations descriptions: ['T0', 'T1', 'T2']\n",
            "Extracting EDF parameters from /content/MNE-eegbci-data/files/eegmmidb/1.0.0/S006/S006R03.edf...\n",
            "EDF file detected\n",
            "Setting channel info structure...\n",
            "Creating raw.info structure...\n",
            "Reading 0 ... 19679  =      0.000 ...   122.994 secs...\n",
            "Used Annotations descriptions: ['T0', 'T1', 'T2']\n",
            "Extracting EDF parameters from /content/MNE-eegbci-data/files/eegmmidb/1.0.0/S108/S108R07.edf...\n",
            "EDF file detected\n",
            "Setting channel info structure...\n",
            "Creating raw.info structure...\n",
            "Reading 0 ... 19679  =      0.000 ...   122.994 secs...\n",
            "Used Annotations descriptions: ['T0', 'T1', 'T2']\n",
            "Extracting EDF parameters from /content/MNE-eegbci-data/files/eegmmidb/1.0.0/S108/S108R11.edf...\n",
            "EDF file detected\n",
            "Setting channel info structure...\n",
            "Creating raw.info structure...\n",
            "Reading 0 ... 19679  =      0.000 ...   122.994 secs...\n",
            "Used Annotations descriptions: ['T0', 'T1', 'T2']\n",
            "Extracting EDF parameters from /content/MNE-eegbci-data/files/eegmmidb/1.0.0/S108/S108R03.edf...\n",
            "EDF file detected\n",
            "Setting channel info structure...\n",
            "Creating raw.info structure...\n",
            "Reading 0 ... 19679  =      0.000 ...   122.994 secs...\n",
            "Used Annotations descriptions: ['T0', 'T1', 'T2']\n",
            "Extracting EDF parameters from /content/MNE-eegbci-data/files/eegmmidb/1.0.0/S035/S035R03.edf...\n",
            "EDF file detected\n",
            "Setting channel info structure...\n",
            "Creating raw.info structure...\n",
            "Reading 0 ... 19999  =      0.000 ...   124.994 secs...\n",
            "Used Annotations descriptions: ['T0', 'T1', 'T2']\n",
            "Extracting EDF parameters from /content/MNE-eegbci-data/files/eegmmidb/1.0.0/S035/S035R11.edf...\n",
            "EDF file detected\n",
            "Setting channel info structure...\n",
            "Creating raw.info structure...\n",
            "Reading 0 ... 19999  =      0.000 ...   124.994 secs...\n",
            "Used Annotations descriptions: ['T0', 'T1', 'T2']\n",
            "Extracting EDF parameters from /content/MNE-eegbci-data/files/eegmmidb/1.0.0/S035/S035R07.edf...\n",
            "EDF file detected\n",
            "Setting channel info structure...\n",
            "Creating raw.info structure...\n",
            "Reading 0 ... 19999  =      0.000 ...   124.994 secs...\n",
            "Used Annotations descriptions: ['T0', 'T1', 'T2']\n",
            "Extracting EDF parameters from /content/MNE-eegbci-data/files/eegmmidb/1.0.0/S068/S068R03.edf...\n",
            "EDF file detected\n",
            "Setting channel info structure...\n",
            "Creating raw.info structure...\n",
            "Reading 0 ... 19679  =      0.000 ...   122.994 secs...\n",
            "Used Annotations descriptions: ['T0', 'T1', 'T2']\n",
            "Extracting EDF parameters from /content/MNE-eegbci-data/files/eegmmidb/1.0.0/S068/S068R07.edf...\n",
            "EDF file detected\n",
            "Setting channel info structure...\n",
            "Creating raw.info structure...\n",
            "Reading 0 ... 19679  =      0.000 ...   122.994 secs...\n",
            "Used Annotations descriptions: ['T0', 'T1', 'T2']\n",
            "Extracting EDF parameters from /content/MNE-eegbci-data/files/eegmmidb/1.0.0/S068/S068R11.edf...\n",
            "EDF file detected\n",
            "Setting channel info structure...\n",
            "Creating raw.info structure...\n",
            "Reading 0 ... 19679  =      0.000 ...   122.994 secs...\n",
            "Used Annotations descriptions: ['T0', 'T1', 'T2']\n",
            "Extracting EDF parameters from /content/MNE-eegbci-data/files/eegmmidb/1.0.0/S061/S061R11.edf...\n",
            "EDF file detected\n",
            "Setting channel info structure...\n",
            "Creating raw.info structure...\n",
            "Reading 0 ... 19999  =      0.000 ...   124.994 secs...\n",
            "Used Annotations descriptions: ['T0', 'T1', 'T2']\n",
            "Extracting EDF parameters from /content/MNE-eegbci-data/files/eegmmidb/1.0.0/S061/S061R03.edf...\n",
            "EDF file detected\n",
            "Setting channel info structure...\n",
            "Creating raw.info structure...\n",
            "Reading 0 ... 19999  =      0.000 ...   124.994 secs...\n",
            "Used Annotations descriptions: ['T0', 'T1', 'T2']\n",
            "Extracting EDF parameters from /content/MNE-eegbci-data/files/eegmmidb/1.0.0/S061/S061R07.edf...\n",
            "EDF file detected\n",
            "Setting channel info structure...\n",
            "Creating raw.info structure...\n",
            "Reading 0 ... 19999  =      0.000 ...   124.994 secs...\n",
            "Used Annotations descriptions: ['T0', 'T1', 'T2']\n",
            "Extracting EDF parameters from /content/MNE-eegbci-data/files/eegmmidb/1.0.0/S081/S081R03.edf...\n",
            "EDF file detected\n",
            "Setting channel info structure...\n",
            "Creating raw.info structure...\n",
            "Reading 0 ... 19679  =      0.000 ...   122.994 secs...\n",
            "Used Annotations descriptions: ['T0', 'T1', 'T2']\n",
            "Extracting EDF parameters from /content/MNE-eegbci-data/files/eegmmidb/1.0.0/S081/S081R11.edf...\n",
            "EDF file detected\n",
            "Setting channel info structure...\n",
            "Creating raw.info structure...\n",
            "Reading 0 ... 19679  =      0.000 ...   122.994 secs...\n",
            "Used Annotations descriptions: ['T0', 'T1', 'T2']\n",
            "Extracting EDF parameters from /content/MNE-eegbci-data/files/eegmmidb/1.0.0/S081/S081R07.edf...\n",
            "EDF file detected\n",
            "Setting channel info structure...\n",
            "Creating raw.info structure...\n",
            "Reading 0 ... 19679  =      0.000 ...   122.994 secs...\n",
            "Used Annotations descriptions: ['T0', 'T1', 'T2']\n",
            "Extracting EDF parameters from /content/MNE-eegbci-data/files/eegmmidb/1.0.0/S003/S003R03.edf...\n",
            "EDF file detected\n",
            "Setting channel info structure...\n",
            "Creating raw.info structure...\n",
            "Reading 0 ... 19999  =      0.000 ...   124.994 secs...\n",
            "Used Annotations descriptions: ['T0', 'T1', 'T2']\n",
            "Extracting EDF parameters from /content/MNE-eegbci-data/files/eegmmidb/1.0.0/S003/S003R07.edf...\n",
            "EDF file detected\n",
            "Setting channel info structure...\n",
            "Creating raw.info structure...\n",
            "Reading 0 ... 19999  =      0.000 ...   124.994 secs...\n",
            "Used Annotations descriptions: ['T0', 'T1', 'T2']\n",
            "Extracting EDF parameters from /content/MNE-eegbci-data/files/eegmmidb/1.0.0/S003/S003R11.edf...\n",
            "EDF file detected\n",
            "Setting channel info structure...\n",
            "Creating raw.info structure...\n",
            "Reading 0 ... 19999  =      0.000 ...   124.994 secs...\n",
            "Used Annotations descriptions: ['T0', 'T1', 'T2']\n",
            "Extracting EDF parameters from /content/MNE-eegbci-data/files/eegmmidb/1.0.0/S087/S087R07.edf...\n",
            "EDF file detected\n",
            "Setting channel info structure...\n",
            "Creating raw.info structure...\n",
            "Reading 0 ... 19679  =      0.000 ...   122.994 secs...\n",
            "Used Annotations descriptions: ['T0', 'T1', 'T2']\n",
            "Extracting EDF parameters from /content/MNE-eegbci-data/files/eegmmidb/1.0.0/S087/S087R03.edf...\n",
            "EDF file detected\n",
            "Setting channel info structure...\n",
            "Creating raw.info structure...\n",
            "Reading 0 ... 19679  =      0.000 ...   122.994 secs...\n",
            "Used Annotations descriptions: ['T0', 'T1', 'T2']\n",
            "Extracting EDF parameters from /content/MNE-eegbci-data/files/eegmmidb/1.0.0/S087/S087R11.edf...\n",
            "EDF file detected\n",
            "Setting channel info structure...\n",
            "Creating raw.info structure...\n",
            "Reading 0 ... 19679  =      0.000 ...   122.994 secs...\n",
            "Used Annotations descriptions: ['T0', 'T1', 'T2']\n",
            "Extracting EDF parameters from /content/MNE-eegbci-data/files/eegmmidb/1.0.0/S067/S067R11.edf...\n",
            "EDF file detected\n",
            "Setting channel info structure...\n",
            "Creating raw.info structure...\n",
            "Reading 0 ... 19679  =      0.000 ...   122.994 secs...\n",
            "Used Annotations descriptions: ['T0', 'T1', 'T2']\n",
            "Extracting EDF parameters from /content/MNE-eegbci-data/files/eegmmidb/1.0.0/S067/S067R03.edf...\n",
            "EDF file detected\n",
            "Setting channel info structure...\n",
            "Creating raw.info structure...\n",
            "Reading 0 ... 19679  =      0.000 ...   122.994 secs...\n",
            "Used Annotations descriptions: ['T0', 'T1', 'T2']\n",
            "Extracting EDF parameters from /content/MNE-eegbci-data/files/eegmmidb/1.0.0/S067/S067R07.edf...\n",
            "EDF file detected\n",
            "Setting channel info structure...\n",
            "Creating raw.info structure...\n",
            "Reading 0 ... 19679  =      0.000 ...   122.994 secs...\n",
            "Used Annotations descriptions: ['T0', 'T1', 'T2']\n",
            "Extracting EDF parameters from /content/MNE-eegbci-data/files/eegmmidb/1.0.0/S042/S042R03.edf...\n",
            "EDF file detected\n",
            "Setting channel info structure...\n",
            "Creating raw.info structure...\n",
            "Reading 0 ... 19679  =      0.000 ...   122.994 secs...\n",
            "Used Annotations descriptions: ['T0', 'T1', 'T2']\n",
            "Extracting EDF parameters from /content/MNE-eegbci-data/files/eegmmidb/1.0.0/S042/S042R07.edf...\n",
            "EDF file detected\n",
            "Setting channel info structure...\n",
            "Creating raw.info structure...\n",
            "Reading 0 ... 19679  =      0.000 ...   122.994 secs...\n",
            "Used Annotations descriptions: ['T0', 'T1', 'T2']\n",
            "Extracting EDF parameters from /content/MNE-eegbci-data/files/eegmmidb/1.0.0/S042/S042R11.edf...\n",
            "EDF file detected\n",
            "Setting channel info structure...\n",
            "Creating raw.info structure...\n",
            "Reading 0 ... 19679  =      0.000 ...   122.994 secs...\n",
            "Used Annotations descriptions: ['T0', 'T1', 'T2']\n",
            "Extracting EDF parameters from /content/MNE-eegbci-data/files/eegmmidb/1.0.0/S093/S093R11.edf...\n",
            "EDF file detected\n",
            "Setting channel info structure...\n",
            "Creating raw.info structure...\n",
            "Reading 0 ... 19679  =      0.000 ...   122.994 secs...\n",
            "Used Annotations descriptions: ['T0', 'T1', 'T2']\n",
            "Extracting EDF parameters from /content/MNE-eegbci-data/files/eegmmidb/1.0.0/S093/S093R07.edf...\n",
            "EDF file detected\n",
            "Setting channel info structure...\n",
            "Creating raw.info structure...\n",
            "Reading 0 ... 19679  =      0.000 ...   122.994 secs...\n",
            "Used Annotations descriptions: ['T0', 'T1', 'T2']\n",
            "Extracting EDF parameters from /content/MNE-eegbci-data/files/eegmmidb/1.0.0/S093/S093R03.edf...\n",
            "EDF file detected\n",
            "Setting channel info structure...\n",
            "Creating raw.info structure...\n",
            "Reading 0 ... 19679  =      0.000 ...   122.994 secs...\n",
            "Used Annotations descriptions: ['T0', 'T1', 'T2']\n",
            "Extracting EDF parameters from /content/MNE-eegbci-data/files/eegmmidb/1.0.0/S066/S066R11.edf...\n",
            "EDF file detected\n",
            "Setting channel info structure...\n",
            "Creating raw.info structure...\n",
            "Reading 0 ... 19999  =      0.000 ...   124.994 secs...\n",
            "Used Annotations descriptions: ['T0', 'T1', 'T2']\n",
            "Extracting EDF parameters from /content/MNE-eegbci-data/files/eegmmidb/1.0.0/S066/S066R03.edf...\n",
            "EDF file detected\n",
            "Setting channel info structure...\n",
            "Creating raw.info structure...\n",
            "Reading 0 ... 19999  =      0.000 ...   124.994 secs...\n",
            "Used Annotations descriptions: ['T0', 'T1', 'T2']\n",
            "Extracting EDF parameters from /content/MNE-eegbci-data/files/eegmmidb/1.0.0/S066/S066R07.edf...\n",
            "EDF file detected\n",
            "Setting channel info structure...\n",
            "Creating raw.info structure...\n",
            "Reading 0 ... 19999  =      0.000 ...   124.994 secs...\n",
            "Used Annotations descriptions: ['T0', 'T1', 'T2']\n",
            "Extracting EDF parameters from /content/MNE-eegbci-data/files/eegmmidb/1.0.0/S026/S026R07.edf...\n",
            "EDF file detected\n",
            "Setting channel info structure...\n",
            "Creating raw.info structure...\n",
            "Reading 0 ... 19679  =      0.000 ...   122.994 secs...\n",
            "Used Annotations descriptions: ['T0', 'T1', 'T2']\n",
            "Extracting EDF parameters from /content/MNE-eegbci-data/files/eegmmidb/1.0.0/S026/S026R03.edf...\n",
            "EDF file detected\n",
            "Setting channel info structure...\n",
            "Creating raw.info structure...\n",
            "Reading 0 ... 19679  =      0.000 ...   122.994 secs...\n",
            "Used Annotations descriptions: ['T0', 'T1', 'T2']\n",
            "Extracting EDF parameters from /content/MNE-eegbci-data/files/eegmmidb/1.0.0/S026/S026R11.edf...\n",
            "EDF file detected\n",
            "Setting channel info structure...\n",
            "Creating raw.info structure...\n",
            "Reading 0 ... 19679  =      0.000 ...   122.994 secs...\n",
            "Used Annotations descriptions: ['T0', 'T1', 'T2']\n",
            "Extracting EDF parameters from /content/MNE-eegbci-data/files/eegmmidb/1.0.0/S055/S055R03.edf...\n",
            "EDF file detected\n",
            "Setting channel info structure...\n",
            "Creating raw.info structure...\n",
            "Reading 0 ... 19679  =      0.000 ...   122.994 secs...\n",
            "Used Annotations descriptions: ['T0', 'T1', 'T2']\n",
            "Extracting EDF parameters from /content/MNE-eegbci-data/files/eegmmidb/1.0.0/S055/S055R11.edf...\n",
            "EDF file detected\n",
            "Setting channel info structure...\n",
            "Creating raw.info structure...\n",
            "Reading 0 ... 19679  =      0.000 ...   122.994 secs...\n",
            "Used Annotations descriptions: ['T0', 'T1', 'T2']\n",
            "Extracting EDF parameters from /content/MNE-eegbci-data/files/eegmmidb/1.0.0/S055/S055R07.edf...\n",
            "EDF file detected\n",
            "Setting channel info structure...\n",
            "Creating raw.info structure...\n",
            "Reading 0 ... 19679  =      0.000 ...   122.994 secs...\n",
            "Used Annotations descriptions: ['T0', 'T1', 'T2']\n",
            "Extracting EDF parameters from /content/MNE-eegbci-data/files/eegmmidb/1.0.0/S095/S095R03.edf...\n",
            "EDF file detected\n",
            "Setting channel info structure...\n",
            "Creating raw.info structure...\n",
            "Reading 0 ... 19999  =      0.000 ...   124.994 secs...\n",
            "Used Annotations descriptions: ['T0', 'T1', 'T2']\n",
            "Extracting EDF parameters from /content/MNE-eegbci-data/files/eegmmidb/1.0.0/S095/S095R11.edf...\n",
            "EDF file detected\n",
            "Setting channel info structure...\n",
            "Creating raw.info structure...\n",
            "Reading 0 ... 19999  =      0.000 ...   124.994 secs...\n",
            "Used Annotations descriptions: ['T0', 'T1', 'T2']\n",
            "Extracting EDF parameters from /content/MNE-eegbci-data/files/eegmmidb/1.0.0/S095/S095R07.edf...\n",
            "EDF file detected\n",
            "Setting channel info structure...\n",
            "Creating raw.info structure...\n",
            "Reading 0 ... 19999  =      0.000 ...   124.994 secs...\n",
            "Used Annotations descriptions: ['T0', 'T1', 'T2']\n",
            "Extracting EDF parameters from /content/MNE-eegbci-data/files/eegmmidb/1.0.0/S092/S092R03.edf...\n",
            "EDF file detected\n",
            "Setting channel info structure...\n",
            "Creating raw.info structure...\n",
            "Reading 0 ... 15871  =      0.000 ...   123.992 secs...\n",
            "Used Annotations descriptions: ['T0', 'T1', 'T2']\n",
            "Extracting EDF parameters from /content/MNE-eegbci-data/files/eegmmidb/1.0.0/S092/S092R11.edf...\n",
            "EDF file detected\n",
            "Setting channel info structure...\n",
            "Creating raw.info structure...\n",
            "Reading 0 ... 15871  =      0.000 ...   123.992 secs...\n",
            "Used Annotations descriptions: ['T0', 'T1', 'T2']\n",
            "Extracting EDF parameters from /content/MNE-eegbci-data/files/eegmmidb/1.0.0/S092/S092R07.edf...\n",
            "EDF file detected\n",
            "Setting channel info structure...\n",
            "Creating raw.info structure...\n",
            "Reading 0 ... 15871  =      0.000 ...   123.992 secs...\n",
            "Used Annotations descriptions: ['T0', 'T1', 'T2']\n",
            "Extracting EDF parameters from /content/MNE-eegbci-data/files/eegmmidb/1.0.0/S051/S051R11.edf...\n",
            "EDF file detected\n",
            "Setting channel info structure...\n",
            "Creating raw.info structure...\n",
            "Reading 0 ... 19679  =      0.000 ...   122.994 secs...\n",
            "Used Annotations descriptions: ['T0', 'T1', 'T2']\n",
            "Extracting EDF parameters from /content/MNE-eegbci-data/files/eegmmidb/1.0.0/S051/S051R07.edf...\n",
            "EDF file detected\n",
            "Setting channel info structure...\n",
            "Creating raw.info structure...\n",
            "Reading 0 ... 19679  =      0.000 ...   122.994 secs...\n",
            "Used Annotations descriptions: ['T0', 'T1', 'T2']\n",
            "Extracting EDF parameters from /content/MNE-eegbci-data/files/eegmmidb/1.0.0/S051/S051R03.edf...\n",
            "EDF file detected\n",
            "Setting channel info structure...\n",
            "Creating raw.info structure...\n",
            "Reading 0 ... 19679  =      0.000 ...   122.994 secs...\n",
            "Used Annotations descriptions: ['T0', 'T1', 'T2']\n",
            "Extracting EDF parameters from /content/MNE-eegbci-data/files/eegmmidb/1.0.0/S046/S046R11.edf...\n",
            "EDF file detected\n",
            "Setting channel info structure...\n",
            "Creating raw.info structure...\n",
            "Reading 0 ... 19999  =      0.000 ...   124.994 secs...\n",
            "Used Annotations descriptions: ['T0', 'T1', 'T2']\n",
            "Extracting EDF parameters from /content/MNE-eegbci-data/files/eegmmidb/1.0.0/S046/S046R03.edf...\n",
            "EDF file detected\n",
            "Setting channel info structure...\n",
            "Creating raw.info structure...\n",
            "Reading 0 ... 19999  =      0.000 ...   124.994 secs...\n",
            "Used Annotations descriptions: ['T0', 'T1', 'T2']\n",
            "Extracting EDF parameters from /content/MNE-eegbci-data/files/eegmmidb/1.0.0/S046/S046R07.edf...\n",
            "EDF file detected\n",
            "Setting channel info structure...\n",
            "Creating raw.info structure...\n",
            "Reading 0 ... 19999  =      0.000 ...   124.994 secs...\n",
            "Used Annotations descriptions: ['T0', 'T1', 'T2']\n",
            "Extracting EDF parameters from /content/MNE-eegbci-data/files/eegmmidb/1.0.0/S101/S101R07.edf...\n",
            "EDF file detected\n",
            "Setting channel info structure...\n",
            "Creating raw.info structure...\n",
            "Reading 0 ... 19999  =      0.000 ...   124.994 secs...\n",
            "Used Annotations descriptions: ['T0', 'T1', 'T2']\n",
            "Extracting EDF parameters from /content/MNE-eegbci-data/files/eegmmidb/1.0.0/S101/S101R03.edf...\n",
            "EDF file detected\n",
            "Setting channel info structure...\n",
            "Creating raw.info structure...\n",
            "Reading 0 ... 19999  =      0.000 ...   124.994 secs...\n",
            "Used Annotations descriptions: ['T0', 'T1', 'T2']\n",
            "Extracting EDF parameters from /content/MNE-eegbci-data/files/eegmmidb/1.0.0/S101/S101R11.edf...\n",
            "EDF file detected\n",
            "Setting channel info structure...\n",
            "Creating raw.info structure...\n",
            "Reading 0 ... 19999  =      0.000 ...   124.994 secs...\n",
            "Used Annotations descriptions: ['T0', 'T1', 'T2']\n",
            "Extracting EDF parameters from /content/MNE-eegbci-data/files/eegmmidb/1.0.0/S022/S022R03.edf...\n",
            "EDF file detected\n",
            "Setting channel info structure...\n",
            "Creating raw.info structure...\n",
            "Reading 0 ... 19999  =      0.000 ...   124.994 secs...\n",
            "Used Annotations descriptions: ['T0', 'T1', 'T2']\n",
            "Extracting EDF parameters from /content/MNE-eegbci-data/files/eegmmidb/1.0.0/S022/S022R11.edf...\n",
            "EDF file detected\n",
            "Setting channel info structure...\n",
            "Creating raw.info structure...\n",
            "Reading 0 ... 19999  =      0.000 ...   124.994 secs...\n",
            "Used Annotations descriptions: ['T0', 'T1', 'T2']\n",
            "Extracting EDF parameters from /content/MNE-eegbci-data/files/eegmmidb/1.0.0/S022/S022R07.edf...\n",
            "EDF file detected\n",
            "Setting channel info structure...\n",
            "Creating raw.info structure...\n",
            "Reading 0 ... 19999  =      0.000 ...   124.994 secs...\n",
            "Used Annotations descriptions: ['T0', 'T1', 'T2']\n",
            "Extracting EDF parameters from /content/MNE-eegbci-data/files/eegmmidb/1.0.0/S053/S053R07.edf...\n",
            "EDF file detected\n",
            "Setting channel info structure...\n",
            "Creating raw.info structure...\n",
            "Reading 0 ... 19679  =      0.000 ...   122.994 secs...\n",
            "Used Annotations descriptions: ['T0', 'T1', 'T2']\n",
            "Extracting EDF parameters from /content/MNE-eegbci-data/files/eegmmidb/1.0.0/S053/S053R11.edf...\n",
            "EDF file detected\n",
            "Setting channel info structure...\n",
            "Creating raw.info structure...\n",
            "Reading 0 ... 19679  =      0.000 ...   122.994 secs...\n",
            "Used Annotations descriptions: ['T0', 'T1', 'T2']\n",
            "Extracting EDF parameters from /content/MNE-eegbci-data/files/eegmmidb/1.0.0/S053/S053R03.edf...\n",
            "EDF file detected\n",
            "Setting channel info structure...\n",
            "Creating raw.info structure...\n",
            "Reading 0 ... 19679  =      0.000 ...   122.994 secs...\n",
            "Used Annotations descriptions: ['T0', 'T1', 'T2']\n",
            "Extracting EDF parameters from /content/MNE-eegbci-data/files/eegmmidb/1.0.0/S077/S077R07.edf...\n",
            "EDF file detected\n",
            "Setting channel info structure...\n",
            "Creating raw.info structure...\n",
            "Reading 0 ... 19679  =      0.000 ...   122.994 secs...\n",
            "Used Annotations descriptions: ['T0', 'T1', 'T2']\n",
            "Extracting EDF parameters from /content/MNE-eegbci-data/files/eegmmidb/1.0.0/S077/S077R11.edf...\n",
            "EDF file detected\n",
            "Setting channel info structure...\n",
            "Creating raw.info structure...\n",
            "Reading 0 ... 19679  =      0.000 ...   122.994 secs...\n",
            "Used Annotations descriptions: ['T0', 'T1', 'T2']\n",
            "Extracting EDF parameters from /content/MNE-eegbci-data/files/eegmmidb/1.0.0/S077/S077R03.edf...\n",
            "EDF file detected\n",
            "Setting channel info structure...\n",
            "Creating raw.info structure...\n",
            "Reading 0 ... 19679  =      0.000 ...   122.994 secs...\n",
            "Used Annotations descriptions: ['T0', 'T1', 'T2']\n",
            "Extracting EDF parameters from /content/MNE-eegbci-data/files/eegmmidb/1.0.0/S072/S072R07.edf...\n",
            "EDF file detected\n",
            "Setting channel info structure...\n",
            "Creating raw.info structure...\n",
            "Reading 0 ... 19679  =      0.000 ...   122.994 secs...\n",
            "Used Annotations descriptions: ['T0', 'T1', 'T2']\n",
            "Extracting EDF parameters from /content/MNE-eegbci-data/files/eegmmidb/1.0.0/S072/S072R11.edf...\n",
            "EDF file detected\n",
            "Setting channel info structure...\n",
            "Creating raw.info structure...\n",
            "Reading 0 ... 19679  =      0.000 ...   122.994 secs...\n",
            "Used Annotations descriptions: ['T0', 'T1', 'T2']\n",
            "Extracting EDF parameters from /content/MNE-eegbci-data/files/eegmmidb/1.0.0/S072/S072R03.edf...\n",
            "EDF file detected\n",
            "Setting channel info structure...\n",
            "Creating raw.info structure...\n",
            "Reading 0 ... 19679  =      0.000 ...   122.994 secs...\n",
            "Used Annotations descriptions: ['T0', 'T1', 'T2']\n",
            "Extracting EDF parameters from /content/MNE-eegbci-data/files/eegmmidb/1.0.0/S032/S032R07.edf...\n",
            "EDF file detected\n",
            "Setting channel info structure...\n",
            "Creating raw.info structure...\n",
            "Reading 0 ... 19999  =      0.000 ...   124.994 secs...\n",
            "Used Annotations descriptions: ['T0', 'T1', 'T2']\n",
            "Extracting EDF parameters from /content/MNE-eegbci-data/files/eegmmidb/1.0.0/S032/S032R03.edf...\n",
            "EDF file detected\n",
            "Setting channel info structure...\n",
            "Creating raw.info structure...\n",
            "Reading 0 ... 19999  =      0.000 ...   124.994 secs...\n",
            "Used Annotations descriptions: ['T0', 'T1', 'T2']\n",
            "Extracting EDF parameters from /content/MNE-eegbci-data/files/eegmmidb/1.0.0/S032/S032R11.edf...\n",
            "EDF file detected\n",
            "Setting channel info structure...\n",
            "Creating raw.info structure...\n",
            "Reading 0 ... 19999  =      0.000 ...   124.994 secs...\n",
            "Used Annotations descriptions: ['T0', 'T1', 'T2']\n",
            "Extracting EDF parameters from /content/MNE-eegbci-data/files/eegmmidb/1.0.0/S089/S089R07.edf...\n",
            "EDF file detected\n",
            "Setting channel info structure...\n",
            "Creating raw.info structure...\n",
            "Reading 0 ... 19679  =      0.000 ...   122.994 secs...\n",
            "Used Annotations descriptions: ['T0', 'T1', 'T2']\n",
            "Extracting EDF parameters from /content/MNE-eegbci-data/files/eegmmidb/1.0.0/S089/S089R03.edf...\n",
            "EDF file detected\n",
            "Setting channel info structure...\n",
            "Creating raw.info structure...\n",
            "Reading 0 ... 28959  =      0.000 ...   180.994 secs...\n",
            "Used Annotations descriptions: ['T0', 'T1', 'T2']\n",
            "Extracting EDF parameters from /content/MNE-eegbci-data/files/eegmmidb/1.0.0/S089/S089R11.edf...\n",
            "EDF file detected\n",
            "Setting channel info structure...\n",
            "Creating raw.info structure...\n",
            "Reading 0 ... 19679  =      0.000 ...   122.994 secs...\n",
            "Used Annotations descriptions: ['T0', 'T1', 'T2']\n",
            "Extracting EDF parameters from /content/MNE-eegbci-data/files/eegmmidb/1.0.0/S099/S099R11.edf...\n",
            "EDF file detected\n",
            "Setting channel info structure...\n",
            "Creating raw.info structure...\n",
            "Reading 0 ... 19679  =      0.000 ...   122.994 secs...\n",
            "Used Annotations descriptions: ['T0', 'T1', 'T2']\n",
            "Extracting EDF parameters from /content/MNE-eegbci-data/files/eegmmidb/1.0.0/S099/S099R07.edf...\n",
            "EDF file detected\n",
            "Setting channel info structure...\n",
            "Creating raw.info structure...\n",
            "Reading 0 ... 19679  =      0.000 ...   122.994 secs...\n",
            "Used Annotations descriptions: ['T0', 'T1', 'T2']\n",
            "Extracting EDF parameters from /content/MNE-eegbci-data/files/eegmmidb/1.0.0/S099/S099R03.edf...\n",
            "EDF file detected\n",
            "Setting channel info structure...\n",
            "Creating raw.info structure...\n",
            "Reading 0 ... 19679  =      0.000 ...   122.994 secs...\n",
            "Used Annotations descriptions: ['T0', 'T1', 'T2']\n",
            "Extracting EDF parameters from /content/MNE-eegbci-data/files/eegmmidb/1.0.0/S048/S048R07.edf...\n",
            "EDF file detected\n",
            "Setting channel info structure...\n",
            "Creating raw.info structure...\n",
            "Reading 0 ... 19679  =      0.000 ...   122.994 secs...\n",
            "Used Annotations descriptions: ['T0', 'T1', 'T2']\n",
            "Extracting EDF parameters from /content/MNE-eegbci-data/files/eegmmidb/1.0.0/S048/S048R03.edf...\n",
            "EDF file detected\n",
            "Setting channel info structure...\n",
            "Creating raw.info structure...\n",
            "Reading 0 ... 19679  =      0.000 ...   122.994 secs...\n",
            "Used Annotations descriptions: ['T0', 'T1', 'T2']\n",
            "Extracting EDF parameters from /content/MNE-eegbci-data/files/eegmmidb/1.0.0/S048/S048R11.edf...\n",
            "EDF file detected\n",
            "Setting channel info structure...\n",
            "Creating raw.info structure...\n",
            "Reading 0 ... 19679  =      0.000 ...   122.994 secs...\n",
            "Used Annotations descriptions: ['T0', 'T1', 'T2']\n",
            "Extracting EDF parameters from /content/MNE-eegbci-data/files/eegmmidb/1.0.0/S021/S021R11.edf...\n",
            "EDF file detected\n",
            "Setting channel info structure...\n",
            "Creating raw.info structure...\n",
            "Reading 0 ... 19999  =      0.000 ...   124.994 secs...\n",
            "Used Annotations descriptions: ['T0', 'T1', 'T2']\n",
            "Extracting EDF parameters from /content/MNE-eegbci-data/files/eegmmidb/1.0.0/S021/S021R03.edf...\n",
            "EDF file detected\n",
            "Setting channel info structure...\n",
            "Creating raw.info structure...\n",
            "Reading 0 ... 19999  =      0.000 ...   124.994 secs...\n",
            "Used Annotations descriptions: ['T0', 'T1', 'T2']\n",
            "Extracting EDF parameters from /content/MNE-eegbci-data/files/eegmmidb/1.0.0/S021/S021R07.edf...\n",
            "EDF file detected\n",
            "Setting channel info structure...\n",
            "Creating raw.info structure...\n",
            "Reading 0 ... 19999  =      0.000 ...   124.994 secs...\n",
            "Used Annotations descriptions: ['T0', 'T1', 'T2']\n",
            "Extracting EDF parameters from /content/MNE-eegbci-data/files/eegmmidb/1.0.0/S105/S105R11.edf...\n",
            "EDF file detected\n",
            "Setting channel info structure...\n",
            "Creating raw.info structure...\n",
            "Reading 0 ... 19679  =      0.000 ...   122.994 secs...\n",
            "Used Annotations descriptions: ['T0', 'T1', 'T2']\n",
            "Extracting EDF parameters from /content/MNE-eegbci-data/files/eegmmidb/1.0.0/S105/S105R03.edf...\n",
            "EDF file detected\n",
            "Setting channel info structure...\n",
            "Creating raw.info structure...\n",
            "Reading 0 ... 19679  =      0.000 ...   122.994 secs...\n",
            "Used Annotations descriptions: ['T0', 'T1', 'T2']\n",
            "Extracting EDF parameters from /content/MNE-eegbci-data/files/eegmmidb/1.0.0/S105/S105R07.edf...\n",
            "EDF file detected\n",
            "Setting channel info structure...\n",
            "Creating raw.info structure...\n",
            "Reading 0 ... 19679  =      0.000 ...   122.994 secs...\n",
            "Used Annotations descriptions: ['T0', 'T1', 'T2']\n",
            "Extracting EDF parameters from /content/MNE-eegbci-data/files/eegmmidb/1.0.0/S100/S100R03.edf...\n",
            "EDF file detected\n",
            "Setting channel info structure...\n",
            "Creating raw.info structure...\n",
            "Reading 0 ... 15743  =      0.000 ...   122.992 secs...\n",
            "Used Annotations descriptions: ['T0', 'T1', 'T2']\n"
          ]
        },
        {
          "output_type": "stream",
          "name": "stderr",
          "text": [
            "<ipython-input-4-9b928c057a0e>:8: RuntimeWarning: Limited 1 annotation(s) that were expanding outside the data range.\n",
            "  x_raw = [read_raw_edf(file_path, preload=True)]\n"
          ]
        },
        {
          "output_type": "stream",
          "name": "stdout",
          "text": [
            "Extracting EDF parameters from /content/MNE-eegbci-data/files/eegmmidb/1.0.0/S100/S100R11.edf...\n",
            "EDF file detected\n",
            "Setting channel info structure...\n",
            "Creating raw.info structure...\n",
            "Reading 0 ... 15743  =      0.000 ...   122.992 secs...\n",
            "Used Annotations descriptions: ['T0', 'T1', 'T2']\n"
          ]
        },
        {
          "output_type": "stream",
          "name": "stderr",
          "text": [
            "<ipython-input-4-9b928c057a0e>:8: RuntimeWarning: Limited 1 annotation(s) that were expanding outside the data range.\n",
            "  x_raw = [read_raw_edf(file_path, preload=True)]\n"
          ]
        },
        {
          "output_type": "stream",
          "name": "stdout",
          "text": [
            "Extracting EDF parameters from /content/MNE-eegbci-data/files/eegmmidb/1.0.0/S100/S100R07.edf...\n",
            "EDF file detected\n",
            "Setting channel info structure...\n",
            "Creating raw.info structure...\n",
            "Reading 0 ... 15743  =      0.000 ...   122.992 secs...\n",
            "Used Annotations descriptions: ['T0', 'T1', 'T2']\n"
          ]
        },
        {
          "output_type": "stream",
          "name": "stderr",
          "text": [
            "<ipython-input-4-9b928c057a0e>:8: RuntimeWarning: Limited 1 annotation(s) that were expanding outside the data range.\n",
            "  x_raw = [read_raw_edf(file_path, preload=True)]\n"
          ]
        },
        {
          "output_type": "stream",
          "name": "stdout",
          "text": [
            "Extracting EDF parameters from /content/MNE-eegbci-data/files/eegmmidb/1.0.0/S054/S054R11.edf...\n",
            "EDF file detected\n",
            "Setting channel info structure...\n",
            "Creating raw.info structure...\n",
            "Reading 0 ... 19679  =      0.000 ...   122.994 secs...\n",
            "Used Annotations descriptions: ['T0', 'T1', 'T2']\n",
            "Extracting EDF parameters from /content/MNE-eegbci-data/files/eegmmidb/1.0.0/S054/S054R07.edf...\n",
            "EDF file detected\n",
            "Setting channel info structure...\n",
            "Creating raw.info structure...\n",
            "Reading 0 ... 19679  =      0.000 ...   122.994 secs...\n",
            "Used Annotations descriptions: ['T0', 'T1', 'T2']\n",
            "Extracting EDF parameters from /content/MNE-eegbci-data/files/eegmmidb/1.0.0/S054/S054R03.edf...\n",
            "EDF file detected\n",
            "Setting channel info structure...\n",
            "Creating raw.info structure...\n",
            "Reading 0 ... 19679  =      0.000 ...   122.994 secs...\n",
            "Used Annotations descriptions: ['T0', 'T1', 'T2']\n",
            "Extracting EDF parameters from /content/MNE-eegbci-data/files/eegmmidb/1.0.0/S073/S073R11.edf...\n",
            "EDF file detected\n",
            "Setting channel info structure...\n",
            "Creating raw.info structure...\n",
            "Reading 0 ... 19679  =      0.000 ...   122.994 secs...\n",
            "Used Annotations descriptions: ['T0', 'T1', 'T2']\n",
            "Extracting EDF parameters from /content/MNE-eegbci-data/files/eegmmidb/1.0.0/S073/S073R07.edf...\n",
            "EDF file detected\n",
            "Setting channel info structure...\n",
            "Creating raw.info structure...\n",
            "Reading 0 ... 19679  =      0.000 ...   122.994 secs...\n",
            "Used Annotations descriptions: ['T0', 'T1', 'T2']\n",
            "Extracting EDF parameters from /content/MNE-eegbci-data/files/eegmmidb/1.0.0/S073/S073R03.edf...\n",
            "EDF file detected\n",
            "Setting channel info structure...\n",
            "Creating raw.info structure...\n",
            "Reading 0 ... 19679  =      0.000 ...   122.994 secs...\n",
            "Used Annotations descriptions: ['T0', 'T1', 'T2']\n",
            "Extracting EDF parameters from /content/MNE-eegbci-data/files/eegmmidb/1.0.0/S016/S016R03.edf...\n",
            "EDF file detected\n",
            "Setting channel info structure...\n",
            "Creating raw.info structure...\n",
            "Reading 0 ... 19679  =      0.000 ...   122.994 secs...\n",
            "Used Annotations descriptions: ['T0', 'T1', 'T2']\n",
            "Extracting EDF parameters from /content/MNE-eegbci-data/files/eegmmidb/1.0.0/S016/S016R07.edf...\n",
            "EDF file detected\n",
            "Setting channel info structure...\n",
            "Creating raw.info structure...\n",
            "Reading 0 ... 19679  =      0.000 ...   122.994 secs...\n",
            "Used Annotations descriptions: ['T0', 'T1', 'T2']\n",
            "Extracting EDF parameters from /content/MNE-eegbci-data/files/eegmmidb/1.0.0/S016/S016R11.edf...\n",
            "EDF file detected\n",
            "Setting channel info structure...\n",
            "Creating raw.info structure...\n",
            "Reading 0 ... 19679  =      0.000 ...   122.994 secs...\n",
            "Used Annotations descriptions: ['T0', 'T1', 'T2']\n",
            "Extracting EDF parameters from /content/MNE-eegbci-data/files/eegmmidb/1.0.0/S080/S080R07.edf...\n",
            "EDF file detected\n",
            "Setting channel info structure...\n",
            "Creating raw.info structure...\n",
            "Reading 0 ... 19679  =      0.000 ...   122.994 secs...\n",
            "Used Annotations descriptions: ['T0', 'T1', 'T2']\n",
            "Extracting EDF parameters from /content/MNE-eegbci-data/files/eegmmidb/1.0.0/S080/S080R11.edf...\n",
            "EDF file detected\n",
            "Setting channel info structure...\n",
            "Creating raw.info structure...\n",
            "Reading 0 ... 19679  =      0.000 ...   122.994 secs...\n",
            "Used Annotations descriptions: ['T0', 'T1', 'T2']\n",
            "Extracting EDF parameters from /content/MNE-eegbci-data/files/eegmmidb/1.0.0/S080/S080R03.edf...\n",
            "EDF file detected\n",
            "Setting channel info structure...\n",
            "Creating raw.info structure...\n",
            "Reading 0 ... 19679  =      0.000 ...   122.994 secs...\n",
            "Used Annotations descriptions: ['T0', 'T1', 'T2']\n",
            "Extracting EDF parameters from /content/MNE-eegbci-data/files/eegmmidb/1.0.0/S079/S079R11.edf...\n",
            "EDF file detected\n",
            "Setting channel info structure...\n",
            "Creating raw.info structure...\n",
            "Reading 0 ... 19999  =      0.000 ...   124.994 secs...\n",
            "Used Annotations descriptions: ['T0', 'T1', 'T2']\n",
            "Extracting EDF parameters from /content/MNE-eegbci-data/files/eegmmidb/1.0.0/S079/S079R07.edf...\n",
            "EDF file detected\n",
            "Setting channel info structure...\n",
            "Creating raw.info structure...\n",
            "Reading 0 ... 19999  =      0.000 ...   124.994 secs...\n",
            "Used Annotations descriptions: ['T0', 'T1', 'T2']\n",
            "Extracting EDF parameters from /content/MNE-eegbci-data/files/eegmmidb/1.0.0/S079/S079R03.edf...\n",
            "EDF file detected\n",
            "Setting channel info structure...\n",
            "Creating raw.info structure...\n",
            "Reading 0 ... 19999  =      0.000 ...   124.994 secs...\n",
            "Used Annotations descriptions: ['T0', 'T1', 'T2']\n",
            "Extracting EDF parameters from /content/MNE-eegbci-data/files/eegmmidb/1.0.0/S031/S031R11.edf...\n",
            "EDF file detected\n",
            "Setting channel info structure...\n",
            "Creating raw.info structure...\n",
            "Reading 0 ... 19679  =      0.000 ...   122.994 secs...\n",
            "Used Annotations descriptions: ['T0', 'T1', 'T2']\n",
            "Extracting EDF parameters from /content/MNE-eegbci-data/files/eegmmidb/1.0.0/S031/S031R03.edf...\n",
            "EDF file detected\n",
            "Setting channel info structure...\n",
            "Creating raw.info structure...\n",
            "Reading 0 ... 19679  =      0.000 ...   122.994 secs...\n",
            "Used Annotations descriptions: ['T0', 'T1', 'T2']\n",
            "Extracting EDF parameters from /content/MNE-eegbci-data/files/eegmmidb/1.0.0/S031/S031R07.edf...\n",
            "EDF file detected\n",
            "Setting channel info structure...\n",
            "Creating raw.info structure...\n",
            "Reading 0 ... 19679  =      0.000 ...   122.994 secs...\n",
            "Used Annotations descriptions: ['T0', 'T1', 'T2']\n",
            "Extracting EDF parameters from /content/MNE-eegbci-data/files/eegmmidb/1.0.0/S078/S078R03.edf...\n",
            "EDF file detected\n",
            "Setting channel info structure...\n",
            "Creating raw.info structure...\n",
            "Reading 0 ... 19679  =      0.000 ...   122.994 secs...\n",
            "Used Annotations descriptions: ['T0', 'T1', 'T2']\n",
            "Extracting EDF parameters from /content/MNE-eegbci-data/files/eegmmidb/1.0.0/S078/S078R11.edf...\n",
            "EDF file detected\n",
            "Setting channel info structure...\n",
            "Creating raw.info structure...\n",
            "Reading 0 ... 19679  =      0.000 ...   122.994 secs...\n",
            "Used Annotations descriptions: ['T0', 'T1', 'T2']\n",
            "Extracting EDF parameters from /content/MNE-eegbci-data/files/eegmmidb/1.0.0/S078/S078R07.edf...\n",
            "EDF file detected\n",
            "Setting channel info structure...\n",
            "Creating raw.info structure...\n",
            "Reading 0 ... 19679  =      0.000 ...   122.994 secs...\n",
            "Used Annotations descriptions: ['T0', 'T1', 'T2']\n",
            "Extracting EDF parameters from /content/MNE-eegbci-data/files/eegmmidb/1.0.0/S097/S097R11.edf...\n",
            "EDF file detected\n",
            "Setting channel info structure...\n",
            "Creating raw.info structure...\n",
            "Reading 0 ... 19679  =      0.000 ...   122.994 secs...\n",
            "Used Annotations descriptions: ['T0', 'T1', 'T2']\n",
            "Extracting EDF parameters from /content/MNE-eegbci-data/files/eegmmidb/1.0.0/S097/S097R03.edf...\n",
            "EDF file detected\n",
            "Setting channel info structure...\n",
            "Creating raw.info structure...\n",
            "Reading 0 ... 19679  =      0.000 ...   122.994 secs...\n",
            "Used Annotations descriptions: ['T0', 'T1', 'T2']\n",
            "Extracting EDF parameters from /content/MNE-eegbci-data/files/eegmmidb/1.0.0/S097/S097R07.edf...\n",
            "EDF file detected\n",
            "Setting channel info structure...\n",
            "Creating raw.info structure...\n",
            "Reading 0 ... 19679  =      0.000 ...   122.994 secs...\n",
            "Used Annotations descriptions: ['T0', 'T1', 'T2']\n",
            "Extracting EDF parameters from /content/MNE-eegbci-data/files/eegmmidb/1.0.0/S030/S030R03.edf...\n",
            "EDF file detected\n",
            "Setting channel info structure...\n",
            "Creating raw.info structure...\n",
            "Reading 0 ... 19839  =      0.000 ...   123.994 secs...\n",
            "Used Annotations descriptions: ['T0', 'T1', 'T2']\n",
            "Extracting EDF parameters from /content/MNE-eegbci-data/files/eegmmidb/1.0.0/S030/S030R11.edf...\n",
            "EDF file detected\n",
            "Setting channel info structure...\n",
            "Creating raw.info structure...\n",
            "Reading 0 ... 19839  =      0.000 ...   123.994 secs...\n",
            "Used Annotations descriptions: ['T0', 'T1', 'T2']\n",
            "Extracting EDF parameters from /content/MNE-eegbci-data/files/eegmmidb/1.0.0/S030/S030R07.edf...\n",
            "EDF file detected\n",
            "Setting channel info structure...\n",
            "Creating raw.info structure...\n",
            "Reading 0 ... 19839  =      0.000 ...   123.994 secs...\n",
            "Used Annotations descriptions: ['T0', 'T1', 'T2']\n",
            "Extracting EDF parameters from /content/MNE-eegbci-data/files/eegmmidb/1.0.0/S059/S059R03.edf...\n",
            "EDF file detected\n",
            "Setting channel info structure...\n",
            "Creating raw.info structure...\n",
            "Reading 0 ... 19679  =      0.000 ...   122.994 secs...\n",
            "Used Annotations descriptions: ['T0', 'T1', 'T2']\n",
            "Extracting EDF parameters from /content/MNE-eegbci-data/files/eegmmidb/1.0.0/S059/S059R07.edf...\n",
            "EDF file detected\n",
            "Setting channel info structure...\n",
            "Creating raw.info structure...\n",
            "Reading 0 ... 19679  =      0.000 ...   122.994 secs...\n",
            "Used Annotations descriptions: ['T0', 'T1', 'T2']\n",
            "Extracting EDF parameters from /content/MNE-eegbci-data/files/eegmmidb/1.0.0/S059/S059R11.edf...\n",
            "EDF file detected\n",
            "Setting channel info structure...\n",
            "Creating raw.info structure...\n",
            "Reading 0 ... 19679  =      0.000 ...   122.994 secs...\n",
            "Used Annotations descriptions: ['T0', 'T1', 'T2']\n",
            "Extracting EDF parameters from /content/MNE-eegbci-data/files/eegmmidb/1.0.0/S047/S047R03.edf...\n",
            "EDF file detected\n",
            "Setting channel info structure...\n",
            "Creating raw.info structure...\n",
            "Reading 0 ... 19679  =      0.000 ...   122.994 secs...\n",
            "Used Annotations descriptions: ['T0', 'T1', 'T2']\n",
            "Extracting EDF parameters from /content/MNE-eegbci-data/files/eegmmidb/1.0.0/S047/S047R07.edf...\n",
            "EDF file detected\n",
            "Setting channel info structure...\n",
            "Creating raw.info structure...\n",
            "Reading 0 ... 19679  =      0.000 ...   122.994 secs...\n",
            "Used Annotations descriptions: ['T0', 'T1', 'T2']\n",
            "Extracting EDF parameters from /content/MNE-eegbci-data/files/eegmmidb/1.0.0/S047/S047R11.edf...\n",
            "EDF file detected\n",
            "Setting channel info structure...\n",
            "Creating raw.info structure...\n",
            "Reading 0 ... 19679  =      0.000 ...   122.994 secs...\n",
            "Used Annotations descriptions: ['T0', 'T1', 'T2']\n",
            "Extracting EDF parameters from /content/MNE-eegbci-data/files/eegmmidb/1.0.0/S062/S062R03.edf...\n",
            "EDF file detected\n",
            "Setting channel info structure...\n",
            "Creating raw.info structure...\n",
            "Reading 0 ... 19679  =      0.000 ...   122.994 secs...\n",
            "Used Annotations descriptions: ['T0', 'T1', 'T2']\n",
            "Extracting EDF parameters from /content/MNE-eegbci-data/files/eegmmidb/1.0.0/S062/S062R11.edf...\n",
            "EDF file detected\n",
            "Setting channel info structure...\n",
            "Creating raw.info structure...\n",
            "Reading 0 ... 19679  =      0.000 ...   122.994 secs...\n",
            "Used Annotations descriptions: ['T0', 'T1', 'T2']\n",
            "Extracting EDF parameters from /content/MNE-eegbci-data/files/eegmmidb/1.0.0/S062/S062R07.edf...\n",
            "EDF file detected\n",
            "Setting channel info structure...\n",
            "Creating raw.info structure...\n",
            "Reading 0 ... 19679  =      0.000 ...   122.994 secs...\n",
            "Used Annotations descriptions: ['T0', 'T1', 'T2']\n",
            "Extracting EDF parameters from /content/MNE-eegbci-data/files/eegmmidb/1.0.0/S064/S064R03.edf...\n",
            "EDF file detected\n",
            "Setting channel info structure...\n",
            "Creating raw.info structure...\n",
            "Reading 0 ... 19679  =      0.000 ...   122.994 secs...\n",
            "Used Annotations descriptions: ['T0', 'T1', 'T2']\n",
            "Extracting EDF parameters from /content/MNE-eegbci-data/files/eegmmidb/1.0.0/S064/S064R11.edf...\n",
            "EDF file detected\n",
            "Setting channel info structure...\n",
            "Creating raw.info structure...\n",
            "Reading 0 ... 19679  =      0.000 ...   122.994 secs...\n",
            "Used Annotations descriptions: ['T0', 'T1', 'T2']\n",
            "Extracting EDF parameters from /content/MNE-eegbci-data/files/eegmmidb/1.0.0/S064/S064R07.edf...\n",
            "EDF file detected\n",
            "Setting channel info structure...\n",
            "Creating raw.info structure...\n",
            "Reading 0 ... 19679  =      0.000 ...   122.994 secs...\n",
            "Used Annotations descriptions: ['T0', 'T1', 'T2']\n",
            "Extracting EDF parameters from /content/MNE-eegbci-data/files/eegmmidb/1.0.0/S028/S028R07.edf...\n",
            "EDF file detected\n",
            "Setting channel info structure...\n",
            "Creating raw.info structure...\n",
            "Reading 0 ... 19679  =      0.000 ...   122.994 secs...\n",
            "Used Annotations descriptions: ['T0', 'T1', 'T2']\n",
            "Extracting EDF parameters from /content/MNE-eegbci-data/files/eegmmidb/1.0.0/S028/S028R11.edf...\n",
            "EDF file detected\n",
            "Setting channel info structure...\n",
            "Creating raw.info structure...\n",
            "Reading 0 ... 19679  =      0.000 ...   122.994 secs...\n",
            "Used Annotations descriptions: ['T0', 'T1', 'T2']\n",
            "Extracting EDF parameters from /content/MNE-eegbci-data/files/eegmmidb/1.0.0/S028/S028R03.edf...\n",
            "EDF file detected\n",
            "Setting channel info structure...\n",
            "Creating raw.info structure...\n",
            "Reading 0 ... 19679  =      0.000 ...   122.994 secs...\n",
            "Used Annotations descriptions: ['T0', 'T1', 'T2']\n",
            "Extracting EDF parameters from /content/MNE-eegbci-data/files/eegmmidb/1.0.0/S018/S018R07.edf...\n",
            "EDF file detected\n",
            "Setting channel info structure...\n",
            "Creating raw.info structure...\n",
            "Reading 0 ... 19679  =      0.000 ...   122.994 secs...\n",
            "Used Annotations descriptions: ['T0', 'T1', 'T2']\n",
            "Extracting EDF parameters from /content/MNE-eegbci-data/files/eegmmidb/1.0.0/S018/S018R11.edf...\n",
            "EDF file detected\n",
            "Setting channel info structure...\n",
            "Creating raw.info structure...\n",
            "Reading 0 ... 19679  =      0.000 ...   122.994 secs...\n",
            "Used Annotations descriptions: ['T0', 'T1', 'T2']\n",
            "Extracting EDF parameters from /content/MNE-eegbci-data/files/eegmmidb/1.0.0/S018/S018R03.edf...\n",
            "EDF file detected\n",
            "Setting channel info structure...\n",
            "Creating raw.info structure...\n",
            "Reading 0 ... 19679  =      0.000 ...   122.994 secs...\n",
            "Used Annotations descriptions: ['T0', 'T1', 'T2']\n",
            "Extracting EDF parameters from /content/MNE-eegbci-data/files/eegmmidb/1.0.0/S088/S088R03.edf...\n",
            "EDF file detected\n",
            "Setting channel info structure...\n",
            "Creating raw.info structure...\n",
            "Reading 0 ... 15871  =      0.000 ...   123.992 secs...\n",
            "Used Annotations descriptions: ['T0', 'T1', 'T2']\n",
            "Extracting EDF parameters from /content/MNE-eegbci-data/files/eegmmidb/1.0.0/S088/S088R11.edf...\n",
            "EDF file detected\n",
            "Setting channel info structure...\n",
            "Creating raw.info structure...\n",
            "Reading 0 ... 15871  =      0.000 ...   123.992 secs...\n",
            "Used Annotations descriptions: ['T0', 'T1', 'T2']\n",
            "Extracting EDF parameters from /content/MNE-eegbci-data/files/eegmmidb/1.0.0/S088/S088R07.edf...\n",
            "EDF file detected\n",
            "Setting channel info structure...\n",
            "Creating raw.info structure...\n",
            "Reading 0 ... 15871  =      0.000 ...   123.992 secs...\n",
            "Used Annotations descriptions: ['T0', 'T1', 'T2']\n",
            "Extracting EDF parameters from /content/MNE-eegbci-data/files/eegmmidb/1.0.0/S013/S013R03.edf...\n",
            "EDF file detected\n",
            "Setting channel info structure...\n",
            "Creating raw.info structure...\n",
            "Reading 0 ... 19679  =      0.000 ...   122.994 secs...\n",
            "Used Annotations descriptions: ['T0', 'T1', 'T2']\n",
            "Extracting EDF parameters from /content/MNE-eegbci-data/files/eegmmidb/1.0.0/S013/S013R07.edf...\n",
            "EDF file detected\n",
            "Setting channel info structure...\n",
            "Creating raw.info structure...\n",
            "Reading 0 ... 19679  =      0.000 ...   122.994 secs...\n",
            "Used Annotations descriptions: ['T0', 'T1', 'T2']\n",
            "Extracting EDF parameters from /content/MNE-eegbci-data/files/eegmmidb/1.0.0/S013/S013R11.edf...\n",
            "EDF file detected\n",
            "Setting channel info structure...\n",
            "Creating raw.info structure...\n",
            "Reading 0 ... 19679  =      0.000 ...   122.994 secs...\n",
            "Used Annotations descriptions: ['T0', 'T1', 'T2']\n",
            "Extracting EDF parameters from /content/MNE-eegbci-data/files/eegmmidb/1.0.0/S025/S025R07.edf...\n",
            "EDF file detected\n",
            "Setting channel info structure...\n",
            "Creating raw.info structure...\n",
            "Reading 0 ... 19679  =      0.000 ...   122.994 secs...\n",
            "Used Annotations descriptions: ['T0', 'T1', 'T2']\n",
            "Extracting EDF parameters from /content/MNE-eegbci-data/files/eegmmidb/1.0.0/S025/S025R11.edf...\n",
            "EDF file detected\n",
            "Setting channel info structure...\n",
            "Creating raw.info structure...\n",
            "Reading 0 ... 19679  =      0.000 ...   122.994 secs...\n",
            "Used Annotations descriptions: ['T0', 'T1', 'T2']\n",
            "Extracting EDF parameters from /content/MNE-eegbci-data/files/eegmmidb/1.0.0/S025/S025R03.edf...\n",
            "EDF file detected\n",
            "Setting channel info structure...\n",
            "Creating raw.info structure...\n",
            "Reading 0 ... 19679  =      0.000 ...   122.994 secs...\n",
            "Used Annotations descriptions: ['T0', 'T1', 'T2']\n",
            "Extracting EDF parameters from /content/MNE-eegbci-data/files/eegmmidb/1.0.0/S103/S103R11.edf...\n",
            "EDF file detected\n",
            "Setting channel info structure...\n",
            "Creating raw.info structure...\n",
            "Reading 0 ... 19999  =      0.000 ...   124.994 secs...\n",
            "Used Annotations descriptions: ['T0', 'T1', 'T2']\n",
            "Extracting EDF parameters from /content/MNE-eegbci-data/files/eegmmidb/1.0.0/S103/S103R07.edf...\n",
            "EDF file detected\n",
            "Setting channel info structure...\n",
            "Creating raw.info structure...\n",
            "Reading 0 ... 19999  =      0.000 ...   124.994 secs...\n",
            "Used Annotations descriptions: ['T0', 'T1', 'T2']\n",
            "Extracting EDF parameters from /content/MNE-eegbci-data/files/eegmmidb/1.0.0/S103/S103R03.edf...\n",
            "EDF file detected\n",
            "Setting channel info structure...\n",
            "Creating raw.info structure...\n",
            "Reading 0 ... 19999  =      0.000 ...   124.994 secs...\n",
            "Used Annotations descriptions: ['T0', 'T1', 'T2']\n",
            "Extracting EDF parameters from /content/MNE-eegbci-data/files/eegmmidb/1.0.0/S071/S071R07.edf...\n",
            "EDF file detected\n",
            "Setting channel info structure...\n",
            "Creating raw.info structure...\n",
            "Reading 0 ... 19999  =      0.000 ...   124.994 secs...\n",
            "Used Annotations descriptions: ['T0', 'T1', 'T2']\n",
            "Extracting EDF parameters from /content/MNE-eegbci-data/files/eegmmidb/1.0.0/S071/S071R11.edf...\n",
            "EDF file detected\n",
            "Setting channel info structure...\n",
            "Creating raw.info structure...\n",
            "Reading 0 ... 19999  =      0.000 ...   124.994 secs...\n",
            "Used Annotations descriptions: ['T0', 'T1', 'T2']\n",
            "Extracting EDF parameters from /content/MNE-eegbci-data/files/eegmmidb/1.0.0/S071/S071R03.edf...\n",
            "EDF file detected\n",
            "Setting channel info structure...\n",
            "Creating raw.info structure...\n",
            "Reading 0 ... 19999  =      0.000 ...   124.994 secs...\n",
            "Used Annotations descriptions: ['T0', 'T1', 'T2']\n",
            "Extracting EDF parameters from /content/MNE-eegbci-data/files/eegmmidb/1.0.0/S104/S104R11.edf...\n",
            "EDF file detected\n",
            "Setting channel info structure...\n",
            "Creating raw.info structure...\n",
            "Reading 0 ... 19679  =      0.000 ...   122.994 secs...\n",
            "Used Annotations descriptions: ['T0', 'T1', 'T2']\n",
            "Extracting EDF parameters from /content/MNE-eegbci-data/files/eegmmidb/1.0.0/S104/S104R07.edf...\n",
            "EDF file detected\n",
            "Setting channel info structure...\n",
            "Creating raw.info structure...\n",
            "Reading 0 ... 19679  =      0.000 ...   122.994 secs...\n",
            "Used Annotations descriptions: ['T0', 'T1', 'T2']\n",
            "Extracting EDF parameters from /content/MNE-eegbci-data/files/eegmmidb/1.0.0/S104/S104R03.edf...\n",
            "EDF file detected\n",
            "Setting channel info structure...\n",
            "Creating raw.info structure...\n",
            "Reading 0 ... 19679  =      0.000 ...   122.994 secs...\n",
            "Used Annotations descriptions: ['T0', 'T1', 'T2']\n",
            "Extracting EDF parameters from /content/MNE-eegbci-data/files/eegmmidb/1.0.0/S075/S075R03.edf...\n",
            "EDF file detected\n",
            "Setting channel info structure...\n",
            "Creating raw.info structure...\n",
            "Reading 0 ... 19679  =      0.000 ...   122.994 secs...\n",
            "Used Annotations descriptions: ['T0', 'T1', 'T2']\n",
            "Extracting EDF parameters from /content/MNE-eegbci-data/files/eegmmidb/1.0.0/S075/S075R07.edf...\n",
            "EDF file detected\n",
            "Setting channel info structure...\n",
            "Creating raw.info structure...\n",
            "Reading 0 ... 19679  =      0.000 ...   122.994 secs...\n",
            "Used Annotations descriptions: ['T0', 'T1', 'T2']\n",
            "Extracting EDF parameters from /content/MNE-eegbci-data/files/eegmmidb/1.0.0/S075/S075R11.edf...\n",
            "EDF file detected\n",
            "Setting channel info structure...\n",
            "Creating raw.info structure...\n",
            "Reading 0 ... 19679  =      0.000 ...   122.994 secs...\n",
            "Used Annotations descriptions: ['T0', 'T1', 'T2']\n",
            "Extracting EDF parameters from /content/MNE-eegbci-data/files/eegmmidb/1.0.0/S060/S060R07.edf...\n",
            "EDF file detected\n",
            "Setting channel info structure...\n",
            "Creating raw.info structure...\n",
            "Reading 0 ... 19679  =      0.000 ...   122.994 secs...\n",
            "Used Annotations descriptions: ['T0', 'T1', 'T2']\n",
            "Extracting EDF parameters from /content/MNE-eegbci-data/files/eegmmidb/1.0.0/S060/S060R03.edf...\n",
            "EDF file detected\n",
            "Setting channel info structure...\n",
            "Creating raw.info structure...\n",
            "Reading 0 ... 19679  =      0.000 ...   122.994 secs...\n",
            "Used Annotations descriptions: ['T0', 'T1', 'T2']\n",
            "Extracting EDF parameters from /content/MNE-eegbci-data/files/eegmmidb/1.0.0/S060/S060R11.edf...\n",
            "EDF file detected\n",
            "Setting channel info structure...\n",
            "Creating raw.info structure...\n",
            "Reading 0 ... 19679  =      0.000 ...   122.994 secs...\n",
            "Used Annotations descriptions: ['T0', 'T1', 'T2']\n",
            "Extracting EDF parameters from /content/MNE-eegbci-data/files/eegmmidb/1.0.0/S023/S023R07.edf...\n",
            "EDF file detected\n",
            "Setting channel info structure...\n",
            "Creating raw.info structure...\n",
            "Reading 0 ... 19679  =      0.000 ...   122.994 secs...\n",
            "Used Annotations descriptions: ['T0', 'T1', 'T2']\n",
            "Extracting EDF parameters from /content/MNE-eegbci-data/files/eegmmidb/1.0.0/S023/S023R03.edf...\n",
            "EDF file detected\n",
            "Setting channel info structure...\n",
            "Creating raw.info structure...\n",
            "Reading 0 ... 19679  =      0.000 ...   122.994 secs...\n",
            "Used Annotations descriptions: ['T0', 'T1', 'T2']\n",
            "Extracting EDF parameters from /content/MNE-eegbci-data/files/eegmmidb/1.0.0/S023/S023R11.edf...\n",
            "EDF file detected\n",
            "Setting channel info structure...\n",
            "Creating raw.info structure...\n",
            "Reading 0 ... 19679  =      0.000 ...   122.994 secs...\n",
            "Used Annotations descriptions: ['T0', 'T1', 'T2']\n",
            "Extracting EDF parameters from /content/MNE-eegbci-data/files/eegmmidb/1.0.0/S090/S090R11.edf...\n",
            "EDF file detected\n",
            "Setting channel info structure...\n",
            "Creating raw.info structure...\n",
            "Reading 0 ... 19679  =      0.000 ...   122.994 secs...\n",
            "Used Annotations descriptions: ['T0', 'T1', 'T2']\n",
            "Extracting EDF parameters from /content/MNE-eegbci-data/files/eegmmidb/1.0.0/S090/S090R03.edf...\n",
            "EDF file detected\n",
            "Setting channel info structure...\n",
            "Creating raw.info structure...\n",
            "Reading 0 ... 19679  =      0.000 ...   122.994 secs...\n",
            "Used Annotations descriptions: ['T0', 'T1', 'T2']\n",
            "Extracting EDF parameters from /content/MNE-eegbci-data/files/eegmmidb/1.0.0/S090/S090R07.edf...\n",
            "EDF file detected\n",
            "Setting channel info structure...\n",
            "Creating raw.info structure...\n",
            "Reading 0 ... 19679  =      0.000 ...   122.994 secs...\n",
            "Used Annotations descriptions: ['T0', 'T1', 'T2']\n",
            "Extracting EDF parameters from /content/MNE-eegbci-data/files/eegmmidb/1.0.0/S058/S058R07.edf...\n",
            "EDF file detected\n",
            "Setting channel info structure...\n",
            "Creating raw.info structure...\n",
            "Reading 0 ... 19679  =      0.000 ...   122.994 secs...\n",
            "Used Annotations descriptions: ['T0', 'T1', 'T2']\n",
            "Extracting EDF parameters from /content/MNE-eegbci-data/files/eegmmidb/1.0.0/S058/S058R11.edf...\n",
            "EDF file detected\n",
            "Setting channel info structure...\n",
            "Creating raw.info structure...\n",
            "Reading 0 ... 19679  =      0.000 ...   122.994 secs...\n",
            "Used Annotations descriptions: ['T0', 'T1', 'T2']\n",
            "Extracting EDF parameters from /content/MNE-eegbci-data/files/eegmmidb/1.0.0/S058/S058R03.edf...\n",
            "EDF file detected\n",
            "Setting channel info structure...\n",
            "Creating raw.info structure...\n",
            "Reading 0 ... 19679  =      0.000 ...   122.994 secs...\n",
            "Used Annotations descriptions: ['T0', 'T1', 'T2']\n",
            "Extracting EDF parameters from /content/MNE-eegbci-data/files/eegmmidb/1.0.0/S074/S074R03.edf...\n",
            "EDF file detected\n",
            "Setting channel info structure...\n",
            "Creating raw.info structure...\n",
            "Reading 0 ... 19679  =      0.000 ...   122.994 secs...\n",
            "Used Annotations descriptions: ['T0', 'T1', 'T2']\n",
            "Extracting EDF parameters from /content/MNE-eegbci-data/files/eegmmidb/1.0.0/S074/S074R07.edf...\n",
            "EDF file detected\n",
            "Setting channel info structure...\n",
            "Creating raw.info structure...\n",
            "Reading 0 ... 19679  =      0.000 ...   122.994 secs...\n",
            "Used Annotations descriptions: ['T0', 'T1', 'T2']\n",
            "Extracting EDF parameters from /content/MNE-eegbci-data/files/eegmmidb/1.0.0/S074/S074R11.edf...\n",
            "EDF file detected\n",
            "Setting channel info structure...\n",
            "Creating raw.info structure...\n",
            "Reading 0 ... 19679  =      0.000 ...   122.994 secs...\n",
            "Used Annotations descriptions: ['T0', 'T1', 'T2']\n",
            "Extracting EDF parameters from /content/MNE-eegbci-data/files/eegmmidb/1.0.0/S107/S107R11.edf...\n",
            "EDF file detected\n",
            "Setting channel info structure...\n",
            "Creating raw.info structure...\n",
            "Reading 0 ... 19999  =      0.000 ...   124.994 secs...\n",
            "Used Annotations descriptions: ['T0', 'T1', 'T2']\n",
            "Extracting EDF parameters from /content/MNE-eegbci-data/files/eegmmidb/1.0.0/S107/S107R03.edf...\n",
            "EDF file detected\n",
            "Setting channel info structure...\n",
            "Creating raw.info structure...\n",
            "Reading 0 ... 19999  =      0.000 ...   124.994 secs...\n",
            "Used Annotations descriptions: ['T0', 'T1', 'T2']\n",
            "Extracting EDF parameters from /content/MNE-eegbci-data/files/eegmmidb/1.0.0/S107/S107R07.edf...\n",
            "EDF file detected\n",
            "Setting channel info structure...\n",
            "Creating raw.info structure...\n",
            "Reading 0 ... 19999  =      0.000 ...   124.994 secs...\n",
            "Used Annotations descriptions: ['T0', 'T1', 'T2']\n",
            "Extracting EDF parameters from /content/MNE-eegbci-data/files/eegmmidb/1.0.0/S024/S024R07.edf...\n",
            "EDF file detected\n",
            "Setting channel info structure...\n",
            "Creating raw.info structure...\n",
            "Reading 0 ... 19679  =      0.000 ...   122.994 secs...\n",
            "Used Annotations descriptions: ['T0', 'T1', 'T2']\n",
            "Extracting EDF parameters from /content/MNE-eegbci-data/files/eegmmidb/1.0.0/S024/S024R11.edf...\n",
            "EDF file detected\n",
            "Setting channel info structure...\n",
            "Creating raw.info structure...\n",
            "Reading 0 ... 19679  =      0.000 ...   122.994 secs...\n",
            "Used Annotations descriptions: ['T0', 'T1', 'T2']\n",
            "Extracting EDF parameters from /content/MNE-eegbci-data/files/eegmmidb/1.0.0/S024/S024R03.edf...\n",
            "EDF file detected\n",
            "Setting channel info structure...\n",
            "Creating raw.info structure...\n",
            "Reading 0 ... 19679  =      0.000 ...   122.994 secs...\n",
            "Used Annotations descriptions: ['T0', 'T1', 'T2']\n",
            "Extracting EDF parameters from /content/MNE-eegbci-data/files/eegmmidb/1.0.0/S070/S070R07.edf...\n",
            "EDF file detected\n",
            "Setting channel info structure...\n",
            "Creating raw.info structure...\n",
            "Reading 0 ... 19679  =      0.000 ...   122.994 secs...\n",
            "Used Annotations descriptions: ['T0', 'T1', 'T2']\n",
            "Extracting EDF parameters from /content/MNE-eegbci-data/files/eegmmidb/1.0.0/S070/S070R11.edf...\n",
            "EDF file detected\n",
            "Setting channel info structure...\n",
            "Creating raw.info structure...\n",
            "Reading 0 ... 19679  =      0.000 ...   122.994 secs...\n",
            "Used Annotations descriptions: ['T0', 'T1', 'T2']\n",
            "Extracting EDF parameters from /content/MNE-eegbci-data/files/eegmmidb/1.0.0/S070/S070R03.edf...\n",
            "EDF file detected\n",
            "Setting channel info structure...\n",
            "Creating raw.info structure...\n",
            "Reading 0 ... 19679  =      0.000 ...   122.994 secs...\n",
            "Used Annotations descriptions: ['T0', 'T1', 'T2']\n",
            "Extracting EDF parameters from /content/MNE-eegbci-data/files/eegmmidb/1.0.0/S007/S007R11.edf...\n",
            "EDF file detected\n",
            "Setting channel info structure...\n",
            "Creating raw.info structure...\n",
            "Reading 0 ... 19999  =      0.000 ...   124.994 secs...\n",
            "Used Annotations descriptions: ['T0', 'T1', 'T2']\n",
            "Extracting EDF parameters from /content/MNE-eegbci-data/files/eegmmidb/1.0.0/S007/S007R07.edf...\n",
            "EDF file detected\n",
            "Setting channel info structure...\n",
            "Creating raw.info structure...\n",
            "Reading 0 ... 19999  =      0.000 ...   124.994 secs...\n",
            "Used Annotations descriptions: ['T0', 'T1', 'T2']\n",
            "Extracting EDF parameters from /content/MNE-eegbci-data/files/eegmmidb/1.0.0/S007/S007R03.edf...\n",
            "EDF file detected\n",
            "Setting channel info structure...\n",
            "Creating raw.info structure...\n",
            "Reading 0 ... 19999  =      0.000 ...   124.994 secs...\n",
            "Used Annotations descriptions: ['T0', 'T1', 'T2']\n",
            "Extracting EDF parameters from /content/MNE-eegbci-data/files/eegmmidb/1.0.0/S009/S009R07.edf...\n",
            "EDF file detected\n",
            "Setting channel info structure...\n",
            "Creating raw.info structure...\n",
            "Reading 0 ... 19679  =      0.000 ...   122.994 secs...\n",
            "Used Annotations descriptions: ['T0', 'T1', 'T2']\n",
            "Extracting EDF parameters from /content/MNE-eegbci-data/files/eegmmidb/1.0.0/S009/S009R03.edf...\n",
            "EDF file detected\n",
            "Setting channel info structure...\n",
            "Creating raw.info structure...\n",
            "Reading 0 ... 19679  =      0.000 ...   122.994 secs...\n",
            "Used Annotations descriptions: ['T0', 'T1', 'T2']\n",
            "Extracting EDF parameters from /content/MNE-eegbci-data/files/eegmmidb/1.0.0/S009/S009R11.edf...\n",
            "EDF file detected\n",
            "Setting channel info structure...\n",
            "Creating raw.info structure...\n",
            "Reading 0 ... 19679  =      0.000 ...   122.994 secs...\n",
            "Used Annotations descriptions: ['T0', 'T1', 'T2']\n",
            "Extracting EDF parameters from /content/MNE-eegbci-data/files/eegmmidb/1.0.0/S027/S027R11.edf...\n",
            "EDF file detected\n",
            "Setting channel info structure...\n",
            "Creating raw.info structure...\n",
            "Reading 0 ... 19679  =      0.000 ...   122.994 secs...\n",
            "Used Annotations descriptions: ['T0', 'T1', 'T2']\n",
            "Extracting EDF parameters from /content/MNE-eegbci-data/files/eegmmidb/1.0.0/S027/S027R07.edf...\n",
            "EDF file detected\n",
            "Setting channel info structure...\n",
            "Creating raw.info structure...\n",
            "Reading 0 ... 19679  =      0.000 ...   122.994 secs...\n",
            "Used Annotations descriptions: ['T0', 'T1', 'T2']\n",
            "Extracting EDF parameters from /content/MNE-eegbci-data/files/eegmmidb/1.0.0/S027/S027R03.edf...\n",
            "EDF file detected\n",
            "Setting channel info structure...\n",
            "Creating raw.info structure...\n",
            "Reading 0 ... 19679  =      0.000 ...   122.994 secs...\n",
            "Used Annotations descriptions: ['T0', 'T1', 'T2']\n"
          ]
        }
      ],
      "source": [
        "import os\n",
        "import numpy as np\n",
        "from tqdm.notebook import tqdm\n",
        "\n",
        "dataset_path = './MNE-eegbci-data/files/eegmmidb/1.0.0'\n",
        "\n",
        "def readEdf(file_path):\n",
        "  x_raw = [read_raw_edf(file_path, preload=True)]\n",
        "  x_concatened = concatenate_raws(x_raw)\n",
        "  events, event_ids = mne.events_from_annotations(x_concatened, event_id='auto')\n",
        "  x_data = x_concatened.get_data()\n",
        "  return x_data, x_concatened, events, event_ids\n",
        "\n",
        "\n",
        "trainset = []\n",
        "gt = []\n",
        "\n",
        "for folder in os.listdir(dataset_path):\n",
        "  for filename in os.listdir(dataset_path+'/'+folder):\n",
        "    file_path = dataset_path+'/'+folder+'/'+filename\n",
        "    x, x_obj, events, event_ids = readEdf(file_path)\n",
        "    x_float = x.T.astype(np.float32)\n",
        "\n",
        "    for j in range(len(events)-1):\n",
        "      raw = np.zeros((1,640))\n",
        "      signal_start = events[j][0]\n",
        "      signal_end = events[j+1][0]\n",
        "\n",
        "      delta_segmento = signal_end - signal_start\n",
        "\n",
        "      label = events[j][2]\n",
        "\n",
        "      if(delta_segmento >= 640):\n",
        "        channels = [ch.replace('.','').upper() for ch in x_obj.ch_names]\n",
        "        for index in range(0, len(channels)-1):\n",
        "          signal = x[index][signal_start:signal_start+640]\n",
        "          for j_raw in range(0, raw.shape[1]):\n",
        "            raw[index][j_raw] = signal[j_raw]\n",
        "\n",
        "          raw = np.append(raw, np.zeros((1,640)), axis=0)\n",
        "\n",
        "        trainset.append(pd.DataFrame(raw.T.astype(np.float32), columns=channels))\n",
        "        gt.append(events[j])\n",
        "\n",
        "\n"
      ]
    },
    {
      "cell_type": "code",
      "execution_count": null,
      "metadata": {
        "id": "m4x9QZomJ7zw"
      },
      "outputs": [],
      "source": [
        "def create_array(x):\n",
        "  return np.array([1.0 if i+1 == x else 0.0 for i in range(0, 3)])"
      ]
    },
    {
      "cell_type": "code",
      "execution_count": null,
      "metadata": {
        "id": "85KFBk36DI8N"
      },
      "outputs": [],
      "source": [
        "X = pd.concat(trainset)\n",
        "X_train = np.asarray(X.astype(float))\n",
        "\n",
        "gt_array = []\n",
        "for i in range(0,len(gt)):\n",
        "  array = create_array(gt[i][2])\n",
        "  a = pd.DataFrame(array)\n",
        "  a = a.T\n",
        "  a.columns=['T1', 'T2', 'T3']\n",
        "  gt_array.append(a)\n",
        "\n",
        "y = pd.concat(gt_array)\n",
        "y_train = np.asarray(y.astype(float))\n"
      ]
    },
    {
      "cell_type": "code",
      "execution_count": null,
      "metadata": {
        "colab": {
          "base_uri": "https://localhost:8080/",
          "height": 423
        },
        "id": "w5OwAttZbbCN",
        "outputId": "90b0d3aa-8cc1-4741-a591-bda766ff963b"
      },
      "outputs": [
        {
          "output_type": "execute_result",
          "data": {
            "text/plain": [
              "     T1   T2   T3\n",
              "0   1.0  0.0  0.0\n",
              "0   0.0  0.0  1.0\n",
              "0   1.0  0.0  0.0\n",
              "0   0.0  1.0  0.0\n",
              "0   1.0  0.0  0.0\n",
              "..  ...  ...  ...\n",
              "0   1.0  0.0  0.0\n",
              "0   0.0  0.0  1.0\n",
              "0   1.0  0.0  0.0\n",
              "0   0.0  1.0  0.0\n",
              "0   1.0  0.0  0.0\n",
              "\n",
              "[9326 rows x 3 columns]"
            ],
            "text/html": [
              "\n",
              "  <div id=\"df-dbb9850d-f67d-4592-a5d0-65f63c43c08d\" class=\"colab-df-container\">\n",
              "    <div>\n",
              "<style scoped>\n",
              "    .dataframe tbody tr th:only-of-type {\n",
              "        vertical-align: middle;\n",
              "    }\n",
              "\n",
              "    .dataframe tbody tr th {\n",
              "        vertical-align: top;\n",
              "    }\n",
              "\n",
              "    .dataframe thead th {\n",
              "        text-align: right;\n",
              "    }\n",
              "</style>\n",
              "<table border=\"1\" class=\"dataframe\">\n",
              "  <thead>\n",
              "    <tr style=\"text-align: right;\">\n",
              "      <th></th>\n",
              "      <th>T1</th>\n",
              "      <th>T2</th>\n",
              "      <th>T3</th>\n",
              "    </tr>\n",
              "  </thead>\n",
              "  <tbody>\n",
              "    <tr>\n",
              "      <th>0</th>\n",
              "      <td>1.0</td>\n",
              "      <td>0.0</td>\n",
              "      <td>0.0</td>\n",
              "    </tr>\n",
              "    <tr>\n",
              "      <th>0</th>\n",
              "      <td>0.0</td>\n",
              "      <td>0.0</td>\n",
              "      <td>1.0</td>\n",
              "    </tr>\n",
              "    <tr>\n",
              "      <th>0</th>\n",
              "      <td>1.0</td>\n",
              "      <td>0.0</td>\n",
              "      <td>0.0</td>\n",
              "    </tr>\n",
              "    <tr>\n",
              "      <th>0</th>\n",
              "      <td>0.0</td>\n",
              "      <td>1.0</td>\n",
              "      <td>0.0</td>\n",
              "    </tr>\n",
              "    <tr>\n",
              "      <th>0</th>\n",
              "      <td>1.0</td>\n",
              "      <td>0.0</td>\n",
              "      <td>0.0</td>\n",
              "    </tr>\n",
              "    <tr>\n",
              "      <th>...</th>\n",
              "      <td>...</td>\n",
              "      <td>...</td>\n",
              "      <td>...</td>\n",
              "    </tr>\n",
              "    <tr>\n",
              "      <th>0</th>\n",
              "      <td>1.0</td>\n",
              "      <td>0.0</td>\n",
              "      <td>0.0</td>\n",
              "    </tr>\n",
              "    <tr>\n",
              "      <th>0</th>\n",
              "      <td>0.0</td>\n",
              "      <td>0.0</td>\n",
              "      <td>1.0</td>\n",
              "    </tr>\n",
              "    <tr>\n",
              "      <th>0</th>\n",
              "      <td>1.0</td>\n",
              "      <td>0.0</td>\n",
              "      <td>0.0</td>\n",
              "    </tr>\n",
              "    <tr>\n",
              "      <th>0</th>\n",
              "      <td>0.0</td>\n",
              "      <td>1.0</td>\n",
              "      <td>0.0</td>\n",
              "    </tr>\n",
              "    <tr>\n",
              "      <th>0</th>\n",
              "      <td>1.0</td>\n",
              "      <td>0.0</td>\n",
              "      <td>0.0</td>\n",
              "    </tr>\n",
              "  </tbody>\n",
              "</table>\n",
              "<p>9326 rows × 3 columns</p>\n",
              "</div>\n",
              "    <div class=\"colab-df-buttons\">\n",
              "\n",
              "  <div class=\"colab-df-container\">\n",
              "    <button class=\"colab-df-convert\" onclick=\"convertToInteractive('df-dbb9850d-f67d-4592-a5d0-65f63c43c08d')\"\n",
              "            title=\"Convert this dataframe to an interactive table.\"\n",
              "            style=\"display:none;\">\n",
              "\n",
              "  <svg xmlns=\"http://www.w3.org/2000/svg\" height=\"24px\" viewBox=\"0 -960 960 960\">\n",
              "    <path d=\"M120-120v-720h720v720H120Zm60-500h600v-160H180v160Zm220 220h160v-160H400v160Zm0 220h160v-160H400v160ZM180-400h160v-160H180v160Zm440 0h160v-160H620v160ZM180-180h160v-160H180v160Zm440 0h160v-160H620v160Z\"/>\n",
              "  </svg>\n",
              "    </button>\n",
              "\n",
              "  <style>\n",
              "    .colab-df-container {\n",
              "      display:flex;\n",
              "      gap: 12px;\n",
              "    }\n",
              "\n",
              "    .colab-df-convert {\n",
              "      background-color: #E8F0FE;\n",
              "      border: none;\n",
              "      border-radius: 50%;\n",
              "      cursor: pointer;\n",
              "      display: none;\n",
              "      fill: #1967D2;\n",
              "      height: 32px;\n",
              "      padding: 0 0 0 0;\n",
              "      width: 32px;\n",
              "    }\n",
              "\n",
              "    .colab-df-convert:hover {\n",
              "      background-color: #E2EBFA;\n",
              "      box-shadow: 0px 1px 2px rgba(60, 64, 67, 0.3), 0px 1px 3px 1px rgba(60, 64, 67, 0.15);\n",
              "      fill: #174EA6;\n",
              "    }\n",
              "\n",
              "    .colab-df-buttons div {\n",
              "      margin-bottom: 4px;\n",
              "    }\n",
              "\n",
              "    [theme=dark] .colab-df-convert {\n",
              "      background-color: #3B4455;\n",
              "      fill: #D2E3FC;\n",
              "    }\n",
              "\n",
              "    [theme=dark] .colab-df-convert:hover {\n",
              "      background-color: #434B5C;\n",
              "      box-shadow: 0px 1px 3px 1px rgba(0, 0, 0, 0.15);\n",
              "      filter: drop-shadow(0px 1px 2px rgba(0, 0, 0, 0.3));\n",
              "      fill: #FFFFFF;\n",
              "    }\n",
              "  </style>\n",
              "\n",
              "    <script>\n",
              "      const buttonEl =\n",
              "        document.querySelector('#df-dbb9850d-f67d-4592-a5d0-65f63c43c08d button.colab-df-convert');\n",
              "      buttonEl.style.display =\n",
              "        google.colab.kernel.accessAllowed ? 'block' : 'none';\n",
              "\n",
              "      async function convertToInteractive(key) {\n",
              "        const element = document.querySelector('#df-dbb9850d-f67d-4592-a5d0-65f63c43c08d');\n",
              "        const dataTable =\n",
              "          await google.colab.kernel.invokeFunction('convertToInteractive',\n",
              "                                                    [key], {});\n",
              "        if (!dataTable) return;\n",
              "\n",
              "        const docLinkHtml = 'Like what you see? Visit the ' +\n",
              "          '<a target=\"_blank\" href=https://colab.research.google.com/notebooks/data_table.ipynb>data table notebook</a>'\n",
              "          + ' to learn more about interactive tables.';\n",
              "        element.innerHTML = '';\n",
              "        dataTable['output_type'] = 'display_data';\n",
              "        await google.colab.output.renderOutput(dataTable, element);\n",
              "        const docLink = document.createElement('div');\n",
              "        docLink.innerHTML = docLinkHtml;\n",
              "        element.appendChild(docLink);\n",
              "      }\n",
              "    </script>\n",
              "  </div>\n",
              "\n",
              "\n",
              "<div id=\"df-9502d210-54db-4390-9aba-4d2014fea1eb\">\n",
              "  <button class=\"colab-df-quickchart\" onclick=\"quickchart('df-9502d210-54db-4390-9aba-4d2014fea1eb')\"\n",
              "            title=\"Suggest charts.\"\n",
              "            style=\"display:none;\">\n",
              "\n",
              "<svg xmlns=\"http://www.w3.org/2000/svg\" height=\"24px\"viewBox=\"0 0 24 24\"\n",
              "     width=\"24px\">\n",
              "    <g>\n",
              "        <path d=\"M19 3H5c-1.1 0-2 .9-2 2v14c0 1.1.9 2 2 2h14c1.1 0 2-.9 2-2V5c0-1.1-.9-2-2-2zM9 17H7v-7h2v7zm4 0h-2V7h2v10zm4 0h-2v-4h2v4z\"/>\n",
              "    </g>\n",
              "</svg>\n",
              "  </button>\n",
              "\n",
              "<style>\n",
              "  .colab-df-quickchart {\n",
              "      --bg-color: #E8F0FE;\n",
              "      --fill-color: #1967D2;\n",
              "      --hover-bg-color: #E2EBFA;\n",
              "      --hover-fill-color: #174EA6;\n",
              "      --disabled-fill-color: #AAA;\n",
              "      --disabled-bg-color: #DDD;\n",
              "  }\n",
              "\n",
              "  [theme=dark] .colab-df-quickchart {\n",
              "      --bg-color: #3B4455;\n",
              "      --fill-color: #D2E3FC;\n",
              "      --hover-bg-color: #434B5C;\n",
              "      --hover-fill-color: #FFFFFF;\n",
              "      --disabled-bg-color: #3B4455;\n",
              "      --disabled-fill-color: #666;\n",
              "  }\n",
              "\n",
              "  .colab-df-quickchart {\n",
              "    background-color: var(--bg-color);\n",
              "    border: none;\n",
              "    border-radius: 50%;\n",
              "    cursor: pointer;\n",
              "    display: none;\n",
              "    fill: var(--fill-color);\n",
              "    height: 32px;\n",
              "    padding: 0;\n",
              "    width: 32px;\n",
              "  }\n",
              "\n",
              "  .colab-df-quickchart:hover {\n",
              "    background-color: var(--hover-bg-color);\n",
              "    box-shadow: 0 1px 2px rgba(60, 64, 67, 0.3), 0 1px 3px 1px rgba(60, 64, 67, 0.15);\n",
              "    fill: var(--button-hover-fill-color);\n",
              "  }\n",
              "\n",
              "  .colab-df-quickchart-complete:disabled,\n",
              "  .colab-df-quickchart-complete:disabled:hover {\n",
              "    background-color: var(--disabled-bg-color);\n",
              "    fill: var(--disabled-fill-color);\n",
              "    box-shadow: none;\n",
              "  }\n",
              "\n",
              "  .colab-df-spinner {\n",
              "    border: 2px solid var(--fill-color);\n",
              "    border-color: transparent;\n",
              "    border-bottom-color: var(--fill-color);\n",
              "    animation:\n",
              "      spin 1s steps(1) infinite;\n",
              "  }\n",
              "\n",
              "  @keyframes spin {\n",
              "    0% {\n",
              "      border-color: transparent;\n",
              "      border-bottom-color: var(--fill-color);\n",
              "      border-left-color: var(--fill-color);\n",
              "    }\n",
              "    20% {\n",
              "      border-color: transparent;\n",
              "      border-left-color: var(--fill-color);\n",
              "      border-top-color: var(--fill-color);\n",
              "    }\n",
              "    30% {\n",
              "      border-color: transparent;\n",
              "      border-left-color: var(--fill-color);\n",
              "      border-top-color: var(--fill-color);\n",
              "      border-right-color: var(--fill-color);\n",
              "    }\n",
              "    40% {\n",
              "      border-color: transparent;\n",
              "      border-right-color: var(--fill-color);\n",
              "      border-top-color: var(--fill-color);\n",
              "    }\n",
              "    60% {\n",
              "      border-color: transparent;\n",
              "      border-right-color: var(--fill-color);\n",
              "    }\n",
              "    80% {\n",
              "      border-color: transparent;\n",
              "      border-right-color: var(--fill-color);\n",
              "      border-bottom-color: var(--fill-color);\n",
              "    }\n",
              "    90% {\n",
              "      border-color: transparent;\n",
              "      border-bottom-color: var(--fill-color);\n",
              "    }\n",
              "  }\n",
              "</style>\n",
              "\n",
              "  <script>\n",
              "    async function quickchart(key) {\n",
              "      const quickchartButtonEl =\n",
              "        document.querySelector('#' + key + ' button');\n",
              "      quickchartButtonEl.disabled = true;  // To prevent multiple clicks.\n",
              "      quickchartButtonEl.classList.add('colab-df-spinner');\n",
              "      try {\n",
              "        const charts = await google.colab.kernel.invokeFunction(\n",
              "            'suggestCharts', [key], {});\n",
              "      } catch (error) {\n",
              "        console.error('Error during call to suggestCharts:', error);\n",
              "      }\n",
              "      quickchartButtonEl.classList.remove('colab-df-spinner');\n",
              "      quickchartButtonEl.classList.add('colab-df-quickchart-complete');\n",
              "    }\n",
              "    (() => {\n",
              "      let quickchartButtonEl =\n",
              "        document.querySelector('#df-9502d210-54db-4390-9aba-4d2014fea1eb button');\n",
              "      quickchartButtonEl.style.display =\n",
              "        google.colab.kernel.accessAllowed ? 'block' : 'none';\n",
              "    })();\n",
              "  </script>\n",
              "</div>\n",
              "    </div>\n",
              "  </div>\n"
            ]
          },
          "metadata": {},
          "execution_count": 7
        }
      ],
      "source": [
        "y"
      ]
    },
    {
      "cell_type": "code",
      "execution_count": null,
      "metadata": {
        "colab": {
          "base_uri": "https://localhost:8080/",
          "height": 443
        },
        "id": "-gDinSmoGz6L",
        "outputId": "28e5b5f1-fd1f-45f8-97c0-e4e5962fb3f8"
      },
      "outputs": [
        {
          "output_type": "execute_result",
          "data": {
            "text/plain": [
              "          FC5       FC3       FC1       FCZ       FC2       FC4       FC6  \\\n",
              "0    0.000087  0.000067  0.000068  0.000068  0.000067  0.000068  0.000075   \n",
              "1   -0.000064 -0.000068 -0.000073 -0.000073 -0.000075 -0.000077 -0.000060   \n",
              "2    0.000007  0.000020  0.000022  0.000021  0.000022  0.000026  0.000041   \n",
              "3    0.000060  0.000057  0.000054  0.000048  0.000046  0.000042  0.000041   \n",
              "4   -0.000042 -0.000048 -0.000051 -0.000058 -0.000058 -0.000066 -0.000070   \n",
              "..        ...       ...       ...       ...       ...       ...       ...   \n",
              "635 -0.000158 -0.000030 -0.000025  0.000341 -0.000002  0.000166  0.000027   \n",
              "636 -0.000110  0.000010  0.000018  0.000380  0.000037  0.000206  0.000067   \n",
              "637 -0.000147 -0.000025 -0.000011  0.000358  0.000021  0.000188  0.000035   \n",
              "638 -0.000131  0.000018  0.000031  0.000393  0.000062  0.000213  0.000054   \n",
              "639 -0.000058  0.000060  0.000049  0.000396  0.000056  0.000195  0.000056   \n",
              "\n",
              "           C5        C3        C1  ...        P8       PO7       PO3  \\\n",
              "0    0.000064  0.000039  0.000056  ... -0.000038 -0.000045 -0.000053   \n",
              "1   -0.000085 -0.000099 -0.000081  ... -0.000026 -0.000029 -0.000027   \n",
              "2    0.000030  0.000012  0.000041  ...  0.000048  0.000036  0.000035   \n",
              "3    0.000031  0.000013  0.000035  ... -0.000084 -0.000082 -0.000090   \n",
              "4   -0.000044 -0.000062 -0.000043  ...  0.000039  0.000039  0.000039   \n",
              "..        ...       ...       ...  ...       ...       ...       ...   \n",
              "635  0.000113 -0.000063  0.000207  ...  0.000361  0.000242  0.000126   \n",
              "636  0.000136 -0.000026  0.000254  ...  0.000371  0.000243  0.000083   \n",
              "637  0.000090 -0.000063  0.000225  ...  0.000374  0.000232  0.000095   \n",
              "638  0.000118 -0.000020  0.000273  ...  0.000398  0.000264  0.000120   \n",
              "639  0.000152 -0.000003  0.000258  ...  0.000351  0.000238  0.000084   \n",
              "\n",
              "          POZ       PO4       PO8        O1        OZ        O2   IZ  \n",
              "0   -0.000053 -0.000059 -0.000112 -0.000073 -0.000068 -0.000069  0.0  \n",
              "1   -0.000011 -0.000023 -0.000092 -0.000031 -0.000023 -0.000026  0.0  \n",
              "2    0.000045  0.000030 -0.000053  0.000012  0.000020  0.000011  0.0  \n",
              "3   -0.000083 -0.000099 -0.000152 -0.000105 -0.000099 -0.000105  0.0  \n",
              "4    0.000053  0.000045 -0.000042  0.000038  0.000041  0.000044  0.0  \n",
              "..        ...       ...       ...       ...       ...       ...  ...  \n",
              "635 -0.000036  0.000018  0.000211  0.000080 -0.000002  0.000026  0.0  \n",
              "636 -0.000073 -0.000006  0.000166  0.000041 -0.000039 -0.000026  0.0  \n",
              "637 -0.000044  0.000040  0.000200  0.000061 -0.000003  0.000018  0.0  \n",
              "638 -0.000036  0.000050  0.000210  0.000089  0.000022  0.000035  0.0  \n",
              "639 -0.000071 -0.000013  0.000179  0.000058 -0.000024 -0.000011  0.0  \n",
              "\n",
              "[5968640 rows x 64 columns]"
            ],
            "text/html": [
              "\n",
              "  <div id=\"df-982385d2-cac0-4278-a17e-fe4955ec95ef\" class=\"colab-df-container\">\n",
              "    <div>\n",
              "<style scoped>\n",
              "    .dataframe tbody tr th:only-of-type {\n",
              "        vertical-align: middle;\n",
              "    }\n",
              "\n",
              "    .dataframe tbody tr th {\n",
              "        vertical-align: top;\n",
              "    }\n",
              "\n",
              "    .dataframe thead th {\n",
              "        text-align: right;\n",
              "    }\n",
              "</style>\n",
              "<table border=\"1\" class=\"dataframe\">\n",
              "  <thead>\n",
              "    <tr style=\"text-align: right;\">\n",
              "      <th></th>\n",
              "      <th>FC5</th>\n",
              "      <th>FC3</th>\n",
              "      <th>FC1</th>\n",
              "      <th>FCZ</th>\n",
              "      <th>FC2</th>\n",
              "      <th>FC4</th>\n",
              "      <th>FC6</th>\n",
              "      <th>C5</th>\n",
              "      <th>C3</th>\n",
              "      <th>C1</th>\n",
              "      <th>...</th>\n",
              "      <th>P8</th>\n",
              "      <th>PO7</th>\n",
              "      <th>PO3</th>\n",
              "      <th>POZ</th>\n",
              "      <th>PO4</th>\n",
              "      <th>PO8</th>\n",
              "      <th>O1</th>\n",
              "      <th>OZ</th>\n",
              "      <th>O2</th>\n",
              "      <th>IZ</th>\n",
              "    </tr>\n",
              "  </thead>\n",
              "  <tbody>\n",
              "    <tr>\n",
              "      <th>0</th>\n",
              "      <td>0.000087</td>\n",
              "      <td>0.000067</td>\n",
              "      <td>0.000068</td>\n",
              "      <td>0.000068</td>\n",
              "      <td>0.000067</td>\n",
              "      <td>0.000068</td>\n",
              "      <td>0.000075</td>\n",
              "      <td>0.000064</td>\n",
              "      <td>0.000039</td>\n",
              "      <td>0.000056</td>\n",
              "      <td>...</td>\n",
              "      <td>-0.000038</td>\n",
              "      <td>-0.000045</td>\n",
              "      <td>-0.000053</td>\n",
              "      <td>-0.000053</td>\n",
              "      <td>-0.000059</td>\n",
              "      <td>-0.000112</td>\n",
              "      <td>-0.000073</td>\n",
              "      <td>-0.000068</td>\n",
              "      <td>-0.000069</td>\n",
              "      <td>0.0</td>\n",
              "    </tr>\n",
              "    <tr>\n",
              "      <th>1</th>\n",
              "      <td>-0.000064</td>\n",
              "      <td>-0.000068</td>\n",
              "      <td>-0.000073</td>\n",
              "      <td>-0.000073</td>\n",
              "      <td>-0.000075</td>\n",
              "      <td>-0.000077</td>\n",
              "      <td>-0.000060</td>\n",
              "      <td>-0.000085</td>\n",
              "      <td>-0.000099</td>\n",
              "      <td>-0.000081</td>\n",
              "      <td>...</td>\n",
              "      <td>-0.000026</td>\n",
              "      <td>-0.000029</td>\n",
              "      <td>-0.000027</td>\n",
              "      <td>-0.000011</td>\n",
              "      <td>-0.000023</td>\n",
              "      <td>-0.000092</td>\n",
              "      <td>-0.000031</td>\n",
              "      <td>-0.000023</td>\n",
              "      <td>-0.000026</td>\n",
              "      <td>0.0</td>\n",
              "    </tr>\n",
              "    <tr>\n",
              "      <th>2</th>\n",
              "      <td>0.000007</td>\n",
              "      <td>0.000020</td>\n",
              "      <td>0.000022</td>\n",
              "      <td>0.000021</td>\n",
              "      <td>0.000022</td>\n",
              "      <td>0.000026</td>\n",
              "      <td>0.000041</td>\n",
              "      <td>0.000030</td>\n",
              "      <td>0.000012</td>\n",
              "      <td>0.000041</td>\n",
              "      <td>...</td>\n",
              "      <td>0.000048</td>\n",
              "      <td>0.000036</td>\n",
              "      <td>0.000035</td>\n",
              "      <td>0.000045</td>\n",
              "      <td>0.000030</td>\n",
              "      <td>-0.000053</td>\n",
              "      <td>0.000012</td>\n",
              "      <td>0.000020</td>\n",
              "      <td>0.000011</td>\n",
              "      <td>0.0</td>\n",
              "    </tr>\n",
              "    <tr>\n",
              "      <th>3</th>\n",
              "      <td>0.000060</td>\n",
              "      <td>0.000057</td>\n",
              "      <td>0.000054</td>\n",
              "      <td>0.000048</td>\n",
              "      <td>0.000046</td>\n",
              "      <td>0.000042</td>\n",
              "      <td>0.000041</td>\n",
              "      <td>0.000031</td>\n",
              "      <td>0.000013</td>\n",
              "      <td>0.000035</td>\n",
              "      <td>...</td>\n",
              "      <td>-0.000084</td>\n",
              "      <td>-0.000082</td>\n",
              "      <td>-0.000090</td>\n",
              "      <td>-0.000083</td>\n",
              "      <td>-0.000099</td>\n",
              "      <td>-0.000152</td>\n",
              "      <td>-0.000105</td>\n",
              "      <td>-0.000099</td>\n",
              "      <td>-0.000105</td>\n",
              "      <td>0.0</td>\n",
              "    </tr>\n",
              "    <tr>\n",
              "      <th>4</th>\n",
              "      <td>-0.000042</td>\n",
              "      <td>-0.000048</td>\n",
              "      <td>-0.000051</td>\n",
              "      <td>-0.000058</td>\n",
              "      <td>-0.000058</td>\n",
              "      <td>-0.000066</td>\n",
              "      <td>-0.000070</td>\n",
              "      <td>-0.000044</td>\n",
              "      <td>-0.000062</td>\n",
              "      <td>-0.000043</td>\n",
              "      <td>...</td>\n",
              "      <td>0.000039</td>\n",
              "      <td>0.000039</td>\n",
              "      <td>0.000039</td>\n",
              "      <td>0.000053</td>\n",
              "      <td>0.000045</td>\n",
              "      <td>-0.000042</td>\n",
              "      <td>0.000038</td>\n",
              "      <td>0.000041</td>\n",
              "      <td>0.000044</td>\n",
              "      <td>0.0</td>\n",
              "    </tr>\n",
              "    <tr>\n",
              "      <th>...</th>\n",
              "      <td>...</td>\n",
              "      <td>...</td>\n",
              "      <td>...</td>\n",
              "      <td>...</td>\n",
              "      <td>...</td>\n",
              "      <td>...</td>\n",
              "      <td>...</td>\n",
              "      <td>...</td>\n",
              "      <td>...</td>\n",
              "      <td>...</td>\n",
              "      <td>...</td>\n",
              "      <td>...</td>\n",
              "      <td>...</td>\n",
              "      <td>...</td>\n",
              "      <td>...</td>\n",
              "      <td>...</td>\n",
              "      <td>...</td>\n",
              "      <td>...</td>\n",
              "      <td>...</td>\n",
              "      <td>...</td>\n",
              "      <td>...</td>\n",
              "    </tr>\n",
              "    <tr>\n",
              "      <th>635</th>\n",
              "      <td>-0.000158</td>\n",
              "      <td>-0.000030</td>\n",
              "      <td>-0.000025</td>\n",
              "      <td>0.000341</td>\n",
              "      <td>-0.000002</td>\n",
              "      <td>0.000166</td>\n",
              "      <td>0.000027</td>\n",
              "      <td>0.000113</td>\n",
              "      <td>-0.000063</td>\n",
              "      <td>0.000207</td>\n",
              "      <td>...</td>\n",
              "      <td>0.000361</td>\n",
              "      <td>0.000242</td>\n",
              "      <td>0.000126</td>\n",
              "      <td>-0.000036</td>\n",
              "      <td>0.000018</td>\n",
              "      <td>0.000211</td>\n",
              "      <td>0.000080</td>\n",
              "      <td>-0.000002</td>\n",
              "      <td>0.000026</td>\n",
              "      <td>0.0</td>\n",
              "    </tr>\n",
              "    <tr>\n",
              "      <th>636</th>\n",
              "      <td>-0.000110</td>\n",
              "      <td>0.000010</td>\n",
              "      <td>0.000018</td>\n",
              "      <td>0.000380</td>\n",
              "      <td>0.000037</td>\n",
              "      <td>0.000206</td>\n",
              "      <td>0.000067</td>\n",
              "      <td>0.000136</td>\n",
              "      <td>-0.000026</td>\n",
              "      <td>0.000254</td>\n",
              "      <td>...</td>\n",
              "      <td>0.000371</td>\n",
              "      <td>0.000243</td>\n",
              "      <td>0.000083</td>\n",
              "      <td>-0.000073</td>\n",
              "      <td>-0.000006</td>\n",
              "      <td>0.000166</td>\n",
              "      <td>0.000041</td>\n",
              "      <td>-0.000039</td>\n",
              "      <td>-0.000026</td>\n",
              "      <td>0.0</td>\n",
              "    </tr>\n",
              "    <tr>\n",
              "      <th>637</th>\n",
              "      <td>-0.000147</td>\n",
              "      <td>-0.000025</td>\n",
              "      <td>-0.000011</td>\n",
              "      <td>0.000358</td>\n",
              "      <td>0.000021</td>\n",
              "      <td>0.000188</td>\n",
              "      <td>0.000035</td>\n",
              "      <td>0.000090</td>\n",
              "      <td>-0.000063</td>\n",
              "      <td>0.000225</td>\n",
              "      <td>...</td>\n",
              "      <td>0.000374</td>\n",
              "      <td>0.000232</td>\n",
              "      <td>0.000095</td>\n",
              "      <td>-0.000044</td>\n",
              "      <td>0.000040</td>\n",
              "      <td>0.000200</td>\n",
              "      <td>0.000061</td>\n",
              "      <td>-0.000003</td>\n",
              "      <td>0.000018</td>\n",
              "      <td>0.0</td>\n",
              "    </tr>\n",
              "    <tr>\n",
              "      <th>638</th>\n",
              "      <td>-0.000131</td>\n",
              "      <td>0.000018</td>\n",
              "      <td>0.000031</td>\n",
              "      <td>0.000393</td>\n",
              "      <td>0.000062</td>\n",
              "      <td>0.000213</td>\n",
              "      <td>0.000054</td>\n",
              "      <td>0.000118</td>\n",
              "      <td>-0.000020</td>\n",
              "      <td>0.000273</td>\n",
              "      <td>...</td>\n",
              "      <td>0.000398</td>\n",
              "      <td>0.000264</td>\n",
              "      <td>0.000120</td>\n",
              "      <td>-0.000036</td>\n",
              "      <td>0.000050</td>\n",
              "      <td>0.000210</td>\n",
              "      <td>0.000089</td>\n",
              "      <td>0.000022</td>\n",
              "      <td>0.000035</td>\n",
              "      <td>0.0</td>\n",
              "    </tr>\n",
              "    <tr>\n",
              "      <th>639</th>\n",
              "      <td>-0.000058</td>\n",
              "      <td>0.000060</td>\n",
              "      <td>0.000049</td>\n",
              "      <td>0.000396</td>\n",
              "      <td>0.000056</td>\n",
              "      <td>0.000195</td>\n",
              "      <td>0.000056</td>\n",
              "      <td>0.000152</td>\n",
              "      <td>-0.000003</td>\n",
              "      <td>0.000258</td>\n",
              "      <td>...</td>\n",
              "      <td>0.000351</td>\n",
              "      <td>0.000238</td>\n",
              "      <td>0.000084</td>\n",
              "      <td>-0.000071</td>\n",
              "      <td>-0.000013</td>\n",
              "      <td>0.000179</td>\n",
              "      <td>0.000058</td>\n",
              "      <td>-0.000024</td>\n",
              "      <td>-0.000011</td>\n",
              "      <td>0.0</td>\n",
              "    </tr>\n",
              "  </tbody>\n",
              "</table>\n",
              "<p>5968640 rows × 64 columns</p>\n",
              "</div>\n",
              "    <div class=\"colab-df-buttons\">\n",
              "\n",
              "  <div class=\"colab-df-container\">\n",
              "    <button class=\"colab-df-convert\" onclick=\"convertToInteractive('df-982385d2-cac0-4278-a17e-fe4955ec95ef')\"\n",
              "            title=\"Convert this dataframe to an interactive table.\"\n",
              "            style=\"display:none;\">\n",
              "\n",
              "  <svg xmlns=\"http://www.w3.org/2000/svg\" height=\"24px\" viewBox=\"0 -960 960 960\">\n",
              "    <path d=\"M120-120v-720h720v720H120Zm60-500h600v-160H180v160Zm220 220h160v-160H400v160Zm0 220h160v-160H400v160ZM180-400h160v-160H180v160Zm440 0h160v-160H620v160ZM180-180h160v-160H180v160Zm440 0h160v-160H620v160Z\"/>\n",
              "  </svg>\n",
              "    </button>\n",
              "\n",
              "  <style>\n",
              "    .colab-df-container {\n",
              "      display:flex;\n",
              "      gap: 12px;\n",
              "    }\n",
              "\n",
              "    .colab-df-convert {\n",
              "      background-color: #E8F0FE;\n",
              "      border: none;\n",
              "      border-radius: 50%;\n",
              "      cursor: pointer;\n",
              "      display: none;\n",
              "      fill: #1967D2;\n",
              "      height: 32px;\n",
              "      padding: 0 0 0 0;\n",
              "      width: 32px;\n",
              "    }\n",
              "\n",
              "    .colab-df-convert:hover {\n",
              "      background-color: #E2EBFA;\n",
              "      box-shadow: 0px 1px 2px rgba(60, 64, 67, 0.3), 0px 1px 3px 1px rgba(60, 64, 67, 0.15);\n",
              "      fill: #174EA6;\n",
              "    }\n",
              "\n",
              "    .colab-df-buttons div {\n",
              "      margin-bottom: 4px;\n",
              "    }\n",
              "\n",
              "    [theme=dark] .colab-df-convert {\n",
              "      background-color: #3B4455;\n",
              "      fill: #D2E3FC;\n",
              "    }\n",
              "\n",
              "    [theme=dark] .colab-df-convert:hover {\n",
              "      background-color: #434B5C;\n",
              "      box-shadow: 0px 1px 3px 1px rgba(0, 0, 0, 0.15);\n",
              "      filter: drop-shadow(0px 1px 2px rgba(0, 0, 0, 0.3));\n",
              "      fill: #FFFFFF;\n",
              "    }\n",
              "  </style>\n",
              "\n",
              "    <script>\n",
              "      const buttonEl =\n",
              "        document.querySelector('#df-982385d2-cac0-4278-a17e-fe4955ec95ef button.colab-df-convert');\n",
              "      buttonEl.style.display =\n",
              "        google.colab.kernel.accessAllowed ? 'block' : 'none';\n",
              "\n",
              "      async function convertToInteractive(key) {\n",
              "        const element = document.querySelector('#df-982385d2-cac0-4278-a17e-fe4955ec95ef');\n",
              "        const dataTable =\n",
              "          await google.colab.kernel.invokeFunction('convertToInteractive',\n",
              "                                                    [key], {});\n",
              "        if (!dataTable) return;\n",
              "\n",
              "        const docLinkHtml = 'Like what you see? Visit the ' +\n",
              "          '<a target=\"_blank\" href=https://colab.research.google.com/notebooks/data_table.ipynb>data table notebook</a>'\n",
              "          + ' to learn more about interactive tables.';\n",
              "        element.innerHTML = '';\n",
              "        dataTable['output_type'] = 'display_data';\n",
              "        await google.colab.output.renderOutput(dataTable, element);\n",
              "        const docLink = document.createElement('div');\n",
              "        docLink.innerHTML = docLinkHtml;\n",
              "        element.appendChild(docLink);\n",
              "      }\n",
              "    </script>\n",
              "  </div>\n",
              "\n",
              "\n",
              "<div id=\"df-aa03c315-2203-4e2b-81f9-5df7c2e440f4\">\n",
              "  <button class=\"colab-df-quickchart\" onclick=\"quickchart('df-aa03c315-2203-4e2b-81f9-5df7c2e440f4')\"\n",
              "            title=\"Suggest charts.\"\n",
              "            style=\"display:none;\">\n",
              "\n",
              "<svg xmlns=\"http://www.w3.org/2000/svg\" height=\"24px\"viewBox=\"0 0 24 24\"\n",
              "     width=\"24px\">\n",
              "    <g>\n",
              "        <path d=\"M19 3H5c-1.1 0-2 .9-2 2v14c0 1.1.9 2 2 2h14c1.1 0 2-.9 2-2V5c0-1.1-.9-2-2-2zM9 17H7v-7h2v7zm4 0h-2V7h2v10zm4 0h-2v-4h2v4z\"/>\n",
              "    </g>\n",
              "</svg>\n",
              "  </button>\n",
              "\n",
              "<style>\n",
              "  .colab-df-quickchart {\n",
              "      --bg-color: #E8F0FE;\n",
              "      --fill-color: #1967D2;\n",
              "      --hover-bg-color: #E2EBFA;\n",
              "      --hover-fill-color: #174EA6;\n",
              "      --disabled-fill-color: #AAA;\n",
              "      --disabled-bg-color: #DDD;\n",
              "  }\n",
              "\n",
              "  [theme=dark] .colab-df-quickchart {\n",
              "      --bg-color: #3B4455;\n",
              "      --fill-color: #D2E3FC;\n",
              "      --hover-bg-color: #434B5C;\n",
              "      --hover-fill-color: #FFFFFF;\n",
              "      --disabled-bg-color: #3B4455;\n",
              "      --disabled-fill-color: #666;\n",
              "  }\n",
              "\n",
              "  .colab-df-quickchart {\n",
              "    background-color: var(--bg-color);\n",
              "    border: none;\n",
              "    border-radius: 50%;\n",
              "    cursor: pointer;\n",
              "    display: none;\n",
              "    fill: var(--fill-color);\n",
              "    height: 32px;\n",
              "    padding: 0;\n",
              "    width: 32px;\n",
              "  }\n",
              "\n",
              "  .colab-df-quickchart:hover {\n",
              "    background-color: var(--hover-bg-color);\n",
              "    box-shadow: 0 1px 2px rgba(60, 64, 67, 0.3), 0 1px 3px 1px rgba(60, 64, 67, 0.15);\n",
              "    fill: var(--button-hover-fill-color);\n",
              "  }\n",
              "\n",
              "  .colab-df-quickchart-complete:disabled,\n",
              "  .colab-df-quickchart-complete:disabled:hover {\n",
              "    background-color: var(--disabled-bg-color);\n",
              "    fill: var(--disabled-fill-color);\n",
              "    box-shadow: none;\n",
              "  }\n",
              "\n",
              "  .colab-df-spinner {\n",
              "    border: 2px solid var(--fill-color);\n",
              "    border-color: transparent;\n",
              "    border-bottom-color: var(--fill-color);\n",
              "    animation:\n",
              "      spin 1s steps(1) infinite;\n",
              "  }\n",
              "\n",
              "  @keyframes spin {\n",
              "    0% {\n",
              "      border-color: transparent;\n",
              "      border-bottom-color: var(--fill-color);\n",
              "      border-left-color: var(--fill-color);\n",
              "    }\n",
              "    20% {\n",
              "      border-color: transparent;\n",
              "      border-left-color: var(--fill-color);\n",
              "      border-top-color: var(--fill-color);\n",
              "    }\n",
              "    30% {\n",
              "      border-color: transparent;\n",
              "      border-left-color: var(--fill-color);\n",
              "      border-top-color: var(--fill-color);\n",
              "      border-right-color: var(--fill-color);\n",
              "    }\n",
              "    40% {\n",
              "      border-color: transparent;\n",
              "      border-right-color: var(--fill-color);\n",
              "      border-top-color: var(--fill-color);\n",
              "    }\n",
              "    60% {\n",
              "      border-color: transparent;\n",
              "      border-right-color: var(--fill-color);\n",
              "    }\n",
              "    80% {\n",
              "      border-color: transparent;\n",
              "      border-right-color: var(--fill-color);\n",
              "      border-bottom-color: var(--fill-color);\n",
              "    }\n",
              "    90% {\n",
              "      border-color: transparent;\n",
              "      border-bottom-color: var(--fill-color);\n",
              "    }\n",
              "  }\n",
              "</style>\n",
              "\n",
              "  <script>\n",
              "    async function quickchart(key) {\n",
              "      const quickchartButtonEl =\n",
              "        document.querySelector('#' + key + ' button');\n",
              "      quickchartButtonEl.disabled = true;  // To prevent multiple clicks.\n",
              "      quickchartButtonEl.classList.add('colab-df-spinner');\n",
              "      try {\n",
              "        const charts = await google.colab.kernel.invokeFunction(\n",
              "            'suggestCharts', [key], {});\n",
              "      } catch (error) {\n",
              "        console.error('Error during call to suggestCharts:', error);\n",
              "      }\n",
              "      quickchartButtonEl.classList.remove('colab-df-spinner');\n",
              "      quickchartButtonEl.classList.add('colab-df-quickchart-complete');\n",
              "    }\n",
              "    (() => {\n",
              "      let quickchartButtonEl =\n",
              "        document.querySelector('#df-aa03c315-2203-4e2b-81f9-5df7c2e440f4 button');\n",
              "      quickchartButtonEl.style.display =\n",
              "        google.colab.kernel.accessAllowed ? 'block' : 'none';\n",
              "    })();\n",
              "  </script>\n",
              "</div>\n",
              "    </div>\n",
              "  </div>\n"
            ]
          },
          "metadata": {},
          "execution_count": 8
        }
      ],
      "source": [
        "X"
      ]
    },
    {
      "cell_type": "code",
      "execution_count": null,
      "metadata": {
        "id": "By76lYvFDZh4"
      },
      "outputs": [],
      "source": [
        "from sklearn.preprocessing import StandardScaler,Normalizer,MinMaxScaler\n",
        "import scipy.signal as signal\n",
        "scaler= StandardScaler()\n",
        "\n",
        "def data_preprocess_train(X):\n",
        "    X_prep=scaler.fit_transform(X)\n",
        "    #do here your preprocessing\n",
        "    return X_prep\n",
        "\n",
        "def madev(d, axis=None):\n",
        "    \"\"\" Mean absolute deviation of a signal \"\"\"\n",
        "    return np.mean(np.absolute(d - np.mean(d, axis)), axis)\n",
        "\n",
        "def wavelet_denoising(x, wavelet='db2', level=3):\n",
        "    coeff = pywt.wavedec(x, wavelet, mode=\"per\")\n",
        "    sigma = (1/0.6745) * madev(coeff[-level])\n",
        "    uthresh = sigma * np.sqrt(2 * np.log(len(x)))\n",
        "    coeff[1:] = (pywt.threshold(i, value=uthresh, mode='hard') for i in coeff[1:])\n",
        "    return pywt.waverec(coeff, wavelet, mode='per')\n",
        "\n",
        "def normalize(x):\n",
        "  # fit scaler on training data\n",
        "  norm = MinMaxScaler().fit(x)\n",
        "  # transform training data\n",
        "  X_train_norm = norm.transform(x)\n",
        "  return X_train_norm\n",
        "\n",
        "def passa_banda(array, cutoff_low, cutoff_high):\n",
        "  \"\"\"\n",
        "  Filtra um array de X linhas e Y colunas com um filtro de passa-banda.\n",
        "\n",
        "  Args:\n",
        "    array: Array a ser filtrado.\n",
        "    cutoff_low: Frequência de corte inferior do filtro.\n",
        "    cutoff_high: Frequência de corte superior do filtro.\n",
        "\n",
        "  Returns:\n",
        "    Array filtrado.\n",
        "  \"\"\"\n",
        "\n",
        "  # Cria um filtro de passa-banda.\n",
        "  filtro = np.zeros((2 * cutoff_high + 1, 2 * cutoff_high + 1))\n",
        "  for i in range(-cutoff_low, cutoff_high + 1):\n",
        "    for j in range(-cutoff_low, cutoff_high + 1):\n",
        "      filtro[i + cutoff_low, j + cutoff_low] = 1\n",
        "  filtro /= filtro.sum()\n",
        "\n",
        "  # Aplica o filtro ao array.\n",
        "  return signal.convolve2d(array, filtro, mode=\"same\")"
      ]
    },
    {
      "cell_type": "code",
      "execution_count": null,
      "metadata": {
        "colab": {
          "base_uri": "https://localhost:8080/"
        },
        "id": "jhA7egT5dIoA",
        "outputId": "69c6cae4-43f5-49df-da14-5820dc6c1d1f"
      },
      "outputs": [
        {
          "output_type": "execute_result",
          "data": {
            "text/plain": [
              "array([[ 8.70000003e-05,  6.70000009e-05,  6.80000012e-05, ...,\n",
              "        -6.80000012e-05, -6.90000015e-05,  0.00000000e+00],\n",
              "       [-6.39999998e-05, -6.80000012e-05, -7.30000029e-05, ...,\n",
              "        -2.30000005e-05, -2.59999997e-05,  0.00000000e+00],\n",
              "       [ 7.00000010e-06,  1.99999995e-05,  2.20000002e-05, ...,\n",
              "         1.99999995e-05,  1.10000001e-05,  0.00000000e+00],\n",
              "       ...,\n",
              "       [-1.46999999e-04, -2.49999994e-05, -1.10000001e-05, ...,\n",
              "        -3.00000011e-06,  1.80000006e-05,  0.00000000e+00],\n",
              "       [-1.30999993e-04,  1.80000006e-05,  3.09999996e-05, ...,\n",
              "         2.20000002e-05,  3.50000009e-05,  0.00000000e+00],\n",
              "       [-5.80000014e-05,  5.99999985e-05,  4.89999984e-05, ...,\n",
              "        -2.40000008e-05, -1.10000001e-05,  0.00000000e+00]])"
            ]
          },
          "metadata": {},
          "execution_count": 10
        }
      ],
      "source": [
        "X_train"
      ]
    },
    {
      "cell_type": "code",
      "execution_count": null,
      "metadata": {
        "colab": {
          "base_uri": "https://localhost:8080/"
        },
        "id": "3Zvq4l1OBJgP",
        "outputId": "843e1b7e-fb54-4498-cc13-cf6ada1194c2"
      },
      "outputs": [
        {
          "output_type": "execute_result",
          "data": {
            "text/plain": [
              "array([[ 1.33077126,  1.03443489,  1.05585816, ..., -1.07148813,\n",
              "        -1.08707238,  0.        ],\n",
              "       [-0.83156493, -0.92287511, -1.00687013, ..., -0.33405763,\n",
              "        -0.37119931,  0.        ],\n",
              "       [ 0.18516268,  0.35300103,  0.38291135, ...,  0.37059817,\n",
              "         0.24478447,  0.        ],\n",
              "       ...,\n",
              "       [-2.02013381, -0.29943561, -0.09985484, ..., -0.00631074,\n",
              "         0.36132195,  0.        ],\n",
              "       [-1.79101202,  0.32400386,  0.51457484, ...,  0.40337287,\n",
              "         0.64434153,  0.        ],\n",
              "       [-0.74564431,  0.93294471,  0.77790183, ..., -0.35044498,\n",
              "        -0.12147616,  0.        ]])"
            ]
          },
          "metadata": {},
          "execution_count": 11
        }
      ],
      "source": [
        "x_train_butter=wavelet_denoising(X_train)\n",
        "x_train_butter=normalize(X_train)\n",
        "#x_train_butter=passa_banda(x_train_butter, 8, 12)\n",
        "x_train=data_preprocess_train(x_train_butter)\n",
        "x_train"
      ]
    },
    {
      "cell_type": "code",
      "execution_count": null,
      "metadata": {
        "colab": {
          "base_uri": "https://localhost:8080/"
        },
        "id": "8HeTKLqYxsOH",
        "outputId": "cce84438-6e2f-4f28-b5f7-1c0fdf383771"
      },
      "outputs": [
        {
          "output_type": "execute_result",
          "data": {
            "text/plain": [
              "7460.0"
            ]
          },
          "metadata": {},
          "execution_count": 12
        }
      ],
      "source": [
        "# x_train.shape\n",
        "a = x_train.shape[0] // 640\n",
        "(a * 0.80) //1"
      ]
    },
    {
      "cell_type": "code",
      "execution_count": null,
      "metadata": {
        "colab": {
          "base_uri": "https://localhost:8080/"
        },
        "id": "ulxQjLAtnKPI",
        "outputId": "575d0135-67df-47cc-c57e-5b4704a0e027"
      },
      "outputs": [
        {
          "output_type": "stream",
          "name": "stdout",
          "text": [
            "(4774400, 64) (596480, 64) (596480, 64)\n"
          ]
        }
      ],
      "source": [
        "# num_medicoes = x_train.shape[0] // 640\n",
        "# num_medicoes_treino = num_medicoes // 2\n",
        "# num_medicoes_validacao = num_medicoes // 4\n",
        "# num_medicoes_teste = num_medicoes // 4\n",
        "\n",
        "num_medicoes = x_train.shape[0] // 640\n",
        "num_medicoes_treino = int((num_medicoes * 0.80) // 1)\n",
        "num_medicoes_validacao = int((num_medicoes * 0.10) // 1)\n",
        "num_medicoes_teste = int((num_medicoes * 0.10) // 1)\n",
        "\n",
        "xtrain = x_train[0:(num_medicoes_treino*640)]\n",
        "xval = x_train[num_medicoes_treino*640:(num_medicoes_treino+num_medicoes_validacao)*640]\n",
        "xtest = x_train[(num_medicoes_treino+num_medicoes_validacao)*640:(num_medicoes_treino+num_medicoes_validacao+num_medicoes_teste)*640]\n",
        "\n",
        "print(xtrain.shape, xval.shape, xtest.shape)"
      ]
    },
    {
      "cell_type": "code",
      "execution_count": null,
      "metadata": {
        "colab": {
          "base_uri": "https://localhost:8080/"
        },
        "id": "Tk1mO_M6Sv-B",
        "outputId": "a790d1f7-24cb-4076-8a41-ba8b09389fcf"
      },
      "outputs": [
        {
          "output_type": "stream",
          "name": "stdout",
          "text": [
            "7460 932 932\n",
            "9324\n"
          ]
        }
      ],
      "source": [
        "print(num_medicoes_treino, num_medicoes_validacao, num_medicoes_teste)\n",
        "print(num_medicoes_treino+num_medicoes_validacao+num_medicoes_teste)"
      ]
    },
    {
      "cell_type": "code",
      "execution_count": null,
      "metadata": {
        "id": "PzIv1EsVxTUU"
      },
      "outputs": [],
      "source": [
        "ytrain = y_train[0:num_medicoes_treino]\n",
        "yval = y_train[num_medicoes_treino:num_medicoes_treino+num_medicoes_validacao]\n",
        "ytest = y_train[num_medicoes_treino+num_medicoes_validacao:num_medicoes_treino+num_medicoes_validacao+num_medicoes_teste]"
      ]
    },
    {
      "cell_type": "code",
      "execution_count": null,
      "metadata": {
        "colab": {
          "base_uri": "https://localhost:8080/"
        },
        "id": "ov1gO65NrrkZ",
        "outputId": "8e1d42cb-0086-46ad-e92b-f2420a4f97cf"
      },
      "outputs": [
        {
          "output_type": "stream",
          "name": "stdout",
          "text": [
            "(7460, 3) (932, 3) (932, 3)\n"
          ]
        }
      ],
      "source": [
        "print(ytrain.shape, yval.shape, ytest.shape)"
      ]
    },
    {
      "cell_type": "code",
      "execution_count": null,
      "metadata": {
        "colab": {
          "base_uri": "https://localhost:8080/"
        },
        "id": "dq6Nx1-Iv59v",
        "outputId": "33b6d87d-e76a-4d98-cd93-86fef9142c46"
      },
      "outputs": [
        {
          "output_type": "execute_result",
          "data": {
            "text/plain": [
              "(596480, 64)"
            ]
          },
          "metadata": {},
          "execution_count": 17
        }
      ],
      "source": [
        "xtest.shape"
      ]
    },
    {
      "cell_type": "code",
      "execution_count": null,
      "metadata": {
        "id": "bIhHrkdhMR_Z"
      },
      "outputs": [],
      "source": [
        "ye = pd.DataFrame(y_train)\n",
        "ye.columns=['T0', 'T1', 'T2']\n",
        "categories = list(ye.columns.values)"
      ]
    },
    {
      "cell_type": "code",
      "execution_count": null,
      "metadata": {
        "colab": {
          "base_uri": "https://localhost:8080/",
          "height": 423
        },
        "id": "40JOVfyWzeUb",
        "outputId": "96c0e7a0-f45b-440c-de09-ed4bc1d84def"
      },
      "outputs": [
        {
          "output_type": "execute_result",
          "data": {
            "text/plain": [
              "       T0   T1   T2\n",
              "0     1.0  0.0  0.0\n",
              "1     0.0  0.0  1.0\n",
              "2     1.0  0.0  0.0\n",
              "3     0.0  1.0  0.0\n",
              "4     1.0  0.0  0.0\n",
              "...   ...  ...  ...\n",
              "9321  1.0  0.0  0.0\n",
              "9322  0.0  0.0  1.0\n",
              "9323  1.0  0.0  0.0\n",
              "9324  0.0  1.0  0.0\n",
              "9325  1.0  0.0  0.0\n",
              "\n",
              "[9326 rows x 3 columns]"
            ],
            "text/html": [
              "\n",
              "  <div id=\"df-5056f3b4-380b-4221-9bed-f5726fd1ee34\" class=\"colab-df-container\">\n",
              "    <div>\n",
              "<style scoped>\n",
              "    .dataframe tbody tr th:only-of-type {\n",
              "        vertical-align: middle;\n",
              "    }\n",
              "\n",
              "    .dataframe tbody tr th {\n",
              "        vertical-align: top;\n",
              "    }\n",
              "\n",
              "    .dataframe thead th {\n",
              "        text-align: right;\n",
              "    }\n",
              "</style>\n",
              "<table border=\"1\" class=\"dataframe\">\n",
              "  <thead>\n",
              "    <tr style=\"text-align: right;\">\n",
              "      <th></th>\n",
              "      <th>T0</th>\n",
              "      <th>T1</th>\n",
              "      <th>T2</th>\n",
              "    </tr>\n",
              "  </thead>\n",
              "  <tbody>\n",
              "    <tr>\n",
              "      <th>0</th>\n",
              "      <td>1.0</td>\n",
              "      <td>0.0</td>\n",
              "      <td>0.0</td>\n",
              "    </tr>\n",
              "    <tr>\n",
              "      <th>1</th>\n",
              "      <td>0.0</td>\n",
              "      <td>0.0</td>\n",
              "      <td>1.0</td>\n",
              "    </tr>\n",
              "    <tr>\n",
              "      <th>2</th>\n",
              "      <td>1.0</td>\n",
              "      <td>0.0</td>\n",
              "      <td>0.0</td>\n",
              "    </tr>\n",
              "    <tr>\n",
              "      <th>3</th>\n",
              "      <td>0.0</td>\n",
              "      <td>1.0</td>\n",
              "      <td>0.0</td>\n",
              "    </tr>\n",
              "    <tr>\n",
              "      <th>4</th>\n",
              "      <td>1.0</td>\n",
              "      <td>0.0</td>\n",
              "      <td>0.0</td>\n",
              "    </tr>\n",
              "    <tr>\n",
              "      <th>...</th>\n",
              "      <td>...</td>\n",
              "      <td>...</td>\n",
              "      <td>...</td>\n",
              "    </tr>\n",
              "    <tr>\n",
              "      <th>9321</th>\n",
              "      <td>1.0</td>\n",
              "      <td>0.0</td>\n",
              "      <td>0.0</td>\n",
              "    </tr>\n",
              "    <tr>\n",
              "      <th>9322</th>\n",
              "      <td>0.0</td>\n",
              "      <td>0.0</td>\n",
              "      <td>1.0</td>\n",
              "    </tr>\n",
              "    <tr>\n",
              "      <th>9323</th>\n",
              "      <td>1.0</td>\n",
              "      <td>0.0</td>\n",
              "      <td>0.0</td>\n",
              "    </tr>\n",
              "    <tr>\n",
              "      <th>9324</th>\n",
              "      <td>0.0</td>\n",
              "      <td>1.0</td>\n",
              "      <td>0.0</td>\n",
              "    </tr>\n",
              "    <tr>\n",
              "      <th>9325</th>\n",
              "      <td>1.0</td>\n",
              "      <td>0.0</td>\n",
              "      <td>0.0</td>\n",
              "    </tr>\n",
              "  </tbody>\n",
              "</table>\n",
              "<p>9326 rows × 3 columns</p>\n",
              "</div>\n",
              "    <div class=\"colab-df-buttons\">\n",
              "\n",
              "  <div class=\"colab-df-container\">\n",
              "    <button class=\"colab-df-convert\" onclick=\"convertToInteractive('df-5056f3b4-380b-4221-9bed-f5726fd1ee34')\"\n",
              "            title=\"Convert this dataframe to an interactive table.\"\n",
              "            style=\"display:none;\">\n",
              "\n",
              "  <svg xmlns=\"http://www.w3.org/2000/svg\" height=\"24px\" viewBox=\"0 -960 960 960\">\n",
              "    <path d=\"M120-120v-720h720v720H120Zm60-500h600v-160H180v160Zm220 220h160v-160H400v160Zm0 220h160v-160H400v160ZM180-400h160v-160H180v160Zm440 0h160v-160H620v160ZM180-180h160v-160H180v160Zm440 0h160v-160H620v160Z\"/>\n",
              "  </svg>\n",
              "    </button>\n",
              "\n",
              "  <style>\n",
              "    .colab-df-container {\n",
              "      display:flex;\n",
              "      gap: 12px;\n",
              "    }\n",
              "\n",
              "    .colab-df-convert {\n",
              "      background-color: #E8F0FE;\n",
              "      border: none;\n",
              "      border-radius: 50%;\n",
              "      cursor: pointer;\n",
              "      display: none;\n",
              "      fill: #1967D2;\n",
              "      height: 32px;\n",
              "      padding: 0 0 0 0;\n",
              "      width: 32px;\n",
              "    }\n",
              "\n",
              "    .colab-df-convert:hover {\n",
              "      background-color: #E2EBFA;\n",
              "      box-shadow: 0px 1px 2px rgba(60, 64, 67, 0.3), 0px 1px 3px 1px rgba(60, 64, 67, 0.15);\n",
              "      fill: #174EA6;\n",
              "    }\n",
              "\n",
              "    .colab-df-buttons div {\n",
              "      margin-bottom: 4px;\n",
              "    }\n",
              "\n",
              "    [theme=dark] .colab-df-convert {\n",
              "      background-color: #3B4455;\n",
              "      fill: #D2E3FC;\n",
              "    }\n",
              "\n",
              "    [theme=dark] .colab-df-convert:hover {\n",
              "      background-color: #434B5C;\n",
              "      box-shadow: 0px 1px 3px 1px rgba(0, 0, 0, 0.15);\n",
              "      filter: drop-shadow(0px 1px 2px rgba(0, 0, 0, 0.3));\n",
              "      fill: #FFFFFF;\n",
              "    }\n",
              "  </style>\n",
              "\n",
              "    <script>\n",
              "      const buttonEl =\n",
              "        document.querySelector('#df-5056f3b4-380b-4221-9bed-f5726fd1ee34 button.colab-df-convert');\n",
              "      buttonEl.style.display =\n",
              "        google.colab.kernel.accessAllowed ? 'block' : 'none';\n",
              "\n",
              "      async function convertToInteractive(key) {\n",
              "        const element = document.querySelector('#df-5056f3b4-380b-4221-9bed-f5726fd1ee34');\n",
              "        const dataTable =\n",
              "          await google.colab.kernel.invokeFunction('convertToInteractive',\n",
              "                                                    [key], {});\n",
              "        if (!dataTable) return;\n",
              "\n",
              "        const docLinkHtml = 'Like what you see? Visit the ' +\n",
              "          '<a target=\"_blank\" href=https://colab.research.google.com/notebooks/data_table.ipynb>data table notebook</a>'\n",
              "          + ' to learn more about interactive tables.';\n",
              "        element.innerHTML = '';\n",
              "        dataTable['output_type'] = 'display_data';\n",
              "        await google.colab.output.renderOutput(dataTable, element);\n",
              "        const docLink = document.createElement('div');\n",
              "        docLink.innerHTML = docLinkHtml;\n",
              "        element.appendChild(docLink);\n",
              "      }\n",
              "    </script>\n",
              "  </div>\n",
              "\n",
              "\n",
              "<div id=\"df-21dd65e7-a8c7-4796-b786-aee618ea4a89\">\n",
              "  <button class=\"colab-df-quickchart\" onclick=\"quickchart('df-21dd65e7-a8c7-4796-b786-aee618ea4a89')\"\n",
              "            title=\"Suggest charts.\"\n",
              "            style=\"display:none;\">\n",
              "\n",
              "<svg xmlns=\"http://www.w3.org/2000/svg\" height=\"24px\"viewBox=\"0 0 24 24\"\n",
              "     width=\"24px\">\n",
              "    <g>\n",
              "        <path d=\"M19 3H5c-1.1 0-2 .9-2 2v14c0 1.1.9 2 2 2h14c1.1 0 2-.9 2-2V5c0-1.1-.9-2-2-2zM9 17H7v-7h2v7zm4 0h-2V7h2v10zm4 0h-2v-4h2v4z\"/>\n",
              "    </g>\n",
              "</svg>\n",
              "  </button>\n",
              "\n",
              "<style>\n",
              "  .colab-df-quickchart {\n",
              "      --bg-color: #E8F0FE;\n",
              "      --fill-color: #1967D2;\n",
              "      --hover-bg-color: #E2EBFA;\n",
              "      --hover-fill-color: #174EA6;\n",
              "      --disabled-fill-color: #AAA;\n",
              "      --disabled-bg-color: #DDD;\n",
              "  }\n",
              "\n",
              "  [theme=dark] .colab-df-quickchart {\n",
              "      --bg-color: #3B4455;\n",
              "      --fill-color: #D2E3FC;\n",
              "      --hover-bg-color: #434B5C;\n",
              "      --hover-fill-color: #FFFFFF;\n",
              "      --disabled-bg-color: #3B4455;\n",
              "      --disabled-fill-color: #666;\n",
              "  }\n",
              "\n",
              "  .colab-df-quickchart {\n",
              "    background-color: var(--bg-color);\n",
              "    border: none;\n",
              "    border-radius: 50%;\n",
              "    cursor: pointer;\n",
              "    display: none;\n",
              "    fill: var(--fill-color);\n",
              "    height: 32px;\n",
              "    padding: 0;\n",
              "    width: 32px;\n",
              "  }\n",
              "\n",
              "  .colab-df-quickchart:hover {\n",
              "    background-color: var(--hover-bg-color);\n",
              "    box-shadow: 0 1px 2px rgba(60, 64, 67, 0.3), 0 1px 3px 1px rgba(60, 64, 67, 0.15);\n",
              "    fill: var(--button-hover-fill-color);\n",
              "  }\n",
              "\n",
              "  .colab-df-quickchart-complete:disabled,\n",
              "  .colab-df-quickchart-complete:disabled:hover {\n",
              "    background-color: var(--disabled-bg-color);\n",
              "    fill: var(--disabled-fill-color);\n",
              "    box-shadow: none;\n",
              "  }\n",
              "\n",
              "  .colab-df-spinner {\n",
              "    border: 2px solid var(--fill-color);\n",
              "    border-color: transparent;\n",
              "    border-bottom-color: var(--fill-color);\n",
              "    animation:\n",
              "      spin 1s steps(1) infinite;\n",
              "  }\n",
              "\n",
              "  @keyframes spin {\n",
              "    0% {\n",
              "      border-color: transparent;\n",
              "      border-bottom-color: var(--fill-color);\n",
              "      border-left-color: var(--fill-color);\n",
              "    }\n",
              "    20% {\n",
              "      border-color: transparent;\n",
              "      border-left-color: var(--fill-color);\n",
              "      border-top-color: var(--fill-color);\n",
              "    }\n",
              "    30% {\n",
              "      border-color: transparent;\n",
              "      border-left-color: var(--fill-color);\n",
              "      border-top-color: var(--fill-color);\n",
              "      border-right-color: var(--fill-color);\n",
              "    }\n",
              "    40% {\n",
              "      border-color: transparent;\n",
              "      border-right-color: var(--fill-color);\n",
              "      border-top-color: var(--fill-color);\n",
              "    }\n",
              "    60% {\n",
              "      border-color: transparent;\n",
              "      border-right-color: var(--fill-color);\n",
              "    }\n",
              "    80% {\n",
              "      border-color: transparent;\n",
              "      border-right-color: var(--fill-color);\n",
              "      border-bottom-color: var(--fill-color);\n",
              "    }\n",
              "    90% {\n",
              "      border-color: transparent;\n",
              "      border-bottom-color: var(--fill-color);\n",
              "    }\n",
              "  }\n",
              "</style>\n",
              "\n",
              "  <script>\n",
              "    async function quickchart(key) {\n",
              "      const quickchartButtonEl =\n",
              "        document.querySelector('#' + key + ' button');\n",
              "      quickchartButtonEl.disabled = true;  // To prevent multiple clicks.\n",
              "      quickchartButtonEl.classList.add('colab-df-spinner');\n",
              "      try {\n",
              "        const charts = await google.colab.kernel.invokeFunction(\n",
              "            'suggestCharts', [key], {});\n",
              "      } catch (error) {\n",
              "        console.error('Error during call to suggestCharts:', error);\n",
              "      }\n",
              "      quickchartButtonEl.classList.remove('colab-df-spinner');\n",
              "      quickchartButtonEl.classList.add('colab-df-quickchart-complete');\n",
              "    }\n",
              "    (() => {\n",
              "      let quickchartButtonEl =\n",
              "        document.querySelector('#df-21dd65e7-a8c7-4796-b786-aee618ea4a89 button');\n",
              "      quickchartButtonEl.style.display =\n",
              "        google.colab.kernel.accessAllowed ? 'block' : 'none';\n",
              "    })();\n",
              "  </script>\n",
              "</div>\n",
              "    </div>\n",
              "  </div>\n"
            ]
          },
          "metadata": {},
          "execution_count": 19
        }
      ],
      "source": [
        "ye"
      ]
    },
    {
      "cell_type": "code",
      "execution_count": null,
      "metadata": {
        "colab": {
          "base_uri": "https://localhost:8080/",
          "height": 735
        },
        "id": "GbMFkKDKys2z",
        "outputId": "f603bbda-eed1-4475-999a-61711148c0e9"
      },
      "outputs": [
        {
          "output_type": "display_data",
          "data": {
            "text/plain": [
              "<Figure size 1500x800 with 1 Axes>"
            ],
            "image/png": "[encoded data removed]"
          },
          "metadata": {}
        }
      ],
      "source": [
        "import seaborn as sns\n",
        "sns.set(font_scale = 1)\n",
        "plt.figure(figsize=(15,8))\n",
        "values = ye.iloc[:, 0:].sum().values\n",
        "ax= sns.barplot(x=categories, y=values)\n",
        "plt.title(\"Number of samples labeled as active (1) out of {0} length data\".format((ye.shape[0])),fontsize=20)\n",
        "\n",
        "plt.ylabel('Number of events', fontsize=18)\n",
        "plt.xlabel('Event Type ', fontsize=12)\n",
        "#adding the text labels\n",
        "rects = ax.patches\n",
        "labels = ye.iloc[:,0:].sum().values\n",
        "\n",
        "for rect, label in zip(rects, labels):\n",
        "    height = rect.get_height()\n",
        "    ax.text(rect.get_x() + rect.get_width()/2, height + 5, label, ha='center', va='bottom', fontsize=10)\n",
        "plt.show()"
      ]
    },
    {
      "cell_type": "code",
      "execution_count": null,
      "metadata": {
        "id": "UdmZaLePwoo7"
      },
      "outputs": [],
      "source": [
        "import numpy as np # linear algebra\n",
        "import pandas as pd # data processing, CSV file I/O (e.g. pd.read_csv)\n",
        "import keras\n",
        "from keras.models import Sequential\n",
        "from keras.layers import Dense, Dropout\n",
        "from keras.layers import Embedding\n",
        "from keras.layers import LSTM, BatchNormalization, Conv2D, Flatten, MaxPooling2D, Dropout\n",
        "from keras.optimizers import Adam\n",
        "from sklearn.metrics import roc_curve, auc, roc_auc_score\n",
        "from sklearn.metrics import classification_report,confusion_matrix,accuracy_score,roc_curve,auc\n",
        "import tensorflow as tf"
      ]
    },
    {
      "cell_type": "code",
      "execution_count": null,
      "metadata": {
        "colab": {
          "base_uri": "https://localhost:8080/"
        },
        "id": "Q9zKXZp0wu1R",
        "outputId": "75afd460-5646-4de3-801a-3135d9dbb158"
      },
      "outputs": [
        {
          "output_type": "stream",
          "name": "stderr",
          "text": [
            "WARNING:absl:`lr` is deprecated in Keras optimizer, please use `learning_rate` or use the legacy optimizer, e.g.,tf.keras.optimizers.legacy.Adam.\n"
          ]
        },
        {
          "output_type": "stream",
          "name": "stdout",
          "text": [
            "Model: \"sequential\"\n",
            "_________________________________________________________________\n",
            " Layer (type)                Output Shape              Param #   \n",
            "=================================================================\n",
            " conv2d (Conv2D)             (None, 640, 64, 64)       3200      \n",
            "                                                                 \n",
            " batch_normalization (Batch  (None, 640, 64, 64)       256       \n",
            " Normalization)                                                  \n",
            "                                                                 \n",
            " conv2d_1 (Conv2D)           (None, 640, 64, 64)       102464    \n",
            "                                                                 \n",
            " batch_normalization_1 (Bat  (None, 640, 64, 64)       256       \n",
            " chNormalization)                                                \n",
            "                                                                 \n",
            " conv2d_2 (Conv2D)           (None, 640, 64, 64)       36928     \n",
            "                                                                 \n",
            " batch_normalization_2 (Bat  (None, 640, 64, 64)       256       \n",
            " chNormalization)                                                \n",
            "                                                                 \n",
            " flatten (Flatten)           (None, 2621440)           0         \n",
            "                                                                 \n",
            " dense (Dense)               (None, 64)                167772224 \n",
            "                                                                 \n",
            " batch_normalization_3 (Bat  (None, 64)                256       \n",
            " chNormalization)                                                \n",
            "                                                                 \n",
            " dense_1 (Dense)             (None, 3)                 195       \n",
            "                                                                 \n",
            "=================================================================\n",
            "Total params: 167916035 (640.55 MB)\n",
            "Trainable params: 167915523 (640.55 MB)\n",
            "Non-trainable params: 512 (2.00 KB)\n",
            "_________________________________________________________________\n"
          ]
        }
      ],
      "source": [
        "import numpy as np\n",
        "load = 1\n",
        "time_steps = 1000\n",
        "subsample = 50\n",
        "model = Sequential()\n",
        "model.add(Conv2D(filters = 64, kernel_size = (7,7), padding = \"same\", activation = \"relu\", input_shape = (640, 64, 1)))\n",
        "model.add(BatchNormalization())\n",
        "model.add(Conv2D(filters = 64, kernel_size = (5,5), padding = \"same\", activation = \"relu\", input_shape = (640, 64, 1)))\n",
        "model.add(BatchNormalization())\n",
        "model.add(Conv2D(filters = 64, kernel_size = (3,3), padding = \"same\", activation = \"relu\", input_shape = (640, 64, 1)))\n",
        "model.add(BatchNormalization())\n",
        "model.add(Flatten())\n",
        "model.add(Dense(64, activation = \"relu\"))\n",
        "model.add(BatchNormalization())\n",
        "model.add(Dense(3, activation = \"sigmoid\"))\n",
        "\n",
        "\n",
        "adam = Adam(lr = 0.0001)\n",
        "\n",
        "model.compile(optimizer = adam, loss = \"binary_crossentropy\", metrics = ['accuracy','mse', 'AUC'])\n",
        "\n",
        "model.summary()"
      ]
    },
    {
      "cell_type": "code",
      "execution_count": null,
      "metadata": {
        "id": "5H7_PVcrByvK"
      },
      "outputs": [],
      "source": [
        "xtrain_blocks = np.array_split(xtrain, len(ytrain))\n",
        "xval_blocks = np.array_split(xval, len(yval))"
      ]
    },
    {
      "cell_type": "code",
      "execution_count": null,
      "metadata": {
        "id": "1pXl10YtEcPD"
      },
      "outputs": [],
      "source": [
        "ytrain_unique_idx = np.nonzero(ytrain)[0]\n",
        "ytrain_unique = ytrain[ytrain_unique_idx]"
      ]
    },
    {
      "cell_type": "code",
      "execution_count": null,
      "metadata": {
        "id": "HqgKqNm0Ekva"
      },
      "outputs": [],
      "source": [
        "x_train_parsed = np.array(xtrain_blocks)\n",
        "x_val_parsed = np.array(xval_blocks)"
      ]
    },
    {
      "cell_type": "code",
      "execution_count": null,
      "metadata": {
        "id": "FrA5_DwxINeD"
      },
      "outputs": [],
      "source": [
        "y_train_parsed = np.array(ytrain)\n",
        "y_val_parsed = np.array(yval)"
      ]
    },
    {
      "cell_type": "code",
      "execution_count": null,
      "metadata": {
        "colab": {
          "base_uri": "https://localhost:8080/"
        },
        "id": "NEHU-8-HWXNM",
        "outputId": "b5ab904d-6674-45e9-bf42-e171e259cabb"
      },
      "outputs": [
        {
          "output_type": "stream",
          "name": "stdout",
          "text": [
            "(7460, 640, 64) (7460, 3)\n"
          ]
        }
      ],
      "source": [
        "print(x_train_parsed.shape, y_train_parsed.shape)"
      ]
    },
    {
      "cell_type": "code",
      "execution_count": null,
      "metadata": {
        "colab": {
          "base_uri": "https://localhost:8080/"
        },
        "id": "Rmv1WQJzBU-0",
        "outputId": "497259b5-d887-4193-f7c4-6eacbd8c2539"
      },
      "outputs": [
        {
          "output_type": "stream",
          "name": "stdout",
          "text": [
            "Epoch 1/50\n",
            "234/234 [==============================] - 80s 262ms/step - loss: 0.5860 - accuracy: 0.5784 - mse: 0.1951 - auc: 0.7410 - val_loss: 0.7006 - val_accuracy: 0.5118 - val_mse: 0.2500 - val_auc: 0.6927\n",
            "Epoch 2/50\n",
            "234/234 [==============================] - 62s 264ms/step - loss: 0.4024 - accuracy: 0.7367 - mse: 0.1273 - auc: 0.8812 - val_loss: 0.4838 - val_accuracy: 0.6513 - val_mse: 0.1582 - val_auc: 0.8156\n",
            "Epoch 3/50\n",
            "234/234 [==============================] - 62s 264ms/step - loss: 0.3124 - accuracy: 0.8038 - mse: 0.0960 - auc: 0.9311 - val_loss: 0.4856 - val_accuracy: 0.6459 - val_mse: 0.1572 - val_auc: 0.8284\n",
            "Epoch 4/50\n",
            "234/234 [==============================] - 62s 264ms/step - loss: 0.2151 - accuracy: 0.8830 - mse: 0.0625 - auc: 0.9695 - val_loss: 0.5444 - val_accuracy: 0.6513 - val_mse: 0.1664 - val_auc: 0.8214\n",
            "Epoch 5/50\n",
            "234/234 [==============================] - 62s 264ms/step - loss: 0.1224 - accuracy: 0.9475 - mse: 0.0325 - auc: 0.9920 - val_loss: 0.6277 - val_accuracy: 0.6470 - val_mse: 0.1760 - val_auc: 0.8247\n",
            "Epoch 6/50\n",
            "234/234 [==============================] - 62s 264ms/step - loss: 0.0594 - accuracy: 0.9842 - mse: 0.0135 - auc: 0.9987 - val_loss: 0.6550 - val_accuracy: 0.6609 - val_mse: 0.1757 - val_auc: 0.8321\n",
            "Epoch 7/50\n",
            "234/234 [==============================] - 62s 264ms/step - loss: 0.0328 - accuracy: 0.9929 - mse: 0.0065 - auc: 0.9997 - val_loss: 0.6745 - val_accuracy: 0.6674 - val_mse: 0.1739 - val_auc: 0.8320\n",
            "Epoch 8/50\n",
            "234/234 [==============================] - 62s 264ms/step - loss: 0.0182 - accuracy: 0.9983 - mse: 0.0028 - auc: 0.9999 - val_loss: 0.6609 - val_accuracy: 0.6749 - val_mse: 0.1712 - val_auc: 0.8394\n",
            "Epoch 9/50\n",
            "234/234 [==============================] - 62s 264ms/step - loss: 0.0099 - accuracy: 0.9993 - mse: 0.0013 - auc: 1.0000 - val_loss: 0.6543 - val_accuracy: 0.6749 - val_mse: 0.1717 - val_auc: 0.8372\n",
            "Epoch 10/50\n",
            "234/234 [==============================] - 62s 263ms/step - loss: 0.0262 - accuracy: 0.9918 - mse: 0.0060 - auc: 0.9996 - val_loss: 0.7665 - val_accuracy: 0.6448 - val_mse: 0.1882 - val_auc: 0.8157\n",
            "Epoch 11/50\n",
            "234/234 [==============================] - 62s 264ms/step - loss: 0.0223 - accuracy: 0.9936 - mse: 0.0049 - auc: 0.9996 - val_loss: 0.8260 - val_accuracy: 0.6556 - val_mse: 0.1856 - val_auc: 0.8171\n",
            "Epoch 12/50\n",
            "234/234 [==============================] - 62s 263ms/step - loss: 0.0247 - accuracy: 0.9926 - mse: 0.0057 - auc: 0.9994 - val_loss: 0.7412 - val_accuracy: 0.6534 - val_mse: 0.1843 - val_auc: 0.8245\n",
            "Epoch 13/50\n",
            "234/234 [==============================] - 62s 263ms/step - loss: 0.0209 - accuracy: 0.9940 - mse: 0.0049 - auc: 0.9997 - val_loss: 0.7986 - val_accuracy: 0.6631 - val_mse: 0.1843 - val_auc: 0.8252\n",
            "Epoch 14/50\n",
            "234/234 [==============================] - 62s 263ms/step - loss: 0.0209 - accuracy: 0.9946 - mse: 0.0049 - auc: 0.9996 - val_loss: 0.8896 - val_accuracy: 0.6384 - val_mse: 0.1930 - val_auc: 0.8115\n",
            "Epoch 15/50\n",
            "234/234 [==============================] - 62s 263ms/step - loss: 0.0939 - accuracy: 0.9586 - mse: 0.0252 - auc: 0.9926 - val_loss: 0.7613 - val_accuracy: 0.6695 - val_mse: 0.1798 - val_auc: 0.8289\n",
            "Epoch 16/50\n",
            "234/234 [==============================] - 61s 263ms/step - loss: 0.0230 - accuracy: 0.9936 - mse: 0.0055 - auc: 0.9997 - val_loss: 0.7204 - val_accuracy: 0.6749 - val_mse: 0.1736 - val_auc: 0.8376\n",
            "Epoch 17/50\n",
            "234/234 [==============================] - 62s 263ms/step - loss: 0.0091 - accuracy: 0.9984 - mse: 0.0016 - auc: 0.9999 - val_loss: 0.7404 - val_accuracy: 0.6867 - val_mse: 0.1732 - val_auc: 0.8414\n",
            "Epoch 18/50\n",
            "234/234 [==============================] - 62s 263ms/step - loss: 0.0065 - accuracy: 0.9991 - mse: 0.0012 - auc: 0.9999 - val_loss: 0.7265 - val_accuracy: 0.6856 - val_mse: 0.1723 - val_auc: 0.8410\n",
            "Epoch 19/50\n",
            "234/234 [==============================] - 61s 263ms/step - loss: 0.0177 - accuracy: 0.9957 - mse: 0.0040 - auc: 0.9995 - val_loss: 0.7480 - val_accuracy: 0.6685 - val_mse: 0.1754 - val_auc: 0.8331\n",
            "Epoch 20/50\n",
            "234/234 [==============================] - 62s 263ms/step - loss: 0.0078 - accuracy: 0.9983 - mse: 0.0015 - auc: 0.9999 - val_loss: 0.7621 - val_accuracy: 0.6835 - val_mse: 0.1719 - val_auc: 0.8369\n",
            "Epoch 21/50\n",
            "234/234 [==============================] - 62s 263ms/step - loss: 0.0035 - accuracy: 0.9999 - mse: 4.6496e-04 - auc: 1.0000 - val_loss: 0.8376 - val_accuracy: 0.6760 - val_mse: 0.1767 - val_auc: 0.8341\n",
            "Epoch 22/50\n",
            "234/234 [==============================] - 62s 263ms/step - loss: 0.0023 - accuracy: 0.9997 - mse: 3.0560e-04 - auc: 1.0000 - val_loss: 0.8538 - val_accuracy: 0.6835 - val_mse: 0.1752 - val_auc: 0.8350\n",
            "Epoch 23/50\n",
            "234/234 [==============================] - 62s 263ms/step - loss: 0.0126 - accuracy: 0.9949 - mse: 0.0031 - auc: 0.9998 - val_loss: 0.9379 - val_accuracy: 0.6695 - val_mse: 0.1835 - val_auc: 0.8164\n",
            "Epoch 24/50\n",
            "234/234 [==============================] - 62s 263ms/step - loss: 0.0141 - accuracy: 0.9952 - mse: 0.0034 - auc: 0.9997 - val_loss: 0.9616 - val_accuracy: 0.6620 - val_mse: 0.1872 - val_auc: 0.8116\n",
            "Epoch 25/50\n",
            "234/234 [==============================] - 62s 263ms/step - loss: 0.0161 - accuracy: 0.9946 - mse: 0.0038 - auc: 0.9995 - val_loss: 1.0037 - val_accuracy: 0.6685 - val_mse: 0.1874 - val_auc: 0.8186\n",
            "Epoch 26/50\n",
            "234/234 [==============================] - 62s 263ms/step - loss: 0.0155 - accuracy: 0.9952 - mse: 0.0040 - auc: 0.9998 - val_loss: 0.8684 - val_accuracy: 0.6813 - val_mse: 0.1783 - val_auc: 0.8254\n",
            "Epoch 27/50\n",
            "234/234 [==============================] - 62s 263ms/step - loss: 0.0087 - accuracy: 0.9972 - mse: 0.0021 - auc: 1.0000 - val_loss: 0.9342 - val_accuracy: 0.6781 - val_mse: 0.1783 - val_auc: 0.8280\n",
            "Epoch 28/50\n",
            "234/234 [==============================] - 62s 263ms/step - loss: 0.0085 - accuracy: 0.9976 - mse: 0.0019 - auc: 0.9999 - val_loss: 0.8074 - val_accuracy: 0.6663 - val_mse: 0.1729 - val_auc: 0.8310\n",
            "Epoch 29/50\n",
            "234/234 [==============================] - 61s 263ms/step - loss: 0.0084 - accuracy: 0.9983 - mse: 0.0020 - auc: 0.9999 - val_loss: 0.7959 - val_accuracy: 0.6599 - val_mse: 0.1833 - val_auc: 0.8188\n",
            "Epoch 30/50\n",
            "234/234 [==============================] - 61s 263ms/step - loss: 0.0156 - accuracy: 0.9948 - mse: 0.0042 - auc: 0.9997 - val_loss: 1.1112 - val_accuracy: 0.6845 - val_mse: 0.1844 - val_auc: 0.8142\n",
            "Epoch 31/50\n",
            "234/234 [==============================] - 61s 263ms/step - loss: 0.0071 - accuracy: 0.9984 - mse: 0.0017 - auc: 1.0000 - val_loss: 0.9030 - val_accuracy: 0.6760 - val_mse: 0.1817 - val_auc: 0.8254\n",
            "Epoch 32/50\n",
            "234/234 [==============================] - 61s 263ms/step - loss: 0.0074 - accuracy: 0.9987 - mse: 0.0015 - auc: 0.9998 - val_loss: 0.8960 - val_accuracy: 0.6706 - val_mse: 0.1819 - val_auc: 0.8232\n",
            "Epoch 33/50\n",
            "234/234 [==============================] - 62s 263ms/step - loss: 0.0119 - accuracy: 0.9950 - mse: 0.0032 - auc: 0.9998 - val_loss: 0.9832 - val_accuracy: 0.6717 - val_mse: 0.1818 - val_auc: 0.8157\n",
            "Epoch 34/50\n",
            "234/234 [==============================] - 62s 263ms/step - loss: 0.0079 - accuracy: 0.9966 - mse: 0.0019 - auc: 0.9998 - val_loss: 0.8823 - val_accuracy: 0.6878 - val_mse: 0.1726 - val_auc: 0.8265\n",
            "Epoch 35/50\n",
            "234/234 [==============================] - 61s 263ms/step - loss: 0.0069 - accuracy: 0.9983 - mse: 0.0017 - auc: 0.9999 - val_loss: 0.9534 - val_accuracy: 0.6749 - val_mse: 0.1790 - val_auc: 0.8264\n",
            "Epoch 36/50\n",
            "234/234 [==============================] - 61s 262ms/step - loss: 0.0052 - accuracy: 0.9987 - mse: 0.0012 - auc: 1.0000 - val_loss: 0.9677 - val_accuracy: 0.6770 - val_mse: 0.1787 - val_auc: 0.8263\n",
            "Epoch 37/50\n",
            "234/234 [==============================] - 61s 262ms/step - loss: 0.0128 - accuracy: 0.9954 - mse: 0.0031 - auc: 0.9997 - val_loss: 1.0261 - val_accuracy: 0.6770 - val_mse: 0.1821 - val_auc: 0.8163\n",
            "Epoch 38/50\n",
            "234/234 [==============================] - 61s 263ms/step - loss: 0.0148 - accuracy: 0.9940 - mse: 0.0039 - auc: 0.9996 - val_loss: 0.9018 - val_accuracy: 0.6760 - val_mse: 0.1790 - val_auc: 0.8248\n",
            "Epoch 39/50\n",
            "234/234 [==============================] - 61s 263ms/step - loss: 0.0064 - accuracy: 0.9980 - mse: 0.0015 - auc: 0.9999 - val_loss: 1.2232 - val_accuracy: 0.6663 - val_mse: 0.1951 - val_auc: 0.8029\n",
            "Epoch 40/50\n",
            "234/234 [==============================] - 61s 263ms/step - loss: 0.0067 - accuracy: 0.9981 - mse: 0.0017 - auc: 1.0000 - val_loss: 0.9507 - val_accuracy: 0.6749 - val_mse: 0.1840 - val_auc: 0.8206\n",
            "Epoch 41/50\n",
            "234/234 [==============================] - 61s 262ms/step - loss: 0.0039 - accuracy: 0.9995 - mse: 6.8977e-04 - auc: 0.9999 - val_loss: 0.8824 - val_accuracy: 0.6760 - val_mse: 0.1754 - val_auc: 0.8322\n",
            "Epoch 42/50\n",
            "234/234 [==============================] - 61s 262ms/step - loss: 0.0152 - accuracy: 0.9948 - mse: 0.0038 - auc: 0.9995 - val_loss: 0.9562 - val_accuracy: 0.6567 - val_mse: 0.1871 - val_auc: 0.8145\n",
            "Epoch 43/50\n",
            "234/234 [==============================] - 61s 262ms/step - loss: 0.0113 - accuracy: 0.9954 - mse: 0.0029 - auc: 0.9997 - val_loss: 0.9014 - val_accuracy: 0.6760 - val_mse: 0.1764 - val_auc: 0.8312\n",
            "Epoch 44/50\n",
            "234/234 [==============================] - 61s 262ms/step - loss: 0.0068 - accuracy: 0.9983 - mse: 0.0017 - auc: 0.9999 - val_loss: 1.0660 - val_accuracy: 0.6760 - val_mse: 0.1832 - val_auc: 0.8247\n",
            "Epoch 45/50\n",
            "234/234 [==============================] - 61s 262ms/step - loss: 0.0050 - accuracy: 0.9980 - mse: 0.0012 - auc: 1.0000 - val_loss: 0.9036 - val_accuracy: 0.6717 - val_mse: 0.1804 - val_auc: 0.8296\n",
            "Epoch 46/50\n",
            "234/234 [==============================] - 61s 262ms/step - loss: 0.0026 - accuracy: 0.9997 - mse: 4.5463e-04 - auc: 0.9999 - val_loss: 0.9939 - val_accuracy: 0.6749 - val_mse: 0.1814 - val_auc: 0.8226\n",
            "Epoch 47/50\n",
            "234/234 [==============================] - 61s 262ms/step - loss: 0.0069 - accuracy: 0.9981 - mse: 0.0015 - auc: 0.9998 - val_loss: 0.9495 - val_accuracy: 0.6695 - val_mse: 0.1840 - val_auc: 0.8254\n",
            "Epoch 48/50\n",
            "234/234 [==============================] - 61s 262ms/step - loss: 0.0038 - accuracy: 0.9991 - mse: 9.1974e-04 - auc: 1.0000 - val_loss: 1.1892 - val_accuracy: 0.7006 - val_mse: 0.1762 - val_auc: 0.8231\n",
            "Epoch 49/50\n",
            "234/234 [==============================] - 61s 262ms/step - loss: 0.0036 - accuracy: 0.9991 - mse: 8.6177e-04 - auc: 1.0000 - val_loss: 1.0605 - val_accuracy: 0.6845 - val_mse: 0.1826 - val_auc: 0.8265\n",
            "Epoch 50/50\n",
            "234/234 [==============================] - 61s 262ms/step - loss: 0.0018 - accuracy: 0.9999 - mse: 3.4290e-04 - auc: 1.0000 - val_loss: 1.0796 - val_accuracy: 0.6738 - val_mse: 0.1829 - val_auc: 0.8255\n"
          ]
        },
        {
          "output_type": "execute_result",
          "data": {
            "text/plain": [
              "<keras.src.callbacks.History at 0x7f702c381270>"
            ]
          },
          "metadata": {},
          "execution_count": 28
        }
      ],
      "source": [
        "model.fit(x_train_parsed, y_train_parsed, epochs=50, batch_size=32, validation_data=(x_val_parsed,y_val_parsed))"
      ]
    },
    {
      "cell_type": "code",
      "execution_count": null,
      "metadata": {
        "id": "Q9_G5ASUbKYg",
        "colab": {
          "base_uri": "https://localhost:8080/"
        },
        "outputId": "67fef796-1d02-4773-8078-01b1ebd3e047"
      },
      "outputs": [
        {
          "output_type": "stream",
          "name": "stderr",
          "text": [
            "/usr/local/lib/python3.10/dist-packages/keras/src/engine/training.py:3000: UserWarning: You are saving your model as an HDF5 file via `model.save()`. This file format is considered legacy. We recommend using instead the native Keras format, e.g. `model.save('my_model.keras')`.\n",
            "  saving_api.save_model(\n"
          ]
        }
      ],
      "source": [
        "model.save('./content/drive/MyDrive/TCC/PhisioNet_Model_Weights/model_Physionet_Adapted-70acc_auc.h5')"
      ]
    },
    {
      "cell_type": "code",
      "source": [
        "xtest_blocks = np.array_split(xtest, len(ytest))\n",
        "x_test_parsed = np.array(xtest_blocks)\n",
        "y_test_parsed = np.array(ytest)"
      ],
      "metadata": {
        "id": "6ckNAtfO6nOp"
      },
      "execution_count": null,
      "outputs": []
    },
    {
      "cell_type": "code",
      "source": [
        "predict = model.predict(x_test_parsed)"
      ],
      "metadata": {
        "colab": {
          "base_uri": "https://localhost:8080/"
        },
        "id": "yO590PzB7Why",
        "outputId": "383f0bd6-f692-4dff-ce41-85d987caca37"
      },
      "execution_count": null,
      "outputs": [
        {
          "output_type": "stream",
          "name": "stdout",
          "text": [
            "30/30 [==============================] - 2s 63ms/step\n"
          ]
        }
      ]
    },
    {
      "cell_type": "code",
      "source": [
        "predicted_classes = np.argmax(predict, axis=1)\n",
        "predicted_classes"
      ],
      "metadata": {
        "colab": {
          "base_uri": "https://localhost:8080/"
        },
        "id": "UHIsdyre-K1f",
        "outputId": "06c1e1e4-d6e8-41d3-fd98-9167575cb2a5"
      },
      "execution_count": null,
      "outputs": [
        {
          "output_type": "execute_result",
          "data": {
            "text/plain": [
              "array([0, 0, 2, 0, 1, 0, 0, 0, 0, 0, 0, 2, 0, 1, 0, 2, 1, 2, 0, 0, 0, 1,\n",
              "       0, 0, 0, 0, 0, 2, 0, 0, 1, 1, 0, 0, 0, 0, 1, 0, 1, 0, 1, 0, 2, 0,\n",
              "       2, 0, 1, 1, 1, 0, 1, 0, 0, 1, 1, 0, 1, 0, 1, 0, 1, 0, 2, 0, 0, 0,\n",
              "       0, 1, 0, 0, 0, 1, 0, 2, 0, 1, 2, 1, 0, 0, 0, 2, 0, 1, 0, 2, 0, 1,\n",
              "       2, 2, 0, 1, 0, 1, 2, 0, 0, 0, 0, 0, 0, 0, 1, 0, 0, 0, 1, 0, 0, 1,\n",
              "       1, 0, 0, 2, 0, 0, 2, 0, 0, 1, 0, 0, 0, 2, 0, 1, 0, 0, 0, 0, 0, 2,\n",
              "       0, 1, 0, 2, 0, 1, 0, 0, 0, 2, 0, 1, 0, 2, 1, 2, 1, 0, 0, 0, 2, 2,\n",
              "       1, 2, 1, 0, 0, 0, 1, 0, 2, 0, 2, 2, 0, 1, 1, 0, 0, 0, 1, 0, 2, 0,\n",
              "       0, 0, 2, 0, 0, 2, 2, 1, 0, 0, 2, 0, 0, 1, 0, 2, 0, 2, 0, 1, 2, 2,\n",
              "       0, 2, 0, 1, 0, 2, 0, 1, 2, 1, 0, 2, 2, 0, 1, 0, 0, 0, 0, 1, 0, 0,\n",
              "       2, 0, 2, 2, 1, 0, 0, 0, 0, 2, 0, 2, 1, 2, 1, 0, 1, 0, 0, 1, 0, 2,\n",
              "       0, 2, 2, 0, 0, 0, 0, 1, 0, 0, 0, 2, 0, 2, 0, 1, 2, 2, 0, 0, 0, 2,\n",
              "       1, 2, 0, 0, 2, 0, 2, 0, 1, 0, 1, 0, 0, 0, 1, 0, 2, 0, 2, 0, 0, 0,\n",
              "       2, 0, 2, 0, 2, 0, 1, 0, 2, 0, 0, 0, 0, 2, 0, 0, 0, 0, 2, 2, 0, 2,\n",
              "       0, 2, 0, 2, 0, 2, 0, 0, 0, 1, 0, 1, 0, 2, 0, 2, 0, 0, 2, 0, 1, 0,\n",
              "       2, 0, 1, 0, 2, 0, 0, 0, 1, 0, 0, 0, 2, 0, 0, 2, 2, 0, 1, 0, 2, 0,\n",
              "       0, 0, 0, 0, 2, 2, 0, 1, 0, 1, 0, 2, 0, 0, 0, 2, 0, 0, 0, 2, 0, 2,\n",
              "       0, 2, 0, 2, 0, 2, 0, 0, 0, 0, 2, 1, 1, 0, 0, 0, 0, 0, 2, 0, 0, 0,\n",
              "       0, 0, 2, 0, 1, 0, 0, 0, 1, 2, 2, 0, 0, 0, 2, 0, 0, 2, 0, 1, 2, 2,\n",
              "       0, 2, 0, 1, 0, 2, 0, 0, 0, 2, 0, 1, 0, 2, 0, 1, 0, 2, 0, 2, 0, 1,\n",
              "       2, 0, 2, 0, 1, 0, 2, 0, 1, 0, 0, 0, 2, 0, 1, 0, 1, 1, 1, 2, 1, 0,\n",
              "       1, 0, 2, 0, 2, 0, 1, 2, 2, 1, 0, 1, 0, 2, 1, 1, 0, 1, 0, 2, 0, 1,\n",
              "       0, 1, 0, 2, 0, 0, 0, 1, 0, 0, 0, 1, 0, 2, 2, 1, 2, 0, 2, 0, 0, 2,\n",
              "       2, 0, 1, 0, 1, 0, 0, 0, 0, 0, 2, 0, 2, 0, 2, 0, 0, 0, 2, 2, 2, 0,\n",
              "       2, 1, 2, 0, 0, 2, 0, 1, 0, 1, 0, 0, 0, 0, 0, 2, 0, 2, 0, 1, 0, 1,\n",
              "       0, 0, 0, 2, 0, 1, 0, 0, 1, 0, 2, 0, 2, 0, 0, 0, 1, 0, 2, 0, 0, 0,\n",
              "       0, 1, 0, 0, 0, 0, 2, 0, 0, 0, 1, 0, 0, 0, 0, 2, 0, 1, 0, 1, 0, 0,\n",
              "       0, 0, 1, 2, 0, 1, 0, 0, 0, 0, 0, 2, 0, 0, 0, 1, 0, 2, 0, 0, 0, 0,\n",
              "       1, 0, 2, 0, 2, 1, 0, 0, 1, 0, 2, 0, 0, 0, 0, 0, 2, 0, 0, 0, 1, 0,\n",
              "       2, 0, 2, 0, 0, 0, 0, 0, 0, 2, 0, 1, 0, 2, 0, 2, 0, 1, 0, 2, 0, 2,\n",
              "       0, 0, 1, 1, 0, 1, 0, 0, 0, 1, 0, 2, 0, 0, 2, 0, 1, 0, 1, 0, 0, 0,\n",
              "       0, 0, 1, 0, 0, 0, 2, 0, 1, 0, 2, 0, 0, 0, 0, 0, 1, 0, 2, 0, 0, 0,\n",
              "       0, 0, 0, 1, 1, 0, 0, 1, 0, 0, 0, 0, 0, 0, 1, 1, 0, 0, 0, 2, 0, 0,\n",
              "       0, 0, 0, 0, 0, 0, 2, 0, 1, 0, 2, 0, 2, 0, 1, 0, 2, 0, 1, 0, 2, 0,\n",
              "       2, 0, 2, 0, 1, 0, 0, 0, 1, 0, 2, 0, 0, 1, 1, 2, 0, 1, 0, 1, 0, 1,\n",
              "       0, 0, 0, 1, 0, 0, 0, 0, 0, 1, 0, 1, 0, 2, 0, 1, 0, 2, 0, 0, 1, 0,\n",
              "       1, 0, 2, 0, 1, 0, 2, 0, 0, 0, 1, 0, 0, 0, 0, 1, 0, 0, 0, 0, 0, 0,\n",
              "       0, 0, 0, 0, 0, 2, 0, 1, 0, 2, 0, 2, 0, 0, 0, 0, 0, 2, 0, 0, 0, 0,\n",
              "       0, 2, 0, 2, 0, 0, 0, 0, 0, 1, 0, 1, 0, 2, 0, 0, 1, 0, 0, 0, 0, 2,\n",
              "       0, 1, 1, 0, 1, 0, 1, 0, 0, 0, 0, 0, 0, 0, 1, 0, 0, 1, 0, 0, 0, 0,\n",
              "       0, 2, 1, 0, 0, 1, 0, 0, 0, 2, 0, 1, 0, 1, 0, 2, 0, 1, 0, 0, 0, 0,\n",
              "       0, 0, 0, 0, 0, 0, 0, 0, 0, 2, 1, 0, 1, 0, 0, 0, 0, 0, 0, 0, 0, 0,\n",
              "       0, 0, 0, 0, 0, 2, 0, 0])"
            ]
          },
          "metadata": {},
          "execution_count": 34
        }
      ]
    },
    {
      "cell_type": "code",
      "source": [
        "real_classes = np.argmax(y_test_parsed, axis=1)\n",
        "real_classes[1]"
      ],
      "metadata": {
        "colab": {
          "base_uri": "https://localhost:8080/"
        },
        "id": "e5-62bHj_VEo",
        "outputId": "fc662a93-8c06-495d-e520-a6f73445badb"
      },
      "execution_count": null,
      "outputs": [
        {
          "output_type": "execute_result",
          "data": {
            "text/plain": [
              "0"
            ]
          },
          "metadata": {},
          "execution_count": 35
        }
      ]
    },
    {
      "cell_type": "code",
      "source": [
        "# Conta o número de acertos\n",
        "correct_count = 0\n",
        "for prediction, label in zip(predicted_classes, real_classes):\n",
        "    if prediction == label:\n",
        "      correct_count += 1\n",
        "\n",
        "# Calcula a acurácia\n",
        "accuracy = correct_count / len(real_classes)\n",
        "accuracy"
      ],
      "metadata": {
        "colab": {
          "base_uri": "https://localhost:8080/"
        },
        "id": "epeEKf6l-OY9",
        "outputId": "be78ff24-6c98-4fd5-e75f-b9c49c4d46a8"
      },
      "execution_count": null,
      "outputs": [
        {
          "output_type": "execute_result",
          "data": {
            "text/plain": [
              "0.7081545064377682"
            ]
          },
          "metadata": {},
          "execution_count": 36
        }
      ]
    },
    {
      "cell_type": "code",
      "source": [
        "from sklearn.metrics import roc_curve\n",
        "fpr, tpr, thresholds = roc_curve(real_classes, predicted_classes)"
      ],
      "metadata": {
        "colab": {
          "base_uri": "https://localhost:8080/",
          "height": 351
        },
        "id": "Qy5oJcoXeqMx",
        "outputId": "588e0c6d-632a-49fc-9a32-bee492cc04f6"
      },
      "execution_count": null,
      "outputs": [
        {
          "output_type": "error",
          "ename": "ValueError",
          "evalue": "ignored",
          "traceback": [
            "\u001b[0;31m---------------------------------------------------------------------------\u001b[0m",
            "\u001b[0;31mValueError\u001b[0m                                Traceback (most recent call last)",
            "\u001b[0;32m<ipython-input-38-745956ded479>\u001b[0m in \u001b[0;36m<cell line: 2>\u001b[0;34m()\u001b[0m\n\u001b[1;32m      1\u001b[0m \u001b[0;32mfrom\u001b[0m \u001b[0msklearn\u001b[0m\u001b[0;34m.\u001b[0m\u001b[0mmetrics\u001b[0m \u001b[0;32mimport\u001b[0m \u001b[0mroc_curve\u001b[0m\u001b[0;34m\u001b[0m\u001b[0;34m\u001b[0m\u001b[0m\n\u001b[0;32m----> 2\u001b[0;31m \u001b[0mfpr\u001b[0m\u001b[0;34m,\u001b[0m \u001b[0mtpr\u001b[0m\u001b[0;34m,\u001b[0m \u001b[0mthresholds\u001b[0m \u001b[0;34m=\u001b[0m \u001b[0mroc_curve\u001b[0m\u001b[0;34m(\u001b[0m\u001b[0mreal_classes\u001b[0m\u001b[0;34m,\u001b[0m \u001b[0mpredicted_classes\u001b[0m\u001b[0;34m)\u001b[0m\u001b[0;34m\u001b[0m\u001b[0;34m\u001b[0m\u001b[0m\n\u001b[0m",
            "\u001b[0;32m/usr/local/lib/python3.10/dist-packages/sklearn/metrics/_ranking.py\u001b[0m in \u001b[0;36mroc_curve\u001b[0;34m(y_true, y_score, pos_label, sample_weight, drop_intermediate)\u001b[0m\n\u001b[1;32m    990\u001b[0m     \u001b[0marray\u001b[0m\u001b[0;34m(\u001b[0m\u001b[0;34m[\u001b[0m\u001b[0;36m1.8\u001b[0m \u001b[0;34m,\u001b[0m \u001b[0;36m0.8\u001b[0m \u001b[0;34m,\u001b[0m \u001b[0;36m0.4\u001b[0m \u001b[0;34m,\u001b[0m \u001b[0;36m0.35\u001b[0m\u001b[0;34m,\u001b[0m \u001b[0;36m0.1\u001b[0m \u001b[0;34m]\u001b[0m\u001b[0;34m)\u001b[0m\u001b[0;34m\u001b[0m\u001b[0;34m\u001b[0m\u001b[0m\n\u001b[1;32m    991\u001b[0m     \"\"\"\n\u001b[0;32m--> 992\u001b[0;31m     fps, tps, thresholds = _binary_clf_curve(\n\u001b[0m\u001b[1;32m    993\u001b[0m         \u001b[0my_true\u001b[0m\u001b[0;34m,\u001b[0m \u001b[0my_score\u001b[0m\u001b[0;34m,\u001b[0m \u001b[0mpos_label\u001b[0m\u001b[0;34m=\u001b[0m\u001b[0mpos_label\u001b[0m\u001b[0;34m,\u001b[0m \u001b[0msample_weight\u001b[0m\u001b[0;34m=\u001b[0m\u001b[0msample_weight\u001b[0m\u001b[0;34m\u001b[0m\u001b[0;34m\u001b[0m\u001b[0m\n\u001b[1;32m    994\u001b[0m     )\n",
            "\u001b[0;32m/usr/local/lib/python3.10/dist-packages/sklearn/metrics/_ranking.py\u001b[0m in \u001b[0;36m_binary_clf_curve\u001b[0;34m(y_true, y_score, pos_label, sample_weight)\u001b[0m\n\u001b[1;32m    747\u001b[0m     \u001b[0my_type\u001b[0m \u001b[0;34m=\u001b[0m \u001b[0mtype_of_target\u001b[0m\u001b[0;34m(\u001b[0m\u001b[0my_true\u001b[0m\u001b[0;34m,\u001b[0m \u001b[0minput_name\u001b[0m\u001b[0;34m=\u001b[0m\u001b[0;34m\"y_true\"\u001b[0m\u001b[0;34m)\u001b[0m\u001b[0;34m\u001b[0m\u001b[0;34m\u001b[0m\u001b[0m\n\u001b[1;32m    748\u001b[0m     \u001b[0;32mif\u001b[0m \u001b[0;32mnot\u001b[0m \u001b[0;34m(\u001b[0m\u001b[0my_type\u001b[0m \u001b[0;34m==\u001b[0m \u001b[0;34m\"binary\"\u001b[0m \u001b[0;32mor\u001b[0m \u001b[0;34m(\u001b[0m\u001b[0my_type\u001b[0m \u001b[0;34m==\u001b[0m \u001b[0;34m\"multiclass\"\u001b[0m \u001b[0;32mand\u001b[0m \u001b[0mpos_label\u001b[0m \u001b[0;32mis\u001b[0m \u001b[0;32mnot\u001b[0m \u001b[0;32mNone\u001b[0m\u001b[0;34m)\u001b[0m\u001b[0;34m)\u001b[0m\u001b[0;34m:\u001b[0m\u001b[0;34m\u001b[0m\u001b[0;34m\u001b[0m\u001b[0m\n\u001b[0;32m--> 749\u001b[0;31m         \u001b[0;32mraise\u001b[0m \u001b[0mValueError\u001b[0m\u001b[0;34m(\u001b[0m\u001b[0;34m\"{0} format is not supported\"\u001b[0m\u001b[0;34m.\u001b[0m\u001b[0mformat\u001b[0m\u001b[0;34m(\u001b[0m\u001b[0my_type\u001b[0m\u001b[0;34m)\u001b[0m\u001b[0;34m)\u001b[0m\u001b[0;34m\u001b[0m\u001b[0;34m\u001b[0m\u001b[0m\n\u001b[0m\u001b[1;32m    750\u001b[0m \u001b[0;34m\u001b[0m\u001b[0m\n\u001b[1;32m    751\u001b[0m     \u001b[0mcheck_consistent_length\u001b[0m\u001b[0;34m(\u001b[0m\u001b[0my_true\u001b[0m\u001b[0;34m,\u001b[0m \u001b[0my_score\u001b[0m\u001b[0;34m,\u001b[0m \u001b[0msample_weight\u001b[0m\u001b[0;34m)\u001b[0m\u001b[0;34m\u001b[0m\u001b[0;34m\u001b[0m\u001b[0m\n",
            "\u001b[0;31mValueError\u001b[0m: multiclass format is not supported"
          ]
        }
      ]
    },
    {
      "cell_type": "code",
      "source": [
        "confusion_matrix = tf.math.confusion_matrix(real_classes, predicted_classes)\n",
        "confusion_matrix"
      ],
      "metadata": {
        "colab": {
          "base_uri": "https://localhost:8080/"
        },
        "id": "d9NeJnGH_z-T",
        "outputId": "d67a2602-092b-44f4-cdb8-fba6ac9d6c9f"
      },
      "execution_count": null,
      "outputs": [
        {
          "output_type": "execute_result",
          "data": {
            "text/plain": [
              "<tf.Tensor: shape=(3, 3), dtype=int32, numpy=\n",
              "array([[419,  28,  35],\n",
              "       [ 74, 120,  31],\n",
              "       [ 80,  24, 121]], dtype=int32)>"
            ]
          },
          "metadata": {},
          "execution_count": 37
        }
      ]
    }
  ],
  "metadata": {
    "colab": {
      "machine_shape": "hm",
      "provenance": [],
      "gpuType": "T4"
    },
    "kernelspec": {
      "display_name": "Python 3",
      "name": "python3"
    },
    "language_info": {
      "name": "python"
    },
    "accelerator": "GPU"
  },
  "nbformat": 4,
  "nbformat_minor": 0
}