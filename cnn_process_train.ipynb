{
  "nbformat": 4,
  "nbformat_minor": 0,
  "metadata": {
    "colab": {
      "provenance": [],
      "machine_shape": "hm"
    },
    "kernelspec": {
      "name": "python3",
      "display_name": "Python 3"
    },
    "language_info": {
      "name": "python"
    }
  },
  "cells": [
    {
      "cell_type": "code",
      "source": [
        "#import tensorflow as tf\n",
        "#!pip install tensorflow==2.9.1\n",
        "import tensorflow as tf\n",
        "print(tf.__version__)\n",
        "#!pip install mne\n",
        "#from mne.decoding import CSP"
      ],
      "metadata": {
        "colab": {
          "base_uri": "https://localhost:8080/"
        },
        "id": "Nzt6RPKOAIyo",
        "outputId": "8b3a85b7-96f2-47f1-9c28-fa659856ba5a"
      },
      "execution_count": 1,
      "outputs": [
        {
          "output_type": "stream",
          "name": "stdout",
          "text": [
            "2.9.1\n"
          ]
        }
      ]
    },
    {
      "cell_type": "code",
      "execution_count": 3,
      "metadata": {
        "colab": {
          "base_uri": "https://localhost:8080/"
        },
        "id": "Wlar8yXLjXDc",
        "outputId": "677aadc7-0d2e-489e-c4c2-d3a9694692ca"
      },
      "outputs": [
        {
          "output_type": "stream",
          "name": "stdout",
          "text": [
            "Drive already mounted at /content/drive; to attempt to forcibly remount, call drive.mount(\"/content/drive\", force_remount=True).\n"
          ]
        }
      ],
      "source": [
        "import pandas as pd\n",
        "import matplotlib.pyplot as plt\n",
        "from scipy import signal\n",
        "from IPython.display import clear_output\n",
        "#import pywt\n",
        "import numpy as np\n",
        "#import imageio\n",
        "import tensorflow as tf\n",
        "#import cv2\n",
        "#import time\n",
        "from tensorflow.keras import datasets, layers, models\n",
        "import matplotlib.pyplot as plt\n",
        "from tensorflow.keras.metrics import Precision, Recall, BinaryAccuracy\n",
        "from tensorflow.keras.models import Model, load_model\n",
        "from sklearn.metrics import classification_report\n",
        "import os\n",
        "#from scipy import signal\n",
        "#from sklearn import preprocessing\n",
        "from google.colab import drive\n",
        "drive.mount('/content/drive')"
      ]
    },
    {
      "cell_type": "code",
      "source": [
        "train_data = pd.read_csv('/content/drive/MyDrive/TCC-Physionet/PhysionetTrain.csv', delimiter=\";\")\n",
        "test_data = pd.read_csv('/content/drive/MyDrive/TCC-Physionet/PhysionetTest.csv', delimiter=\";\")\n",
        "val_data = pd.read_csv('/content/drive/MyDrive/TCC-Physionet/PhysionetVal.csv', delimiter=\";\")\n"
      ],
      "metadata": {
        "id": "vs3-ssJtjix8"
      },
      "execution_count": 4,
      "outputs": []
    },
    {
      "cell_type": "code",
      "source": [
        "labels = {'0': 'rest', '1': 'left', '2': 'right'}\n",
        "selected_eletrodes = list(train_data['eletrodo'].unique())\n",
        " #['F3', 'F4', 'F5', 'F6', 'FC5', 'FC3','FC4', 'FC6', 'C5', 'C3', 'C4', 'C6']"
      ],
      "metadata": {
        "id": "4fxXUF0Vms75"
      },
      "execution_count": 5,
      "outputs": []
    },
    {
      "cell_type": "code",
      "source": [
        "# y_delta = butter_bandpass_filter(signal, 0.1, 4, 160, order=5)\n",
        "def butter_bandpass(lowcut, highcut, fs, order=5):\n",
        "    nyq = 0.5 * fs\n",
        "    low = lowcut / nyq\n",
        "    high = highcut / nyq\n",
        "    b, a = signal.butter(order, [low, high], btype='band')\n",
        "    return b, a\n",
        "\n",
        "\n",
        "def butter_bandpass_filter(data, lowcut, highcut, fs, order=5):\n",
        "    b, a = butter_bandpass(lowcut, highcut, fs, order=order)\n",
        "    y = signal.lfilter(b, a, data)\n",
        "    return y\n",
        "\n",
        "def metrics(data, selected_eletrodes):\n",
        "  std = []\n",
        "  mean = []\n",
        "  for eletrode in selected_eletrodes:\n",
        "    eletrodoStd = pd.Series(data.loc[data[\"eletrodo\"] == eletrode, \"leitura0\":\"leitura639\"].values.ravel('F')).std()\n",
        "    eletrodoMean = pd.Series(data.loc[data[\"eletrodo\"] == eletrode, \"leitura0\":\"leitura639\"].values.ravel('F')).mean()\n",
        "    std.append(eletrodoStd)\n",
        "    mean.append(eletrodoMean)\n",
        "\n",
        "  return std, mean"
      ],
      "metadata": {
        "id": "5ZW-U7eygZvS"
      },
      "execution_count": 6,
      "outputs": []
    },
    {
      "cell_type": "code",
      "source": [
        "def assemble_data(data, selected_eletrodes, std_el, mean_el):\n",
        "  cwt_limit = 30\n",
        "  widths = np.arange(1, cwt_limit + 1)\n",
        "  labels = []\n",
        "  signals = []\n",
        "  pacients = data[\"paciente\"].unique()\n",
        "  len_selected_eletrodes = len(selected_eletrodes)\n",
        "\n",
        "  for pacient in pacients:\n",
        "      measures = data.loc[data['paciente'] == pacient]['medicao'].unique()\n",
        "      for measure in measures:\n",
        "          label = data.loc[(data['paciente'] == pacient) & (data['medicao'] == measure)]['label'].unique()[0]\n",
        "          signal_list = []\n",
        "          img = np.zeros([len_selected_eletrodes, 640])\n",
        "          print(pacient,measure)\n",
        "          for idx, eletrode in enumerate(selected_eletrodes):\n",
        "              sign = data.loc[(data['paciente'] == pacient) & (data['medicao'] == measure) & (data['eletrodo'] == eletrode)].iloc[:,4:644].to_numpy().reshape(640)\n",
        "              sign -= mean_el[idx]\n",
        "              sign /= std_el[idx]\n",
        "              img[idx] = sign\n",
        "          signals.append(img)\n",
        "          labels.append(label-1)\n",
        "          '''if label == 1 :\n",
        "            labels.append([1,0,0])\n",
        "          elif label == 2:\n",
        "            labels.append([0,1,0])\n",
        "          else:\n",
        "            labels.append([0,0,1])'''\n",
        "          clear_output(wait=True)\n",
        "\n",
        "  return labels, signals\n"
      ],
      "metadata": {
        "id": "7z_NC9cImEMO"
      },
      "execution_count": 7,
      "outputs": []
    },
    {
      "cell_type": "code",
      "source": [
        "class PhysionetDataset:\n",
        "  def __init__(self, data, selected_eletrodes, batch_size):\n",
        "    self.std, self.mean = metrics(data, selected_eletrodes)\n",
        "    label, signal = assemble_data(data, selected_eletrodes, self.std, self.mean)\n",
        "    img_generator = tf.keras.preprocessing.image.ImageDataGenerator()\n",
        "\n",
        "    self.features = img_generator.flow(\n",
        "        x=np.array(signal).reshape(len(signal), len(selected_eletrodes), 640, 1),\n",
        "        y=np.array(label).reshape(len(label),1),\n",
        "        batch_size=batch_size)\n",
        "\n"
      ],
      "metadata": {
        "id": "gmanROLbkXgg"
      },
      "execution_count": 8,
      "outputs": []
    },
    {
      "cell_type": "code",
      "source": [
        "batch = 64\n",
        "\n",
        "\n",
        "train_dataset = PhysionetDataset(train_data, selected_eletrodes, batch)\n",
        "val_dataset = PhysionetDataset(val_data, selected_eletrodes, batch)\n",
        "#test_dataset = PhysionetDataset(test_data, selected_eletrodes, batch)"
      ],
      "metadata": {
        "id": "dGZAACBhnXFd",
        "colab": {
          "base_uri": "https://localhost:8080/"
        },
        "outputId": "739f3091-df23-462c-ffd2-d972c8577e86"
      },
      "execution_count": 9,
      "outputs": [
        {
          "output_type": "stream",
          "name": "stdout",
          "text": [
            "109 20\n"
          ]
        }
      ]
    },
    {
      "cell_type": "code",
      "source": [
        "inp = layers.Input(shape=(64, 640, 1))\n",
        "x = layers.Conv2D(128, (2,2), activation='relu')(inp)\n",
        "x = layers.Conv2D(256, (2,2), activation='relu')(x)\n",
        "\n",
        "x = layers.MaxPool2D((2,2))(x)\n",
        "\n",
        "x = layers.Conv2D(512, (2,2), activation='relu')(x)\n",
        "x = layers.MaxPool2D((4,4))(x)\n",
        "x = layers.Conv2D(512, (2,2), activation='relu')(x)\n",
        "x = layers.MaxPool2D((4,4))(x)\n",
        "\n",
        "\n",
        "x = layers.TimeDistributed(layers.LSTM(256, return_sequences=True))(x)\n",
        "x = layers.TimeDistributed(layers.LSTM(128, return_sequences=True))(x)\n",
        "x = layers.TimeDistributed(layers.LSTM(64, return_sequences=True))(x)\n",
        "x = layers.Flatten()(x)\n",
        "#x = layers.Dropout(0.5)(x)\n",
        "x = layers.Dense(3, activation='softmax')(x)\n",
        "\n",
        "model = Model(inp, x)"
      ],
      "metadata": {
        "id": "j1sUaKwGH5yQ"
      },
      "execution_count": 10,
      "outputs": []
    },
    {
      "cell_type": "code",
      "source": [
        "model.summary()"
      ],
      "metadata": {
        "id": "R8w2hSLulS5B",
        "colab": {
          "base_uri": "https://localhost:8080/"
        },
        "outputId": "7828b961-d914-4dc4-b8e8-1979272afbd5"
      },
      "execution_count": 11,
      "outputs": [
        {
          "output_type": "stream",
          "name": "stdout",
          "text": [
            "Model: \"model\"\n",
            "_________________________________________________________________\n",
            " Layer (type)                Output Shape              Param #   \n",
            "=================================================================\n",
            " input_1 (InputLayer)        [(None, 64, 640, 1)]      0         \n",
            "                                                                 \n",
            " conv2d (Conv2D)             (None, 63, 639, 128)      640       \n",
            "                                                                 \n",
            " conv2d_1 (Conv2D)           (None, 62, 638, 256)      131328    \n",
            "                                                                 \n",
            " max_pooling2d (MaxPooling2D  (None, 31, 319, 256)     0         \n",
            " )                                                               \n",
            "                                                                 \n",
            " conv2d_2 (Conv2D)           (None, 30, 318, 512)      524800    \n",
            "                                                                 \n",
            " max_pooling2d_1 (MaxPooling  (None, 7, 79, 512)       0         \n",
            " 2D)                                                             \n",
            "                                                                 \n",
            " conv2d_3 (Conv2D)           (None, 6, 78, 512)        1049088   \n",
            "                                                                 \n",
            " max_pooling2d_2 (MaxPooling  (None, 1, 19, 512)       0         \n",
            " 2D)                                                             \n",
            "                                                                 \n",
            " time_distributed (TimeDistr  (None, 1, 19, 256)       787456    \n",
            " ibuted)                                                         \n",
            "                                                                 \n",
            " time_distributed_1 (TimeDis  (None, 1, 19, 128)       197120    \n",
            " tributed)                                                       \n",
            "                                                                 \n",
            " time_distributed_2 (TimeDis  (None, 1, 19, 64)        49408     \n",
            " tributed)                                                       \n",
            "                                                                 \n",
            " flatten (Flatten)           (None, 1216)              0         \n",
            "                                                                 \n",
            " dense (Dense)               (None, 3)                 3651      \n",
            "                                                                 \n",
            "=================================================================\n",
            "Total params: 2,743,491\n",
            "Trainable params: 2,743,491\n",
            "Non-trainable params: 0\n",
            "_________________________________________________________________\n"
          ]
        }
      ]
    },
    {
      "cell_type": "code",
      "source": [
        "\n",
        "model.compile(optimizer='adam',loss=tf.keras.losses.SparseCategoricalCrossentropy(),metrics=['accuracy'])"
      ],
      "metadata": {
        "id": "Z--N1ITBYRHM"
      },
      "execution_count": 12,
      "outputs": []
    },
    {
      "cell_type": "code",
      "source": [
        "#model = load_model('/content/drive/MyDrive/TCC-Physionet/model_CNNLSTM.h5')\n",
        "\n",
        "history = model.fit(train_dataset.features.x, train_dataset.features.y, epochs=10,\n",
        "                    validation_data=(val_dataset.features.x, val_dataset.features.y))#, callbacks=callbacks)\n",
        "\n",
        "model.save('/content/drive/MyDrive/TCC-Physionet/model_CNNLSTM.h5')"
      ],
      "metadata": {
        "id": "-WNTWEnr_eJo",
        "colab": {
          "base_uri": "https://localhost:8080/"
        },
        "outputId": "11f8d0cd-f83d-46c0-8eed-6a090956e95f"
      },
      "execution_count": 13,
      "outputs": [
        {
          "output_type": "stream",
          "name": "stdout",
          "text": [
            "Epoch 1/10\n",
            "55/55 [==============================] - 681s 12s/step - loss: 1.1017 - accuracy: 0.3180 - val_loss: 1.0970 - val_accuracy: 0.3529\n",
            "Epoch 2/10\n",
            "55/55 [==============================] - 673s 12s/step - loss: 1.0991 - accuracy: 0.3720 - val_loss: 1.0815 - val_accuracy: 0.3941\n",
            "Epoch 3/10\n",
            "55/55 [==============================] - 671s 12s/step - loss: 1.0747 - accuracy: 0.4139 - val_loss: 1.0757 - val_accuracy: 0.4176\n",
            "Epoch 4/10\n",
            "55/55 [==============================] - 672s 12s/step - loss: 1.0294 - accuracy: 0.4724 - val_loss: 1.0371 - val_accuracy: 0.4824\n",
            "Epoch 5/10\n",
            "55/55 [==============================] - 681s 12s/step - loss: 0.9843 - accuracy: 0.5218 - val_loss: 1.0138 - val_accuracy: 0.5029\n",
            "Epoch 6/10\n",
            "55/55 [==============================] - 684s 12s/step - loss: 0.9200 - accuracy: 0.5666 - val_loss: 0.9378 - val_accuracy: 0.5794\n",
            "Epoch 7/10\n",
            "55/55 [==============================] - 678s 12s/step - loss: 0.8608 - accuracy: 0.5976 - val_loss: 0.8899 - val_accuracy: 0.5794\n",
            "Epoch 8/10\n",
            "55/55 [==============================] - 674s 12s/step - loss: 0.8273 - accuracy: 0.6309 - val_loss: 0.9203 - val_accuracy: 0.5529\n",
            "Epoch 9/10\n",
            "55/55 [==============================] - 673s 12s/step - loss: 0.7782 - accuracy: 0.6670 - val_loss: 0.8510 - val_accuracy: 0.6029\n",
            "Epoch 10/10\n",
            "55/55 [==============================] - 673s 12s/step - loss: 0.7410 - accuracy: 0.6820 - val_loss: 0.8736 - val_accuracy: 0.6000\n"
          ]
        }
      ]
    },
    {
      "cell_type": "code",
      "source": [
        "model = load_model('/content/drive/MyDrive/TCC-Physionet/model_CNNLSTM.h5')\n",
        "\n",
        "history = model.fit(train_dataset.features.x, train_dataset.features.y, epochs=10,\n",
        "                    validation_data=(val_dataset.features.x, val_dataset.features.y))#, callbacks=callbacks)\n",
        "\n",
        "model.save('/content/drive/MyDrive/TCC-Physionet/model_CNNLSTM.h5')"
      ],
      "metadata": {
        "colab": {
          "base_uri": "https://localhost:8080/"
        },
        "id": "3Hj6765SQpYs",
        "outputId": "5f8c1661-88a9-4ae6-d5cf-65d6d177b315"
      },
      "execution_count": 14,
      "outputs": [
        {
          "output_type": "stream",
          "name": "stdout",
          "text": [
            "Epoch 1/10\n",
            "55/55 [==============================] - 675s 12s/step - loss: 0.6945 - accuracy: 0.7107 - val_loss: 0.9006 - val_accuracy: 0.5765\n",
            "Epoch 2/10\n",
            "55/55 [==============================] - 670s 12s/step - loss: 0.6274 - accuracy: 0.7423 - val_loss: 0.9730 - val_accuracy: 0.6000\n",
            "Epoch 3/10\n",
            "55/55 [==============================] - 670s 12s/step - loss: 0.5962 - accuracy: 0.7457 - val_loss: 0.9160 - val_accuracy: 0.6324\n",
            "Epoch 4/10\n",
            "55/55 [==============================] - 672s 12s/step - loss: 0.5200 - accuracy: 0.7870 - val_loss: 1.0189 - val_accuracy: 0.5971\n",
            "Epoch 5/10\n",
            "55/55 [==============================] - 676s 12s/step - loss: 0.4830 - accuracy: 0.7991 - val_loss: 0.9751 - val_accuracy: 0.6176\n",
            "Epoch 6/10\n",
            "55/55 [==============================] - 684s 12s/step - loss: 0.4313 - accuracy: 0.8318 - val_loss: 1.0378 - val_accuracy: 0.6500\n",
            "Epoch 7/10\n",
            "55/55 [==============================] - 686s 12s/step - loss: 0.3299 - accuracy: 0.8800 - val_loss: 1.2223 - val_accuracy: 0.6059\n",
            "Epoch 8/10\n",
            "55/55 [==============================] - 685s 12s/step - loss: 0.2525 - accuracy: 0.9082 - val_loss: 1.3669 - val_accuracy: 0.6176\n",
            "Epoch 9/10\n",
            "55/55 [==============================] - 691s 13s/step - loss: 0.2719 - accuracy: 0.9036 - val_loss: 1.3798 - val_accuracy: 0.6176\n",
            "Epoch 10/10\n",
            "55/55 [==============================] - 687s 13s/step - loss: 0.1738 - accuracy: 0.9426 - val_loss: 1.5624 - val_accuracy: 0.5941\n"
          ]
        }
      ]
    },
    {
      "cell_type": "code",
      "source": [
        "model = load_model('/content/drive/MyDrive/TCC-Physionet/model_CNNLSTM.h5')\n",
        "\n",
        "history = model.fit(train_dataset.features.x, train_dataset.features.y, epochs=10,\n",
        "                    validation_data=(val_dataset.features.x, val_dataset.features.y))#, callbacks=callbacks)\n",
        "\n",
        "model.save('/content/drive/MyDrive/TCC-Physionet/model_CNNLSTM.h5')"
      ],
      "metadata": {
        "colab": {
          "base_uri": "https://localhost:8080/"
        },
        "id": "RYLSgtEvND1m",
        "outputId": "b285ca3b-67f6-42d0-8f7a-024a7b4c899d"
      },
      "execution_count": 15,
      "outputs": [
        {
          "output_type": "stream",
          "name": "stdout",
          "text": [
            "Epoch 1/10\n",
            "55/55 [==============================] - 704s 13s/step - loss: 0.1543 - accuracy: 0.9460 - val_loss: 1.6099 - val_accuracy: 0.6265\n",
            "Epoch 2/10\n",
            "55/55 [==============================] - 700s 13s/step - loss: 0.1012 - accuracy: 0.9644 - val_loss: 1.8762 - val_accuracy: 0.6206\n",
            "Epoch 3/10\n",
            "55/55 [==============================] - 699s 13s/step - loss: 0.0423 - accuracy: 0.9874 - val_loss: 2.0217 - val_accuracy: 0.6294\n",
            "Epoch 4/10\n",
            "55/55 [==============================] - 691s 13s/step - loss: 0.0269 - accuracy: 0.9925 - val_loss: 2.0653 - val_accuracy: 0.6118\n",
            "Epoch 5/10\n",
            "55/55 [==============================] - 691s 13s/step - loss: 0.0827 - accuracy: 0.9719 - val_loss: 2.1595 - val_accuracy: 0.5971\n",
            "Epoch 6/10\n",
            "55/55 [==============================] - 691s 13s/step - loss: 0.1328 - accuracy: 0.9483 - val_loss: 1.8843 - val_accuracy: 0.5941\n",
            "Epoch 7/10\n",
            "55/55 [==============================] - 695s 13s/step - loss: 0.0666 - accuracy: 0.9765 - val_loss: 1.7209 - val_accuracy: 0.6412\n",
            "Epoch 8/10\n",
            "55/55 [==============================] - 695s 13s/step - loss: 0.0545 - accuracy: 0.9822 - val_loss: 2.2270 - val_accuracy: 0.6029\n",
            "Epoch 9/10\n",
            "55/55 [==============================] - 701s 13s/step - loss: 0.0385 - accuracy: 0.9891 - val_loss: 2.2378 - val_accuracy: 0.6118\n",
            "Epoch 10/10\n",
            "55/55 [==============================] - 688s 13s/step - loss: 0.0753 - accuracy: 0.9724 - val_loss: 2.0541 - val_accuracy: 0.6118\n"
          ]
        }
      ]
    },
    {
      "cell_type": "code",
      "source": [
        "test_dataset = PhysionetDataset(test_data, selected_eletrodes, batch)"
      ],
      "metadata": {
        "id": "Rwx5bXyK0hAM",
        "colab": {
          "base_uri": "https://localhost:8080/"
        },
        "outputId": "012a44b4-466e-47c4-dcc2-12850c489f0f"
      },
      "execution_count": 16,
      "outputs": [
        {
          "output_type": "stream",
          "name": "stdout",
          "text": [
            "109 25\n"
          ]
        }
      ]
    },
    {
      "cell_type": "code",
      "source": [
        "score = model.evaluate(test_dataset.features.x, test_dataset.features.y, verbose=0)\n",
        "print('Loss: ', score[0])\n",
        "print('Accuracy: ', score[1])"
      ],
      "metadata": {
        "colab": {
          "base_uri": "https://localhost:8080/"
        },
        "id": "YLwaxBhBKBzN",
        "outputId": "ecaecba1-13f9-44e0-c1d7-d92d4e0d49c8"
      },
      "execution_count": 17,
      "outputs": [
        {
          "output_type": "stream",
          "name": "stdout",
          "text": [
            "Loss:  2.0349764823913574\n",
            "Accuracy:  0.594427227973938\n"
          ]
        }
      ]
    },
    {
      "cell_type": "code",
      "source": [
        "inp = layers.Input(shape=(64, 800, 1))\n",
        "x = layers.Conv2D(256, (2,2), activation='relu')(inp)\n",
        "x = layers.Conv2D(256, (2,2), activation='relu')(x)\n",
        "\n",
        "x = layers.MaxPool2D((2,2))(x)\n",
        "\n",
        "x = layers.Conv2D(512, (2,2), activation='relu')(x)\n",
        "x = layers.Conv2D(512, (2,2), activation='relu')(x)\n",
        "\n",
        "x = layers.MaxPool2D((2,2))(x)\n",
        "\n",
        "x = layers.TimeDistributed(layers.LSTM(256, return_sequences=True))(x)\n",
        "x = layers.TimeDistributed(layers.LSTM(128, return_sequences=True))(x)\n",
        "x = layers.TimeDistributed(layers.LSTM(64, return_sequences=True))(x)\n",
        "x = layers.Flatten()(x)\n",
        "#x = layers.Dropout(0.5)(x)\n",
        "x = layers.Dense(3, activation='softmax')(x)\n",
        "\n",
        "model = Model(inp, x)"
      ],
      "metadata": {
        "id": "ZbwY5oIz0o2A"
      },
      "execution_count": null,
      "outputs": []
    },
    {
      "cell_type": "code",
      "source": [
        "import numpy as np\n",
        "import matplotlib.pyplot as plt\n",
        "\n",
        "from sklearn.pipeline import Pipeline\n",
        "from sklearn.discriminant_analysis import LinearDiscriminantAnalysis\n",
        "from sklearn.model_selection import ShuffleSplit, cross_val_score\n",
        "\n",
        "from mne import Epochs, pick_types, events_from_annotations\n",
        "from mne.channels import make_standard_montage\n",
        "from mne.io import concatenate_raws, read_raw_edf\n",
        "from mne.datasets import eegbci\n",
        "from mne.decoding import CSP\n",
        "print(__doc__)\n"
      ],
      "metadata": {
        "colab": {
          "base_uri": "https://localhost:8080/"
        },
        "id": "woVfLgN4T0RV",
        "outputId": "6f6d3358-c8f8-4b4e-dd56-dc6da6cae828"
      },
      "execution_count": null,
      "outputs": [
        {
          "output_type": "stream",
          "name": "stdout",
          "text": [
            "Automatically created module for IPython interactive environment\n"
          ]
        }
      ]
    },
    {
      "cell_type": "code",
      "source": [
        "\n",
        "\n",
        "# #############################################################################\n",
        "# # Set parameters and read data\n",
        "\n",
        "# avoid classification of evoked responses by using epochs that start 1s after\n",
        "# cue onset.\n",
        "tmin, tmax = -1.0, 4.0\n",
        "event_id = dict(rest=1,left=2, right=3)\n",
        "subject = 1\n",
        "runs = [4]\n",
        "\n",
        "raw_fnames = eegbci.load_data(subject, runs)\n",
        "raw = concatenate_raws([read_raw_edf(f, preload=True) for f in raw_fnames])\n",
        "eegbci.standardize(raw)  # set channel names\n",
        "montage = make_standard_montage(\"standard_1005\")\n",
        "raw.set_montage(montage)\n"
      ],
      "metadata": {
        "colab": {
          "base_uri": "https://localhost:8080/",
          "height": 436
        },
        "id": "pIrS8LCTWW6h",
        "outputId": "17873806-1f2c-414e-a4db-7731f8033ce6"
      },
      "execution_count": null,
      "outputs": [
        {
          "output_type": "stream",
          "name": "stdout",
          "text": [
            "Downloading EEGBCI data\n"
          ]
        },
        {
          "output_type": "stream",
          "name": "stderr",
          "text": [
            "Downloading file 'S001/S001R04.edf' from 'https://physionet.org/files/eegmmidb/1.0.0/S001/S001R04.edf' to '/root/mne_data/MNE-eegbci-data/files/eegmmidb/1.0.0'.\n"
          ]
        },
        {
          "output_type": "stream",
          "name": "stdout",
          "text": [
            "Download complete in 03s (2.5 MB)\n",
            "Extracting EDF parameters from /root/mne_data/MNE-eegbci-data/files/eegmmidb/1.0.0/S001/S001R04.edf...\n",
            "EDF file detected\n",
            "Setting channel info structure...\n",
            "Creating raw.info structure...\n",
            "Reading 0 ... 19999  =      0.000 ...   124.994 secs...\n"
          ]
        },
        {
          "output_type": "execute_result",
          "data": {
            "text/plain": [
              "<RawEDF | S001R04.edf, 64 x 20000 (125.0 s), ~9.9 MB, data loaded>"
            ],
            "text/html": [
              "<table class=\"table table-hover table-striped table-sm table-responsive small\">\n",
              "    <tr>\n",
              "        <th>Measurement date</th>\n",
              "        \n",
              "        <td>August 12, 2009  16:15:00 GMT</td>\n",
              "        \n",
              "    </tr>\n",
              "    <tr>\n",
              "        <th>Experimenter</th>\n",
              "        \n",
              "        <td>Unknown</td>\n",
              "        \n",
              "    </tr>\n",
              "        <th>Participant</th>\n",
              "        \n",
              "            \n",
              "            <td>X</td>\n",
              "            \n",
              "        \n",
              "    </tr>\n",
              "    <tr>\n",
              "        <th>Digitized points</th>\n",
              "        \n",
              "        <td>67 points</td>\n",
              "        \n",
              "    </tr>\n",
              "    <tr>\n",
              "        <th>Good channels</th>\n",
              "        <td>64 EEG</td>\n",
              "    </tr>\n",
              "    <tr>\n",
              "        <th>Bad channels</th>\n",
              "        <td>None</td>\n",
              "    </tr>\n",
              "    <tr>\n",
              "        <th>EOG channels</th>\n",
              "        <td>Not available</td>\n",
              "    </tr>\n",
              "    <tr>\n",
              "        <th>ECG channels</th>\n",
              "        <td>Not available</td>\n",
              "    \n",
              "    <tr>\n",
              "        <th>Sampling frequency</th>\n",
              "        <td>160.00 Hz</td>\n",
              "    </tr>\n",
              "    \n",
              "    \n",
              "    <tr>\n",
              "        <th>Highpass</th>\n",
              "        <td>0.00 Hz</td>\n",
              "    </tr>\n",
              "    \n",
              "    \n",
              "    <tr>\n",
              "        <th>Lowpass</th>\n",
              "        <td>80.00 Hz</td>\n",
              "    </tr>\n",
              "    \n",
              "    \n",
              "    \n",
              "    <tr>\n",
              "        <th>Filenames</th>\n",
              "        <td>S001R04.edf</td>\n",
              "    </tr>\n",
              "    \n",
              "    <tr>\n",
              "        <th>Duration</th>\n",
              "        <td>00:02:05 (HH:MM:SS)</td>\n",
              "    </tr>\n",
              "</table>"
            ]
          },
          "metadata": {},
          "execution_count": 18
        }
      ]
    },
    {
      "cell_type": "code",
      "source": [
        "# Apply band-pass filter\n",
        "#raw.filter(2.0, 10.0, fir_design=\"firwin\", skip_by_annotation=\"edge\")\n",
        "\n",
        "events, _ = events_from_annotations(raw, event_id='auto')\n",
        "print(events)\n",
        "picks = pick_types(raw.info, meg=False, eeg=True, stim=False, eog=False, exclude=\"bads\")\n"
      ],
      "metadata": {
        "colab": {
          "base_uri": "https://localhost:8080/"
        },
        "id": "1Wn3uXLpWeM0",
        "outputId": "dde35643-47fd-4537-903f-80e3658eee78"
      },
      "execution_count": null,
      "outputs": [
        {
          "output_type": "stream",
          "name": "stdout",
          "text": [
            "Used Annotations descriptions: ['T0', 'T1', 'T2']\n",
            "[[    0     0     1]\n",
            " [  672     0     3]\n",
            " [ 1328     0     1]\n",
            " [ 2000     0     2]\n",
            " [ 2656     0     1]\n",
            " [ 3328     0     2]\n",
            " [ 3984     0     1]\n",
            " [ 4656     0     3]\n",
            " [ 5312     0     1]\n",
            " [ 5984     0     3]\n",
            " [ 6640     0     1]\n",
            " [ 7312     0     2]\n",
            " [ 7968     0     1]\n",
            " [ 8640     0     3]\n",
            " [ 9296     0     1]\n",
            " [ 9968     0     2]\n",
            " [10624     0     1]\n",
            " [11296     0     3]\n",
            " [11952     0     1]\n",
            " [12624     0     2]\n",
            " [13280     0     1]\n",
            " [13952     0     2]\n",
            " [14608     0     1]\n",
            " [15280     0     3]\n",
            " [15936     0     1]\n",
            " [16608     0     2]\n",
            " [17264     0     1]\n",
            " [17936     0     3]\n",
            " [18592     0     1]\n",
            " [19264     0     2]]\n"
          ]
        }
      ]
    },
    {
      "cell_type": "code",
      "source": [
        "# Read epochs (train will be done only between 1 and 2s)\n",
        "# Testing will be done with a running classifier\n",
        "epochs = Epochs(\n",
        "    raw,\n",
        "    events,\n",
        "    event_id,\n",
        "    tmin,\n",
        "    tmax,\n",
        "    proj=True,\n",
        "    picks=picks,\n",
        "    baseline=None,\n",
        "    preload=True,\n",
        ")\n",
        "epochs_train = epochs.copy().crop(tmin=1.0, tmax=2.0)\n",
        "labels = epochs.events[:, -1] - 2"
      ],
      "metadata": {
        "colab": {
          "base_uri": "https://localhost:8080/"
        },
        "id": "2iQcnKdZWhtW",
        "outputId": "e3f5e26a-f990-4230-a7ad-ef49ab079019"
      },
      "execution_count": null,
      "outputs": [
        {
          "output_type": "stream",
          "name": "stdout",
          "text": [
            "Not setting metadata\n",
            "30 matching events found\n",
            "No baseline correction applied\n",
            "0 projection items activated\n",
            "Using data from preloaded Raw for 30 events and 801 original time points ...\n",
            "1 bad epochs dropped\n"
          ]
        }
      ]
    },
    {
      "cell_type": "code",
      "source": [
        "# Define a monte-carlo cross-validation generator (reduce variance):\n",
        "scores = []\n",
        "epochs_data = epochs.get_data()\n",
        "epochs_data_train = epochs_train.get_data()\n",
        "cv = ShuffleSplit(10, test_size=0.2, random_state=42)\n",
        "cv_split = cv.split(epochs_data_train)\n",
        "\n",
        "# Assemble a classifier\n",
        "lda = LinearDiscriminantAnalysis()\n",
        "csp = CSP(n_components=12, reg=None, log=True, norm_trace=False)\n",
        "\n",
        "# Use scikit-learn Pipeline with cross_val_score function\n",
        "clf = Pipeline([(\"CSP\", csp), (\"LDA\", lda)])\n",
        "scores = cross_val_score(clf, epochs_data_train, labels, cv=cv, n_jobs=None)\n",
        "\n",
        "# Printing the results\n",
        "class_balance = np.mean(labels == labels[0])\n",
        "class_balance = max(class_balance, 1.0 - class_balance)\n",
        "print(\n",
        "    \"Classification accuracy: %f / Chance level: %f\" % (np.mean(scores), class_balance)\n",
        ")\n",
        "\n",
        "# plot CSP patterns estimated on full data for visualization\n",
        "retorno = csp.fit_transform(epochs_data, labels)\n",
        "\n",
        "csp.plot_patterns(epochs.info, ch_type=\"eeg\", units=\"Patterns (AU)\", size=1.5)"
      ],
      "metadata": {
        "id": "FbwnkKY-Wwv1"
      },
      "execution_count": null,
      "outputs": []
    },
    {
      "cell_type": "code",
      "source": [
        "print(len(epochs_data),len(epochs_data[0]), epochs_data[0][0])\n",
        "print(labels)"
      ],
      "metadata": {
        "id": "dKsZG3rHZKAD"
      },
      "execution_count": null,
      "outputs": []
    },
    {
      "cell_type": "code",
      "source": [
        "print(len(retorno))\n",
        "print(len(retorno),len(retorno[0]),retorno[0][0])"
      ],
      "metadata": {
        "colab": {
          "base_uri": "https://localhost:8080/"
        },
        "id": "XAZDG6uUbrFU",
        "outputId": "97540088-cc89-477f-b5e1-64dd0a21ba51"
      },
      "execution_count": null,
      "outputs": [
        {
          "output_type": "stream",
          "name": "stdout",
          "text": [
            "29\n",
            "29 12 -0.593578956955287\n"
          ]
        }
      ]
    },
    {
      "cell_type": "code",
      "source": [
        "sfreq = raw.info[\"sfreq\"]\n",
        "w_length = int(sfreq * 0.5)  # running classifier: window length\n",
        "w_step = int(sfreq * 0.1)  # running classifier: window step size\n",
        "w_start = np.arange(0, epochs_data.shape[2] - w_length, w_step)\n",
        "\n",
        "scores_windows = []\n",
        "\n",
        "for train_idx, test_idx in cv_split:\n",
        "    y_train, y_test = labels[train_idx], labels[test_idx]\n",
        "\n",
        "    X_train = csp.fit_transform(epochs_data_train[train_idx], y_train)\n",
        "    X_test = csp.transform(epochs_data_train[test_idx])\n",
        "\n",
        "    # fit classifier\n",
        "    lda.fit(X_train, y_train)\n",
        "\n",
        "    # running classifier: test classifier on sliding window\n",
        "    score_this_window = []\n",
        "    for n in w_start:\n",
        "        X_test = csp.transform(epochs_data[test_idx][:, :, n : (n + w_length)])\n",
        "        score_this_window.append(lda.score(X_test, y_test))\n",
        "    scores_windows.append(score_this_window)\n",
        "\n",
        "# Plot scores over time\n",
        "w_times = (w_start + w_length / 2.0) / sfreq + epochs.tmin\n",
        "\n",
        "plt.figure()\n",
        "plt.plot(w_times, np.mean(scores_windows, 0), label=\"Score\")\n",
        "plt.axvline(0, linestyle=\"--\", color=\"k\", label=\"Onset\")\n",
        "plt.axhline(0.5, linestyle=\"-\", color=\"k\", label=\"Chance\")\n",
        "plt.xlabel(\"time (s)\")\n",
        "plt.ylabel(\"classification accuracy\")\n",
        "plt.title(\"Classification score over time\")\n",
        "plt.legend(loc=\"lower right\")\n",
        "plt.show()"
      ],
      "metadata": {
        "id": "6fjjcJkVW1dT"
      },
      "execution_count": null,
      "outputs": []
    },
    {
      "cell_type": "code",
      "source": [],
      "metadata": {
        "id": "pS3XMAh0a4EN"
      },
      "execution_count": null,
      "outputs": []
    }
  ]
}